{
  "nbformat": 4,
  "nbformat_minor": 0,
  "metadata": {
    "colab": {
      "name": "HateSpeechClassifier.ipynb",
      "provenance": [],
      "collapsed_sections": [
        "nfJ7oRTBH51h"
      ]
    },
    "kernelspec": {
      "name": "python3",
      "display_name": "Python 3"
    }
  },
  "cells": [
    {
      "cell_type": "code",
      "metadata": {
        "id": "0_gSXYWjcIox",
        "colab_type": "code",
        "colab": {
          "base_uri": "https://localhost:8080/",
          "height": 52
        },
        "outputId": "cf5d2012-676e-4fae-953b-03f4fb612023"
      },
      "source": [
        "import pandas as pd\n",
        "import html\n",
        "import re\n",
        "# from sklearn.feature_extraction.text import CountVectorizer\n",
        "import nltk\n",
        "import random\n",
        "# import numpy as np\n",
        "from nltk.tokenize import TweetTokenizer\n",
        "nltk.download('stopwords')\n",
        "# from sklearn.model_selection import train_test_split\n",
        "# from sklearn.linear_model import LogisticRegression\n",
        "from sklearn.naive_bayes import MultinomialNB\n",
        "from sklearn.model_selection import cross_val_predict\n",
        "from sklearn.metrics import classification_report\n",
        "from sklearn.metrics import confusion_matrix\n",
        "from sklearn.metrics import precision_recall_curve"
      ],
      "execution_count": 1,
      "outputs": [
        {
          "output_type": "stream",
          "text": [
            "[nltk_data] Downloading package stopwords to /root/nltk_data...\n",
            "[nltk_data]   Unzipping corpora/stopwords.zip.\n"
          ],
          "name": "stdout"
        }
      ]
    },
    {
      "cell_type": "markdown",
      "metadata": {
        "id": "B1EqV-4PDOBu",
        "colab_type": "text"
      },
      "source": [
        "# Functions & Data"
      ]
    },
    {
      "cell_type": "markdown",
      "metadata": {
        "id": "LDkEhC2oH-IR",
        "colab_type": "text"
      },
      "source": [
        "### def classify(feature_sets):"
      ]
    },
    {
      "cell_type": "code",
      "metadata": {
        "id": "ouMR8Fz_F_fW",
        "colab_type": "code",
        "colab": {}
      },
      "source": [
        "def classify(feature_sets):\n",
        "  k_folds = 10\n",
        "  test_size = 0.3\n",
        "  split_point = int(round(len(feature_sets)*(1-test_size),0))\n",
        "  X = []\n",
        "  y = []\n",
        "  for example in feature_sets:\n",
        "    X.append(example[0])\n",
        "    y.append(example[1])\n",
        "  X = pd.DataFrame(X).values\n",
        "  train_X, test_X = X[:split_point], X[split_point:]\n",
        "  train_y, test_y = y[:split_point], y[split_point:]\n",
        "\n",
        "  print('Train MNB model on {} examples with {}-fold cross-validation'.format(len(y), k_folds))\n",
        "  classifier = MultinomialNB()\n",
        "  classifier.fit(X, y)\n",
        "  y_pred = cross_val_predict(classifier, X, y, cv=k_folds)\n",
        "  cnf = confusion_matrix(y, y_pred)\n",
        "  # print('Train MNB model on {} training examples with {}-fold cross-validation'.format(len(train_y), k_folds))\n",
        "  # classifier = MultinomialNB()\n",
        "  # train_pred = cross_val_predict(classifier, train_X, train_y, cv=k_folds)\n",
        "  # cnf = confusion_matrix(train_y, train_pred)\n",
        "  print('Confusion Matrix:\\n',cnf)\n",
        "  tn = cnf[0][0]\n",
        "  tp = cnf[1][1]\n",
        "  fn = cnf[1][0]\n",
        "  fp = cnf[0][1]\n",
        "  n_obs = sum(sum(cnf))\n",
        "  acc = (tn+tp)/n_obs\n",
        "  p_1 = tp/(tp+fp)\n",
        "  r_1 = tp/(tp+fn)\n",
        "  f1_1 = (2*p_1*r_1)/(p_1+r_1)\n",
        "  print('Accuracy:',round(acc,4))\n",
        "  print('Precision (1):',round(p_1,4))\n",
        "  print('Recall (1):',round(r_1,4))\n",
        "  print('F1 (1):',round(f1_1,4))\n",
        "\n",
        "  # print('\\nClassify {} test examples'.format(len(test_y)))\n",
        "  # classifier.fit(train_X, train_y)\n",
        "  # test_pred = classifier.predict(test_X)\n",
        "  # cnf = confusion_matrix(test_y, test_pred)\n",
        "  # print('Confusion Matrix:\\n',cnf)\n",
        "  # tn = cnf[0][0]\n",
        "  # tp = cnf[1][1]\n",
        "  # fn = cnf[1][0]\n",
        "  # fp = cnf[0][1]\n",
        "  # n_obs = sum(sum(cnf))\n",
        "  # acc = (tn+tp)/n_obs\n",
        "  # p_1 = tp/(tp+fp)\n",
        "  # r_1 = tp/(tp+fn)\n",
        "  # f1_1 = (2*p_1*r_1)/(p_1+r_1)\n",
        "  # print('Accuracy:',round(acc,4))\n",
        "  # print('Precision (1):',round(p_1,4))\n",
        "  # print('Recall (1):',round(r_1,4))\n",
        "  # print('F1 (1):',round(f1_1,4))\n",
        "\n",
        "  features = list(feature_sets[0][0].keys())\n",
        "  log_prob_diffs = []\n",
        "  for i in range(len(features)):\n",
        "    log_prob_diff = classifier.feature_log_prob_[0][i] - classifier.feature_log_prob_[1][i]\n",
        "    log_prob_diffs.append(log_prob_diff)\n",
        "  feature_ranks = sorted(zip(log_prob_diffs, features))\n",
        "\n",
        "  print_list = ['\\nPositive Indicators', '\\nNegative Indicators']\n",
        "  for i in range(2):\n",
        "    print(print_list[i])\n",
        "    for j in range(20):\n",
        "      if i == 0:\n",
        "        print(feature_ranks[j])\n",
        "      else:\n",
        "        print(feature_ranks[-(j+1)])\n",
        "        \n",
        "  pred = pd.DataFrame()\n",
        "  pred['actual'] = y #test_y\n",
        "  pred['pred'] = y_pred #test_pred\n",
        "  pred = pred.join(df['tweet'].reset_index(drop=True), how='inner')\n",
        "  # pred = pred.join(df.iloc[split_point:]['tweet'].reset_index(drop=True),how='inner')\n",
        "  errors = pred[pred['actual'] != pred['pred']]\n",
        "  sample_errors = errors.sample(20).reset_index(drop=True)\n",
        "  print('\\nErrors:')\n",
        "  for i in range(sample_errors.shape[0]):\n",
        "    print(sample_errors.iloc[i]['actual'],'\\t',sample_errors.iloc[i]['tweet'])"
      ],
      "execution_count": 39,
      "outputs": []
    },
    {
      "cell_type": "markdown",
      "metadata": {
        "id": "MMW3yV4XcJ_F",
        "colab_type": "text"
      },
      "source": [
        "### Import & Prep Data"
      ]
    },
    {
      "cell_type": "code",
      "metadata": {
        "id": "_1Uw3zgMcNPw",
        "colab_type": "code",
        "colab": {
          "base_uri": "https://localhost:8080/",
          "height": 210
        },
        "outputId": "7e58ccd2-5fb5-46e6-d2e5-1c45e785c305"
      },
      "source": [
        "df = pd.read_csv('https://raw.githubusercontent.com/t-davidson/hate-speech-and-offensive-language/master/data/labeled_data.csv')\n",
        "df = df[['class','tweet']]\n",
        "\n",
        "df['class'] = df['class'].apply(lambda x: 1 if x == 0 else 0) # translate class from {0: 'hate speech', 1: 'offensive language', 2: 'neither'} to {0: 'not hate speech', 1: 'hate speech'}\n",
        "df['tweet'] = df['tweet'].apply(html.unescape) # convert emojis from html\n",
        "df['tweet'] = df['tweet'].apply(lambda x: x.lower())\n",
        "df['tweet'] = df['tweet'].apply(lambda x: re.sub(r'@[A-z0-9_]{1,15}','USERNAME_MENTION', x)) # replace username mentions with generic placeholder; usernames are alpha-numeric + underscores and not longer than 15 characters (https://help.twitter.com/en/managing-your-account/twitter-username-rules)\n",
        "df['tweet'] = df['tweet'].apply(lambda x: x.replace(r'\"USERNAME_MENTION:', '\"RETWEET_SOURCE:')) # replace retweet sources with generic placeholder; USERNAME_MENTION preceded by \" and followed by :\n",
        "df['tweet'] = df['tweet'].apply(lambda x: re.sub(r'http(s)?://[A-z0-9\\-._~:/?#\\[\\]@!$&\\'()*+,;=]+','URL_LINK', x)) # replace URLs with generic placeholder\n",
        "\n",
        "# replace common abbreviated words\n",
        "# df['tweet'] = df['tweet'].apply(lambda x: re.sub(r'\\bbout\\b', 'about', x))\n",
        "# df['tweet'] = df['tweet'].apply(lambda x: re.sub(r'\\br\\b', 'are', x))\n",
        "# df['tweet'] = df['tweet'].apply(lambda x: re.sub(r'\\bb\\b', 'be', x))\n",
        "# df['tweet'] = df['tweet'].apply(lambda x: re.sub(r'\\bhes\\b', 'he\\'s', x))\n",
        "# df['tweet'] = df['tweet'].apply(lambda x: re.sub(r'\\bdat\\b', 'that', x))\n",
        "# df['tweet'] = df['tweet'].apply(lambda x: re.sub(r'\\bu\\b', 'you', x))\n",
        "# df['tweet'] = df['tweet'].apply(lambda x: re.sub(r'\\bur\\b', 'your', x))\n",
        "\n",
        "df = df.sample(frac=1, random_state=3).reset_index(drop=True)\n",
        "tokenize = TweetTokenizer()\n",
        "df_tokens = df.copy(deep=True)\n",
        "df_tokens['tweet'] = df_tokens['tweet'].apply(lambda x: tokenize.tokenize(x))\n",
        "docs = df_tokens.to_records(index=False)\n",
        "\n",
        "print(docs[0:10])"
      ],
      "execution_count": 33,
      "outputs": [
        {
          "output_type": "stream",
          "text": [
            "[(0, list(['versace', 'belts', 'and', 'lv', 'wallets', 'just', \"won't\", 'cut', 'it', '.', 'need', 'to', 'really', 'show', 'his', 'ass', 'up', '..', 'little', 'bitch']))\n",
            " (0, list(['rt', 'USERNAME_MENTION', ':', 'hello', 'USERNAME_MENTION', 'you', 'are', 'now', 'official', 'big', 'time', 'pussy']))\n",
            " (1, list(['USERNAME_MENTION', 'just', 'fuckin', 'roasted', 'this', 'faggot']))\n",
            " (0, list(['rt', 'USERNAME_MENTION', ':', 'the', 'only', 'thing', 'more', 'irritating', 'than', 'donald', 'sterling', 'being', 'a', 'cunt', 'is', 'adam', 'silver', 'continually', 'apologizing', 'for', 'him', '.']))\n",
            " (0, list(['USERNAME_MENTION', \"i've\", 'seen', 'a', 'number', 'of', 'bitches', 'on', 'here', 'say', \"there's\", 'no', 'such', 'thing', 'as', 'loose', 'pussy', 'lol', '.', 'ok']))\n",
            " (0, list(['USERNAME_MENTION', 'USERNAME_MENTION', 'i', 'was', '200', 'bitch']))\n",
            " (0, list(['USERNAME_MENTION', 'pudding', 'it', 'right', 'in', 'her', 'pussy']))\n",
            " (0, list(['rt', 'USERNAME_MENTION', ':', 'bitches', 'tweeting', '\"', 'relationship', 'goals', '\"', 'w', '/', 'no', 'man', ',', 'job', ',', 'or', 'real', 'desire', 'to', 'stop', 'being', 'a', 'hoe', 'or', 'partying', 'every', 'weekend', '.', 'jus', 'a', 'iph', '…']))\n",
            " (0, list(['USERNAME_MENTION', 'USERNAME_MENTION', 'haha', 'yuhh', 'that', 'hoe', 'was', 'funny']))\n",
            " (0, list(['.', 'USERNAME_MENTION', 'USERNAME_MENTION', 'USERNAME_MENTION', 'try', 'visiting', 'USERNAME_MENTION', 'at', 'night', 'for', 'a', 'real', 'spook', '!']))]\n"
          ],
          "name": "stdout"
        }
      ]
    },
    {
      "cell_type": "markdown",
      "metadata": {
        "id": "rzBoAsBSCFIG",
        "colab_type": "text"
      },
      "source": [
        "# Feature Extraction & Experiments"
      ]
    },
    {
      "cell_type": "code",
      "metadata": {
        "id": "XdXtggeWN2iv",
        "colab_type": "code",
        "colab": {
          "base_uri": "https://localhost:8080/",
          "height": 34
        },
        "outputId": "f875e8dc-596b-4bdb-e8bd-bc04565e4538"
      },
      "source": [
        "print('Baseline Accuracy: '+str(round((1-df['class'].mean())*100, 2))+'%')"
      ],
      "execution_count": 4,
      "outputs": [
        {
          "output_type": "stream",
          "text": [
            "Baseline Accuracy: 94.23%\n"
          ],
          "name": "stdout"
        }
      ]
    },
    {
      "cell_type": "markdown",
      "metadata": {
        "id": "tYE_ccGpEXP1",
        "colab_type": "text"
      },
      "source": [
        "## Experiment 1\n",
        "Top 2000 of all words as features"
      ]
    },
    {
      "cell_type": "markdown",
      "metadata": {
        "id": "oLFZTsDbfbz5",
        "colab_type": "text"
      },
      "source": [
        "### Prep"
      ]
    },
    {
      "cell_type": "code",
      "metadata": {
        "id": "HXsclSVTy8ss",
        "colab_type": "code",
        "colab": {
          "base_uri": "https://localhost:8080/",
          "height": 72
        },
        "outputId": "ac029c1e-2440-4b9f-aded-78b3437e8c82"
      },
      "source": [
        "all_words_list = [word for (cat,tweet) in docs for word in tweet]\n",
        "all_words = nltk.FreqDist(all_words_list)\n",
        "print(len(all_words))\n",
        "\n",
        "# remove stop words\n",
        "stopwords = nltk.corpus.stopwords.words('english')\n",
        "# print(len(stopwords))\n",
        "# print(stopwords)\n",
        "\n",
        "# remove some negation words \n",
        "stopwords.extend(['.',',','rt','-',':'])\n",
        "\n",
        "# newstopwords = [word for word in stopwords if word not in negationwords]\n",
        "# print(len(newstopwords))\n",
        "# print(newstopwords)\n",
        "# print(len(all_words_list))\n",
        "# all_words_list = [word for word in all_words_list if word not in stopwords]\n",
        "# print(len(all_words_list))\n",
        "\n",
        "all_words = nltk.FreqDist(all_words_list)\n",
        "\n",
        "# get the most frequently appearing keywords in the corpus\n",
        "common_word_items = all_words.most_common(2000)\n",
        "common_words = [word for (word,count) in common_word_items]\n",
        "print(common_words)"
      ],
      "execution_count": 5,
      "outputs": [
        {
          "output_type": "stream",
          "text": [
            "22735\n",
            "['USERNAME_MENTION', ':', '.', 'a', 'bitch', 'i', 'rt', 'the', 'you', ',', 'to', '\"', 'and', '!', 'my', 'that', 'bitches', 'in', 'URL_LINK', 'is', '😂', 'like', 'me', 'of', '?', 'on', 'hoes', 'be', 'this', 'pussy', 'for', '...', 'it', 'hoe', 'with', '“', '”', \"i'm\", 'ass', 'your', 'all', 'up', 'if', 'but', 'just', \"don't\", 'get', 'fuck', 'so', 'they', 'no', 'when', 'these', 'u', 'got', 'shit', '…', 'nigga', 'not', 'she', 'was', 'are', 'her', 'trash', 'at', 'lol', 'out', '..', 'have', '&', 'about', 'he', \"ain't\", 'some', 'what', 'do', 'know', 'can', 'niggas', 'we', 'them', 'one', 'how', 'love', \"it's\", 'or', 'who', 'as', 'go', 'fucking', 'RETWEET_SOURCE', 'yo', \"'\", 'now', 'want', 'from', 'why', 'bad', '-', \"can't\", 'then', '😭', 'his', 'good', 'man', \"you're\", 'too', 'say', 'off', \"that's\", 'look', 'still', 'make', 'ya', 'hate', 'see', 'an', 'im', '*', 'only', 'back', 'think', 'need', 'never', 'will', 'time', 'really', 'faggot', 'girl', 'people', \"y'all\", 'real', 'right', 'being', 'even', 'lmao', 'said', 'white', 'would', 'bird', 'here', 'more', 'by', 'over', 'had', '😩', 'their', 'let', 'wit', 'been', 'dick', 'than', 'wanna', 'day', 'down', '/', 'bout', 'stop', 'damn', 'because', 'little', 'tell', 'call', 'there', 'talk', 'gotta', 'come', 'da', 'cause', 'dont', 'life', 'take', 'new', 'gonna', 'dat', 'him', 'every', 'charlie', 'its', 'always', 'n', '’', 'has', 'money', 'niggah', 'better', 'going', 'girls', 'lil', '️', 'eat', '2', 'ever', 'ghetto', 'give', 'dumb', 'where', 'fuckin', 'retarded', 'aint', 'other', 'yellow', 'twitter', 'talking', 'ugly', '😒', 'cunt', 'tho', 'put', 'ur', 'into', 'big', 'getting', \"i'll\", 'stupid', 'am', 'nigger', '💯', 'yall', ')', '>', 'keep', 'did', 'same', 'yeah', 'hit', 'much', 'fat', 'should', 'way', 'black', 'birds', 'fag', 'feel', 's', 'today', 'game', 'old', 'mad', 'well', 'smh', 'after', 'oh', 'made', 'those', 'around', 'em', 'cuz', 'ho', 'boy', 'could', 'before', 'last', 'gone', 'best', '(', 'someone', 'play', 'side', 'something', 'called', 'happy', 'tryna', 'us', \"he's\", 'first', 'face', 'next', 'many', '3', 'shut', 'fucked', 'another', 'mean', 'any', 'work', 'thing', 'night', '1', 'most', 'nicca', 'school', 'monkey', 'colored', \"didn't\", 'crazy', '😍', 'were', '@', 'two', 'baby', '💀', 'head', \"she's\", 'god', 'name', 'w', 'women', 'such', 'haha', 'nothing', 'b', 'having', 'told', 'find', 'looking', 'hell', 'try', 'while', 'gon', '★', 'broke', 'start', 'bruh', 'doing', 'again', 'thats', 'show', 'friends', 'beat', 'seen', 'high', 'bro', 'yankees', 'year', 'gay', 'stay', 'loyal', 'swear', 'tonight', 'house', 'trying', 'watch', 'nah', 'ima', 'done', 'dude', 'guys', 'phone', 'tweet', 'our', 'kill', 'thought', 'use', \"won't\", 'home', 't', 'cute', 'does', '|', 'ask', 'hard', 'wrong', \"i've\", 'please', 'already', 'sex', 'trust', '😴', 'pretty', 'funny', 'wish', 'act', '👏', 'might', '$', 'fight', 'turn', 'everybody', 'niccas', 'makes', 'guy', 'yes', '😏', 'hot', 'long', 'nig', 'free', 'care', 'wtf', 'mom', 'lot', 'straight', 'hair', 'sorry', '✌', 'days', 'kids', 'buy', 'making', 'dis', '4', 'hope', '5', 'bring', 'nobody', 'saying', '👌', 'tf', 'sure', 'looks', 'world', 'went', 'fake', 'wait', 'though', 'red', 'live', 'car', 'cut', 'gets', 'anything', 'retard', \"i'd\", 'hey', 'since', '💁', \"doesn't\", 'text', 'song', 'suck', 'young', 'stfu', 'woman', 'o', 'away', 'ok', 'eating', '✋', 'jus', 'remember', 'faggots', 'pussies', 'cool', 'bet', 'both', 'own', 'guess', 'son', 'cant', '#yankees', 'full', 'lmfao', 'says', '🙌', 'throw', 'nigguh', \"they're\", 'playing', 'job', 'dem', '👀', 'sleep', 'probably', 'everything', 'everyone', 'whole', 'nice', 'great', 'thanks', 'leave', 'weed', 'type', '😎', 'single', 'brownies', 'calling', 'ion', 'basic', 'die', 'r', 'follow', 'niggers', 'top', 'left', 'yea', 'word', \"what's\", 'took', 'pull', \"there's\", 'bc', 'wear', 'years', 'men', '10', 'af', 'mouth', 'females', 'team', 'run', 'yet', 'until', 'party', 'queer', 'maybe', 'tweets', 'music', '%', 'things', 'redneck', 'birthday', '<', 'used', 'once', '😳', 'omg', 'either', 'dog', 'watching', 'needs', 'half', 'dead', 'pay', 'wanted', 'wants', 'wife', 'bae', 'mind', 'without', 'outta', 'okay', 'miss', 'believe', '😘', 'food', \"isn't\", 'must', 'pic', 'myself', 'mock', 'lost', \"wasn't\", 'dyke', 'fun', 'person', 'actually', 'line', 'else', 'boys', 'friend', 'win', 'main', 'wow', 'via', 'stand', 'saw', 'thank', 'video', 'nasty', 'morning', 'class', 'point', 'idk', 'y', 'club', 'smoke', \"couldn't\", 'coming', 'gave', 'booty', 'sick', '👊', 'ready', 'came', 'tried', 'change', 'somebody', 'week', 'sit', 'reason', 'catch', 'through', 'fags', 'chill', 'acting', ';', 'goes', 'ex', 'female', 'place', 'body', 'also', 'rather', 'talkin', 'true', 'dirty', 'favorite', 'gettin', 'eyes', 'wearing', 'break', 'hear', 'crackers', '6', \"wouldn't\", 'naw', 'girlfriend', 'pregnant', 'racist', 'problem', 'couple', 'drunk', 'fans', '😜', 'brown', 'lookin', 'tired', 'd', 'move', 'walk', 'ill', 'hurt', 'comes', \"let's\", 'respect', 'light', 'jihadi', 'heard', '+', 'cold', '😈', 'lie', 'none', 'end', 'outside', 'together', 'taking', 'send', 'yourself', 'early', 'heart', 'listen', 'yankee', 'finna', 'oreo', 'ha', 'chick', 'pass', 'nd', 'enough', 'fine', 'flappy', 'number', 'wonder', 'ppl', '\\U000fe334', 'sound', 'cry', 'least', 'cracker', 'boyfriend', 'imma', 'lame', '🔫', 'water', 'pick', 'games', 'bed', 'dad', 'pop', 'thinking', 'cheat', 'rich', 'wet', 'found', 'sometimes', '=', 'open', 'anyone', 'front', 'ah', 'literally', '💦', 'sexy', 'niggaz', 'drop', 'sad', 'ma', 'ratchet', 'shoot', 'mine', 'date', 'instagram', 'pics', 'giving', 'few', 'relationship', 'meet', 'smell', 'yu', 'check', 'means', '😌', 'fact', 'lose', 'coon', 'almost', 'oreos', '#', 'may', 'serious', 'times', 'city', 'voice', 'ago', '🙅', 'understand', 'season', 'quit', '8', 'help', 'hand', 'low', 'attention', 'killed', 'read', \"you'll\", 'thot', 'hella', 'room', 'picture', 'thirsty', 'tomorrow', 'kid', 'against', 'weak', 'drive', '😡', 'kno', ':)', 'annoying', 'different', 'ride', 'till', '👐', 'quick', 'dudes', 'crying', 'self', 'instead', 'unless', 'weekend', '#iphone', '#xxx', 'likes', 'lady', 'slap', '😑', 'bye', 'feelings', 'ate', 'obama', 'family', 'hood', 'started', 'sum', 'uncle', \"who's\", 'tranny', 'mother', 'bunch', 'bag', 'business', '#porn', '#android', '#ipad', '#sex', 'dress', 'drink', '0', 'hahaha', 'nudes', 'which', 'words', 'telling', 'knows', 'state', '100', 'asked', 'alone', 'ones', 'sole', 'hold', 'asian', 'forget', 'nothin', 'wake', 'beautiful', 'ball', 'lying', 'post', 'shot', '20', 'soon', 'slut', 'http', 'everyday', 'twat', 'lmaoo', 'skinny', 'cat', 'perfect', 'whatever', 'running', 'later', 'matter', 'movie', 'don', 'negro', 'set', 'anymore', 'worried', 'pictures', 'm', 'using', 'kinda', 'very', 'ice', 'far', 'round', 'america', 'taste', 'working', 'knew', '#tcot', 'social', 'cunts', 'k', \"aren't\", 'dawg', 'chicken', 'weird', 'grow', 'sweet', 'prolly', 'met', 'brownie', 'public', 'bullshit', 'cream', 'street', 'hands', 'huh', 'past', 'door', 'glad', '😕', 'momma', '😁', 'deep', 'save', 'behind', 'kind', 'blue', 'clothes', '30', 'slope', 'story', 'laugh', 'under', 'walking', 'sell', 'fan', 'realize', 'hungry', 'ladies', 'thru', 'rap', 'jihadis', 'treat', 'tl', 'tom', '😤', 'la', '🙈', 'ig', 'lmaooo', 'redskins', 'waiting', 'skin', 'truth', 'dey', 'thinks', 'country', 'aye', 'mama', 'ol', 'g', 'crist', 'between', '👋', 'fly', 'whore', 'goin', 'biggest', 'hating', '😔', 'followers', 'fall', 'proud', 'c', 'mf', 'id', 'worth', 'fucc', 'kick', 'clean', 'race', \"you've\", 'lets', 'attitude', 'texting', 'sounds', 'fire', 'media', 'thick', 'chicks', 'speak', 'tweeting', 'rick', 'fam', 'green', 'rest', 'jesus', 'niggahs', 'part', 'friday', 'shirt', 'brother', 'stick', 'loves', 'retards', '2014', 'worst', 'karma', 'seriously', 'halloween', 'poor', 'sayin', '😷', 'taken', 'seeing', 'lucky', 'easy', '1st', 'seem', 'youre', 'folk', 'stuck', 'yours', 'playin', 'jail', 'tha', 'jeter', 'scared', 'problems', 'calls', 'baddest', 'asking', '💃', 'middle', 'late', 'beer', 'support', 'summer', 'sucking', 'strong', 'become', 'doe', \"haven't\", 'themselves', '❤', 'anyway', 'fast', 'neck', 'less', 'fuzzy', 'lick', 'park', 'joe', 'block', 'boss', 'learn', 'close', 'daddy', 'drake', 'slow', 'cheese', 'forever', ':/', 'played', 'control', 'hillbilly', 'forgot', 'shoes', 'roll', 'avi', 'dope', 'town', 'balls', 'soul', '🔥', 'blunt', 'sheen', 'smack', 'sister', 'den', 'living', 'super', 'special', 'scary', 'claim', 'second', 'chris', 'grade', 'piece', '👉', 'naked', 'rock', '24', \"we're\", 'caught', 'kiss', 'swag', 'fucks', '😐', 'laughing', 'trippin', 'turned', 'american', 'died', '😋', 'wack', 'cheating', 'finger', 'actin', 'boring', 'wat', 'tv', 'mess', '😊', 'photo', 'finally', 'takes', 'nope', 'vs', 'feet', 'hang', 'f', 'chug', 'feeling', 'cock', 'death', 'ugh', 'blow', 'basically', 'lips', 'hop', 'handle', 'ran', 'hi', 'short', 'teeth', '7', 'each', 'homie', 'answer', 'deserve', 'facebook', 'looked', '—', 'weather', 'shy', 'level', 'million', 'joke', 'tight', 'small', 'sucks', 'double', 'fo', 'chocolate', 'idgaf', 'during', 'drugs', 'p', 'won', 'whitey', 'nips', 'bit', 'course', 'gun', 'kim', 'excuse', 'honestly', '50', 're', 'uh', 'smoking', 'cares', 'president', 'butt', 'punk', 'crib', '🙏', 'didnt', 'texas', 'cops', 'deal', 'future', 'fa', '12', '15', 'steal', 'doin', 'mane', 'weeks', '9', '😫', '»', 'throwing', 'threw', 'dry', 'mexican', 'slit', 'e', 'cus', 'minute', 'expect', 'months', 'massage', 'parents', 'teabaggers', 'especially', 'news', 'bought', 'supposed', 'woke', 'blame', 'extra', 'argue', 'pink', '🙊', 'hairy', 'songs', 'yesterday', 'porn', 'fell', 'star', 'j', 'lonely', 'eye', 'dare', 'trap', 'angry', 'fool', 'welcome', 'complain', 'til', 'coons', '«', 'dream', 'idc', 'throat', 'wild', 'blah', 'blood', 'lmaoooo', 'gold', 'childish', 'loud', 'child', 'shitty', '‘', 'teacher', 'power', 'lebron', '☕', 'paid', 'apes', 'huge', 'sense', 'bitter', 'worry', 'bomb', 'lives', 'ebola', 'gym', 'month', 'brought', '👅', 'confused', 'cuh', 'h', 'iphone', 'legs', 'teabagger', 'definitely', 'mo', 'paper', \"shouldn't\", 'test', 'mr', 'dm', 'holy', 'bf', 'bros', 'rednecks', 'derek', 'bigger', 'random', '🐸', 'warm', 'happen', 'internet', 'herself', 'flip', 'box', 'clam', 'ape', 'selling', 'dark', 'apparently', 'inside', 'grown', 'football', 'al', 'worse', 'count', 'moment', 'babe', 'john', 'thug', 'nigs', '_', 'dropped', '💰', 'three', 'asshole', 'seat', 'smile', 'except', 'mans', 'sox', 'thang', 'across', 'tits', 'wont', 'wifey', 'happens', 'knowing', 'soles', 'wassup', 'beef', 'sports', 'titties', 'step', 'clearly', 'stank', 'player', 'jump', 'jealous', 'suppose', 'gucci', 'dinner', 'l', 'fw', 'blocked', 'tbh', 'anyways', 'group', 'touch', 'smart', 'king', 'stuff', 'dance', 'enjoy', 'jk', 'push', 'account', 'cook', 'punch', 'police', 'alex', 'lunch', 'hitting', 'driving', '😉', 'tongue', 'shout', 'near', 'ignorant', '💕', 'somethin', 'famous', 'hits', 'monday', 'spend', 'neva', 'planet', 'heat', 'dykes', 'vote', 'bill', '👯', 'hours', 'trip', 'scott', 'married', 'write', 'trynna', 'fresh', 'field', 'dnt', 'college', 'jig', 'gas', 'fuk', 'retweet', 'nose', 'dese', 'aka', 'soft', 'minutes', 'chase', 'stadium', 'exactly', 'slide', 'rice', 'peace', 'garbage', 'nuts', 'regular', 'unfollow', 'dats', '😝', 'flat', 'fairy', 'dam', 'color', 'cars', 'kanye', 'animal', 'nip', 'dying', 'hat', 'cripple', '–', 'singing', 'folks', 'names', 'baker', 'human', 'drinking', 'cookies', 'offended', 'idea', '___', 'hide', 'boo', '#hoosiers', 'alright', '💏', 'crow', '👍', 'grandma', 'starting', 'sitting', 'putting', 'lay', 'bus', 'window', 'lowkey', 'bar', '✈', 'liberal', 'everywhere', 'hes', 'cats', 'cop', 'chance', 'walked', 'abo', 'losing', 'james', 'moms', 'dogs', 'period', 'feed', 'order', 'entire', 'ring', 'bone', 'isis', 'panties', 'de', 'eyebrows', 'mocks', 'foh', 'quote', '#morningjoe', 'cash', 'hahahaha', 'offensive', 'safe', 'yanks', '40', 'saturday', 'chunky', 'air', '‼', 'dollars', 'yung', 'ignore', 'pants', '💥', 'whipped', 'piss', 'fried', 'faithful', 'florida', 'longer', 'letting', 'named', 'rn', 'known', 'knock', 'thinkin', 'callin', 'somewhere', 'etc', 'worm', 'rose', 'attractive', 'rated', 'riding', 'duck', 'shake', 'tea', 'lies', 'freak', 'beaner', 'pizza', '18', 'age', 'bust', 'chillin', 'law', ':(', 'drug', '👎', 'queen', 'choke', 'bear', 'fighting', '#isis', 'juice', 'rude', 'heads', 'himself', 'born', '👭', 'albino', 'oomf', 'simple', 'babies', 'cheated', 'kobe', 'earth', 'facts', 'tree', 'daughter', 'floor', 'south', 'bread', 'happened', 'add', 'messy', 'math', 'following', 'pissed', 'alive', 'pet', 'movies', '99', '21', 'winter', 'christmas', 'ctfu', 'twice', 'east', 'weave', 'missed', 'difference', 'candy', 'sloppy', 'turning', 'speaking', 'tip', 'anybody', 'silly', 'cum', 'bday', '#bitch', 'gang', 'apple', 'nfl', '🎶', 'model', 'zebra', 'complete', 'coffee', 'weight', 'cake', 'term', 'hour', 'rape', 'st', '👫', 'store', \"i'ma\", 'cousin', 'baseball', '\\ue412', 'breakfast', 'tht', 'irrelevant', 'wigga', 'fck', 'bottle', 'comin', 'often', '✊', '❗', 'headed', 'nerve', 'nut', 'asks', 'question', 'players', 'spic', 'card', 'york', 'wiz', 'spa', '718-622-0221', '#mlb', 'killing', 'dumbass', 'watched', 'average', 'ina', 'war', 'rihanna', 'fear', 'ole', 'plays', 'brain', '💋', 'excited', 'keeps', '13', 'delete', 'draft', 'message', 'lord', 'turns', 'hatin', '#teabaggers', 'admit', '11', 'lemme', 'havin', '~', '💨', 'sooo', 'bobby', 'mall', 'sent', 'trick', 'bein', 'mins', 'surprised', 'milk', '#teabagger', 'friendly', 'spot', 'zero', 'tells', 'http://…', 'usually', 'crack', 'winning', 'ain', 'tony', 'rip', 'hos', 'fish', 'hello', 'beanies', 'ray', 'allowed', 'afraid', '\\U000feb9f', 'wen', 'inch', 'purpose', 'talked', 'sauce', 'showed', 'gives', 'iont', 'charge', 'sunday', 'puts', 'record', 'nation', 'fuc', 'band', 'tweeted', 'murder', 'slept', 'boobs', '(:', 'tryin', 'children', 'austin', '😅', 'typical', '\\U000feb7b', 'arguing', 'michael', 'sam', 'score', 'natural', 'pimp', '25', 'pig', 'shawty', 'seconds', 'built', '😪', 'corny', 'amazing', 'taught', 'nun', 'dating', 'sign', 'talks', 'screen', 'doesnt', 'rain', 'dreams', 'luck', 'sold', 'yah', 'stage', 'wayne', 'freshman', 'meant', 'opinion', 'grab', 'jokes', 'feels', 'daily', 'potato', 'total', ';)', 'fr', 'shows', 'george', 'loose', 'lmfaoo', 'reading', \"should've\", 'wop', 'bars', 'agree', 'felt', 'office', 'shoulda', 'def', 'french', 'train', 'constantly', 'hick', '💸', 'jack', 'lmfaooo', 'needa', 'page', 'awesome', 'dms', '90', 'molly', 'raised', '✂', 'na', 'twerk', 'snap', 'shots', '🔪', 'makeup', 'dear', 'spell', 'followed', 'aw', 'playoffs', 'breaking', 'gook', 'leg', 'neither', 'mentions', 'buying', 'share', 'dollar', 'key', 'moving', 'sing', 'coach', '😱', 'miley', 'feather', 'alot', 'soccer', 'republican', 'streets', 'army', 'brothers', 'list', 'shower', 'tall', 'blind', 'lights', 'foreign', 'track', 'credit', 'leaving', 'saving', 'dressed', 'missing', 'mike', 'timeline', '💅', 'border', 'posting', 'comment', \"it'll\", 'pure', 'lit', 'pops', 'muslim', 'tough', 'accept', 'absolutely', 'beating', 'ten', 'basketball', 'locked', 'hanging', '. .', 'tyga', 'bald', 'pot', 'lead', 'vagina', 'teams', 'lazy', 'road', 'woof', 'yr', 'seems', 'slant', 'action', 'size', 'screaming', 'mixtape', 'jay', 'standing', 'rappers', 'hates', 'spanish', 'scally', 'local', 'teach', 'major', 'complaining', \"you'd\", 'case', 'attack', 'clown', \"she'll\", 'asses', 'political', 'raw', 'bio', '😛', 'smfh', \"would've\", 'dirt', 'questions', 'buddy', 'sleeping', 'personality', 'doubt', 'easily', 'posted', 'penis', '😖', 'marriage', '17', 'chinese', 'goals', 'judge', 'jersey', 'stole', 'book', 'lately', 'showing', 'chink', 'purple', 'barely', \"we'll\", 'boi', 'fault', 'important', 'marry', 'selfies', 'works', '2nd', 'snapchat', 'mention', 'ashamed', 'stealing', 'cookie', '💩', 'soo', 'older', 'feelin', '<3', 'grand', 'chasing', '🎉', 'evil', 'horny', 'homies', 'changed', 'fob', 'classy', 'bra', 'points', 'based', 'teen', 'bodies', 'apart', '#teaparty', 'forreal', 'beans', 'leaves', 'bags', 'cover', 'giant', 'idiot', 'liked', 'jordan', 'match', 'van', 'system', 'lakers', 'finish', 'cans', 'sentence', '#iubb', 'rapper', '😢', 'ways', 'guns', 'paint', '🍻', 'bow', 'west', 'bud', 'gov', 'general', 'fit', 'waste', 'ik', 'settle', 'closed', 'lmfaoooo', 'meat', 'stress', 'african', 'japanese', 'whoever', 'gunna', 'houston', 'kicked', 'republicans', 'plans', 'walks', 'smith', 'vine', 'bottom', '🍆', 'spook', 'betta', 'coward', 'faced', 'clear', 'bum', 'owe', 'series', 'girlfriends', 'deez', 'smokin', 'lls', 'career', 'pulled', 'episode', 'emoji', 'takin', 'stomach', 'texts', 'hun', 'faces', 'blew', 'asleep', 'trouble', 'mfs', 'entertaining', 'crew', 'fucker', 'americans', 'btw', 'slapped', 'tank', 'classic', 'final', 'everytime', 'homeless', 'knocked', 'sharing', 'along', 'others', 'guinea', 'loved', 'devil', '24/7', 'starts', 'pollo', 'busy', 'wins', 'squad', 'exist', 'beaners', 'cancer', 'address', 'horrible', 'whats', 'whiny', 'steve', 'passed', 'twinkie', '💪', 'wall', 'pair', 'dicks', 'remind', 'election', 'truly', 'oriental', 'gop', 'sluts', 'upset', 'listening', '🚮', 'cuts', 'reply', 'paul', 'tellin', 'yep', 'bored', 'funky', 'plan', '👑', 'nicki', 'foot', 'sexual', 'beats', 'generation', 'album', 'shame', 'staring', 'regardless', 'protect', 'er', 'secret', 'shorts']\n"
          ],
          "name": "stdout"
        }
      ]
    },
    {
      "cell_type": "code",
      "metadata": {
        "id": "hjMNbCBD6PQA",
        "colab_type": "code",
        "colab": {}
      },
      "source": [
        "def word_features(document, common_words):\n",
        "    document_words = set(document)\n",
        "    features = {}\n",
        "    for word in common_words:\n",
        "        features['V_{}'.format(word)] = (word in document_words)\n",
        "    return features"
      ],
      "execution_count": 6,
      "outputs": []
    },
    {
      "cell_type": "code",
      "metadata": {
        "id": "JBIldkyzBxCN",
        "colab_type": "code",
        "colab": {
          "base_uri": "https://localhost:8080/",
          "height": 54
        },
        "outputId": "8a595d43-d76a-4627-80ed-1e9c89db2853"
      },
      "source": [
        "feature_sets = [(word_features(tweet, common_words), cat) for (cat, tweet) in docs]\n",
        "print(feature_sets[0])"
      ],
      "execution_count": 7,
      "outputs": [
        {
          "output_type": "stream",
          "text": [
            "({'V_USERNAME_MENTION': False, 'V_:': False, 'V_.': True, 'V_a': False, 'V_bitch': True, 'V_i': False, 'V_rt': False, 'V_the': False, 'V_you': False, 'V_,': False, 'V_to': True, 'V_\"': False, 'V_and': True, 'V_!': False, 'V_my': False, 'V_that': False, 'V_bitches': False, 'V_in': False, 'V_URL_LINK': False, 'V_is': False, 'V_😂': False, 'V_like': False, 'V_me': False, 'V_of': False, 'V_?': False, 'V_on': False, 'V_hoes': False, 'V_be': False, 'V_this': False, 'V_pussy': False, 'V_for': False, 'V_...': False, 'V_it': True, 'V_hoe': False, 'V_with': False, 'V_“': False, 'V_”': False, \"V_i'm\": False, 'V_ass': True, 'V_your': False, 'V_all': False, 'V_up': True, 'V_if': False, 'V_but': False, 'V_just': True, \"V_don't\": False, 'V_get': False, 'V_fuck': False, 'V_so': False, 'V_they': False, 'V_no': False, 'V_when': False, 'V_these': False, 'V_u': False, 'V_got': False, 'V_shit': False, 'V_…': False, 'V_nigga': False, 'V_not': False, 'V_she': False, 'V_was': False, 'V_are': False, 'V_her': False, 'V_trash': False, 'V_at': False, 'V_lol': False, 'V_out': False, 'V_..': True, 'V_have': False, 'V_&': False, 'V_about': False, 'V_he': False, \"V_ain't\": False, 'V_some': False, 'V_what': False, 'V_do': False, 'V_know': False, 'V_can': False, 'V_niggas': False, 'V_we': False, 'V_them': False, 'V_one': False, 'V_how': False, 'V_love': False, \"V_it's\": False, 'V_or': False, 'V_who': False, 'V_as': False, 'V_go': False, 'V_fucking': False, 'V_RETWEET_SOURCE': False, 'V_yo': False, \"V_'\": False, 'V_now': False, 'V_want': False, 'V_from': False, 'V_why': False, 'V_bad': False, 'V_-': False, \"V_can't\": False, 'V_then': False, 'V_😭': False, 'V_his': True, 'V_good': False, 'V_man': False, \"V_you're\": False, 'V_too': False, 'V_say': False, 'V_off': False, \"V_that's\": False, 'V_look': False, 'V_still': False, 'V_make': False, 'V_ya': False, 'V_hate': False, 'V_see': False, 'V_an': False, 'V_im': False, 'V_*': False, 'V_only': False, 'V_back': False, 'V_think': False, 'V_need': True, 'V_never': False, 'V_will': False, 'V_time': False, 'V_really': True, 'V_faggot': False, 'V_girl': False, 'V_people': False, \"V_y'all\": False, 'V_real': False, 'V_right': False, 'V_being': False, 'V_even': False, 'V_lmao': False, 'V_said': False, 'V_white': False, 'V_would': False, 'V_bird': False, 'V_here': False, 'V_more': False, 'V_by': False, 'V_over': False, 'V_had': False, 'V_😩': False, 'V_their': False, 'V_let': False, 'V_wit': False, 'V_been': False, 'V_dick': False, 'V_than': False, 'V_wanna': False, 'V_day': False, 'V_down': False, 'V_/': False, 'V_bout': False, 'V_stop': False, 'V_damn': False, 'V_because': False, 'V_little': True, 'V_tell': False, 'V_call': False, 'V_there': False, 'V_talk': False, 'V_gotta': False, 'V_come': False, 'V_da': False, 'V_cause': False, 'V_dont': False, 'V_life': False, 'V_take': False, 'V_new': False, 'V_gonna': False, 'V_dat': False, 'V_him': False, 'V_every': False, 'V_charlie': False, 'V_its': False, 'V_always': False, 'V_n': False, 'V_’': False, 'V_has': False, 'V_money': False, 'V_niggah': False, 'V_better': False, 'V_going': False, 'V_girls': False, 'V_lil': False, 'V_️': False, 'V_eat': False, 'V_2': False, 'V_ever': False, 'V_ghetto': False, 'V_give': False, 'V_dumb': False, 'V_where': False, 'V_fuckin': False, 'V_retarded': False, 'V_aint': False, 'V_other': False, 'V_yellow': False, 'V_twitter': False, 'V_talking': False, 'V_ugly': False, 'V_😒': False, 'V_cunt': False, 'V_tho': False, 'V_put': False, 'V_ur': False, 'V_into': False, 'V_big': False, 'V_getting': False, \"V_i'll\": False, 'V_stupid': False, 'V_am': False, 'V_nigger': False, 'V_💯': False, 'V_yall': False, 'V_)': False, 'V_>': False, 'V_keep': False, 'V_did': False, 'V_same': False, 'V_yeah': False, 'V_hit': False, 'V_much': False, 'V_fat': False, 'V_should': False, 'V_way': False, 'V_black': False, 'V_birds': False, 'V_fag': False, 'V_feel': False, 'V_s': False, 'V_today': False, 'V_game': False, 'V_old': False, 'V_mad': False, 'V_well': False, 'V_smh': False, 'V_after': False, 'V_oh': False, 'V_made': False, 'V_those': False, 'V_around': False, 'V_em': False, 'V_cuz': False, 'V_ho': False, 'V_boy': False, 'V_could': False, 'V_before': False, 'V_last': False, 'V_gone': False, 'V_best': False, 'V_(': False, 'V_someone': False, 'V_play': False, 'V_side': False, 'V_something': False, 'V_called': False, 'V_happy': False, 'V_tryna': False, 'V_us': False, \"V_he's\": False, 'V_first': False, 'V_face': False, 'V_next': False, 'V_many': False, 'V_3': False, 'V_shut': False, 'V_fucked': False, 'V_another': False, 'V_mean': False, 'V_any': False, 'V_work': False, 'V_thing': False, 'V_night': False, 'V_1': False, 'V_most': False, 'V_nicca': False, 'V_school': False, 'V_monkey': False, 'V_colored': False, \"V_didn't\": False, 'V_crazy': False, 'V_😍': False, 'V_were': False, 'V_@': False, 'V_two': False, 'V_baby': False, 'V_💀': False, 'V_head': False, \"V_she's\": False, 'V_god': False, 'V_name': False, 'V_w': False, 'V_women': False, 'V_such': False, 'V_haha': False, 'V_nothing': False, 'V_b': False, 'V_having': False, 'V_told': False, 'V_find': False, 'V_looking': False, 'V_hell': False, 'V_try': False, 'V_while': False, 'V_gon': False, 'V_★': False, 'V_broke': False, 'V_start': False, 'V_bruh': False, 'V_doing': False, 'V_again': False, 'V_thats': False, 'V_show': True, 'V_friends': False, 'V_beat': False, 'V_seen': False, 'V_high': False, 'V_bro': False, 'V_yankees': False, 'V_year': False, 'V_gay': False, 'V_stay': False, 'V_loyal': False, 'V_swear': False, 'V_tonight': False, 'V_house': False, 'V_trying': False, 'V_watch': False, 'V_nah': False, 'V_ima': False, 'V_done': False, 'V_dude': False, 'V_guys': False, 'V_phone': False, 'V_tweet': False, 'V_our': False, 'V_kill': False, 'V_thought': False, 'V_use': False, \"V_won't\": True, 'V_home': False, 'V_t': False, 'V_cute': False, 'V_does': False, 'V_|': False, 'V_ask': False, 'V_hard': False, 'V_wrong': False, \"V_i've\": False, 'V_please': False, 'V_already': False, 'V_sex': False, 'V_trust': False, 'V_😴': False, 'V_pretty': False, 'V_funny': False, 'V_wish': False, 'V_act': False, 'V_👏': False, 'V_might': False, 'V_$': False, 'V_fight': False, 'V_turn': False, 'V_everybody': False, 'V_niccas': False, 'V_makes': False, 'V_guy': False, 'V_yes': False, 'V_😏': False, 'V_hot': False, 'V_long': False, 'V_nig': False, 'V_free': False, 'V_care': False, 'V_wtf': False, 'V_mom': False, 'V_lot': False, 'V_straight': False, 'V_hair': False, 'V_sorry': False, 'V_✌': False, 'V_days': False, 'V_kids': False, 'V_buy': False, 'V_making': False, 'V_dis': False, 'V_4': False, 'V_hope': False, 'V_5': False, 'V_bring': False, 'V_nobody': False, 'V_saying': False, 'V_👌': False, 'V_tf': False, 'V_sure': False, 'V_looks': False, 'V_world': False, 'V_went': False, 'V_fake': False, 'V_wait': False, 'V_though': False, 'V_red': False, 'V_live': False, 'V_car': False, 'V_cut': True, 'V_gets': False, 'V_anything': False, 'V_retard': False, \"V_i'd\": False, 'V_hey': False, 'V_since': False, 'V_💁': False, \"V_doesn't\": False, 'V_text': False, 'V_song': False, 'V_suck': False, 'V_young': False, 'V_stfu': False, 'V_woman': False, 'V_o': False, 'V_away': False, 'V_ok': False, 'V_eating': False, 'V_✋': False, 'V_jus': False, 'V_remember': False, 'V_faggots': False, 'V_pussies': False, 'V_cool': False, 'V_bet': False, 'V_both': False, 'V_own': False, 'V_guess': False, 'V_son': False, 'V_cant': False, 'V_#yankees': False, 'V_full': False, 'V_lmfao': False, 'V_says': False, 'V_🙌': False, 'V_throw': False, 'V_nigguh': False, \"V_they're\": False, 'V_playing': False, 'V_job': False, 'V_dem': False, 'V_👀': False, 'V_sleep': False, 'V_probably': False, 'V_everything': False, 'V_everyone': False, 'V_whole': False, 'V_nice': False, 'V_great': False, 'V_thanks': False, 'V_leave': False, 'V_weed': False, 'V_type': False, 'V_😎': False, 'V_single': False, 'V_brownies': False, 'V_calling': False, 'V_ion': False, 'V_basic': False, 'V_die': False, 'V_r': False, 'V_follow': False, 'V_niggers': False, 'V_top': False, 'V_left': False, 'V_yea': False, 'V_word': False, \"V_what's\": False, 'V_took': False, 'V_pull': False, \"V_there's\": False, 'V_bc': False, 'V_wear': False, 'V_years': False, 'V_men': False, 'V_10': False, 'V_af': False, 'V_mouth': False, 'V_females': False, 'V_team': False, 'V_run': False, 'V_yet': False, 'V_until': False, 'V_party': False, 'V_queer': False, 'V_maybe': False, 'V_tweets': False, 'V_music': False, 'V_%': False, 'V_things': False, 'V_redneck': False, 'V_birthday': False, 'V_<': False, 'V_used': False, 'V_once': False, 'V_😳': False, 'V_omg': False, 'V_either': False, 'V_dog': False, 'V_watching': False, 'V_needs': False, 'V_half': False, 'V_dead': False, 'V_pay': False, 'V_wanted': False, 'V_wants': False, 'V_wife': False, 'V_bae': False, 'V_mind': False, 'V_without': False, 'V_outta': False, 'V_okay': False, 'V_miss': False, 'V_believe': False, 'V_😘': False, 'V_food': False, \"V_isn't\": False, 'V_must': False, 'V_pic': False, 'V_myself': False, 'V_mock': False, 'V_lost': False, \"V_wasn't\": False, 'V_dyke': False, 'V_fun': False, 'V_person': False, 'V_actually': False, 'V_line': False, 'V_else': False, 'V_boys': False, 'V_friend': False, 'V_win': False, 'V_main': False, 'V_wow': False, 'V_via': False, 'V_stand': False, 'V_saw': False, 'V_thank': False, 'V_video': False, 'V_nasty': False, 'V_morning': False, 'V_class': False, 'V_point': False, 'V_idk': False, 'V_y': False, 'V_club': False, 'V_smoke': False, \"V_couldn't\": False, 'V_coming': False, 'V_gave': False, 'V_booty': False, 'V_sick': False, 'V_👊': False, 'V_ready': False, 'V_came': False, 'V_tried': False, 'V_change': False, 'V_somebody': False, 'V_week': False, 'V_sit': False, 'V_reason': False, 'V_catch': False, 'V_through': False, 'V_fags': False, 'V_chill': False, 'V_acting': False, 'V_;': False, 'V_goes': False, 'V_ex': False, 'V_female': False, 'V_place': False, 'V_body': False, 'V_also': False, 'V_rather': False, 'V_talkin': False, 'V_true': False, 'V_dirty': False, 'V_favorite': False, 'V_gettin': False, 'V_eyes': False, 'V_wearing': False, 'V_break': False, 'V_hear': False, 'V_crackers': False, 'V_6': False, \"V_wouldn't\": False, 'V_naw': False, 'V_girlfriend': False, 'V_pregnant': False, 'V_racist': False, 'V_problem': False, 'V_couple': False, 'V_drunk': False, 'V_fans': False, 'V_😜': False, 'V_brown': False, 'V_lookin': False, 'V_tired': False, 'V_d': False, 'V_move': False, 'V_walk': False, 'V_ill': False, 'V_hurt': False, 'V_comes': False, \"V_let's\": False, 'V_respect': False, 'V_light': False, 'V_jihadi': False, 'V_heard': False, 'V_+': False, 'V_cold': False, 'V_😈': False, 'V_lie': False, 'V_none': False, 'V_end': False, 'V_outside': False, 'V_together': False, 'V_taking': False, 'V_send': False, 'V_yourself': False, 'V_early': False, 'V_heart': False, 'V_listen': False, 'V_yankee': False, 'V_finna': False, 'V_oreo': False, 'V_ha': False, 'V_chick': False, 'V_pass': False, 'V_nd': False, 'V_enough': False, 'V_fine': False, 'V_flappy': False, 'V_number': False, 'V_wonder': False, 'V_ppl': False, 'V_\\U000fe334': False, 'V_sound': False, 'V_cry': False, 'V_least': False, 'V_cracker': False, 'V_boyfriend': False, 'V_imma': False, 'V_lame': False, 'V_🔫': False, 'V_water': False, 'V_pick': False, 'V_games': False, 'V_bed': False, 'V_dad': False, 'V_pop': False, 'V_thinking': False, 'V_cheat': False, 'V_rich': False, 'V_wet': False, 'V_found': False, 'V_sometimes': False, 'V_=': False, 'V_open': False, 'V_anyone': False, 'V_front': False, 'V_ah': False, 'V_literally': False, 'V_💦': False, 'V_sexy': False, 'V_niggaz': False, 'V_drop': False, 'V_sad': False, 'V_ma': False, 'V_ratchet': False, 'V_shoot': False, 'V_mine': False, 'V_date': False, 'V_instagram': False, 'V_pics': False, 'V_giving': False, 'V_few': False, 'V_relationship': False, 'V_meet': False, 'V_smell': False, 'V_yu': False, 'V_check': False, 'V_means': False, 'V_😌': False, 'V_fact': False, 'V_lose': False, 'V_coon': False, 'V_almost': False, 'V_oreos': False, 'V_#': False, 'V_may': False, 'V_serious': False, 'V_times': False, 'V_city': False, 'V_voice': False, 'V_ago': False, 'V_🙅': False, 'V_understand': False, 'V_season': False, 'V_quit': False, 'V_8': False, 'V_help': False, 'V_hand': False, 'V_low': False, 'V_attention': False, 'V_killed': False, 'V_read': False, \"V_you'll\": False, 'V_thot': False, 'V_hella': False, 'V_room': False, 'V_picture': False, 'V_thirsty': False, 'V_tomorrow': False, 'V_kid': False, 'V_against': False, 'V_weak': False, 'V_drive': False, 'V_😡': False, 'V_kno': False, 'V_:)': False, 'V_annoying': False, 'V_different': False, 'V_ride': False, 'V_till': False, 'V_👐': False, 'V_quick': False, 'V_dudes': False, 'V_crying': False, 'V_self': False, 'V_instead': False, 'V_unless': False, 'V_weekend': False, 'V_#iphone': False, 'V_#xxx': False, 'V_likes': False, 'V_lady': False, 'V_slap': False, 'V_😑': False, 'V_bye': False, 'V_feelings': False, 'V_ate': False, 'V_obama': False, 'V_family': False, 'V_hood': False, 'V_started': False, 'V_sum': False, 'V_uncle': False, \"V_who's\": False, 'V_tranny': False, 'V_mother': False, 'V_bunch': False, 'V_bag': False, 'V_business': False, 'V_#porn': False, 'V_#android': False, 'V_#ipad': False, 'V_#sex': False, 'V_dress': False, 'V_drink': False, 'V_0': False, 'V_hahaha': False, 'V_nudes': False, 'V_which': False, 'V_words': False, 'V_telling': False, 'V_knows': False, 'V_state': False, 'V_100': False, 'V_asked': False, 'V_alone': False, 'V_ones': False, 'V_sole': False, 'V_hold': False, 'V_asian': False, 'V_forget': False, 'V_nothin': False, 'V_wake': False, 'V_beautiful': False, 'V_ball': False, 'V_lying': False, 'V_post': False, 'V_shot': False, 'V_20': False, 'V_soon': False, 'V_slut': False, 'V_http': False, 'V_everyday': False, 'V_twat': False, 'V_lmaoo': False, 'V_skinny': False, 'V_cat': False, 'V_perfect': False, 'V_whatever': False, 'V_running': False, 'V_later': False, 'V_matter': False, 'V_movie': False, 'V_don': False, 'V_negro': False, 'V_set': False, 'V_anymore': False, 'V_worried': False, 'V_pictures': False, 'V_m': False, 'V_using': False, 'V_kinda': False, 'V_very': False, 'V_ice': False, 'V_far': False, 'V_round': False, 'V_america': False, 'V_taste': False, 'V_working': False, 'V_knew': False, 'V_#tcot': False, 'V_social': False, 'V_cunts': False, 'V_k': False, \"V_aren't\": False, 'V_dawg': False, 'V_chicken': False, 'V_weird': False, 'V_grow': False, 'V_sweet': False, 'V_prolly': False, 'V_met': False, 'V_brownie': False, 'V_public': False, 'V_bullshit': False, 'V_cream': False, 'V_street': False, 'V_hands': False, 'V_huh': False, 'V_past': False, 'V_door': False, 'V_glad': False, 'V_😕': False, 'V_momma': False, 'V_😁': False, 'V_deep': False, 'V_save': False, 'V_behind': False, 'V_kind': False, 'V_blue': False, 'V_clothes': False, 'V_30': False, 'V_slope': False, 'V_story': False, 'V_laugh': False, 'V_under': False, 'V_walking': False, 'V_sell': False, 'V_fan': False, 'V_realize': False, 'V_hungry': False, 'V_ladies': False, 'V_thru': False, 'V_rap': False, 'V_jihadis': False, 'V_treat': False, 'V_tl': False, 'V_tom': False, 'V_😤': False, 'V_la': False, 'V_🙈': False, 'V_ig': False, 'V_lmaooo': False, 'V_redskins': False, 'V_waiting': False, 'V_skin': False, 'V_truth': False, 'V_dey': False, 'V_thinks': False, 'V_country': False, 'V_aye': False, 'V_mama': False, 'V_ol': False, 'V_g': False, 'V_crist': False, 'V_between': False, 'V_👋': False, 'V_fly': False, 'V_whore': False, 'V_goin': False, 'V_biggest': False, 'V_hating': False, 'V_😔': False, 'V_followers': False, 'V_fall': False, 'V_proud': False, 'V_c': False, 'V_mf': False, 'V_id': False, 'V_worth': False, 'V_fucc': False, 'V_kick': False, 'V_clean': False, 'V_race': False, \"V_you've\": False, 'V_lets': False, 'V_attitude': False, 'V_texting': False, 'V_sounds': False, 'V_fire': False, 'V_media': False, 'V_thick': False, 'V_chicks': False, 'V_speak': False, 'V_tweeting': False, 'V_rick': False, 'V_fam': False, 'V_green': False, 'V_rest': False, 'V_jesus': False, 'V_niggahs': False, 'V_part': False, 'V_friday': False, 'V_shirt': False, 'V_brother': False, 'V_stick': False, 'V_loves': False, 'V_retards': False, 'V_2014': False, 'V_worst': False, 'V_karma': False, 'V_seriously': False, 'V_halloween': False, 'V_poor': False, 'V_sayin': False, 'V_😷': False, 'V_taken': False, 'V_seeing': False, 'V_lucky': False, 'V_easy': False, 'V_1st': False, 'V_seem': False, 'V_youre': False, 'V_folk': False, 'V_stuck': False, 'V_yours': False, 'V_playin': False, 'V_jail': False, 'V_tha': False, 'V_jeter': False, 'V_scared': False, 'V_problems': False, 'V_calls': False, 'V_baddest': False, 'V_asking': False, 'V_💃': False, 'V_middle': False, 'V_late': False, 'V_beer': False, 'V_support': False, 'V_summer': False, 'V_sucking': False, 'V_strong': False, 'V_become': False, 'V_doe': False, \"V_haven't\": False, 'V_themselves': False, 'V_❤': False, 'V_anyway': False, 'V_fast': False, 'V_neck': False, 'V_less': False, 'V_fuzzy': False, 'V_lick': False, 'V_park': False, 'V_joe': False, 'V_block': False, 'V_boss': False, 'V_learn': False, 'V_close': False, 'V_daddy': False, 'V_drake': False, 'V_slow': False, 'V_cheese': False, 'V_forever': False, 'V_:/': False, 'V_played': False, 'V_control': False, 'V_hillbilly': False, 'V_forgot': False, 'V_shoes': False, 'V_roll': False, 'V_avi': False, 'V_dope': False, 'V_town': False, 'V_balls': False, 'V_soul': False, 'V_🔥': False, 'V_blunt': False, 'V_sheen': False, 'V_smack': False, 'V_sister': False, 'V_den': False, 'V_living': False, 'V_super': False, 'V_special': False, 'V_scary': False, 'V_claim': False, 'V_second': False, 'V_chris': False, 'V_grade': False, 'V_piece': False, 'V_👉': False, 'V_naked': False, 'V_rock': False, 'V_24': False, \"V_we're\": False, 'V_caught': False, 'V_kiss': False, 'V_swag': False, 'V_fucks': False, 'V_😐': False, 'V_laughing': False, 'V_trippin': False, 'V_turned': False, 'V_american': False, 'V_died': False, 'V_😋': False, 'V_wack': False, 'V_cheating': False, 'V_finger': False, 'V_actin': False, 'V_boring': False, 'V_wat': False, 'V_tv': False, 'V_mess': False, 'V_😊': False, 'V_photo': False, 'V_finally': False, 'V_takes': False, 'V_nope': False, 'V_vs': False, 'V_feet': False, 'V_hang': False, 'V_f': False, 'V_chug': False, 'V_feeling': False, 'V_cock': False, 'V_death': False, 'V_ugh': False, 'V_blow': False, 'V_basically': False, 'V_lips': False, 'V_hop': False, 'V_handle': False, 'V_ran': False, 'V_hi': False, 'V_short': False, 'V_teeth': False, 'V_7': False, 'V_each': False, 'V_homie': False, 'V_answer': False, 'V_deserve': False, 'V_facebook': False, 'V_looked': False, 'V_—': False, 'V_weather': False, 'V_shy': False, 'V_level': False, 'V_million': False, 'V_joke': False, 'V_tight': False, 'V_small': False, 'V_sucks': False, 'V_double': False, 'V_fo': False, 'V_chocolate': False, 'V_idgaf': False, 'V_during': False, 'V_drugs': False, 'V_p': False, 'V_won': False, 'V_whitey': False, 'V_nips': False, 'V_bit': False, 'V_course': False, 'V_gun': False, 'V_kim': False, 'V_excuse': False, 'V_honestly': False, 'V_50': False, 'V_re': False, 'V_uh': False, 'V_smoking': False, 'V_cares': False, 'V_president': False, 'V_butt': False, 'V_punk': False, 'V_crib': False, 'V_🙏': False, 'V_didnt': False, 'V_texas': False, 'V_cops': False, 'V_deal': False, 'V_future': False, 'V_fa': False, 'V_12': False, 'V_15': False, 'V_steal': False, 'V_doin': False, 'V_mane': False, 'V_weeks': False, 'V_9': False, 'V_😫': False, 'V_»': False, 'V_throwing': False, 'V_threw': False, 'V_dry': False, 'V_mexican': False, 'V_slit': False, 'V_e': False, 'V_cus': False, 'V_minute': False, 'V_expect': False, 'V_months': False, 'V_massage': False, 'V_parents': False, 'V_teabaggers': False, 'V_especially': False, 'V_news': False, 'V_bought': False, 'V_supposed': False, 'V_woke': False, 'V_blame': False, 'V_extra': False, 'V_argue': False, 'V_pink': False, 'V_🙊': False, 'V_hairy': False, 'V_songs': False, 'V_yesterday': False, 'V_porn': False, 'V_fell': False, 'V_star': False, 'V_j': False, 'V_lonely': False, 'V_eye': False, 'V_dare': False, 'V_trap': False, 'V_angry': False, 'V_fool': False, 'V_welcome': False, 'V_complain': False, 'V_til': False, 'V_coons': False, 'V_«': False, 'V_dream': False, 'V_idc': False, 'V_throat': False, 'V_wild': False, 'V_blah': False, 'V_blood': False, 'V_lmaoooo': False, 'V_gold': False, 'V_childish': False, 'V_loud': False, 'V_child': False, 'V_shitty': False, 'V_‘': False, 'V_teacher': False, 'V_power': False, 'V_lebron': False, 'V_☕': False, 'V_paid': False, 'V_apes': False, 'V_huge': False, 'V_sense': False, 'V_bitter': False, 'V_worry': False, 'V_bomb': False, 'V_lives': False, 'V_ebola': False, 'V_gym': False, 'V_month': False, 'V_brought': False, 'V_👅': False, 'V_confused': False, 'V_cuh': False, 'V_h': False, 'V_iphone': False, 'V_legs': False, 'V_teabagger': False, 'V_definitely': False, 'V_mo': False, 'V_paper': False, \"V_shouldn't\": False, 'V_test': False, 'V_mr': False, 'V_dm': False, 'V_holy': False, 'V_bf': False, 'V_bros': False, 'V_rednecks': False, 'V_derek': False, 'V_bigger': False, 'V_random': False, 'V_🐸': False, 'V_warm': False, 'V_happen': False, 'V_internet': False, 'V_herself': False, 'V_flip': False, 'V_box': False, 'V_clam': False, 'V_ape': False, 'V_selling': False, 'V_dark': False, 'V_apparently': False, 'V_inside': False, 'V_grown': False, 'V_football': False, 'V_al': False, 'V_worse': False, 'V_count': False, 'V_moment': False, 'V_babe': False, 'V_john': False, 'V_thug': False, 'V_nigs': False, 'V__': False, 'V_dropped': False, 'V_💰': False, 'V_three': False, 'V_asshole': False, 'V_seat': False, 'V_smile': False, 'V_except': False, 'V_mans': False, 'V_sox': False, 'V_thang': False, 'V_across': False, 'V_tits': False, 'V_wont': False, 'V_wifey': False, 'V_happens': False, 'V_knowing': False, 'V_soles': False, 'V_wassup': False, 'V_beef': False, 'V_sports': False, 'V_titties': False, 'V_step': False, 'V_clearly': False, 'V_stank': False, 'V_player': False, 'V_jump': False, 'V_jealous': False, 'V_suppose': False, 'V_gucci': False, 'V_dinner': False, 'V_l': False, 'V_fw': False, 'V_blocked': False, 'V_tbh': False, 'V_anyways': False, 'V_group': False, 'V_touch': False, 'V_smart': False, 'V_king': False, 'V_stuff': False, 'V_dance': False, 'V_enjoy': False, 'V_jk': False, 'V_push': False, 'V_account': False, 'V_cook': False, 'V_punch': False, 'V_police': False, 'V_alex': False, 'V_lunch': False, 'V_hitting': False, 'V_driving': False, 'V_😉': False, 'V_tongue': False, 'V_shout': False, 'V_near': False, 'V_ignorant': False, 'V_💕': False, 'V_somethin': False, 'V_famous': False, 'V_hits': False, 'V_monday': False, 'V_spend': False, 'V_neva': False, 'V_planet': False, 'V_heat': False, 'V_dykes': False, 'V_vote': False, 'V_bill': False, 'V_👯': False, 'V_hours': False, 'V_trip': False, 'V_scott': False, 'V_married': False, 'V_write': False, 'V_trynna': False, 'V_fresh': False, 'V_field': False, 'V_dnt': False, 'V_college': False, 'V_jig': False, 'V_gas': False, 'V_fuk': False, 'V_retweet': False, 'V_nose': False, 'V_dese': False, 'V_aka': False, 'V_soft': False, 'V_minutes': False, 'V_chase': False, 'V_stadium': False, 'V_exactly': False, 'V_slide': False, 'V_rice': False, 'V_peace': False, 'V_garbage': False, 'V_nuts': False, 'V_regular': False, 'V_unfollow': False, 'V_dats': False, 'V_😝': False, 'V_flat': False, 'V_fairy': False, 'V_dam': False, 'V_color': False, 'V_cars': False, 'V_kanye': False, 'V_animal': False, 'V_nip': False, 'V_dying': False, 'V_hat': False, 'V_cripple': False, 'V_–': False, 'V_singing': False, 'V_folks': False, 'V_names': False, 'V_baker': False, 'V_human': False, 'V_drinking': False, 'V_cookies': False, 'V_offended': False, 'V_idea': False, 'V____': False, 'V_hide': False, 'V_boo': False, 'V_#hoosiers': False, 'V_alright': False, 'V_💏': False, 'V_crow': False, 'V_👍': False, 'V_grandma': False, 'V_starting': False, 'V_sitting': False, 'V_putting': False, 'V_lay': False, 'V_bus': False, 'V_window': False, 'V_lowkey': False, 'V_bar': False, 'V_✈': False, 'V_liberal': False, 'V_everywhere': False, 'V_hes': False, 'V_cats': False, 'V_cop': False, 'V_chance': False, 'V_walked': False, 'V_abo': False, 'V_losing': False, 'V_james': False, 'V_moms': False, 'V_dogs': False, 'V_period': False, 'V_feed': False, 'V_order': False, 'V_entire': False, 'V_ring': False, 'V_bone': False, 'V_isis': False, 'V_panties': False, 'V_de': False, 'V_eyebrows': False, 'V_mocks': False, 'V_foh': False, 'V_quote': False, 'V_#morningjoe': False, 'V_cash': False, 'V_hahahaha': False, 'V_offensive': False, 'V_safe': False, 'V_yanks': False, 'V_40': False, 'V_saturday': False, 'V_chunky': False, 'V_air': False, 'V_‼': False, 'V_dollars': False, 'V_yung': False, 'V_ignore': False, 'V_pants': False, 'V_💥': False, 'V_whipped': False, 'V_piss': False, 'V_fried': False, 'V_faithful': False, 'V_florida': False, 'V_longer': False, 'V_letting': False, 'V_named': False, 'V_rn': False, 'V_known': False, 'V_knock': False, 'V_thinkin': False, 'V_callin': False, 'V_somewhere': False, 'V_etc': False, 'V_worm': False, 'V_rose': False, 'V_attractive': False, 'V_rated': False, 'V_riding': False, 'V_duck': False, 'V_shake': False, 'V_tea': False, 'V_lies': False, 'V_freak': False, 'V_beaner': False, 'V_pizza': False, 'V_18': False, 'V_age': False, 'V_bust': False, 'V_chillin': False, 'V_law': False, 'V_:(': False, 'V_drug': False, 'V_👎': False, 'V_queen': False, 'V_choke': False, 'V_bear': False, 'V_fighting': False, 'V_#isis': False, 'V_juice': False, 'V_rude': False, 'V_heads': False, 'V_himself': False, 'V_born': False, 'V_👭': False, 'V_albino': False, 'V_oomf': False, 'V_simple': False, 'V_babies': False, 'V_cheated': False, 'V_kobe': False, 'V_earth': False, 'V_facts': False, 'V_tree': False, 'V_daughter': False, 'V_floor': False, 'V_south': False, 'V_bread': False, 'V_happened': False, 'V_add': False, 'V_messy': False, 'V_math': False, 'V_following': False, 'V_pissed': False, 'V_alive': False, 'V_pet': False, 'V_movies': False, 'V_99': False, 'V_21': False, 'V_winter': False, 'V_christmas': False, 'V_ctfu': False, 'V_twice': False, 'V_east': False, 'V_weave': False, 'V_missed': False, 'V_difference': False, 'V_candy': False, 'V_sloppy': False, 'V_turning': False, 'V_speaking': False, 'V_tip': False, 'V_anybody': False, 'V_silly': False, 'V_cum': False, 'V_bday': False, 'V_#bitch': False, 'V_gang': False, 'V_apple': False, 'V_nfl': False, 'V_🎶': False, 'V_model': False, 'V_zebra': False, 'V_complete': False, 'V_coffee': False, 'V_weight': False, 'V_cake': False, 'V_term': False, 'V_hour': False, 'V_rape': False, 'V_st': False, 'V_👫': False, 'V_store': False, \"V_i'ma\": False, 'V_cousin': False, 'V_baseball': False, 'V_\\ue412': False, 'V_breakfast': False, 'V_tht': False, 'V_irrelevant': False, 'V_wigga': False, 'V_fck': False, 'V_bottle': False, 'V_comin': False, 'V_often': False, 'V_✊': False, 'V_❗': False, 'V_headed': False, 'V_nerve': False, 'V_nut': False, 'V_asks': False, 'V_question': False, 'V_players': False, 'V_spic': False, 'V_card': False, 'V_york': False, 'V_wiz': False, 'V_spa': False, 'V_718-622-0221': False, 'V_#mlb': False, 'V_killing': False, 'V_dumbass': False, 'V_watched': False, 'V_average': False, 'V_ina': False, 'V_war': False, 'V_rihanna': False, 'V_fear': False, 'V_ole': False, 'V_plays': False, 'V_brain': False, 'V_💋': False, 'V_excited': False, 'V_keeps': False, 'V_13': False, 'V_delete': False, 'V_draft': False, 'V_message': False, 'V_lord': False, 'V_turns': False, 'V_hatin': False, 'V_#teabaggers': False, 'V_admit': False, 'V_11': False, 'V_lemme': False, 'V_havin': False, 'V_~': False, 'V_💨': False, 'V_sooo': False, 'V_bobby': False, 'V_mall': False, 'V_sent': False, 'V_trick': False, 'V_bein': False, 'V_mins': False, 'V_surprised': False, 'V_milk': False, 'V_#teabagger': False, 'V_friendly': False, 'V_spot': False, 'V_zero': False, 'V_tells': False, 'V_http://…': False, 'V_usually': False, 'V_crack': False, 'V_winning': False, 'V_ain': False, 'V_tony': False, 'V_rip': False, 'V_hos': False, 'V_fish': False, 'V_hello': False, 'V_beanies': False, 'V_ray': False, 'V_allowed': False, 'V_afraid': False, 'V_\\U000feb9f': False, 'V_wen': False, 'V_inch': False, 'V_purpose': False, 'V_talked': False, 'V_sauce': False, 'V_showed': False, 'V_gives': False, 'V_iont': False, 'V_charge': False, 'V_sunday': False, 'V_puts': False, 'V_record': False, 'V_nation': False, 'V_fuc': False, 'V_band': False, 'V_tweeted': False, 'V_murder': False, 'V_slept': False, 'V_boobs': False, 'V_(:': False, 'V_tryin': False, 'V_children': False, 'V_austin': False, 'V_😅': False, 'V_typical': False, 'V_\\U000feb7b': False, 'V_arguing': False, 'V_michael': False, 'V_sam': False, 'V_score': False, 'V_natural': False, 'V_pimp': False, 'V_25': False, 'V_pig': False, 'V_shawty': False, 'V_seconds': False, 'V_built': False, 'V_😪': False, 'V_corny': False, 'V_amazing': False, 'V_taught': False, 'V_nun': False, 'V_dating': False, 'V_sign': False, 'V_talks': False, 'V_screen': False, 'V_doesnt': False, 'V_rain': False, 'V_dreams': False, 'V_luck': False, 'V_sold': False, 'V_yah': False, 'V_stage': False, 'V_wayne': False, 'V_freshman': False, 'V_meant': False, 'V_opinion': False, 'V_grab': False, 'V_jokes': False, 'V_feels': False, 'V_daily': False, 'V_potato': False, 'V_total': False, 'V_;)': False, 'V_fr': False, 'V_shows': False, 'V_george': False, 'V_loose': False, 'V_lmfaoo': False, 'V_reading': False, \"V_should've\": False, 'V_wop': False, 'V_bars': False, 'V_agree': False, 'V_felt': False, 'V_office': False, 'V_shoulda': False, 'V_def': False, 'V_french': False, 'V_train': False, 'V_constantly': False, 'V_hick': False, 'V_💸': False, 'V_jack': False, 'V_lmfaooo': False, 'V_needa': False, 'V_page': False, 'V_awesome': False, 'V_dms': False, 'V_90': False, 'V_molly': False, 'V_raised': False, 'V_✂': False, 'V_na': False, 'V_twerk': False, 'V_snap': False, 'V_shots': False, 'V_🔪': False, 'V_makeup': False, 'V_dear': False, 'V_spell': False, 'V_followed': False, 'V_aw': False, 'V_playoffs': False, 'V_breaking': False, 'V_gook': False, 'V_leg': False, 'V_neither': False, 'V_mentions': False, 'V_buying': False, 'V_share': False, 'V_dollar': False, 'V_key': False, 'V_moving': False, 'V_sing': False, 'V_coach': False, 'V_😱': False, 'V_miley': False, 'V_feather': False, 'V_alot': False, 'V_soccer': False, 'V_republican': False, 'V_streets': False, 'V_army': False, 'V_brothers': False, 'V_list': False, 'V_shower': False, 'V_tall': False, 'V_blind': False, 'V_lights': False, 'V_foreign': False, 'V_track': False, 'V_credit': False, 'V_leaving': False, 'V_saving': False, 'V_dressed': False, 'V_missing': False, 'V_mike': False, 'V_timeline': False, 'V_💅': False, 'V_border': False, 'V_posting': False, 'V_comment': False, \"V_it'll\": False, 'V_pure': False, 'V_lit': False, 'V_pops': False, 'V_muslim': False, 'V_tough': False, 'V_accept': False, 'V_absolutely': False, 'V_beating': False, 'V_ten': False, 'V_basketball': False, 'V_locked': False, 'V_hanging': False, 'V_. .': False, 'V_tyga': False, 'V_bald': False, 'V_pot': False, 'V_lead': False, 'V_vagina': False, 'V_teams': False, 'V_lazy': False, 'V_road': False, 'V_woof': False, 'V_yr': False, 'V_seems': False, 'V_slant': False, 'V_action': False, 'V_size': False, 'V_screaming': False, 'V_mixtape': False, 'V_jay': False, 'V_standing': False, 'V_rappers': False, 'V_hates': False, 'V_spanish': False, 'V_scally': False, 'V_local': False, 'V_teach': False, 'V_major': False, 'V_complaining': False, \"V_you'd\": False, 'V_case': False, 'V_attack': False, 'V_clown': False, \"V_she'll\": False, 'V_asses': False, 'V_political': False, 'V_raw': False, 'V_bio': False, 'V_😛': False, 'V_smfh': False, \"V_would've\": False, 'V_dirt': False, 'V_questions': False, 'V_buddy': False, 'V_sleeping': False, 'V_personality': False, 'V_doubt': False, 'V_easily': False, 'V_posted': False, 'V_penis': False, 'V_😖': False, 'V_marriage': False, 'V_17': False, 'V_chinese': False, 'V_goals': False, 'V_judge': False, 'V_jersey': False, 'V_stole': False, 'V_book': False, 'V_lately': False, 'V_showing': False, 'V_chink': False, 'V_purple': False, 'V_barely': False, \"V_we'll\": False, 'V_boi': False, 'V_fault': False, 'V_important': False, 'V_marry': False, 'V_selfies': False, 'V_works': False, 'V_2nd': False, 'V_snapchat': False, 'V_mention': False, 'V_ashamed': False, 'V_stealing': False, 'V_cookie': False, 'V_💩': False, 'V_soo': False, 'V_older': False, 'V_feelin': False, 'V_<3': False, 'V_grand': False, 'V_chasing': False, 'V_🎉': False, 'V_evil': False, 'V_horny': False, 'V_homies': False, 'V_changed': False, 'V_fob': False, 'V_classy': False, 'V_bra': False, 'V_points': False, 'V_based': False, 'V_teen': False, 'V_bodies': False, 'V_apart': False, 'V_#teaparty': False, 'V_forreal': False, 'V_beans': False, 'V_leaves': False, 'V_bags': False, 'V_cover': False, 'V_giant': False, 'V_idiot': False, 'V_liked': False, 'V_jordan': False, 'V_match': False, 'V_van': False, 'V_system': False, 'V_lakers': False, 'V_finish': False, 'V_cans': False, 'V_sentence': False, 'V_#iubb': False, 'V_rapper': False, 'V_😢': False, 'V_ways': False, 'V_guns': False, 'V_paint': False, 'V_🍻': False, 'V_bow': False, 'V_west': False, 'V_bud': False, 'V_gov': False, 'V_general': False, 'V_fit': False, 'V_waste': False, 'V_ik': False, 'V_settle': False, 'V_closed': False, 'V_lmfaoooo': False, 'V_meat': False, 'V_stress': False, 'V_african': False, 'V_japanese': False, 'V_whoever': False, 'V_gunna': False, 'V_houston': False, 'V_kicked': False, 'V_republicans': False, 'V_plans': False, 'V_walks': False, 'V_smith': False, 'V_vine': False, 'V_bottom': False, 'V_🍆': False, 'V_spook': False, 'V_betta': False, 'V_coward': False, 'V_faced': False, 'V_clear': False, 'V_bum': False, 'V_owe': False, 'V_series': False, 'V_girlfriends': False, 'V_deez': False, 'V_smokin': False, 'V_lls': False, 'V_career': False, 'V_pulled': False, 'V_episode': False, 'V_emoji': False, 'V_takin': False, 'V_stomach': False, 'V_texts': False, 'V_hun': False, 'V_faces': False, 'V_blew': False, 'V_asleep': False, 'V_trouble': False, 'V_mfs': False, 'V_entertaining': False, 'V_crew': False, 'V_fucker': False, 'V_americans': False, 'V_btw': False, 'V_slapped': False, 'V_tank': False, 'V_classic': False, 'V_final': False, 'V_everytime': False, 'V_homeless': False, 'V_knocked': False, 'V_sharing': False, 'V_along': False, 'V_others': False, 'V_guinea': False, 'V_loved': False, 'V_devil': False, 'V_24/7': False, 'V_starts': False, 'V_pollo': False, 'V_busy': False, 'V_wins': False, 'V_squad': False, 'V_exist': False, 'V_beaners': False, 'V_cancer': False, 'V_address': False, 'V_horrible': False, 'V_whats': False, 'V_whiny': False, 'V_steve': False, 'V_passed': False, 'V_twinkie': False, 'V_💪': False, 'V_wall': False, 'V_pair': False, 'V_dicks': False, 'V_remind': False, 'V_election': False, 'V_truly': False, 'V_oriental': False, 'V_gop': False, 'V_sluts': False, 'V_upset': False, 'V_listening': False, 'V_🚮': False, 'V_cuts': False, 'V_reply': False, 'V_paul': False, 'V_tellin': False, 'V_yep': False, 'V_bored': False, 'V_funky': False, 'V_plan': False, 'V_👑': False, 'V_nicki': False, 'V_foot': False, 'V_sexual': False, 'V_beats': False, 'V_generation': False, 'V_album': False, 'V_shame': False, 'V_staring': False, 'V_regardless': False, 'V_protect': False, 'V_er': False, 'V_secret': False, 'V_shorts': False}, 0)\n"
          ],
          "name": "stdout"
        }
      ]
    },
    {
      "cell_type": "markdown",
      "metadata": {
        "id": "OPfDI9Tpfewf",
        "colab_type": "text"
      },
      "source": [
        "### Results"
      ]
    },
    {
      "cell_type": "code",
      "metadata": {
        "id": "uQ8BzwDTrgBP",
        "colab_type": "code",
        "colab": {
          "base_uri": "https://localhost:8080/",
          "height": 1000
        },
        "outputId": "eb6a53b5-42ce-4dce-8480-3449c2b8557e"
      },
      "source": [
        "classify(feature_sets)"
      ],
      "execution_count": 45,
      "outputs": [
        {
          "output_type": "stream",
          "text": [
            "Train MNB model on 24783 examples with 10-fold cross-validation\n",
            "Confusion Matrix:\n",
            " [[22847   506]\n",
            " [ 1006   424]]\n",
            "Accuracy: 0.939\n",
            "Precision (1): 0.4559\n",
            "Recall (1): 0.2965\n",
            "F1 (1): 0.3593\n",
            "\n",
            "Positive Indicators\n",
            "(-4.813004895923639, 'V_spic')\n",
            "(-3.214536014860113, 'V_niggers')\n",
            "(-2.893906004318982, 'V_faggots')\n",
            "(-2.867094746868325, 'V_whitey')\n",
            "(-2.8513463899001863, 'V_chink')\n",
            "(-2.8205747312334317, 'V_beaner')\n",
            "(-2.7335633542438025, 'V_beaners')\n",
            "(-2.704575817370551, 'V_fags')\n",
            "(-2.5848180929834523, 'V_nigger')\n",
            "(-2.539407339802846, 'V_racist')\n",
            "(-2.494333665177968, 'V_faggot')\n",
            "(-2.415109623125268, 'V_gook')\n",
            "(-2.3852566599755853, 'V_coons')\n",
            "(-2.3280982461356388, 'V_coon')\n",
            "(-2.328098246135637, 'V_americans')\n",
            "(-2.215620262708949, 'V_dyke')\n",
            "(-2.1972586451768263, 'V_queer')\n",
            "(-2.128608885719318, 'V_fag')\n",
            "(-2.1274275506734863, 'V_mention')\n",
            "(-2.040416173683857, 'V_border')\n",
            "\n",
            "Negative Indicators\n",
            "(3.160839480021048, 'V_bird')\n",
            "(2.9118835433994352, 'V_charlie')\n",
            "(2.094750383058499, 'V_sex')\n",
            "(1.9392654802181033, 'V_😍')\n",
            "(1.9392654802181033, 'V_birds')\n",
            "(1.8514041244267698, 'V_#yankees')\n",
            "(1.8411476242595803, 'V_$')\n",
            "(1.7437734602344044, 'V_brownies')\n",
            "(1.6852772535527958, 'V_basic')\n",
            "(1.6731558930204518, 'V_females')\n",
            "(1.6358844982232181, 'V_😎')\n",
            "(1.5971699860425286, 'V_lost')\n",
            "(1.5705017389603686, 'V_👀')\n",
            "(1.5568960869045885, 'V_bae')\n",
            "(1.4859443509323054, 'V_|')\n",
            "(1.4859443509323054, 'V_ex')\n",
            "(1.4636385934180058, 'V_loyal')\n",
            "(1.4560913877826227, 'V_girlfriend')\n",
            "(1.4408239156518352, 'V_booty')\n",
            "(1.4253197291158681, 'V_jihadi')\n",
            "\n",
            "Errors:\n",
            "1 \t i didn't forsake all other bitches for my wife to be getting fucked on by another nigga. and you know she married? you gotta die.\n",
            "0 \t USERNAME_MENTION shut up faggot, no one cares\n",
            "0 \t did you all hear this #bundy redneck? someone should show him how niggas play.\n",
            "0 \t fuck the church you attend , fuck your god, fuck the nigguh you call the savior . it's a fucking new world order baby\n",
            "1 \t my eyes feel so chink eyed\n",
            "1 \t rt USERNAME_MENTION: aight game over. dykes had to ruin it URL_LINK\n",
            "0 \t USERNAME_MENTION you were supposed to hang w me this week nigger\n",
            "1 \t fuck her pussy fuck her mouth fuck her ass cause she nasty\n",
            "1 \t fuckin' #faggots, man. #science knows these fucks can't procreate without the help of \"breeders\" but we treat them #fancy? #sin\n",
            "1 \t USERNAME_MENTION you tell me, coon.\n",
            "0 \t your leader rocks a fucking mo hawk and dances like a faggot from atl USERNAME_MENTION\n",
            "1 \t i hate you niccas! lol URL_LINK\n",
            "1 \t USERNAME_MENTION legit retard\n",
            "1 \t why you think all these niggas end up with all these kids? fucking ugly bitches\n",
            "1 \t rt USERNAME_MENTION: USERNAME_MENTION:what straight guys take a picture of themselves naked in a hot tun.what fags USERNAME_MENTION USERNAME_MENTION USERNAME_MENTION…\n",
            "1 \t USERNAME_MENTION 😂😂alright fag what about this? URL_LINK\n",
            "1 \t “USERNAME_MENTION: i hate that bitch & the fact that oomf likes her.. just no 😐” retweeettt 1000x.\n",
            "0 \t rt USERNAME_MENTION: white ppl will call mexicans beaners and claim they taking their jobs but have sugar skull tattoos :-(\n",
            "1 \t trust me when i say that #jesuschrist would be killing #faggots if he came back to life in today's day and age> #spartacus #rome\n",
            "1 \t go get left in a hot car and die bitch\n"
          ],
          "name": "stdout"
        }
      ]
    },
    {
      "cell_type": "markdown",
      "metadata": {
        "id": "1fjf5aRpEVYx",
        "colab_type": "text"
      },
      "source": [
        "## Experiment 2\n",
        "Top 2000 most frequent words after stopwords removed"
      ]
    },
    {
      "cell_type": "markdown",
      "metadata": {
        "id": "6-qokho_fivb",
        "colab_type": "text"
      },
      "source": [
        "### Prep"
      ]
    },
    {
      "cell_type": "code",
      "metadata": {
        "id": "sF7Lx81WHkKu",
        "colab_type": "code",
        "colab": {
          "base_uri": "https://localhost:8080/",
          "height": 89
        },
        "outputId": "7d672d52-0666-4473-a3aa-24114f2383f1"
      },
      "source": [
        "all_words_list = [word for (cat,tweet) in docs for word in tweet]\n",
        "all_words = nltk.FreqDist(all_words_list)\n",
        "# print(len(all_words))\n",
        "\n",
        "# remove stop words\n",
        "stopwords = nltk.corpus.stopwords.words('english')\n",
        "# print(len(stopwords))\n",
        "# print(stopwords)\n",
        "\n",
        "# remove some negation words \n",
        "stopwords.extend(['.',',','rt','-',':'])\n",
        "\n",
        "# newstopwords = [word for word in stopwords if word not in negationwords]\n",
        "# print(len(newstopwords))\n",
        "# print(newstopwords)\n",
        "print(len(all_words_list))\n",
        "all_words_list = [word for word in all_words_list if word not in stopwords]\n",
        "print(len(all_words_list))\n",
        "\n",
        "all_words = nltk.FreqDist(all_words_list)\n",
        "\n",
        "# get the most frequently appearing keywords in the corpus\n",
        "common_word_items = all_words.most_common(2000)\n",
        "common_words = [word for (word,count) in common_word_items]\n",
        "print(common_words)"
      ],
      "execution_count": 46,
      "outputs": [
        {
          "output_type": "stream",
          "text": [
            "404746\n",
            "244945\n",
            "['USERNAME_MENTION', 'bitch', '\"', '!', 'bitches', 'URL_LINK', '😂', 'like', '?', 'hoes', 'pussy', '...', 'hoe', '“', '”', \"i'm\", 'ass', 'get', 'fuck', 'u', 'got', 'shit', '…', 'nigga', 'trash', 'lol', '..', '&', \"ain't\", 'know', 'niggas', 'one', 'love', 'go', 'fucking', 'RETWEET_SOURCE', 'yo', \"'\", 'want', 'bad', \"can't\", '😭', 'good', 'man', 'say', \"that's\", 'look', 'still', 'make', 'ya', 'hate', 'see', 'im', '*', 'back', 'think', 'need', 'never', 'time', 'really', 'faggot', 'girl', 'people', \"y'all\", 'real', 'right', 'even', 'lmao', 'said', 'white', 'would', 'bird', '😩', 'let', 'wit', 'dick', 'wanna', 'day', '/', 'bout', 'stop', 'damn', 'little', 'tell', 'call', 'talk', 'gotta', 'come', 'da', 'cause', 'dont', 'life', 'take', 'new', 'gonna', 'dat', 'every', 'charlie', 'always', 'n', '’', 'money', 'niggah', 'better', 'going', 'girls', 'lil', '️', 'eat', '2', 'ever', 'ghetto', 'give', 'dumb', 'fuckin', 'retarded', 'aint', 'yellow', 'twitter', 'talking', 'ugly', '😒', 'cunt', 'tho', 'put', 'ur', 'big', 'getting', \"i'll\", 'stupid', 'nigger', '💯', 'yall', ')', '>', 'keep', 'yeah', 'hit', 'much', 'fat', 'way', 'black', 'birds', 'fag', 'feel', 'today', 'game', 'old', 'mad', 'well', 'smh', 'oh', 'made', 'around', 'em', 'cuz', 'ho', 'boy', 'could', 'last', 'gone', 'best', '(', 'someone', 'play', 'side', 'something', 'called', 'happy', 'tryna', 'us', \"he's\", 'first', 'face', 'next', 'many', '3', 'shut', 'fucked', 'another', 'mean', 'work', 'thing', 'night', '1', 'nicca', 'school', 'monkey', 'colored', 'crazy', '😍', '@', 'two', 'baby', '💀', 'head', 'god', 'name', 'w', 'women', 'haha', 'nothing', 'b', 'told', 'find', 'looking', 'hell', 'try', 'gon', '★', 'broke', 'start', 'bruh', 'thats', 'show', 'friends', 'beat', 'seen', 'high', 'bro', 'yankees', 'year', 'gay', 'stay', 'loyal', 'swear', 'tonight', 'house', 'trying', 'watch', 'nah', 'ima', 'done', 'dude', 'guys', 'phone', 'tweet', 'kill', 'thought', 'use', 'home', 'cute', '|', 'ask', 'hard', 'wrong', \"i've\", 'please', 'already', 'sex', 'trust', '😴', 'pretty', 'funny', 'wish', 'act', '👏', 'might', '$', 'fight', 'turn', 'everybody', 'niccas', 'makes', 'guy', 'yes', '😏', 'hot', 'long', 'nig', 'free', 'care', 'wtf', 'mom', 'lot', 'straight', 'hair', 'sorry', '✌', 'days', 'kids', 'buy', 'making', 'dis', '4', 'hope', '5', 'bring', 'nobody', 'saying', '👌', 'tf', 'sure', 'looks', 'world', 'went', 'fake', 'wait', 'though', 'red', 'live', 'car', 'cut', 'gets', 'anything', 'retard', \"i'd\", 'hey', 'since', '💁', 'text', 'song', 'suck', 'young', 'stfu', 'woman', 'away', 'ok', 'eating', '✋', 'jus', 'remember', 'faggots', 'pussies', 'cool', 'bet', 'guess', 'son', 'cant', '#yankees', 'full', 'lmfao', 'says', '🙌', 'throw', 'nigguh', \"they're\", 'playing', 'job', 'dem', '👀', 'sleep', 'probably', 'everything', 'everyone', 'whole', 'nice', 'great', 'thanks', 'leave', 'weed', 'type', '😎', 'single', 'brownies', 'calling', 'ion', 'basic', 'die', 'r', 'follow', 'niggers', 'top', 'left', 'yea', 'word', \"what's\", 'took', 'pull', \"there's\", 'bc', 'wear', 'years', 'men', '10', 'af', 'mouth', 'females', 'team', 'run', 'yet', 'party', 'queer', 'maybe', 'tweets', 'music', '%', 'things', 'redneck', 'birthday', '<', 'used', '😳', 'omg', 'either', 'dog', 'watching', 'needs', 'half', 'dead', 'pay', 'wanted', 'wants', 'wife', 'bae', 'mind', 'without', 'outta', 'okay', 'miss', 'believe', '😘', 'food', 'must', 'pic', 'mock', 'lost', 'dyke', 'fun', 'person', 'actually', 'line', 'else', 'boys', 'friend', 'win', 'main', 'wow', 'via', 'stand', 'saw', 'thank', 'video', 'nasty', 'morning', 'class', 'point', 'idk', 'club', 'smoke', 'coming', 'gave', 'booty', 'sick', '👊', 'ready', 'came', 'tried', 'change', 'somebody', 'week', 'sit', 'reason', 'catch', 'fags', 'chill', 'acting', ';', 'goes', 'ex', 'female', 'place', 'body', 'also', 'rather', 'talkin', 'true', 'dirty', 'favorite', 'gettin', 'eyes', 'wearing', 'break', 'hear', 'crackers', '6', 'naw', 'girlfriend', 'pregnant', 'racist', 'problem', 'couple', 'drunk', 'fans', '😜', 'brown', 'lookin', 'tired', 'move', 'walk', 'ill', 'hurt', 'comes', \"let's\", 'respect', 'light', 'jihadi', 'heard', '+', 'cold', '😈', 'lie', 'none', 'end', 'outside', 'together', 'taking', 'send', 'early', 'heart', 'listen', 'yankee', 'finna', 'oreo', 'ha', 'chick', 'pass', 'nd', 'enough', 'fine', 'flappy', 'number', 'wonder', 'ppl', '\\U000fe334', 'sound', 'cry', 'least', 'cracker', 'boyfriend', 'imma', 'lame', '🔫', 'water', 'pick', 'games', 'bed', 'dad', 'pop', 'thinking', 'cheat', 'rich', 'wet', 'found', 'sometimes', '=', 'open', 'anyone', 'front', 'ah', 'literally', '💦', 'sexy', 'niggaz', 'drop', 'sad', 'ratchet', 'shoot', 'mine', 'date', 'instagram', 'pics', 'giving', 'relationship', 'meet', 'smell', 'yu', 'check', 'means', '😌', 'fact', 'lose', 'coon', 'almost', 'oreos', '#', 'may', 'serious', 'times', 'city', 'voice', 'ago', '🙅', 'understand', 'season', 'quit', '8', 'help', 'hand', 'low', 'attention', 'killed', 'read', 'thot', 'hella', 'room', 'picture', 'thirsty', 'tomorrow', 'kid', 'weak', 'drive', '😡', 'kno', ':)', 'annoying', 'different', 'ride', 'till', '👐', 'quick', 'dudes', 'crying', 'self', 'instead', 'unless', 'weekend', '#iphone', '#xxx', 'likes', 'lady', 'slap', '😑', 'bye', 'feelings', 'ate', 'obama', 'family', 'hood', 'started', 'sum', 'uncle', \"who's\", 'tranny', 'mother', 'bunch', 'bag', 'business', '#porn', '#android', '#ipad', '#sex', 'dress', 'drink', '0', 'hahaha', 'nudes', 'words', 'telling', 'knows', 'state', '100', 'asked', 'alone', 'ones', 'sole', 'hold', 'asian', 'forget', 'nothin', 'wake', 'beautiful', 'ball', 'lying', 'post', 'shot', '20', 'soon', 'slut', 'http', 'everyday', 'twat', 'lmaoo', 'skinny', 'cat', 'perfect', 'whatever', 'running', 'later', 'matter', 'movie', 'negro', 'set', 'anymore', 'worried', 'pictures', 'using', 'kinda', 'ice', 'far', 'round', 'america', 'taste', 'working', 'knew', '#tcot', 'social', 'cunts', 'k', 'dawg', 'chicken', 'weird', 'grow', 'sweet', 'prolly', 'met', 'brownie', 'public', 'bullshit', 'cream', 'street', 'hands', 'huh', 'past', 'door', 'glad', '😕', 'momma', '😁', 'deep', 'save', 'behind', 'kind', 'blue', 'clothes', '30', 'slope', 'story', 'laugh', 'walking', 'sell', 'fan', 'realize', 'hungry', 'ladies', 'thru', 'rap', 'jihadis', 'treat', 'tl', 'tom', '😤', 'la', '🙈', 'ig', 'lmaooo', 'redskins', 'waiting', 'skin', 'truth', 'dey', 'thinks', 'country', 'aye', 'mama', 'ol', 'g', 'crist', '👋', 'fly', 'whore', 'goin', 'biggest', 'hating', '😔', 'followers', 'fall', 'proud', 'c', 'mf', 'id', 'worth', 'fucc', 'kick', 'clean', 'race', 'lets', 'attitude', 'texting', 'sounds', 'fire', 'media', 'thick', 'chicks', 'speak', 'tweeting', 'rick', 'fam', 'green', 'rest', 'jesus', 'niggahs', 'part', 'friday', 'shirt', 'brother', 'stick', 'loves', 'retards', '2014', 'worst', 'karma', 'seriously', 'halloween', 'poor', 'sayin', '😷', 'taken', 'seeing', 'lucky', 'easy', '1st', 'seem', 'youre', 'folk', 'stuck', 'playin', 'jail', 'tha', 'jeter', 'scared', 'problems', 'calls', 'baddest', 'asking', '💃', 'middle', 'late', 'beer', 'support', 'summer', 'sucking', 'strong', 'become', 'doe', '❤', 'anyway', 'fast', 'neck', 'less', 'fuzzy', 'lick', 'park', 'joe', 'block', 'boss', 'learn', 'close', 'daddy', 'drake', 'slow', 'cheese', 'forever', ':/', 'played', 'control', 'hillbilly', 'forgot', 'shoes', 'roll', 'avi', 'dope', 'town', 'balls', 'soul', '🔥', 'blunt', 'sheen', 'smack', 'sister', 'den', 'living', 'super', 'special', 'scary', 'claim', 'second', 'chris', 'grade', 'piece', '👉', 'naked', 'rock', '24', \"we're\", 'caught', 'kiss', 'swag', 'fucks', '😐', 'laughing', 'trippin', 'turned', 'american', 'died', '😋', 'wack', 'cheating', 'finger', 'actin', 'boring', 'wat', 'tv', 'mess', '😊', 'photo', 'finally', 'takes', 'nope', 'vs', 'feet', 'hang', 'f', 'chug', 'feeling', 'cock', 'death', 'ugh', 'blow', 'basically', 'lips', 'hop', 'handle', 'ran', 'hi', 'short', 'teeth', '7', 'homie', 'answer', 'deserve', 'facebook', 'looked', '—', 'weather', 'shy', 'level', 'million', 'joke', 'tight', 'small', 'sucks', 'double', 'fo', 'chocolate', 'idgaf', 'drugs', 'p', 'whitey', 'nips', 'bit', 'course', 'gun', 'kim', 'excuse', 'honestly', '50', 'uh', 'smoking', 'cares', 'president', 'butt', 'punk', 'crib', '🙏', 'didnt', 'texas', 'cops', 'deal', 'future', 'fa', '12', '15', 'steal', 'doin', 'mane', 'weeks', '9', '😫', '»', 'throwing', 'threw', 'dry', 'mexican', 'slit', 'e', 'cus', 'minute', 'expect', 'months', 'massage', 'parents', 'teabaggers', 'especially', 'news', 'bought', 'supposed', 'woke', 'blame', 'extra', 'argue', 'pink', '🙊', 'hairy', 'songs', 'yesterday', 'porn', 'fell', 'star', 'j', 'lonely', 'eye', 'dare', 'trap', 'angry', 'fool', 'welcome', 'complain', 'til', 'coons', '«', 'dream', 'idc', 'throat', 'wild', 'blah', 'blood', 'lmaoooo', 'gold', 'childish', 'loud', 'child', 'shitty', '‘', 'teacher', 'power', 'lebron', '☕', 'paid', 'apes', 'huge', 'sense', 'bitter', 'worry', 'bomb', 'lives', 'ebola', 'gym', 'month', 'brought', '👅', 'confused', 'cuh', 'h', 'iphone', 'legs', 'teabagger', 'definitely', 'mo', 'paper', 'test', 'mr', 'dm', 'holy', 'bf', 'bros', 'rednecks', 'derek', 'bigger', 'random', '🐸', 'warm', 'happen', 'internet', 'flip', 'box', 'clam', 'ape', 'selling', 'dark', 'apparently', 'inside', 'grown', 'football', 'al', 'worse', 'count', 'moment', 'babe', 'john', 'thug', 'nigs', '_', 'dropped', '💰', 'three', 'asshole', 'seat', 'smile', 'except', 'mans', 'sox', 'thang', 'across', 'tits', 'wont', 'wifey', 'happens', 'knowing', 'soles', 'wassup', 'beef', 'sports', 'titties', 'step', 'clearly', 'stank', 'player', 'jump', 'jealous', 'suppose', 'gucci', 'dinner', 'l', 'fw', 'blocked', 'tbh', 'anyways', 'group', 'touch', 'smart', 'king', 'stuff', 'dance', 'enjoy', 'jk', 'push', 'account', 'cook', 'punch', 'police', 'alex', 'lunch', 'hitting', 'driving', '😉', 'tongue', 'shout', 'near', 'ignorant', '💕', 'somethin', 'famous', 'hits', 'monday', 'spend', 'neva', 'planet', 'heat', 'dykes', 'vote', 'bill', '👯', 'hours', 'trip', 'scott', 'married', 'write', 'trynna', 'fresh', 'field', 'dnt', 'college', 'jig', 'gas', 'fuk', 'retweet', 'nose', 'dese', 'aka', 'soft', 'minutes', 'chase', 'stadium', 'exactly', 'slide', 'rice', 'peace', 'garbage', 'nuts', 'regular', 'unfollow', 'dats', '😝', 'flat', 'fairy', 'dam', 'color', 'cars', 'kanye', 'animal', 'nip', 'dying', 'hat', 'cripple', '–', 'singing', 'folks', 'names', 'baker', 'human', 'drinking', 'cookies', 'offended', 'idea', '___', 'hide', 'boo', '#hoosiers', 'alright', '💏', 'crow', '👍', 'grandma', 'starting', 'sitting', 'putting', 'lay', 'bus', 'window', 'lowkey', 'bar', '✈', 'liberal', 'everywhere', 'hes', 'cats', 'cop', 'chance', 'walked', 'abo', 'losing', 'james', 'moms', 'dogs', 'period', 'feed', 'order', 'entire', 'ring', 'bone', 'isis', 'panties', 'de', 'eyebrows', 'mocks', 'foh', 'quote', '#morningjoe', 'cash', 'hahahaha', 'offensive', 'safe', 'yanks', '40', 'saturday', 'chunky', 'air', '‼', 'dollars', 'yung', 'ignore', 'pants', '💥', 'whipped', 'piss', 'fried', 'faithful', 'florida', 'longer', 'letting', 'named', 'rn', 'known', 'knock', 'thinkin', 'callin', 'somewhere', 'etc', 'worm', 'rose', 'attractive', 'rated', 'riding', 'duck', 'shake', 'tea', 'lies', 'freak', 'beaner', 'pizza', '18', 'age', 'bust', 'chillin', 'law', ':(', 'drug', '👎', 'queen', 'choke', 'bear', 'fighting', '#isis', 'juice', 'rude', 'heads', 'born', '👭', 'albino', 'oomf', 'simple', 'babies', 'cheated', 'kobe', 'earth', 'facts', 'tree', 'daughter', 'floor', 'south', 'bread', 'happened', 'add', 'messy', 'math', 'following', 'pissed', 'alive', 'pet', 'movies', '99', '21', 'winter', 'christmas', 'ctfu', 'twice', 'east', 'weave', 'missed', 'difference', 'candy', 'sloppy', 'turning', 'speaking', 'tip', 'anybody', 'silly', 'cum', 'bday', '#bitch', 'gang', 'apple', 'nfl', '🎶', 'model', 'zebra', 'complete', 'coffee', 'weight', 'cake', 'term', 'hour', 'rape', 'st', '👫', 'store', \"i'ma\", 'cousin', 'baseball', '\\ue412', 'breakfast', 'tht', 'irrelevant', 'wigga', 'fck', 'bottle', 'comin', 'often', '✊', '❗', 'headed', 'nerve', 'nut', 'asks', 'question', 'players', 'spic', 'card', 'york', 'wiz', 'spa', '718-622-0221', '#mlb', 'killing', 'dumbass', 'watched', 'average', 'ina', 'war', 'rihanna', 'fear', 'ole', 'plays', 'brain', '💋', 'excited', 'keeps', '13', 'delete', 'draft', 'message', 'lord', 'turns', 'hatin', '#teabaggers', 'admit', '11', 'lemme', 'havin', '~', '💨', 'sooo', 'bobby', 'mall', 'sent', 'trick', 'bein', 'mins', 'surprised', 'milk', '#teabagger', 'friendly', 'spot', 'zero', 'tells', 'http://…', 'usually', 'crack', 'winning', 'tony', 'rip', 'hos', 'fish', 'hello', 'beanies', 'ray', 'allowed', 'afraid', '\\U000feb9f', 'wen', 'inch', 'purpose', 'talked', 'sauce', 'showed', 'gives', 'iont', 'charge', 'sunday', 'puts', 'record', 'nation', 'fuc', 'band', 'tweeted', 'murder', 'slept', 'boobs', '(:', 'tryin', 'children', 'austin', '😅', 'typical', '\\U000feb7b', 'arguing', 'michael', 'sam', 'score', 'natural', 'pimp', '25', 'pig', 'shawty', 'seconds', 'built', '😪', 'corny', 'amazing', 'taught', 'nun', 'dating', 'sign', 'talks', 'screen', 'doesnt', 'rain', 'dreams', 'luck', 'sold', 'yah', 'stage', 'wayne', 'freshman', 'meant', 'opinion', 'grab', 'jokes', 'feels', 'daily', 'potato', 'total', ';)', 'fr', 'shows', 'george', 'loose', 'lmfaoo', 'reading', 'wop', 'bars', 'agree', 'felt', 'office', 'shoulda', 'def', 'french', 'train', 'constantly', 'hick', '💸', 'jack', 'lmfaooo', 'needa', 'page', 'awesome', 'dms', '90', 'molly', 'raised', '✂', 'na', 'twerk', 'snap', 'shots', '🔪', 'makeup', 'dear', 'spell', 'followed', 'aw', 'playoffs', 'breaking', 'gook', 'leg', 'neither', 'mentions', 'buying', 'share', 'dollar', 'key', 'moving', 'sing', 'coach', '😱', 'miley', 'feather', 'alot', 'soccer', 'republican', 'streets', 'army', 'brothers', 'list', 'shower', 'tall', 'blind', 'lights', 'foreign', 'track', 'credit', 'leaving', 'saving', 'dressed', 'missing', 'mike', 'timeline', '💅', 'border', 'posting', 'comment', \"it'll\", 'pure', 'lit', 'pops', 'muslim', 'tough', 'accept', 'absolutely', 'beating', 'ten', 'basketball', 'locked', 'hanging', '. .', 'tyga', 'bald', 'pot', 'lead', 'vagina', 'teams', 'lazy', 'road', 'woof', 'yr', 'seems', 'slant', 'action', 'size', 'screaming', 'mixtape', 'jay', 'standing', 'rappers', 'hates', 'spanish', 'scally', 'local', 'teach', 'major', 'complaining', 'case', 'attack', 'clown', \"she'll\", 'asses', 'political', 'raw', 'bio', '😛', 'smfh', \"would've\", 'dirt', 'questions', 'buddy', 'sleeping', 'personality', 'doubt', 'easily', 'posted', 'penis', '😖', 'marriage', '17', 'chinese', 'goals', 'judge', 'jersey', 'stole', 'book', 'lately', 'showing', 'chink', 'purple', 'barely', \"we'll\", 'boi', 'fault', 'important', 'marry', 'selfies', 'works', '2nd', 'snapchat', 'mention', 'ashamed', 'stealing', 'cookie', '💩', 'soo', 'older', 'feelin', '<3', 'grand', 'chasing', '🎉', 'evil', 'horny', 'homies', 'changed', 'fob', 'classy', 'bra', 'points', 'based', 'teen', 'bodies', 'apart', '#teaparty', 'forreal', 'beans', 'leaves', 'bags', 'cover', 'giant', 'idiot', 'liked', 'jordan', 'match', 'van', 'system', 'lakers', 'finish', 'cans', 'sentence', '#iubb', 'rapper', '😢', 'ways', 'guns', 'paint', '🍻', 'bow', 'west', 'bud', 'gov', 'general', 'fit', 'waste', 'ik', 'settle', 'closed', 'lmfaoooo', 'meat', 'stress', 'african', 'japanese', 'whoever', 'gunna', 'houston', 'kicked', 'republicans', 'plans', 'walks', 'smith', 'vine', 'bottom', '🍆', 'spook', 'betta', 'coward', 'faced', 'clear', 'bum', 'owe', 'series', 'girlfriends', 'deez', 'smokin', 'lls', 'career', 'pulled', 'episode', 'emoji', 'takin', 'stomach', 'texts', 'hun', 'faces', 'blew', 'asleep', 'trouble', 'mfs', 'entertaining', 'crew', 'fucker', 'americans', 'btw', 'slapped', 'tank', 'classic', 'final', 'everytime', 'homeless', 'knocked', 'sharing', 'along', 'others', 'guinea', 'loved', 'devil', '24/7', 'starts', 'pollo', 'busy', 'wins', 'squad', 'exist', 'beaners', 'cancer', 'address', 'horrible', 'whats', 'whiny', 'steve', 'passed', 'twinkie', '💪', 'wall', 'pair', 'dicks', 'remind', 'election', 'truly', 'oriental', 'gop', 'sluts', 'upset', 'listening', '🚮', 'cuts', 'reply', 'paul', 'tellin', 'yep', 'bored', 'funky', 'plan', '👑', 'nicki', 'foot', 'sexual', 'beats', 'generation', 'album', 'shame', 'staring', 'regardless', 'protect', 'er', 'secret', 'shorts', \"man's\", 'advice', 'sir', '😻', '16', 'snow', 'laid', 'kissing', 'insecure', '#tbt', 'lightskin', 'curve', 'focus', 'captain', 'ca', 'current', 'wana', '👈', 'senior', 'catching', 'tricks', 'filled', 'eats', 'broken', 'tattoos', 'twerking', 'fox', 'snitch', 'quiet', 'giants', 'pathetic', 'raise', 'hip', 'visit', 'relationships', 'gf', 'toes', 'lovin', 'crash', 'vibe', 'flag', 'spit', 'wears', 'pack', 'fashion', 'wanting', 'four', 'scale', '14', 'corn', 'poppin', 'base', '35', 'league', 'socks', 'pressed', 'honkey', 'goal', 'mickey', 'sub', '😆', 'luv', 'join', 'assholes', 'magic', 'totally', 'crowd', 'radio', 'pockets', 'justin', 'nap', '#iu', 'appreciate', 'muzzie', 'selfie', 'breath', 'flu', 'impress', 'disgusting', 'des', 'kidding', 'housewife', 'das', 'treated', 'killer', 'tag', 'sons', 'lock', 'kept', 'plus', 'disrespectful', 'land', 'kardashian', 'laws', 'stopped', 'trailer', 'conversation', 'ordered', 'flight', 'thots', 'yelling', 'island', 'nick', '→', '🐱', 'glass', 'ova', 'court', 'jeans', 'hearing', 'goodnight', 'camera', \"USERNAME_MENTION's\", 'fair', '#faggots', 'area', '🏀', 'mi', 'ike', 'bs', 'twinkies', 'eatin', 'bang', 'salad', 'hilarious', 'stone', 'hurry', 'gtfo', 'salty', 'dump', '🎧', 'international', 'wash', 'accident', '😠', 'defense', 'blast', 'flying', 'shits', 'knees', 'soooo', 'update', 'ny', 'realest', 'sale', 'governor', 'larry']\n"
          ],
          "name": "stdout"
        }
      ]
    },
    {
      "cell_type": "code",
      "metadata": {
        "id": "qaMCfnSWHoGj",
        "colab_type": "code",
        "colab": {
          "base_uri": "https://localhost:8080/",
          "height": 54
        },
        "outputId": "331370d4-1e32-4dde-a7e5-a2d415073b57"
      },
      "source": [
        "feature_sets = [(word_features(tweet, common_words), cat) for (cat, tweet) in docs]\n",
        "print(feature_sets[0])"
      ],
      "execution_count": 47,
      "outputs": [
        {
          "output_type": "stream",
          "text": [
            "({'V_USERNAME_MENTION': False, 'V_bitch': True, 'V_\"': False, 'V_!': False, 'V_bitches': False, 'V_URL_LINK': False, 'V_😂': False, 'V_like': False, 'V_?': False, 'V_hoes': False, 'V_pussy': False, 'V_...': False, 'V_hoe': False, 'V_“': False, 'V_”': False, \"V_i'm\": False, 'V_ass': True, 'V_get': False, 'V_fuck': False, 'V_u': False, 'V_got': False, 'V_shit': False, 'V_…': False, 'V_nigga': False, 'V_trash': False, 'V_lol': False, 'V_..': True, 'V_&': False, \"V_ain't\": False, 'V_know': False, 'V_niggas': False, 'V_one': False, 'V_love': False, 'V_go': False, 'V_fucking': False, 'V_RETWEET_SOURCE': False, 'V_yo': False, \"V_'\": False, 'V_want': False, 'V_bad': False, \"V_can't\": False, 'V_😭': False, 'V_good': False, 'V_man': False, 'V_say': False, \"V_that's\": False, 'V_look': False, 'V_still': False, 'V_make': False, 'V_ya': False, 'V_hate': False, 'V_see': False, 'V_im': False, 'V_*': False, 'V_back': False, 'V_think': False, 'V_need': True, 'V_never': False, 'V_time': False, 'V_really': True, 'V_faggot': False, 'V_girl': False, 'V_people': False, \"V_y'all\": False, 'V_real': False, 'V_right': False, 'V_even': False, 'V_lmao': False, 'V_said': False, 'V_white': False, 'V_would': False, 'V_bird': False, 'V_😩': False, 'V_let': False, 'V_wit': False, 'V_dick': False, 'V_wanna': False, 'V_day': False, 'V_/': False, 'V_bout': False, 'V_stop': False, 'V_damn': False, 'V_little': True, 'V_tell': False, 'V_call': False, 'V_talk': False, 'V_gotta': False, 'V_come': False, 'V_da': False, 'V_cause': False, 'V_dont': False, 'V_life': False, 'V_take': False, 'V_new': False, 'V_gonna': False, 'V_dat': False, 'V_every': False, 'V_charlie': False, 'V_always': False, 'V_n': False, 'V_’': False, 'V_money': False, 'V_niggah': False, 'V_better': False, 'V_going': False, 'V_girls': False, 'V_lil': False, 'V_️': False, 'V_eat': False, 'V_2': False, 'V_ever': False, 'V_ghetto': False, 'V_give': False, 'V_dumb': False, 'V_fuckin': False, 'V_retarded': False, 'V_aint': False, 'V_yellow': False, 'V_twitter': False, 'V_talking': False, 'V_ugly': False, 'V_😒': False, 'V_cunt': False, 'V_tho': False, 'V_put': False, 'V_ur': False, 'V_big': False, 'V_getting': False, \"V_i'll\": False, 'V_stupid': False, 'V_nigger': False, 'V_💯': False, 'V_yall': False, 'V_)': False, 'V_>': False, 'V_keep': False, 'V_yeah': False, 'V_hit': False, 'V_much': False, 'V_fat': False, 'V_way': False, 'V_black': False, 'V_birds': False, 'V_fag': False, 'V_feel': False, 'V_today': False, 'V_game': False, 'V_old': False, 'V_mad': False, 'V_well': False, 'V_smh': False, 'V_oh': False, 'V_made': False, 'V_around': False, 'V_em': False, 'V_cuz': False, 'V_ho': False, 'V_boy': False, 'V_could': False, 'V_last': False, 'V_gone': False, 'V_best': False, 'V_(': False, 'V_someone': False, 'V_play': False, 'V_side': False, 'V_something': False, 'V_called': False, 'V_happy': False, 'V_tryna': False, 'V_us': False, \"V_he's\": False, 'V_first': False, 'V_face': False, 'V_next': False, 'V_many': False, 'V_3': False, 'V_shut': False, 'V_fucked': False, 'V_another': False, 'V_mean': False, 'V_work': False, 'V_thing': False, 'V_night': False, 'V_1': False, 'V_nicca': False, 'V_school': False, 'V_monkey': False, 'V_colored': False, 'V_crazy': False, 'V_😍': False, 'V_@': False, 'V_two': False, 'V_baby': False, 'V_💀': False, 'V_head': False, 'V_god': False, 'V_name': False, 'V_w': False, 'V_women': False, 'V_haha': False, 'V_nothing': False, 'V_b': False, 'V_told': False, 'V_find': False, 'V_looking': False, 'V_hell': False, 'V_try': False, 'V_gon': False, 'V_★': False, 'V_broke': False, 'V_start': False, 'V_bruh': False, 'V_thats': False, 'V_show': True, 'V_friends': False, 'V_beat': False, 'V_seen': False, 'V_high': False, 'V_bro': False, 'V_yankees': False, 'V_year': False, 'V_gay': False, 'V_stay': False, 'V_loyal': False, 'V_swear': False, 'V_tonight': False, 'V_house': False, 'V_trying': False, 'V_watch': False, 'V_nah': False, 'V_ima': False, 'V_done': False, 'V_dude': False, 'V_guys': False, 'V_phone': False, 'V_tweet': False, 'V_kill': False, 'V_thought': False, 'V_use': False, 'V_home': False, 'V_cute': False, 'V_|': False, 'V_ask': False, 'V_hard': False, 'V_wrong': False, \"V_i've\": False, 'V_please': False, 'V_already': False, 'V_sex': False, 'V_trust': False, 'V_😴': False, 'V_pretty': False, 'V_funny': False, 'V_wish': False, 'V_act': False, 'V_👏': False, 'V_might': False, 'V_$': False, 'V_fight': False, 'V_turn': False, 'V_everybody': False, 'V_niccas': False, 'V_makes': False, 'V_guy': False, 'V_yes': False, 'V_😏': False, 'V_hot': False, 'V_long': False, 'V_nig': False, 'V_free': False, 'V_care': False, 'V_wtf': False, 'V_mom': False, 'V_lot': False, 'V_straight': False, 'V_hair': False, 'V_sorry': False, 'V_✌': False, 'V_days': False, 'V_kids': False, 'V_buy': False, 'V_making': False, 'V_dis': False, 'V_4': False, 'V_hope': False, 'V_5': False, 'V_bring': False, 'V_nobody': False, 'V_saying': False, 'V_👌': False, 'V_tf': False, 'V_sure': False, 'V_looks': False, 'V_world': False, 'V_went': False, 'V_fake': False, 'V_wait': False, 'V_though': False, 'V_red': False, 'V_live': False, 'V_car': False, 'V_cut': True, 'V_gets': False, 'V_anything': False, 'V_retard': False, \"V_i'd\": False, 'V_hey': False, 'V_since': False, 'V_💁': False, 'V_text': False, 'V_song': False, 'V_suck': False, 'V_young': False, 'V_stfu': False, 'V_woman': False, 'V_away': False, 'V_ok': False, 'V_eating': False, 'V_✋': False, 'V_jus': False, 'V_remember': False, 'V_faggots': False, 'V_pussies': False, 'V_cool': False, 'V_bet': False, 'V_guess': False, 'V_son': False, 'V_cant': False, 'V_#yankees': False, 'V_full': False, 'V_lmfao': False, 'V_says': False, 'V_🙌': False, 'V_throw': False, 'V_nigguh': False, \"V_they're\": False, 'V_playing': False, 'V_job': False, 'V_dem': False, 'V_👀': False, 'V_sleep': False, 'V_probably': False, 'V_everything': False, 'V_everyone': False, 'V_whole': False, 'V_nice': False, 'V_great': False, 'V_thanks': False, 'V_leave': False, 'V_weed': False, 'V_type': False, 'V_😎': False, 'V_single': False, 'V_brownies': False, 'V_calling': False, 'V_ion': False, 'V_basic': False, 'V_die': False, 'V_r': False, 'V_follow': False, 'V_niggers': False, 'V_top': False, 'V_left': False, 'V_yea': False, 'V_word': False, \"V_what's\": False, 'V_took': False, 'V_pull': False, \"V_there's\": False, 'V_bc': False, 'V_wear': False, 'V_years': False, 'V_men': False, 'V_10': False, 'V_af': False, 'V_mouth': False, 'V_females': False, 'V_team': False, 'V_run': False, 'V_yet': False, 'V_party': False, 'V_queer': False, 'V_maybe': False, 'V_tweets': False, 'V_music': False, 'V_%': False, 'V_things': False, 'V_redneck': False, 'V_birthday': False, 'V_<': False, 'V_used': False, 'V_😳': False, 'V_omg': False, 'V_either': False, 'V_dog': False, 'V_watching': False, 'V_needs': False, 'V_half': False, 'V_dead': False, 'V_pay': False, 'V_wanted': False, 'V_wants': False, 'V_wife': False, 'V_bae': False, 'V_mind': False, 'V_without': False, 'V_outta': False, 'V_okay': False, 'V_miss': False, 'V_believe': False, 'V_😘': False, 'V_food': False, 'V_must': False, 'V_pic': False, 'V_mock': False, 'V_lost': False, 'V_dyke': False, 'V_fun': False, 'V_person': False, 'V_actually': False, 'V_line': False, 'V_else': False, 'V_boys': False, 'V_friend': False, 'V_win': False, 'V_main': False, 'V_wow': False, 'V_via': False, 'V_stand': False, 'V_saw': False, 'V_thank': False, 'V_video': False, 'V_nasty': False, 'V_morning': False, 'V_class': False, 'V_point': False, 'V_idk': False, 'V_club': False, 'V_smoke': False, 'V_coming': False, 'V_gave': False, 'V_booty': False, 'V_sick': False, 'V_👊': False, 'V_ready': False, 'V_came': False, 'V_tried': False, 'V_change': False, 'V_somebody': False, 'V_week': False, 'V_sit': False, 'V_reason': False, 'V_catch': False, 'V_fags': False, 'V_chill': False, 'V_acting': False, 'V_;': False, 'V_goes': False, 'V_ex': False, 'V_female': False, 'V_place': False, 'V_body': False, 'V_also': False, 'V_rather': False, 'V_talkin': False, 'V_true': False, 'V_dirty': False, 'V_favorite': False, 'V_gettin': False, 'V_eyes': False, 'V_wearing': False, 'V_break': False, 'V_hear': False, 'V_crackers': False, 'V_6': False, 'V_naw': False, 'V_girlfriend': False, 'V_pregnant': False, 'V_racist': False, 'V_problem': False, 'V_couple': False, 'V_drunk': False, 'V_fans': False, 'V_😜': False, 'V_brown': False, 'V_lookin': False, 'V_tired': False, 'V_move': False, 'V_walk': False, 'V_ill': False, 'V_hurt': False, 'V_comes': False, \"V_let's\": False, 'V_respect': False, 'V_light': False, 'V_jihadi': False, 'V_heard': False, 'V_+': False, 'V_cold': False, 'V_😈': False, 'V_lie': False, 'V_none': False, 'V_end': False, 'V_outside': False, 'V_together': False, 'V_taking': False, 'V_send': False, 'V_early': False, 'V_heart': False, 'V_listen': False, 'V_yankee': False, 'V_finna': False, 'V_oreo': False, 'V_ha': False, 'V_chick': False, 'V_pass': False, 'V_nd': False, 'V_enough': False, 'V_fine': False, 'V_flappy': False, 'V_number': False, 'V_wonder': False, 'V_ppl': False, 'V_\\U000fe334': False, 'V_sound': False, 'V_cry': False, 'V_least': False, 'V_cracker': False, 'V_boyfriend': False, 'V_imma': False, 'V_lame': False, 'V_🔫': False, 'V_water': False, 'V_pick': False, 'V_games': False, 'V_bed': False, 'V_dad': False, 'V_pop': False, 'V_thinking': False, 'V_cheat': False, 'V_rich': False, 'V_wet': False, 'V_found': False, 'V_sometimes': False, 'V_=': False, 'V_open': False, 'V_anyone': False, 'V_front': False, 'V_ah': False, 'V_literally': False, 'V_💦': False, 'V_sexy': False, 'V_niggaz': False, 'V_drop': False, 'V_sad': False, 'V_ratchet': False, 'V_shoot': False, 'V_mine': False, 'V_date': False, 'V_instagram': False, 'V_pics': False, 'V_giving': False, 'V_relationship': False, 'V_meet': False, 'V_smell': False, 'V_yu': False, 'V_check': False, 'V_means': False, 'V_😌': False, 'V_fact': False, 'V_lose': False, 'V_coon': False, 'V_almost': False, 'V_oreos': False, 'V_#': False, 'V_may': False, 'V_serious': False, 'V_times': False, 'V_city': False, 'V_voice': False, 'V_ago': False, 'V_🙅': False, 'V_understand': False, 'V_season': False, 'V_quit': False, 'V_8': False, 'V_help': False, 'V_hand': False, 'V_low': False, 'V_attention': False, 'V_killed': False, 'V_read': False, 'V_thot': False, 'V_hella': False, 'V_room': False, 'V_picture': False, 'V_thirsty': False, 'V_tomorrow': False, 'V_kid': False, 'V_weak': False, 'V_drive': False, 'V_😡': False, 'V_kno': False, 'V_:)': False, 'V_annoying': False, 'V_different': False, 'V_ride': False, 'V_till': False, 'V_👐': False, 'V_quick': False, 'V_dudes': False, 'V_crying': False, 'V_self': False, 'V_instead': False, 'V_unless': False, 'V_weekend': False, 'V_#iphone': False, 'V_#xxx': False, 'V_likes': False, 'V_lady': False, 'V_slap': False, 'V_😑': False, 'V_bye': False, 'V_feelings': False, 'V_ate': False, 'V_obama': False, 'V_family': False, 'V_hood': False, 'V_started': False, 'V_sum': False, 'V_uncle': False, \"V_who's\": False, 'V_tranny': False, 'V_mother': False, 'V_bunch': False, 'V_bag': False, 'V_business': False, 'V_#porn': False, 'V_#android': False, 'V_#ipad': False, 'V_#sex': False, 'V_dress': False, 'V_drink': False, 'V_0': False, 'V_hahaha': False, 'V_nudes': False, 'V_words': False, 'V_telling': False, 'V_knows': False, 'V_state': False, 'V_100': False, 'V_asked': False, 'V_alone': False, 'V_ones': False, 'V_sole': False, 'V_hold': False, 'V_asian': False, 'V_forget': False, 'V_nothin': False, 'V_wake': False, 'V_beautiful': False, 'V_ball': False, 'V_lying': False, 'V_post': False, 'V_shot': False, 'V_20': False, 'V_soon': False, 'V_slut': False, 'V_http': False, 'V_everyday': False, 'V_twat': False, 'V_lmaoo': False, 'V_skinny': False, 'V_cat': False, 'V_perfect': False, 'V_whatever': False, 'V_running': False, 'V_later': False, 'V_matter': False, 'V_movie': False, 'V_negro': False, 'V_set': False, 'V_anymore': False, 'V_worried': False, 'V_pictures': False, 'V_using': False, 'V_kinda': False, 'V_ice': False, 'V_far': False, 'V_round': False, 'V_america': False, 'V_taste': False, 'V_working': False, 'V_knew': False, 'V_#tcot': False, 'V_social': False, 'V_cunts': False, 'V_k': False, 'V_dawg': False, 'V_chicken': False, 'V_weird': False, 'V_grow': False, 'V_sweet': False, 'V_prolly': False, 'V_met': False, 'V_brownie': False, 'V_public': False, 'V_bullshit': False, 'V_cream': False, 'V_street': False, 'V_hands': False, 'V_huh': False, 'V_past': False, 'V_door': False, 'V_glad': False, 'V_😕': False, 'V_momma': False, 'V_😁': False, 'V_deep': False, 'V_save': False, 'V_behind': False, 'V_kind': False, 'V_blue': False, 'V_clothes': False, 'V_30': False, 'V_slope': False, 'V_story': False, 'V_laugh': False, 'V_walking': False, 'V_sell': False, 'V_fan': False, 'V_realize': False, 'V_hungry': False, 'V_ladies': False, 'V_thru': False, 'V_rap': False, 'V_jihadis': False, 'V_treat': False, 'V_tl': False, 'V_tom': False, 'V_😤': False, 'V_la': False, 'V_🙈': False, 'V_ig': False, 'V_lmaooo': False, 'V_redskins': False, 'V_waiting': False, 'V_skin': False, 'V_truth': False, 'V_dey': False, 'V_thinks': False, 'V_country': False, 'V_aye': False, 'V_mama': False, 'V_ol': False, 'V_g': False, 'V_crist': False, 'V_👋': False, 'V_fly': False, 'V_whore': False, 'V_goin': False, 'V_biggest': False, 'V_hating': False, 'V_😔': False, 'V_followers': False, 'V_fall': False, 'V_proud': False, 'V_c': False, 'V_mf': False, 'V_id': False, 'V_worth': False, 'V_fucc': False, 'V_kick': False, 'V_clean': False, 'V_race': False, 'V_lets': False, 'V_attitude': False, 'V_texting': False, 'V_sounds': False, 'V_fire': False, 'V_media': False, 'V_thick': False, 'V_chicks': False, 'V_speak': False, 'V_tweeting': False, 'V_rick': False, 'V_fam': False, 'V_green': False, 'V_rest': False, 'V_jesus': False, 'V_niggahs': False, 'V_part': False, 'V_friday': False, 'V_shirt': False, 'V_brother': False, 'V_stick': False, 'V_loves': False, 'V_retards': False, 'V_2014': False, 'V_worst': False, 'V_karma': False, 'V_seriously': False, 'V_halloween': False, 'V_poor': False, 'V_sayin': False, 'V_😷': False, 'V_taken': False, 'V_seeing': False, 'V_lucky': False, 'V_easy': False, 'V_1st': False, 'V_seem': False, 'V_youre': False, 'V_folk': False, 'V_stuck': False, 'V_playin': False, 'V_jail': False, 'V_tha': False, 'V_jeter': False, 'V_scared': False, 'V_problems': False, 'V_calls': False, 'V_baddest': False, 'V_asking': False, 'V_💃': False, 'V_middle': False, 'V_late': False, 'V_beer': False, 'V_support': False, 'V_summer': False, 'V_sucking': False, 'V_strong': False, 'V_become': False, 'V_doe': False, 'V_❤': False, 'V_anyway': False, 'V_fast': False, 'V_neck': False, 'V_less': False, 'V_fuzzy': False, 'V_lick': False, 'V_park': False, 'V_joe': False, 'V_block': False, 'V_boss': False, 'V_learn': False, 'V_close': False, 'V_daddy': False, 'V_drake': False, 'V_slow': False, 'V_cheese': False, 'V_forever': False, 'V_:/': False, 'V_played': False, 'V_control': False, 'V_hillbilly': False, 'V_forgot': False, 'V_shoes': False, 'V_roll': False, 'V_avi': False, 'V_dope': False, 'V_town': False, 'V_balls': False, 'V_soul': False, 'V_🔥': False, 'V_blunt': False, 'V_sheen': False, 'V_smack': False, 'V_sister': False, 'V_den': False, 'V_living': False, 'V_super': False, 'V_special': False, 'V_scary': False, 'V_claim': False, 'V_second': False, 'V_chris': False, 'V_grade': False, 'V_piece': False, 'V_👉': False, 'V_naked': False, 'V_rock': False, 'V_24': False, \"V_we're\": False, 'V_caught': False, 'V_kiss': False, 'V_swag': False, 'V_fucks': False, 'V_😐': False, 'V_laughing': False, 'V_trippin': False, 'V_turned': False, 'V_american': False, 'V_died': False, 'V_😋': False, 'V_wack': False, 'V_cheating': False, 'V_finger': False, 'V_actin': False, 'V_boring': False, 'V_wat': False, 'V_tv': False, 'V_mess': False, 'V_😊': False, 'V_photo': False, 'V_finally': False, 'V_takes': False, 'V_nope': False, 'V_vs': False, 'V_feet': False, 'V_hang': False, 'V_f': False, 'V_chug': False, 'V_feeling': False, 'V_cock': False, 'V_death': False, 'V_ugh': False, 'V_blow': False, 'V_basically': False, 'V_lips': False, 'V_hop': False, 'V_handle': False, 'V_ran': False, 'V_hi': False, 'V_short': False, 'V_teeth': False, 'V_7': False, 'V_homie': False, 'V_answer': False, 'V_deserve': False, 'V_facebook': False, 'V_looked': False, 'V_—': False, 'V_weather': False, 'V_shy': False, 'V_level': False, 'V_million': False, 'V_joke': False, 'V_tight': False, 'V_small': False, 'V_sucks': False, 'V_double': False, 'V_fo': False, 'V_chocolate': False, 'V_idgaf': False, 'V_drugs': False, 'V_p': False, 'V_whitey': False, 'V_nips': False, 'V_bit': False, 'V_course': False, 'V_gun': False, 'V_kim': False, 'V_excuse': False, 'V_honestly': False, 'V_50': False, 'V_uh': False, 'V_smoking': False, 'V_cares': False, 'V_president': False, 'V_butt': False, 'V_punk': False, 'V_crib': False, 'V_🙏': False, 'V_didnt': False, 'V_texas': False, 'V_cops': False, 'V_deal': False, 'V_future': False, 'V_fa': False, 'V_12': False, 'V_15': False, 'V_steal': False, 'V_doin': False, 'V_mane': False, 'V_weeks': False, 'V_9': False, 'V_😫': False, 'V_»': False, 'V_throwing': False, 'V_threw': False, 'V_dry': False, 'V_mexican': False, 'V_slit': False, 'V_e': False, 'V_cus': False, 'V_minute': False, 'V_expect': False, 'V_months': False, 'V_massage': False, 'V_parents': False, 'V_teabaggers': False, 'V_especially': False, 'V_news': False, 'V_bought': False, 'V_supposed': False, 'V_woke': False, 'V_blame': False, 'V_extra': False, 'V_argue': False, 'V_pink': False, 'V_🙊': False, 'V_hairy': False, 'V_songs': False, 'V_yesterday': False, 'V_porn': False, 'V_fell': False, 'V_star': False, 'V_j': False, 'V_lonely': False, 'V_eye': False, 'V_dare': False, 'V_trap': False, 'V_angry': False, 'V_fool': False, 'V_welcome': False, 'V_complain': False, 'V_til': False, 'V_coons': False, 'V_«': False, 'V_dream': False, 'V_idc': False, 'V_throat': False, 'V_wild': False, 'V_blah': False, 'V_blood': False, 'V_lmaoooo': False, 'V_gold': False, 'V_childish': False, 'V_loud': False, 'V_child': False, 'V_shitty': False, 'V_‘': False, 'V_teacher': False, 'V_power': False, 'V_lebron': False, 'V_☕': False, 'V_paid': False, 'V_apes': False, 'V_huge': False, 'V_sense': False, 'V_bitter': False, 'V_worry': False, 'V_bomb': False, 'V_lives': False, 'V_ebola': False, 'V_gym': False, 'V_month': False, 'V_brought': False, 'V_👅': False, 'V_confused': False, 'V_cuh': False, 'V_h': False, 'V_iphone': False, 'V_legs': False, 'V_teabagger': False, 'V_definitely': False, 'V_mo': False, 'V_paper': False, 'V_test': False, 'V_mr': False, 'V_dm': False, 'V_holy': False, 'V_bf': False, 'V_bros': False, 'V_rednecks': False, 'V_derek': False, 'V_bigger': False, 'V_random': False, 'V_🐸': False, 'V_warm': False, 'V_happen': False, 'V_internet': False, 'V_flip': False, 'V_box': False, 'V_clam': False, 'V_ape': False, 'V_selling': False, 'V_dark': False, 'V_apparently': False, 'V_inside': False, 'V_grown': False, 'V_football': False, 'V_al': False, 'V_worse': False, 'V_count': False, 'V_moment': False, 'V_babe': False, 'V_john': False, 'V_thug': False, 'V_nigs': False, 'V__': False, 'V_dropped': False, 'V_💰': False, 'V_three': False, 'V_asshole': False, 'V_seat': False, 'V_smile': False, 'V_except': False, 'V_mans': False, 'V_sox': False, 'V_thang': False, 'V_across': False, 'V_tits': False, 'V_wont': False, 'V_wifey': False, 'V_happens': False, 'V_knowing': False, 'V_soles': False, 'V_wassup': False, 'V_beef': False, 'V_sports': False, 'V_titties': False, 'V_step': False, 'V_clearly': False, 'V_stank': False, 'V_player': False, 'V_jump': False, 'V_jealous': False, 'V_suppose': False, 'V_gucci': False, 'V_dinner': False, 'V_l': False, 'V_fw': False, 'V_blocked': False, 'V_tbh': False, 'V_anyways': False, 'V_group': False, 'V_touch': False, 'V_smart': False, 'V_king': False, 'V_stuff': False, 'V_dance': False, 'V_enjoy': False, 'V_jk': False, 'V_push': False, 'V_account': False, 'V_cook': False, 'V_punch': False, 'V_police': False, 'V_alex': False, 'V_lunch': False, 'V_hitting': False, 'V_driving': False, 'V_😉': False, 'V_tongue': False, 'V_shout': False, 'V_near': False, 'V_ignorant': False, 'V_💕': False, 'V_somethin': False, 'V_famous': False, 'V_hits': False, 'V_monday': False, 'V_spend': False, 'V_neva': False, 'V_planet': False, 'V_heat': False, 'V_dykes': False, 'V_vote': False, 'V_bill': False, 'V_👯': False, 'V_hours': False, 'V_trip': False, 'V_scott': False, 'V_married': False, 'V_write': False, 'V_trynna': False, 'V_fresh': False, 'V_field': False, 'V_dnt': False, 'V_college': False, 'V_jig': False, 'V_gas': False, 'V_fuk': False, 'V_retweet': False, 'V_nose': False, 'V_dese': False, 'V_aka': False, 'V_soft': False, 'V_minutes': False, 'V_chase': False, 'V_stadium': False, 'V_exactly': False, 'V_slide': False, 'V_rice': False, 'V_peace': False, 'V_garbage': False, 'V_nuts': False, 'V_regular': False, 'V_unfollow': False, 'V_dats': False, 'V_😝': False, 'V_flat': False, 'V_fairy': False, 'V_dam': False, 'V_color': False, 'V_cars': False, 'V_kanye': False, 'V_animal': False, 'V_nip': False, 'V_dying': False, 'V_hat': False, 'V_cripple': False, 'V_–': False, 'V_singing': False, 'V_folks': False, 'V_names': False, 'V_baker': False, 'V_human': False, 'V_drinking': False, 'V_cookies': False, 'V_offended': False, 'V_idea': False, 'V____': False, 'V_hide': False, 'V_boo': False, 'V_#hoosiers': False, 'V_alright': False, 'V_💏': False, 'V_crow': False, 'V_👍': False, 'V_grandma': False, 'V_starting': False, 'V_sitting': False, 'V_putting': False, 'V_lay': False, 'V_bus': False, 'V_window': False, 'V_lowkey': False, 'V_bar': False, 'V_✈': False, 'V_liberal': False, 'V_everywhere': False, 'V_hes': False, 'V_cats': False, 'V_cop': False, 'V_chance': False, 'V_walked': False, 'V_abo': False, 'V_losing': False, 'V_james': False, 'V_moms': False, 'V_dogs': False, 'V_period': False, 'V_feed': False, 'V_order': False, 'V_entire': False, 'V_ring': False, 'V_bone': False, 'V_isis': False, 'V_panties': False, 'V_de': False, 'V_eyebrows': False, 'V_mocks': False, 'V_foh': False, 'V_quote': False, 'V_#morningjoe': False, 'V_cash': False, 'V_hahahaha': False, 'V_offensive': False, 'V_safe': False, 'V_yanks': False, 'V_40': False, 'V_saturday': False, 'V_chunky': False, 'V_air': False, 'V_‼': False, 'V_dollars': False, 'V_yung': False, 'V_ignore': False, 'V_pants': False, 'V_💥': False, 'V_whipped': False, 'V_piss': False, 'V_fried': False, 'V_faithful': False, 'V_florida': False, 'V_longer': False, 'V_letting': False, 'V_named': False, 'V_rn': False, 'V_known': False, 'V_knock': False, 'V_thinkin': False, 'V_callin': False, 'V_somewhere': False, 'V_etc': False, 'V_worm': False, 'V_rose': False, 'V_attractive': False, 'V_rated': False, 'V_riding': False, 'V_duck': False, 'V_shake': False, 'V_tea': False, 'V_lies': False, 'V_freak': False, 'V_beaner': False, 'V_pizza': False, 'V_18': False, 'V_age': False, 'V_bust': False, 'V_chillin': False, 'V_law': False, 'V_:(': False, 'V_drug': False, 'V_👎': False, 'V_queen': False, 'V_choke': False, 'V_bear': False, 'V_fighting': False, 'V_#isis': False, 'V_juice': False, 'V_rude': False, 'V_heads': False, 'V_born': False, 'V_👭': False, 'V_albino': False, 'V_oomf': False, 'V_simple': False, 'V_babies': False, 'V_cheated': False, 'V_kobe': False, 'V_earth': False, 'V_facts': False, 'V_tree': False, 'V_daughter': False, 'V_floor': False, 'V_south': False, 'V_bread': False, 'V_happened': False, 'V_add': False, 'V_messy': False, 'V_math': False, 'V_following': False, 'V_pissed': False, 'V_alive': False, 'V_pet': False, 'V_movies': False, 'V_99': False, 'V_21': False, 'V_winter': False, 'V_christmas': False, 'V_ctfu': False, 'V_twice': False, 'V_east': False, 'V_weave': False, 'V_missed': False, 'V_difference': False, 'V_candy': False, 'V_sloppy': False, 'V_turning': False, 'V_speaking': False, 'V_tip': False, 'V_anybody': False, 'V_silly': False, 'V_cum': False, 'V_bday': False, 'V_#bitch': False, 'V_gang': False, 'V_apple': False, 'V_nfl': False, 'V_🎶': False, 'V_model': False, 'V_zebra': False, 'V_complete': False, 'V_coffee': False, 'V_weight': False, 'V_cake': False, 'V_term': False, 'V_hour': False, 'V_rape': False, 'V_st': False, 'V_👫': False, 'V_store': False, \"V_i'ma\": False, 'V_cousin': False, 'V_baseball': False, 'V_\\ue412': False, 'V_breakfast': False, 'V_tht': False, 'V_irrelevant': False, 'V_wigga': False, 'V_fck': False, 'V_bottle': False, 'V_comin': False, 'V_often': False, 'V_✊': False, 'V_❗': False, 'V_headed': False, 'V_nerve': False, 'V_nut': False, 'V_asks': False, 'V_question': False, 'V_players': False, 'V_spic': False, 'V_card': False, 'V_york': False, 'V_wiz': False, 'V_spa': False, 'V_718-622-0221': False, 'V_#mlb': False, 'V_killing': False, 'V_dumbass': False, 'V_watched': False, 'V_average': False, 'V_ina': False, 'V_war': False, 'V_rihanna': False, 'V_fear': False, 'V_ole': False, 'V_plays': False, 'V_brain': False, 'V_💋': False, 'V_excited': False, 'V_keeps': False, 'V_13': False, 'V_delete': False, 'V_draft': False, 'V_message': False, 'V_lord': False, 'V_turns': False, 'V_hatin': False, 'V_#teabaggers': False, 'V_admit': False, 'V_11': False, 'V_lemme': False, 'V_havin': False, 'V_~': False, 'V_💨': False, 'V_sooo': False, 'V_bobby': False, 'V_mall': False, 'V_sent': False, 'V_trick': False, 'V_bein': False, 'V_mins': False, 'V_surprised': False, 'V_milk': False, 'V_#teabagger': False, 'V_friendly': False, 'V_spot': False, 'V_zero': False, 'V_tells': False, 'V_http://…': False, 'V_usually': False, 'V_crack': False, 'V_winning': False, 'V_tony': False, 'V_rip': False, 'V_hos': False, 'V_fish': False, 'V_hello': False, 'V_beanies': False, 'V_ray': False, 'V_allowed': False, 'V_afraid': False, 'V_\\U000feb9f': False, 'V_wen': False, 'V_inch': False, 'V_purpose': False, 'V_talked': False, 'V_sauce': False, 'V_showed': False, 'V_gives': False, 'V_iont': False, 'V_charge': False, 'V_sunday': False, 'V_puts': False, 'V_record': False, 'V_nation': False, 'V_fuc': False, 'V_band': False, 'V_tweeted': False, 'V_murder': False, 'V_slept': False, 'V_boobs': False, 'V_(:': False, 'V_tryin': False, 'V_children': False, 'V_austin': False, 'V_😅': False, 'V_typical': False, 'V_\\U000feb7b': False, 'V_arguing': False, 'V_michael': False, 'V_sam': False, 'V_score': False, 'V_natural': False, 'V_pimp': False, 'V_25': False, 'V_pig': False, 'V_shawty': False, 'V_seconds': False, 'V_built': False, 'V_😪': False, 'V_corny': False, 'V_amazing': False, 'V_taught': False, 'V_nun': False, 'V_dating': False, 'V_sign': False, 'V_talks': False, 'V_screen': False, 'V_doesnt': False, 'V_rain': False, 'V_dreams': False, 'V_luck': False, 'V_sold': False, 'V_yah': False, 'V_stage': False, 'V_wayne': False, 'V_freshman': False, 'V_meant': False, 'V_opinion': False, 'V_grab': False, 'V_jokes': False, 'V_feels': False, 'V_daily': False, 'V_potato': False, 'V_total': False, 'V_;)': False, 'V_fr': False, 'V_shows': False, 'V_george': False, 'V_loose': False, 'V_lmfaoo': False, 'V_reading': False, 'V_wop': False, 'V_bars': False, 'V_agree': False, 'V_felt': False, 'V_office': False, 'V_shoulda': False, 'V_def': False, 'V_french': False, 'V_train': False, 'V_constantly': False, 'V_hick': False, 'V_💸': False, 'V_jack': False, 'V_lmfaooo': False, 'V_needa': False, 'V_page': False, 'V_awesome': False, 'V_dms': False, 'V_90': False, 'V_molly': False, 'V_raised': False, 'V_✂': False, 'V_na': False, 'V_twerk': False, 'V_snap': False, 'V_shots': False, 'V_🔪': False, 'V_makeup': False, 'V_dear': False, 'V_spell': False, 'V_followed': False, 'V_aw': False, 'V_playoffs': False, 'V_breaking': False, 'V_gook': False, 'V_leg': False, 'V_neither': False, 'V_mentions': False, 'V_buying': False, 'V_share': False, 'V_dollar': False, 'V_key': False, 'V_moving': False, 'V_sing': False, 'V_coach': False, 'V_😱': False, 'V_miley': False, 'V_feather': False, 'V_alot': False, 'V_soccer': False, 'V_republican': False, 'V_streets': False, 'V_army': False, 'V_brothers': False, 'V_list': False, 'V_shower': False, 'V_tall': False, 'V_blind': False, 'V_lights': False, 'V_foreign': False, 'V_track': False, 'V_credit': False, 'V_leaving': False, 'V_saving': False, 'V_dressed': False, 'V_missing': False, 'V_mike': False, 'V_timeline': False, 'V_💅': False, 'V_border': False, 'V_posting': False, 'V_comment': False, \"V_it'll\": False, 'V_pure': False, 'V_lit': False, 'V_pops': False, 'V_muslim': False, 'V_tough': False, 'V_accept': False, 'V_absolutely': False, 'V_beating': False, 'V_ten': False, 'V_basketball': False, 'V_locked': False, 'V_hanging': False, 'V_. .': False, 'V_tyga': False, 'V_bald': False, 'V_pot': False, 'V_lead': False, 'V_vagina': False, 'V_teams': False, 'V_lazy': False, 'V_road': False, 'V_woof': False, 'V_yr': False, 'V_seems': False, 'V_slant': False, 'V_action': False, 'V_size': False, 'V_screaming': False, 'V_mixtape': False, 'V_jay': False, 'V_standing': False, 'V_rappers': False, 'V_hates': False, 'V_spanish': False, 'V_scally': False, 'V_local': False, 'V_teach': False, 'V_major': False, 'V_complaining': False, 'V_case': False, 'V_attack': False, 'V_clown': False, \"V_she'll\": False, 'V_asses': False, 'V_political': False, 'V_raw': False, 'V_bio': False, 'V_😛': False, 'V_smfh': False, \"V_would've\": False, 'V_dirt': False, 'V_questions': False, 'V_buddy': False, 'V_sleeping': False, 'V_personality': False, 'V_doubt': False, 'V_easily': False, 'V_posted': False, 'V_penis': False, 'V_😖': False, 'V_marriage': False, 'V_17': False, 'V_chinese': False, 'V_goals': False, 'V_judge': False, 'V_jersey': False, 'V_stole': False, 'V_book': False, 'V_lately': False, 'V_showing': False, 'V_chink': False, 'V_purple': False, 'V_barely': False, \"V_we'll\": False, 'V_boi': False, 'V_fault': False, 'V_important': False, 'V_marry': False, 'V_selfies': False, 'V_works': False, 'V_2nd': False, 'V_snapchat': False, 'V_mention': False, 'V_ashamed': False, 'V_stealing': False, 'V_cookie': False, 'V_💩': False, 'V_soo': False, 'V_older': False, 'V_feelin': False, 'V_<3': False, 'V_grand': False, 'V_chasing': False, 'V_🎉': False, 'V_evil': False, 'V_horny': False, 'V_homies': False, 'V_changed': False, 'V_fob': False, 'V_classy': False, 'V_bra': False, 'V_points': False, 'V_based': False, 'V_teen': False, 'V_bodies': False, 'V_apart': False, 'V_#teaparty': False, 'V_forreal': False, 'V_beans': False, 'V_leaves': False, 'V_bags': False, 'V_cover': False, 'V_giant': False, 'V_idiot': False, 'V_liked': False, 'V_jordan': False, 'V_match': False, 'V_van': False, 'V_system': False, 'V_lakers': False, 'V_finish': False, 'V_cans': False, 'V_sentence': False, 'V_#iubb': False, 'V_rapper': False, 'V_😢': False, 'V_ways': False, 'V_guns': False, 'V_paint': False, 'V_🍻': False, 'V_bow': False, 'V_west': False, 'V_bud': False, 'V_gov': False, 'V_general': False, 'V_fit': False, 'V_waste': False, 'V_ik': False, 'V_settle': False, 'V_closed': False, 'V_lmfaoooo': False, 'V_meat': False, 'V_stress': False, 'V_african': False, 'V_japanese': False, 'V_whoever': False, 'V_gunna': False, 'V_houston': False, 'V_kicked': False, 'V_republicans': False, 'V_plans': False, 'V_walks': False, 'V_smith': False, 'V_vine': False, 'V_bottom': False, 'V_🍆': False, 'V_spook': False, 'V_betta': False, 'V_coward': False, 'V_faced': False, 'V_clear': False, 'V_bum': False, 'V_owe': False, 'V_series': False, 'V_girlfriends': False, 'V_deez': False, 'V_smokin': False, 'V_lls': False, 'V_career': False, 'V_pulled': False, 'V_episode': False, 'V_emoji': False, 'V_takin': False, 'V_stomach': False, 'V_texts': False, 'V_hun': False, 'V_faces': False, 'V_blew': False, 'V_asleep': False, 'V_trouble': False, 'V_mfs': False, 'V_entertaining': False, 'V_crew': False, 'V_fucker': False, 'V_americans': False, 'V_btw': False, 'V_slapped': False, 'V_tank': False, 'V_classic': False, 'V_final': False, 'V_everytime': False, 'V_homeless': False, 'V_knocked': False, 'V_sharing': False, 'V_along': False, 'V_others': False, 'V_guinea': False, 'V_loved': False, 'V_devil': False, 'V_24/7': False, 'V_starts': False, 'V_pollo': False, 'V_busy': False, 'V_wins': False, 'V_squad': False, 'V_exist': False, 'V_beaners': False, 'V_cancer': False, 'V_address': False, 'V_horrible': False, 'V_whats': False, 'V_whiny': False, 'V_steve': False, 'V_passed': False, 'V_twinkie': False, 'V_💪': False, 'V_wall': False, 'V_pair': False, 'V_dicks': False, 'V_remind': False, 'V_election': False, 'V_truly': False, 'V_oriental': False, 'V_gop': False, 'V_sluts': False, 'V_upset': False, 'V_listening': False, 'V_🚮': False, 'V_cuts': False, 'V_reply': False, 'V_paul': False, 'V_tellin': False, 'V_yep': False, 'V_bored': False, 'V_funky': False, 'V_plan': False, 'V_👑': False, 'V_nicki': False, 'V_foot': False, 'V_sexual': False, 'V_beats': False, 'V_generation': False, 'V_album': False, 'V_shame': False, 'V_staring': False, 'V_regardless': False, 'V_protect': False, 'V_er': False, 'V_secret': False, 'V_shorts': False, \"V_man's\": False, 'V_advice': False, 'V_sir': False, 'V_😻': False, 'V_16': False, 'V_snow': False, 'V_laid': False, 'V_kissing': False, 'V_insecure': False, 'V_#tbt': False, 'V_lightskin': False, 'V_curve': False, 'V_focus': False, 'V_captain': False, 'V_ca': False, 'V_current': False, 'V_wana': False, 'V_👈': False, 'V_senior': False, 'V_catching': False, 'V_tricks': False, 'V_filled': False, 'V_eats': False, 'V_broken': False, 'V_tattoos': False, 'V_twerking': False, 'V_fox': False, 'V_snitch': False, 'V_quiet': False, 'V_giants': False, 'V_pathetic': False, 'V_raise': False, 'V_hip': False, 'V_visit': False, 'V_relationships': False, 'V_gf': False, 'V_toes': False, 'V_lovin': False, 'V_crash': False, 'V_vibe': False, 'V_flag': False, 'V_spit': False, 'V_wears': False, 'V_pack': False, 'V_fashion': False, 'V_wanting': False, 'V_four': False, 'V_scale': False, 'V_14': False, 'V_corn': False, 'V_poppin': False, 'V_base': False, 'V_35': False, 'V_league': False, 'V_socks': False, 'V_pressed': False, 'V_honkey': False, 'V_goal': False, 'V_mickey': False, 'V_sub': False, 'V_😆': False, 'V_luv': False, 'V_join': False, 'V_assholes': False, 'V_magic': False, 'V_totally': False, 'V_crowd': False, 'V_radio': False, 'V_pockets': False, 'V_justin': False, 'V_nap': False, 'V_#iu': False, 'V_appreciate': False, 'V_muzzie': False, 'V_selfie': False, 'V_breath': False, 'V_flu': False, 'V_impress': False, 'V_disgusting': False, 'V_des': False, 'V_kidding': False, 'V_housewife': False, 'V_das': False, 'V_treated': False, 'V_killer': False, 'V_tag': False, 'V_sons': False, 'V_lock': False, 'V_kept': False, 'V_plus': False, 'V_disrespectful': False, 'V_land': False, 'V_kardashian': False, 'V_laws': False, 'V_stopped': False, 'V_trailer': False, 'V_conversation': False, 'V_ordered': False, 'V_flight': False, 'V_thots': False, 'V_yelling': False, 'V_island': False, 'V_nick': False, 'V_→': False, 'V_🐱': False, 'V_glass': False, 'V_ova': False, 'V_court': False, 'V_jeans': False, 'V_hearing': False, 'V_goodnight': False, 'V_camera': False, \"V_USERNAME_MENTION's\": False, 'V_fair': False, 'V_#faggots': False, 'V_area': False, 'V_🏀': False, 'V_mi': False, 'V_ike': False, 'V_bs': False, 'V_twinkies': False, 'V_eatin': False, 'V_bang': False, 'V_salad': False, 'V_hilarious': False, 'V_stone': False, 'V_hurry': False, 'V_gtfo': False, 'V_salty': False, 'V_dump': False, 'V_🎧': False, 'V_international': False, 'V_wash': False, 'V_accident': False, 'V_😠': False, 'V_defense': False, 'V_blast': False, 'V_flying': False, 'V_shits': False, 'V_knees': False, 'V_soooo': False, 'V_update': False, 'V_ny': False, 'V_realest': False, 'V_sale': False, 'V_governor': False, 'V_larry': False}, 0)\n"
          ],
          "name": "stdout"
        }
      ]
    },
    {
      "cell_type": "markdown",
      "metadata": {
        "id": "iIbFJo1Ifk9P",
        "colab_type": "text"
      },
      "source": [
        "### Results"
      ]
    },
    {
      "cell_type": "code",
      "metadata": {
        "id": "T7L8gF8gHoyD",
        "colab_type": "code",
        "colab": {
          "base_uri": "https://localhost:8080/",
          "height": 1000
        },
        "outputId": "394817af-4a25-4234-9cd4-0eeaf1c9f071"
      },
      "source": [
        "classify(feature_sets)"
      ],
      "execution_count": 48,
      "outputs": [
        {
          "output_type": "stream",
          "text": [
            "Train MNB model on 24783 examples with 10-fold cross-validation\n",
            "Confusion Matrix:\n",
            " [[22913   440]\n",
            " [ 1048   382]]\n",
            "Accuracy: 0.94\n",
            "Precision (1): 0.4647\n",
            "Recall (1): 0.2671\n",
            "F1 (1): 0.3393\n",
            "\n",
            "Positive Indicators\n",
            "(-4.730887563747643, 'V_spic')\n",
            "(-3.132418682684116, 'V_niggers')\n",
            "(-3.0569111301759726, 'V_#faggots')\n",
            "(-2.8117886721429866, 'V_faggots')\n",
            "(-2.78497741469233, 'V_whitey')\n",
            "(-2.769229057724191, 'V_chink')\n",
            "(-2.7384573990574363, 'V_beaner')\n",
            "(-2.651446022067807, 'V_beaners')\n",
            "(-2.6224584851945556, 'V_fags')\n",
            "(-2.5179146294432844, 'V_trailer')\n",
            "(-2.502700760807457, 'V_nigger')\n",
            "(-2.457290007626849, 'V_racist')\n",
            "(-2.4122163330019726, 'V_faggot')\n",
            "(-2.3329922909492726, 'V_gook')\n",
            "(-2.3031393277995917, 'V_coons')\n",
            "(-2.2459809139596434, 'V_coon')\n",
            "(-2.2459809139596416, 'V_americans')\n",
            "(-2.133502930532952, 'V_dyke')\n",
            "(-2.115141313000831, 'V_queer')\n",
            "(-2.046491553543323, 'V_fag')\n",
            "\n",
            "Negative Indicators\n",
            "(3.2429568121970433, 'V_bird')\n",
            "(2.9940008755754306, 'V_charlie')\n",
            "(2.1768677152344944, 'V_sex')\n",
            "(2.0213828123940987, 'V_😍')\n",
            "(2.0213828123940987, 'V_birds')\n",
            "(1.9335214566027652, 'V_#yankees')\n",
            "(1.9232649564355757, 'V_$')\n",
            "(1.8258907924103998, 'V_brownies')\n",
            "(1.7673945857287912, 'V_basic')\n",
            "(1.7552732251964462, 'V_females')\n",
            "(1.7180018303992144, 'V_😎')\n",
            "(1.679287318218524, 'V_lost')\n",
            "(1.652619071136363, 'V_👀')\n",
            "(1.6390134190805838, 'V_bae')\n",
            "(1.5680616831082999, 'V_|')\n",
            "(1.5680616831082999, 'V_ex')\n",
            "(1.5457559255940012, 'V_loyal')\n",
            "(1.538208719958618, 'V_girlfriend')\n",
            "(1.5229412478278297, 'V_booty')\n",
            "(1.5074370612918644, 'V_jihadi')\n",
            "\n",
            "Errors:\n",
            "0 \t rt USERNAME_MENTION: happy birthday to my little ass cousin who doesn't remember who i am USERNAME_MENTION hope it's a good one fag !\n",
            "0 \t all the uchiha are. rt USERNAME_MENTION: sasuke is probably the biggest faggot of all time\n",
            "0 \t USERNAME_MENTION is it full of niggers\n",
            "0 \t USERNAME_MENTION \n",
            "dat dawg live betta den most colored folk in my hood\n",
            "0 \t rt USERNAME_MENTION: damn faggots.... #tcot URL_LINK\n",
            "1 \t USERNAME_MENTION i got a dyke wit a child as whse mgr, and she jus hired another girlboy dis week....\n",
            "0 \t USERNAME_MENTION just played against a heimer support. biggest faggot ever. stupid cheese champion.\n",
            "1 \t rt'in your own shit now pussy what a joke you'd end up just like all the rest no show chicken shit mother fucker\n",
            "1 \t which one of these names is more offensive kike, wop, kraut, wetback jigaboo, towelhead, gook, or redskin.\n",
            "1 \t USERNAME_MENTION you a fag b\n",
            "0 \t has anyone noticed that aliens have flaws too, some of those retards have crash landed on earth? means they dont know how to drive\n",
            "1 \t think it's okay to take my property and break it? fuck you bitch\n",
            "1 \t chasing these hoes, better get cash nigga\n",
            "0 \t rt USERNAME_MENTION: mt USERNAME_MENTION: USERNAME_MENTION is paid by white supremacist, they always get a negro to do their dirty work #fergus…\n",
            "0 \t rt USERNAME_MENTION: i suck a giant dick, i suck a skinny dick ♫ i suck a faggot dick, i suck a nigger dick ♫ i suck the dicks that remind me…\n",
            "1 \t 😳 rt USERNAME_MENTION: they recruited buku fags in here!😳...a warehouse is no place for them!😒\n",
            "0 \t USERNAME_MENTION really u use in another nigga name and u follow a nigga who doesn't fucking like you your a faggot kok eyed mother fucker\n",
            "0 \t USERNAME_MENTION can we plz go to starbucks and do that. ebola sounds like a really ghetto hood name tbh.\n",
            "0 \t USERNAME_MENTION USERNAME_MENTION USERNAME_MENTION USERNAME_MENTION USERNAME_MENTION USERNAME_MENTION they can see this dumbass nigger\n",
            "1 \t talking crazy over the internet is the same thing as doing it in person. don't try to be buddy buddy with me later on faggot fuck you.\n"
          ],
          "name": "stdout"
        }
      ]
    }
  ]
}