{
  "nbformat": 4,
  "nbformat_minor": 0,
  "metadata": {
    "colab": {
      "name": "IST 718 Final Project.ipynb",
      "provenance": [],
      "collapsed_sections": [
        "rJ_63d3vl8L1",
        "csLUo55Zl3w5",
        "ISZ3jV1nnrnN",
        "VoXunaeIn0vg",
        "0LCkFmaxr5Po",
        "y0fcnplVXUcF",
        "OO4U5KCJXtsZ",
        "bfn_pDd9r6Lt"
      ],
      "machine_shape": "hm"
    },
    "kernelspec": {
      "name": "python3",
      "display_name": "Python 3"
    },
    "accelerator": "GPU"
  },
  "cells": [
    {
      "cell_type": "markdown",
      "metadata": {
        "id": "ilt66en3BwKI",
        "colab_type": "text"
      },
      "source": [
        "# Links\n",
        "*   [data.world](https://data.world/apnorc/ap-votecast-public-use-file)\n",
        "*   [CSV](https://data.world/apnorc/ap-votecast-public-use-file/workspace/file?filename=AP_VOTECAST_2018_DATA.csv)\n",
        "*   [Official VoteCast Codebook](https://data.world/apnorc/ap-votecast-public-use-file/workspace/file?filename=VC_PUF_codebook_final.pdf)\n",
        "*   [Questionnaire](https://data.world/apnorc/ap-votecast-public-use-file/workspace/file?filename=VoteCast+Questionnaire.pdf)\n",
        "\n",
        "\n",
        "---\n",
        "\n",
        "\n",
        "*   [Project Codebook](https://docs.google.com/spreadsheets/d/1tJyMw_8Py4XLJ4PPAEfLMnwwumlNZ3IcuVw74XBLQ7A/edit?usp=sharing)\n"
      ]
    },
    {
      "cell_type": "markdown",
      "metadata": {
        "id": "rJ_63d3vl8L1",
        "colab_type": "text"
      },
      "source": [
        "# Import Packages & Data"
      ]
    },
    {
      "cell_type": "code",
      "metadata": {
        "id": "M_F8j1es5uHQ",
        "colab_type": "code",
        "outputId": "9069a949-9a9b-4f93-e1ab-a218f27f14b5",
        "colab": {
          "base_uri": "https://localhost:8080/",
          "height": 522
        }
      },
      "source": [
        "!pip install pandasql\n",
        "!pip install chart-studio\n"
      ],
      "execution_count": 2,
      "outputs": [
        {
          "output_type": "stream",
          "text": [
            "Collecting pandasql\n",
            "  Downloading https://files.pythonhosted.org/packages/6b/c4/ee4096ffa2eeeca0c749b26f0371bd26aa5c8b611c43de99a4f86d3de0a7/pandasql-0.7.3.tar.gz\n",
            "Requirement already satisfied: numpy in /usr/local/lib/python3.6/dist-packages (from pandasql) (1.18.2)\n",
            "Requirement already satisfied: pandas in /usr/local/lib/python3.6/dist-packages (from pandasql) (0.25.3)\n",
            "Requirement already satisfied: sqlalchemy in /usr/local/lib/python3.6/dist-packages (from pandasql) (1.3.15)\n",
            "Requirement already satisfied: pytz>=2017.2 in /usr/local/lib/python3.6/dist-packages (from pandas->pandasql) (2018.9)\n",
            "Requirement already satisfied: python-dateutil>=2.6.1 in /usr/local/lib/python3.6/dist-packages (from pandas->pandasql) (2.8.1)\n",
            "Requirement already satisfied: six>=1.5 in /usr/local/lib/python3.6/dist-packages (from python-dateutil>=2.6.1->pandas->pandasql) (1.12.0)\n",
            "Building wheels for collected packages: pandasql\n",
            "  Building wheel for pandasql (setup.py) ... \u001b[?25l\u001b[?25hdone\n",
            "  Created wheel for pandasql: filename=pandasql-0.7.3-cp36-none-any.whl size=26819 sha256=5ca709ca1610560047e73070df45ba873c190671afa93f602ffbe2da0c9ce74f\n",
            "  Stored in directory: /root/.cache/pip/wheels/53/6c/18/b87a2e5fa8a82e9c026311de56210b8d1c01846e18a9607fc9\n",
            "Successfully built pandasql\n",
            "Installing collected packages: pandasql\n",
            "Successfully installed pandasql-0.7.3\n",
            "Collecting chart-studio\n",
            "\u001b[?25l  Downloading https://files.pythonhosted.org/packages/b9/3f/d2f3f506ba1aaf109f549f8b01d1483cd3e324c5ebe6b206acee66efdf46/chart_studio-1.0.0-py3-none-any.whl (76kB)\n",
            "\u001b[K     |████████████████████████████████| 81kB 2.2MB/s \n",
            "\u001b[?25hRequirement already satisfied: plotly in /usr/local/lib/python3.6/dist-packages (from chart-studio) (4.4.1)\n",
            "Requirement already satisfied: retrying>=1.3.3 in /usr/local/lib/python3.6/dist-packages (from chart-studio) (1.3.3)\n",
            "Requirement already satisfied: requests in /usr/local/lib/python3.6/dist-packages (from chart-studio) (2.21.0)\n",
            "Requirement already satisfied: six in /usr/local/lib/python3.6/dist-packages (from chart-studio) (1.12.0)\n",
            "Requirement already satisfied: idna<2.9,>=2.5 in /usr/local/lib/python3.6/dist-packages (from requests->chart-studio) (2.8)\n",
            "Requirement already satisfied: urllib3<1.25,>=1.21.1 in /usr/local/lib/python3.6/dist-packages (from requests->chart-studio) (1.24.3)\n",
            "Requirement already satisfied: chardet<3.1.0,>=3.0.2 in /usr/local/lib/python3.6/dist-packages (from requests->chart-studio) (3.0.4)\n",
            "Requirement already satisfied: certifi>=2017.4.17 in /usr/local/lib/python3.6/dist-packages (from requests->chart-studio) (2019.11.28)\n",
            "Installing collected packages: chart-studio\n",
            "Successfully installed chart-studio-1.0.0\n"
          ],
          "name": "stdout"
        }
      ]
    },
    {
      "cell_type": "code",
      "metadata": {
        "id": "mPKtL5nYQxVZ",
        "colab_type": "code",
        "colab": {}
      },
      "source": [
        "import pandas as pd\n",
        "import numpy as np\n",
        "import matplotlib.pyplot as plt\n",
        "import seaborn as sns\n",
        "import inspect\n",
        "import pandasql\n",
        "from sklearn.model_selection import train_test_split\n",
        "from sklearn.linear_model import LogisticRegression\n",
        "from sklearn.ensemble import RandomForestClassifier\n",
        "from sklearn.metrics import confusion_matrix\n",
        "from sklearn.metrics import accuracy_score\n",
        "import statsmodels.api as sm\n",
        "import time\n",
        "import chart_studio.dashboard_objs as dashboard\n",
        "\n",
        "import IPython.display\n",
        "from IPython.display import Image\n",
        "import plotly.graph_objects as go\n",
        "from plotly.subplots import make_subplots\n",
        "import chart_studio\n",
        "import chart_studio.plotly as py\n",
        "import plotly.graph_objects as go\n",
        "import plotly.express as px"
      ],
      "execution_count": 0,
      "outputs": []
    },
    {
      "cell_type": "code",
      "metadata": {
        "id": "m2iKvIqgh5T-",
        "colab_type": "code",
        "outputId": "4ff96245-b693-47a4-8758-e169b75b32dd",
        "colab": {
          "base_uri": "https://localhost:8080/",
          "height": 661
        }
      },
      "source": [
        "# pull data from data.world\n",
        "#full_data = pd.read_csv('https://download.data.world/s/nyzwf5llkeokpvczdjsbfel7yt5zvu', header=0)\n",
        "full_data = pd.read_csv('https://download.data.world/s/6ed2jwgz4kzqm46vb32gapbrhhushx', header=0)\n",
        "print(full_data.shape)\n",
        "print(full_data.head(30).to_string())"
      ],
      "execution_count": 4,
      "outputs": [
        {
          "output_type": "stream",
          "text": [
            "/usr/local/lib/python3.6/dist-packages/IPython/core/interactiveshell.py:2718: DtypeWarning:\n",
            "\n",
            "Columns (12,15,16,18,19,20,21,22,23,24,25,26,28,29,30,31,32,33,34,40,41,42,43,44,45,46,47,48,69,70,71,72,73,74,75,76,77,78,79,80,81,83,128,129,130,131,132,133,134,135,136,137,138,139,140,141,142,143,144,145,146,147,148,149,150,151,152,153,154,155,156,157,158,159,160,161,162,163,164,165,166,167,168,169,170,171,172,173,174,175,176,177,178,179,180,181,182,183,184,185,186,187,188,189,190,191,192,193,194,195,196,209) have mixed types. Specify dtype option on import or set low_memory=False.\n",
            "\n"
          ],
          "name": "stderr"
        },
        {
          "output_type": "stream",
          "text": [
            "(138929, 220)\n",
            "       su_id  pollclose_state_weight  pollclose_national_weight  finalvote_state_weight  finalvote_national_weight       mode             p_state            statenum                                    lva                         lvb                         lv       likelyvoter  wva                                                wvb            timevote                  race1_vote     race1_party                     race1_raceid     race1_officeid      race1_racetypeid              race2_vote       race2_party                             race2_raceid      race2_officeid      race2_racetypeid                race3_vote     race3_party                       race3_raceid race3_officeid      race3_racetypeid                 race4_vote   race4_party                                       race4_raceid                race4_officeid      race4_racetypeid                        race5_vote     race5_party                                       race5_raceid                race5_officeid      race5_racetypeid ballot1_vote ballot1_party                              ballot1_raceid       ballot1_officeid    ballot1_racetypeid                              senvote              senspvote                                govvote mainechoice2                track                                 issues                        life                 presapp4                               trumpfactor3 trumptraitstemperament trumptraitschange trumptraitsleader trumptraitshonest trumptraitscares trumptraitsstandsup    trumpjobecon  trumpjobhealth   trumpjobimmig   trumpjobtrade                         trumpjobscotus  trumpjobborder              favtrump                favrep                    favdem                              favsendem                              favsenrep favsenind                              favgovdem                              favgovrep favgovind          favfeinstein                              favdeleon favssenspecialdem favssenspecialrep               favespy                           favhydesmith         favmcdaniel                           supremecourt            partycontrol             congressjob4                  trustgovt              ethics                             govtangr                                             govtdo              nec            getahead  tradenationalecon     tradelocalecon      econfairwealthy             econfairmiddle               econfairpoor                                taxcuts                              healthlaw                                 healthgov                                       immdeport                              immbetter              immwall                                        racerel                   climate                              gunpolicy                   abortion              metoobelieve             metoodefend                                           pcspeech       marijuana                 opioid                   safeterror                        safecrime                              safecyber                                 russia                           interference                         q2020vote                                      repintentions                                      demintentions                      attendance                   married         married2                               gunowner                          union                vet                                    lgb transgender                       borncitizen govjobkasich4            govjobsnyder4 favsessions favjones favpalin                favflake favcotton favboozman favemanuel favpence favfranken             favinslee             medicaid sportsbetting casinos     jobsit akdividends deathpenalty                affhousing teacherstrikes secondchancelaw ilbudget corruption teachersunions             edbudget       transportation prostitution govworker            incometax                                             energy  coalhh opioidexp        endangeredspecies murkowskisc collinssc        gastax harrispres murphypres bidenpres mapreswarren maprespatrick nypresbloomberg nypresgillibrand klobucharpres merkleypres sanderspres unfairflgillum unfairfldesantis unfairnjmenendez unfairnjhugin comarijuana             redtide       firstblackgov               allowedvote     easevoting emergencyresponse             tradedemvsrep          kstax   mshydesmithvsespy    msmcdanielvsespy     preexistingcond       q2020excitement honestmenendez honesthugin                  taylor             confederateflag orourketooliberal                         cruzfocus romneytrump                                            qpvvote            q2016vote firsttime                                           qpvvote3                                                wnv             breaka             breakb                                         breakc        sex      age65                            raceth                        raceth5             cuban                            educ                                 income           party                partyfull                                   ideo                relig                          relig4 bornagain       sizeplace    formflag\n",
            "0   20000058               86.625560                  83.562187               57.404245                  55.731959    (2) Web        (MT) Montana        (26) Montana               (1) Extremely interested         (5) I already voted         (12) Already voted  (1) Likely voter  NaN                                                NaN  (2) Early/Absentee          (55866) Jon Tester    (1) Democrat  (28089) Senate General Election  (S) Senate race 1  (G) General Election                     NaN               NaN                                      NaN                 NaN                   NaN                       NaN             NaN                                NaN            NaN                   NaN  (66825) Kathleen Williams  (1) Democrat  (28447) House of Representatives General Election  (H) House of Representatives  (G) General Election  (99991) The Democratic Candidate    (1) Democrat  (888888) House of Representatives General Elec...  (H) House of Representatives  (G) General Election          NaN           NaN                                         NaN                    NaN                   NaN  (1) Democratic candidate for Senate                    NaN                                    NaN          NaN  (2) Wrong direction                    (7) The environment                         NaN  (4) Disapprove strongly  (2) Voted to express opposition for Trump                    NaN               NaN               NaN               NaN              NaN                 NaN  (2) Disapprove  (2) Disapprove  (2) Disapprove  (2) Disapprove                         (2) Disapprove  (2) Disapprove                   NaN                   NaN                       NaN                     (1) Very favorable  (99) DON’T KNOW/SKIPPED/REFUSED (VOL)       NaN                                    NaN                                    NaN       NaN                   NaN                                    NaN               NaN               NaN                   NaN                                    NaN                 NaN                                    NaN   (3) Not too important                      NaN                        NaN                 NaN                                  NaN                                                NaN  (3) Not so good  (2) Holding steady           (2) Hurt           (2) Hurt  (1) Favors too much  (2) Does not favor enough  (2) Does not favor enough                (4) Disapprove strongly                     (4) Expand the law                                       NaN  (1) Offered a chance to apply for legal status        (1) Do more to help the country  (4) Strongly oppose                                            NaN                       NaN                                    NaN                        NaN                       NaN                     NaN                                                NaN             NaN                    NaN                          NaN                              NaN                                    NaN                                (1) Yes                     (1) Very concerned                               NaN                                                NaN                                                NaN                             NaN                       NaN              NaN                                    NaN  (2) Union member in household             (3) No                                    NaN         NaN                           (1) Yes           NaN                      NaN         NaN      NaN      NaN                     NaN       NaN        NaN        NaN      NaN        NaN                   NaN                  NaN           NaN     NaN        NaN         NaN          NaN                       NaN            NaN             NaN      NaN        NaN            NaN                  NaN                  NaN          NaN       NaN                  NaN                                                NaN     NaN       NaN  (2) Don't go far enough         NaN       NaN           NaN        NaN        NaN       NaN          NaN           NaN             NaN              NaN           NaN         NaN         NaN            NaN              NaN              NaN           NaN         NaN                 NaN                 NaN                       NaN            NaN               NaN  (1) The Democratic Party            NaN                 NaN                 NaN                 NaN                   NaN            NaN         NaN                     NaN                         NaN               NaN                               NaN         NaN                               (4) I'm sure I voted                  NaN   (2) Not                               (4) I'm sure I voted                                                NaN  (2) No, it is not     (1) Yes, it is                       (1) I've known all along  (2) Women    (6) 65+                         (1) White                      (1) White               NaN  (2) Some college/assoc. degree                    (2) $25,000-$49,999     (3) Neither          (3) Independent                   (2) Somewhat liberal  (4) Other Christian  (1) Protestant/Other Christian       NaN       (4) Rural  (2) Form 2\n",
            "1   20000102              231.679211                 223.486250              156.736562                 178.515058    (2) Web         (KS) Kansas         (16) Kansas               (1) Extremely interested    (1) Definitely will vote  (10) 10-Certain will vote  (1) Likely voter  NaN  (2) I will vote before election day by mailing...  (2) Early/Absentee                         NaN             NaN                              NaN                NaN                   NaN                     NaN               NaN                                      NaN                 NaN                   NaN       (50109) Kris Kobach  (2) Republican  (17559) Governor General Election   (G) Governor  (G) General Election                        NaN           NaN                                                NaN                           NaN                   NaN  (99992) The Republican Candidate  (2) Republican  (888888) House of Representatives General Elec...  (H) House of Representatives  (G) General Election          NaN           NaN                                         NaN                    NaN                   NaN                                  NaN                    NaN  (2) Republican candidate for Governor          NaN  (2) Wrong direction                           (5) Abortion                         NaN     (2) Approve somewhat                 (3) Trump was not a factor                    NaN               NaN               NaN               NaN              NaN                 NaN             NaN             NaN             NaN             NaN                                    NaN             NaN                   NaN                   NaN                       NaN                                    NaN                                    NaN       NaN               (3) Somewhat unfavorable                 (2) Somewhat favorable       NaN                   NaN                                    NaN               NaN               NaN                   NaN                                    NaN                 NaN                                    NaN                     NaN                      NaN  (3) Only some of the time                 NaN                                  NaN                                                NaN              NaN   (1) Getting ahead           (1) Help           (2) Hurt                  NaN                        NaN                        NaN                                    NaN            (1) Repeal the law entirely  (2) Government should not be responsible  (1) Offered a chance to apply for legal status                                    NaN                  NaN                                            NaN                       NaN         (3) Should be kept as they are                        NaN                       NaN                     NaN                                                NaN             NaN                    NaN      (1) Made the U.S. safer          (1) Made the U.S. safer        (3) Hasn't made much difference                                 (2) No                                    NaN  (1) Donald Trump, the Republican  (2) They mostly try to do what's best for thei...  (2) They mostly try to do what's best for thei...                             NaN                       NaN              NaN                                 (3) No                            NaN             (3) No                                    NaN         NaN                               NaN           NaN                      NaN         NaN      NaN      NaN                     NaN       NaN        NaN        NaN      NaN        NaN                   NaN                  NaN           NaN     NaN        NaN         NaN          NaN                       NaN            NaN             NaN      NaN        NaN            NaN  (3) Somewhat oppose                  NaN          NaN       NaN                  NaN                                                NaN     NaN       NaN                      NaN         NaN       NaN           NaN        NaN        NaN       NaN          NaN           NaN             NaN              NaN           NaN         NaN         NaN            NaN              NaN              NaN           NaN         NaN                 NaN                 NaN                       NaN            NaN               NaN  (2) The Republican Party  (2) Bad thing                 NaN                 NaN                 NaN                   NaN            NaN         NaN                     NaN                         NaN               NaN                               NaN         NaN                               (4) I'm sure I voted     (3) Someone else   (2) Not                               (4) I'm sure I voted                                                NaN  (2) No, it is not  (2) No, it is not  (2) I decided over the course of the campaign    (1) Men  (4) 40-49                         (1) White                      (1) White               NaN          (4) Postgraduate study                    (4) $75,000-$99,999     (3) Neither  (2) Republican/Lean Rep              (4) Somewhat conservative       (1) Protestant  (1) Protestant/Other Christian       NaN  (3) Small town  (3) Form 3\n",
            "2   20000106             7639.065341                7368.922117              502.237088                 484.476284  (1) Phone        (FL) Florida         (9) Florida               (1) Extremely interested    (1) Definitely will vote  (10) 10-Certain will vote  (1) Likely voter  NaN  (1) I will vote at a polling place on election...    (1) Election Day  (100008) Another candidate       (6) Other  (10005) Senate General Election  (S) Senate race 1  (G) General Election                     NaN               NaN                                      NaN                 NaN                   NaN                       NaN             NaN  (10045) Governor General Election            NaN                   NaN                        NaN           NaN                                                NaN                           NaN                   NaN        (100008) Another candidate       (6) Other  (888888) House of Representatives General Elec...  (H) House of Representatives  (G) General Election      (2) Yes      (10) Yes  (11866) Ballot Initiative General Election  (I) Ballot initiative  (G) General Election                (4) Another candidate                    NaN                                    NaN          NaN  (2) Wrong direction                        (3) Immigration                         NaN  (4) Disapprove strongly                 (3) Trump was not a factor                    NaN               NaN               NaN               NaN              NaN                 NaN  (2) Disapprove  (2) Disapprove  (2) Disapprove  (2) Disapprove  (99) DON’T KNOW/SKIPPED/REFUSED (VOL)  (2) Disapprove                   NaN                   NaN                       NaN                     (1) Very favorable                   (4) Very unfavorable       NaN                     (1) Very favorable  (99) DON’T KNOW/SKIPPED/REFUSED (VOL)       NaN                   NaN                                    NaN               NaN               NaN                   NaN                                    NaN                 NaN                                    NaN  (2) Somewhat important                      NaN                        NaN                 NaN                                  NaN                                                NaN         (4) Poor  (3) Falling behind  (3) No difference           (1) Help  (1) Favors too much  (2) Does not favor enough  (2) Does not favor enough  (99) DON’T KNOW/SKIPPED/REFUSED (VOL)            (2) Repeal parts of the law                                       NaN  (1) Offered a chance to apply for legal status        (1) Do more to help the country  (4) Strongly oppose                                            NaN                       NaN                                    NaN                        NaN                       NaN                     NaN                                                NaN             NaN                    NaN                          NaN                              NaN                                    NaN  (99) DON'T KNOW/SKIPPED/REFUSED (VOL)  (99) DON'T KNOW/SKIPPED/REFUSED (VOL)                               NaN                                                NaN                                                NaN                             NaN                       NaN              NaN                                    NaN                         (3) No                NaN                                    NaN         NaN                           (1) Yes           NaN                      NaN         NaN      NaN      NaN                     NaN       NaN        NaN        NaN      NaN        NaN                   NaN  (4) Strongly oppose           NaN     NaN        NaN         NaN          NaN                       NaN            NaN             NaN      NaN        NaN            NaN                  NaN                  NaN          NaN       NaN                  NaN                                                NaN     NaN       NaN                      NaN         NaN       NaN           NaN        NaN        NaN       NaN          NaN           NaN             NaN              NaN           NaN         NaN         NaN         (2) No          (1) Yes              NaN           NaN         NaN  (1) Strongly favor                 NaN                       NaN            NaN               NaN                       NaN            NaN                 NaN                 NaN                 NaN                   NaN            NaN         NaN                     NaN                         NaN               NaN                               NaN         NaN  (3) I usually vote, but I didn't in the 2016 p...                  NaN   (2) Not  (2) I thought about voting in the 2014 electio...                                                NaN  (2) No, it is not     (1) Yes, it is                       (1) I've known all along    (1) Men  (5) 50-64  (88) REMOVED FOR DISCLOSURE RISK  (2) African American or Black  (3) Non-Hispanic         (1) High school or less                   (5) $100,000 or more    (1) Democrat    (1) Democrat/Lean Dem  (99) DON’T KNOW/SKIPPED/REFUSED (VOL)   (7) Something else                       (3) Other       NaN  (3) Small town  (2) Form 2\n",
            "3   20000165               34.959933                  33.723631               37.813306                  36.958378    (2) Web        (MT) Montana        (26) Montana               (1) Extremely interested         (5) I already voted         (12) Already voted  (1) Likely voter  NaN                                                NaN  (2) Early/Absentee          (55866) Jon Tester    (1) Democrat  (28089) Senate General Election  (S) Senate race 1  (G) General Election                     NaN               NaN                                      NaN                 NaN                   NaN                       NaN             NaN                                NaN            NaN                   NaN  (66825) Kathleen Williams  (1) Democrat  (28447) House of Representatives General Election  (H) House of Representatives  (G) General Election  (99991) The Democratic Candidate    (1) Democrat  (888888) House of Representatives General Elec...  (H) House of Representatives  (G) General Election          NaN           NaN                                         NaN                    NaN                   NaN  (1) Democratic candidate for Senate                    NaN                                    NaN          NaN  (2) Wrong direction                        (2) Health care                         NaN  (4) Disapprove strongly  (2) Voted to express opposition for Trump                    NaN               NaN               NaN               NaN              NaN                 NaN             NaN             NaN             NaN             NaN                                    NaN             NaN                   NaN                   NaN                       NaN                     (1) Very favorable                   (4) Very unfavorable       NaN                                    NaN                                    NaN       NaN                   NaN                                    NaN               NaN               NaN                   NaN                                    NaN                 NaN                                    NaN      (1) Very important                      NaN                  (4) Never                 NaN                                  NaN                                                NaN              NaN  (3) Falling behind           (2) Hurt           (2) Hurt                  NaN                        NaN                        NaN                                    NaN                     (4) Expand the law      (1) Government should be responsible  (1) Offered a chance to apply for legal status                                    NaN                  NaN                                            NaN                       NaN              (1) Should be more strict                        NaN                       NaN                     NaN                                                NaN             NaN                    NaN  (2) Made the U.S. less safe      (2) Made the U.S. less safe            (2) Made the U.S. less safe                                (1) Yes                                    NaN      (2) The Democratic candidate  (2) They mostly try to do what's best for thei...  (1) They mostly try to do what's best for the ...                             NaN                       NaN              NaN                                 (3) No                            NaN             (3) No                                    NaN         NaN                               NaN           NaN                      NaN         NaN      NaN      NaN                     NaN       NaN        NaN        NaN      NaN        NaN                   NaN                  NaN           NaN     NaN        NaN         NaN          NaN                       NaN            NaN             NaN      NaN        NaN            NaN                  NaN                  NaN          NaN       NaN                  NaN                                                NaN     NaN       NaN  (2) Don't go far enough         NaN       NaN           NaN        NaN        NaN       NaN          NaN           NaN             NaN              NaN           NaN         NaN         NaN            NaN              NaN              NaN           NaN         NaN                 NaN                 NaN                       NaN            NaN               NaN  (1) The Democratic Party            NaN                 NaN                 NaN                 NaN                   NaN            NaN         NaN                     NaN                         NaN               NaN                               NaN         NaN                               (4) I'm sure I voted     (3) Someone else   (2) Not                               (4) I'm sure I voted                                                NaN  (2) No, it is not     (1) Yes, it is                       (1) I've known all along    (1) Men    (6) 65+                         (1) White                      (1) White               NaN          (4) Postgraduate study                    (3) $50,000-$74,999    (1) Democrat    (1) Democrat/Lean Dem                       (1) Very liberal         (2) Catholic                    (2) Catholic       NaN  (3) Small town  (3) Form 3\n",
            "4   20000191                4.811467                   4.641317                3.857918                   3.670320    (2) Web  (NH) New Hampshire  (30) New Hampshire               (1) Extremely interested    (1) Definitely will vote  (10) 10-Certain will vote  (1) Likely voter  NaN  (1) I will vote at a polling place on election...    (1) Election Day                         NaN             NaN                              NaN                NaN                   NaN                     NaN               NaN                                      NaN                 NaN                   NaN      (65779) Chris Sununu  (2) Republican  (30005) Governor General Election   (G) Governor  (G) General Election                        NaN           NaN                                                NaN                           NaN                   NaN  (99992) The Republican Candidate  (2) Republican  (888888) House of Representatives General Elec...  (H) House of Representatives  (G) General Election          NaN           NaN                                         NaN                    NaN                   NaN                                  NaN                    NaN  (2) Republican candidate for Governor          NaN  (1) Right direction               (1) The economy and jobs   (2) Worse than life today     (2) Approve somewhat     (1) Voted to express support for Trump                 (2) No           (1) Yes           (1) Yes            (2) No          (1) Yes             (1) Yes             NaN             NaN             NaN             NaN                                    NaN             NaN                   NaN                   NaN                       NaN                                    NaN                                    NaN       NaN               (3) Somewhat unfavorable                     (1) Very favorable       NaN                   NaN                                    NaN               NaN               NaN                   NaN                                    NaN                 NaN                                    NaN                     NaN  (4) Disapprove strongly                        NaN  (3) About the same  (2) Satisfied, but not enthusiastic  (2) Government doing too many things better le...              NaN   (1) Getting ahead           (1) Help           (1) Help                  NaN                        NaN                        NaN                                    NaN            (2) Repeal parts of the law                                       NaN  (1) Offered a chance to apply for legal status                                    NaN                  NaN    (2) Blacks have more advantages than whites                       NaN                                    NaN                        NaN                       NaN                     NaN  (1) Pressure to be politically correct has gon...             NaN     (1) Very concerned                          NaN                              NaN                                    NaN                                 (2) No                                    NaN                               NaN                                                NaN                                                NaN                             NaN                       NaN              NaN                                    NaN                            NaN                NaN                                    NaN         NaN                               NaN           NaN                      NaN         NaN      NaN      NaN                     NaN       NaN        NaN        NaN      NaN        NaN                   NaN                  NaN           NaN     NaN        NaN         NaN          NaN                       NaN            NaN             NaN      NaN        NaN            NaN                  NaN                  NaN          NaN       NaN                  NaN                                                NaN     NaN       NaN                      NaN         NaN       NaN           NaN        NaN        NaN       NaN          NaN           NaN             NaN              NaN           NaN         NaN         NaN            NaN              NaN              NaN           NaN         NaN                 NaN                 NaN                       NaN            NaN               NaN                       NaN            NaN                 NaN                 NaN                 NaN  (2) Somewhat excited            NaN         NaN                     NaN                         NaN               NaN                               NaN         NaN                               (4) I'm sure I voted                  NaN   (2) Not                               (4) I'm sure I voted                                                NaN     (1) Yes, it is  (2) No, it is not  (2) I decided over the course of the campaign    (1) Men  (5) 50-64            (3) Latino or Hispanic         (3) Latino or Hispanic               NaN          (4) Postgraduate study                   (5) $100,000 or more  (2) Republican  (2) Republican/Lean Rep              (4) Somewhat conservative       (1) Protestant  (1) Protestant/Other Christian       NaN    (2) Suburban  (4) Form 4\n",
            "5   20000268              441.608713                 425.991933              344.045444                 358.496367    (2) Web      (TN) Tennessee      (42) Tennessee                    (2) Very interested         (5) I already voted         (12) Already voted  (1) Likely voter  NaN                                                NaN  (2) Early/Absentee         (646) Phil Bredesen    (1) Democrat  (43439) Senate General Election  (S) Senate race 1  (G) General Election                     NaN               NaN                                      NaN                 NaN                   NaN          (67429) Bill Lee  (2) Republican  (43440) Governor General Election   (G) Governor  (G) General Election                        NaN           NaN                                                NaN                           NaN                   NaN  (99991) The Democratic Candidate    (1) Democrat  (888888) House of Representatives General Elec...  (H) House of Representatives  (G) General Election          NaN           NaN                                         NaN                    NaN                   NaN  (1) Democratic candidate for Senate                    NaN  (2) Republican candidate for Governor          NaN  (2) Wrong direction               (1) The economy and jobs                         NaN  (4) Disapprove strongly  (2) Voted to express opposition for Trump                    NaN               NaN               NaN               NaN              NaN                 NaN             NaN             NaN             NaN             NaN                                    NaN             NaN  (4) Very unfavorable  (4) Very unfavorable      (4) Very unfavorable                 (2) Somewhat favorable                   (4) Very unfavorable       NaN                 (2) Somewhat favorable                 (2) Somewhat favorable       NaN                   NaN                                    NaN               NaN               NaN                   NaN                                    NaN                 NaN                 (2) Somewhat important  (2) Somewhat important                      NaN                        NaN                 NaN                                  NaN                                                NaN              NaN  (2) Holding steady           (2) Hurt           (2) Hurt                  NaN                        NaN                        NaN                                    NaN            (2) Repeal parts of the law                                       NaN  (1) Offered a chance to apply for legal status                                    NaN                  NaN                                            NaN    (2) Somewhat concerned                                    NaN  (3) Illegal in most cases        (1) Very concerned  (2) Somewhat concerned                                                NaN  (1) Yes, legal                    NaN                          NaN                              NaN                                    NaN                                (1) Yes                                    NaN                               NaN                                                NaN                                                NaN         (5) Once a week or more               (2) Married      (1) Married                                    NaN                            NaN                NaN                                 (2) No      (2) No                               NaN           NaN                      NaN         NaN      NaN      NaN                     NaN       NaN        NaN        NaN      NaN        NaN                   NaN   (2) Somewhat favor           NaN     NaN        NaN         NaN          NaN                       NaN            NaN             NaN      NaN        NaN            NaN                  NaN                  NaN          NaN       NaN                  NaN                                                NaN     NaN       NaN                      NaN         NaN       NaN           NaN        NaN        NaN       NaN          NaN           NaN             NaN              NaN           NaN         NaN         NaN            NaN              NaN              NaN           NaN         NaN                 NaN                 NaN                       NaN            NaN               NaN                       NaN            NaN                 NaN                 NaN                 NaN                   NaN            NaN         NaN  (2) Somewhat favorable                (2) Negative               NaN                               NaN         NaN                               (4) I'm sure I voted                  NaN   (2) Not  (3) I usually vote, but I didn't in the 2014 e...                                                NaN     (1) Yes, it is     (1) Yes, it is  (2) I decided over the course of the campaign    (1) Men  (5) 50-64  (88) REMOVED FOR DISCLOSURE RISK                      (1) White               NaN            (3) College graduate                   (5) $100,000 or more     (3) Neither  (2) Republican/Lean Rep                           (3) Moderate       (1) Protestant  (1) Protestant/Other Christian   (1) Yes       (1) Urban  (1) Form 1\n",
            "6   20000294             1479.993123                1427.655553              909.665428                1190.091429  (1) Phone  (MA) Massachusetts  (19) Massachusetts               (1) Extremely interested    (1) Definitely will vote  (10) 10-Certain will vote  (1) Likely voter  NaN  (1) I will vote at a polling place on election...    (1) Election Day    (62244) Elizabeth Warren    (1) Democrat  (24012) Senate General Election  (S) Senate race 1  (G) General Election                     NaN               NaN                                      NaN                 NaN                   NaN      (67468) Jay Gonzalez    (1) Democrat  (22957) Governor General Election   (G) Governor  (G) General Election                        NaN           NaN                                                NaN                           NaN                   NaN  (99991) The Democratic Candidate    (1) Democrat  (888888) House of Representatives General Elec...  (H) House of Representatives  (G) General Election          NaN           NaN                                         NaN                    NaN                   NaN  (1) Democratic candidate for Senate                    NaN  (1) Democratic candidate for Governor          NaN  (2) Wrong direction                        (2) Health care                         NaN  (4) Disapprove strongly  (2) Voted to express opposition for Trump                    NaN               NaN               NaN               NaN              NaN                 NaN             NaN             NaN             NaN             NaN                                    NaN             NaN  (4) Very unfavorable  (4) Very unfavorable    (2) Somewhat favorable                     (1) Very favorable                   (4) Very unfavorable       NaN                 (2) Somewhat favorable                 (2) Somewhat favorable       NaN                   NaN                                    NaN               NaN               NaN                   NaN                                    NaN                 NaN                     (1) Very important      (1) Very important                      NaN                        NaN                 NaN                                  NaN                                                NaN              NaN  (2) Holding steady           (2) Hurt           (2) Hurt                  NaN                        NaN                        NaN                                    NaN                     (4) Expand the law                                       NaN  (1) Offered a chance to apply for legal status                                    NaN                  NaN                                            NaN        (1) Very concerned                                    NaN    (2) Legal in most cases        (1) Very concerned  (2) Somewhat concerned                                                NaN  (1) Yes, legal                    NaN                          NaN                              NaN                                    NaN                                (1) Yes                                    NaN                               NaN                                                NaN                                                NaN  (2) A few times a year or less               (2) Married      (1) Married                                    NaN                            NaN                NaN                                 (2) No      (2) No                               NaN           NaN                      NaN         NaN      NaN      NaN                     NaN       NaN        NaN        NaN      NaN        NaN                   NaN                  NaN           NaN     NaN        NaN         NaN          NaN                       NaN            NaN             NaN      NaN        NaN            NaN                  NaN   (2) Somewhat favor          NaN       NaN                  NaN                                                NaN     NaN    (2) No                      NaN         NaN       NaN           NaN        NaN        NaN       NaN       (2) No        (2) No             NaN              NaN           NaN         NaN         NaN            NaN              NaN              NaN           NaN         NaN                 NaN                 NaN                       NaN            NaN               NaN                       NaN            NaN                 NaN                 NaN                 NaN                   NaN            NaN         NaN                     NaN                         NaN               NaN                               NaN         NaN                               (4) I'm sure I voted                  NaN   (2) Not                               (4) I'm sure I voted                                                NaN  (2) No, it is not     (1) Yes, it is  (2) I decided over the course of the campaign  (2) Women  (5) 50-64  (88) REMOVED FOR DISCLOSURE RISK                      (1) White               NaN            (3) College graduate                   (5) $100,000 or more    (1) Democrat    (1) Democrat/Lean Dem                           (3) Moderate         (2) Catholic                    (2) Catholic    (2) No    (2) Suburban  (1) Form 1\n",
            "7   20000321              371.584249                 358.443771              288.588632                 273.229588    (2) Web     (NJ) New Jersey     (31) New Jersey               (1) Extremely interested    (1) Definitely will vote  (10) 10-Certain will vote  (1) Likely voter  NaN  (1) I will vote at a polling place on election...    (1) Election Day          (386) Bob Menendez    (1) Democrat  (31545) Senate General Election  (S) Senate race 1  (G) General Election                     NaN               NaN                                      NaN                 NaN                   NaN                       NaN             NaN                                NaN            NaN                   NaN                        NaN           NaN                                                NaN                           NaN                   NaN  (99991) The Democratic Candidate    (1) Democrat  (888888) House of Representatives General Elec...  (H) House of Representatives  (G) General Election          NaN           NaN                                         NaN                    NaN                   NaN  (1) Democratic candidate for Senate                    NaN                                    NaN          NaN  (2) Wrong direction                        (2) Health care                         NaN  (4) Disapprove strongly  (2) Voted to express opposition for Trump                    NaN               NaN               NaN               NaN              NaN                 NaN  (2) Disapprove  (2) Disapprove  (2) Disapprove  (2) Disapprove                            (1) Approve  (2) Disapprove                   NaN                   NaN                       NaN                 (2) Somewhat favorable                 (2) Somewhat favorable       NaN                                    NaN                                    NaN       NaN                   NaN                                    NaN               NaN               NaN                   NaN                                    NaN                 NaN                                    NaN  (2) Somewhat important                      NaN                        NaN                 NaN                                  NaN                                                NaN         (2) Good  (2) Holding steady           (2) Hurt           (2) Hurt  (1) Favors too much  (2) Does not favor enough  (2) Does not favor enough                (3) Disapprove somewhat                     (4) Expand the law                                       NaN  (1) Offered a chance to apply for legal status        (1) Do more to help the country  (3) Somewhat oppose                                            NaN                       NaN                                    NaN                        NaN                       NaN                     NaN                                                NaN             NaN                    NaN                          NaN                              NaN                                    NaN                                (1) Yes                 (2) Somewhat concerned                               NaN                                                NaN                                                NaN                             NaN                       NaN              NaN                                    NaN                         (3) No                NaN                                    NaN         NaN                           (1) Yes           NaN                      NaN         NaN      NaN      NaN                     NaN       NaN        NaN        NaN      NaN        NaN                   NaN                  NaN           NaN     NaN        NaN         NaN          NaN                       NaN            NaN             NaN      NaN        NaN            NaN                  NaN                  NaN          NaN       NaN                  NaN                                                NaN     NaN       NaN                      NaN         NaN       NaN           NaN        NaN        NaN       NaN          NaN           NaN             NaN              NaN           NaN         NaN         NaN            NaN              NaN           (2) No        (2) No         NaN                 NaN                 NaN                       NaN            NaN               NaN                       NaN            NaN                 NaN                 NaN                 NaN                   NaN        (1) Yes     (1) Yes                     NaN                         NaN               NaN                               NaN         NaN                               (4) I'm sure I voted                  NaN   (2) Not                               (4) I'm sure I voted                                                NaN  (2) No, it is not     (1) Yes, it is  (2) I decided over the course of the campaign    (1) Men    (6) 65+                         (1) White                      (1) White               NaN          (4) Postgraduate study                   (5) $100,000 or more     (3) Neither    (1) Democrat/Lean Dem                   (2) Somewhat liberal             (8) None                (4) Unaffiliated       NaN    (2) Suburban  (2) Form 2\n",
            "8   20000442              390.717641                 376.900542              350.696360                 281.076712  (1) Phone          (TX) Texas          (43) Texas               (1) Extremely interested    (1) Definitely will vote  (10) 10-Certain will vote  (1) Likely voter  NaN  (1) I will vote at a polling place on election...    (1) Election Day       (61921) Beto O'Rourke    (1) Democrat  (45870) Senate General Election  (S) Senate race 1  (G) General Election                     NaN               NaN                                      NaN                 NaN                   NaN       (66011) Lupe Valdez    (1) Democrat  (45901) Governor General Election   (G) Governor  (G) General Election                        NaN           NaN                                                NaN                           NaN                   NaN  (99991) The Democratic Candidate    (1) Democrat  (888888) House of Representatives General Elec...  (H) House of Representatives  (G) General Election          NaN           NaN                                         NaN                    NaN                   NaN  (1) Democratic candidate for Senate                    NaN  (1) Democratic candidate for Governor          NaN  (2) Wrong direction                        (3) Immigration                         NaN  (4) Disapprove strongly  (2) Voted to express opposition for Trump                    NaN               NaN               NaN               NaN              NaN                 NaN             NaN             NaN             NaN             NaN                                    NaN             NaN  (4) Very unfavorable  (4) Very unfavorable        (1) Very favorable                     (1) Very favorable                   (4) Very unfavorable       NaN                     (1) Very favorable                   (4) Very unfavorable       NaN                   NaN                                    NaN               NaN               NaN                   NaN                                    NaN                 NaN                     (1) Very important      (1) Very important                      NaN                        NaN                 NaN                                  NaN                                                NaN              NaN   (1) Getting ahead           (2) Hurt           (2) Hurt                  NaN                        NaN                        NaN                                    NaN            (2) Repeal parts of the law                                       NaN  (1) Offered a chance to apply for legal status                                    NaN                  NaN                                            NaN    (2) Somewhat concerned                                    NaN    (2) Legal in most cases        (1) Very concerned      (1) Very concerned                                                NaN  (1) Yes, legal                    NaN                          NaN                              NaN                                    NaN                                (1) Yes                                    NaN                               NaN                                                NaN                                                NaN         (4) A few times a month  (1) Single/Never married  (2) Not married                                    NaN                            NaN                NaN                                 (2) No      (2) No                               NaN           NaN                      NaN         NaN      NaN      NaN                     NaN       NaN        NaN        NaN      NaN        NaN                   NaN                  NaN           NaN     NaN        NaN         NaN          NaN                       NaN            NaN             NaN      NaN        NaN            NaN   (1) Strongly favor                  NaN          NaN       NaN                  NaN                                                NaN     NaN       NaN                      NaN         NaN       NaN           NaN        NaN        NaN       NaN          NaN           NaN             NaN              NaN           NaN         NaN         NaN            NaN              NaN              NaN           NaN         NaN                 NaN                 NaN                       NaN            NaN               NaN                       NaN            NaN                 NaN                 NaN                 NaN                   NaN            NaN         NaN                     NaN                         NaN   (3) About right  (1) National political ambitions         NaN                               (4) I'm sure I voted                  NaN   (2) Not                               (4) I'm sure I voted                                                NaN  (2) No, it is not     (1) Yes, it is                       (1) I've known all along    (1) Men    (6) 65+  (88) REMOVED FOR DISCLOSURE RISK                      (5) Other               NaN            (3) College graduate                    (3) $50,000-$74,999    (1) Democrat    (1) Democrat/Lean Dem                   (2) Somewhat liberal       (1) Protestant  (1) Protestant/Other Christian    (2) No  (3) Small town  (1) Form 1\n",
            "9   20000464              936.637940                 903.515250              749.365546                 721.667438    (2) Web        (GA) Georgia        (10) Georgia               (1) Extremely interested    (1) Definitely will vote  (10) 10-Certain will vote  (1) Likely voter  NaN  (2) I will vote before election day by mailing...  (2) Early/Absentee                         NaN             NaN                              NaN                NaN                   NaN                     NaN               NaN                                      NaN                 NaN                   NaN     (66667) Stacey Abrams    (1) Democrat  (12029) Governor General Election   (G) Governor  (G) General Election                        NaN           NaN                                                NaN                           NaN                   NaN  (99991) The Democratic Candidate    (1) Democrat  (888888) House of Representatives General Elec...  (H) House of Representatives  (G) General Election          NaN           NaN                                         NaN                    NaN                   NaN                                  NaN                    NaN  (1) Democratic candidate for Governor          NaN  (2) Wrong direction                        (2) Health care                         NaN  (4) Disapprove strongly  (2) Voted to express opposition for Trump                    NaN               NaN               NaN               NaN              NaN                 NaN             NaN             NaN             NaN             NaN                                    NaN             NaN                   NaN                   NaN                       NaN                                    NaN                                    NaN       NaN                     (1) Very favorable                   (4) Very unfavorable       NaN                   NaN                                    NaN               NaN               NaN                   NaN                                    NaN                 NaN                                    NaN                     NaN                      NaN                  (4) Never                 NaN                                  NaN                                                NaN              NaN  (3) Falling behind           (2) Hurt           (2) Hurt                  NaN                        NaN                        NaN                                    NaN                     (4) Expand the law      (1) Government should be responsible  (1) Offered a chance to apply for legal status                                    NaN                  NaN                                            NaN                       NaN              (1) Should be more strict                        NaN                       NaN                     NaN                                                NaN             NaN                    NaN  (2) Made the U.S. less safe      (2) Made the U.S. less safe            (2) Made the U.S. less safe                                (1) Yes                                    NaN      (2) The Democratic candidate  (2) They mostly try to do what's best for thei...  (1) They mostly try to do what's best for the ...                             NaN                       NaN              NaN                                 (3) No                            NaN             (3) No                                    NaN         NaN                               NaN           NaN                      NaN         NaN      NaN      NaN                     NaN       NaN        NaN        NaN      NaN        NaN                   NaN   (1) Strongly favor           NaN     NaN        NaN         NaN          NaN                       NaN            NaN             NaN      NaN        NaN            NaN                  NaN                  NaN          NaN       NaN                  NaN                                                NaN     NaN       NaN                      NaN         NaN       NaN           NaN        NaN        NaN       NaN          NaN           NaN             NaN              NaN           NaN         NaN         NaN            NaN              NaN              NaN           NaN         NaN                 NaN  (1) Very important  (4) Not at all confident  (1) Very easy               NaN                       NaN            NaN                 NaN                 NaN                 NaN                   NaN            NaN         NaN                     NaN                         NaN               NaN                               NaN         NaN                               (4) I'm sure I voted  (2) Hillary Clinton   (2) Not                               (4) I'm sure I voted                                                NaN  (2) No, it is not     (1) Yes, it is                       (1) I've known all along  (2) Women  (5) 50-64  (88) REMOVED FOR DISCLOSURE RISK                      (1) White               NaN  (2) Some college/assoc. degree                    (2) $25,000-$49,999    (1) Democrat    (1) Democrat/Lean Dem                       (1) Very liberal           (5) Jewish                       (3) Other       NaN    (2) Suburban  (3) Form 3\n",
            "10  20000485             1245.552450                1201.505496              965.810852                 882.434059    (2) Web        (AZ) Arizona         (4) Arizona               (1) Extremely interested         (5) I already voted         (12) Already voted  (1) Likely voter  NaN                                                NaN  (2) Early/Absentee       (5418) Kyrsten Sinema    (1) Democrat   (4021) Senate General Election  (S) Senate race 1  (G) General Election                     NaN               NaN                                      NaN                 NaN                   NaN      (67581) David Garcia    (1) Democrat   (3014) Governor General Election   (G) Governor  (G) General Election                        NaN           NaN                                                NaN                           NaN                   NaN  (99991) The Democratic Candidate    (1) Democrat  (888888) House of Representatives General Elec...  (H) House of Representatives  (G) General Election          NaN           NaN                                         NaN                    NaN                   NaN  (1) Democratic candidate for Senate                    NaN  (1) Democratic candidate for Governor          NaN  (2) Wrong direction                        (2) Health care                         NaN  (4) Disapprove strongly  (2) Voted to express opposition for Trump                    NaN               NaN               NaN               NaN              NaN                 NaN  (2) Disapprove  (2) Disapprove  (2) Disapprove  (2) Disapprove                         (2) Disapprove  (2) Disapprove                   NaN                   NaN                       NaN                 (2) Somewhat favorable                   (4) Very unfavorable       NaN                 (2) Somewhat favorable               (3) Somewhat unfavorable       NaN                   NaN                                    NaN               NaN               NaN                   NaN                                    NaN                 NaN                                    NaN      (1) Very important                      NaN                        NaN                 NaN                                  NaN                                                NaN         (2) Good  (2) Holding steady           (2) Hurt           (2) Hurt  (1) Favors too much  (2) Does not favor enough  (2) Does not favor enough                (4) Disapprove strongly                     (4) Expand the law                                       NaN  (1) Offered a chance to apply for legal status        (1) Do more to help the country  (4) Strongly oppose                                            NaN                       NaN                                    NaN                        NaN                       NaN                     NaN                                                NaN             NaN                    NaN                          NaN                              NaN                                    NaN                                (1) Yes                     (1) Very concerned                               NaN                                                NaN                                                NaN                             NaN                       NaN              NaN                                    NaN                         (3) No             (3) No                                    NaN         NaN  (88) REMOVED FOR DISCLOSURE RISK           NaN                      NaN         NaN      NaN      NaN  (2) Somewhat favorable       NaN        NaN        NaN      NaN        NaN                   NaN                  NaN           NaN     NaN        NaN         NaN          NaN                       NaN            NaN             NaN      NaN        NaN            NaN   (2) Somewhat favor                  NaN          NaN       NaN                  NaN                                                NaN     NaN       NaN                      NaN         NaN       NaN           NaN        NaN        NaN       NaN          NaN           NaN             NaN              NaN           NaN         NaN         NaN            NaN              NaN              NaN           NaN         NaN                 NaN                 NaN                       NaN            NaN               NaN                       NaN            NaN                 NaN                 NaN                 NaN                   NaN            NaN         NaN                     NaN                         NaN               NaN                               NaN         NaN                               (4) I'm sure I voted                  NaN   (2) Not                               (4) I'm sure I voted                                                NaN  (2) No, it is not     (1) Yes, it is  (2) I decided over the course of the campaign  (2) Women    (6) 65+                         (1) White                      (1) White               NaN  (2) Some college/assoc. degree                    (3) $50,000-$74,999    (1) Democrat    (1) Democrat/Lean Dem                           (3) Moderate       (1) Protestant  (1) Protestant/Other Christian       NaN       (1) Urban  (2) Form 2\n",
            "11  20000501              237.070966                 228.687333              167.840181                 140.924400    (2) Web  (WV) West Virginia  (49) West Virginia               (1) Extremely interested    (1) Definitely will vote  (10) 10-Certain will vote  (1) Likely voter  NaN  (1) I will vote at a polling place on election...    (1) Election Day    (66287) Patrick Morrisey  (2) Republican  (49607) Senate General Election  (S) Senate race 1  (G) General Election                     NaN               NaN                                      NaN                 NaN                   NaN                       NaN             NaN                                NaN            NaN                   NaN                        NaN           NaN                                                NaN                           NaN                   NaN  (99992) The Republican Candidate  (2) Republican  (888888) House of Representatives General Elec...  (H) House of Representatives  (G) General Election          NaN           NaN                                         NaN                    NaN                   NaN  (2) Republican candidate for Senate                    NaN                                    NaN          NaN  (1) Right direction                        (3) Immigration                         NaN     (1) Approve strongly     (1) Voted to express support for Trump                    NaN               NaN               NaN               NaN              NaN                 NaN             NaN             NaN             NaN             NaN                                    NaN             NaN                   NaN                   NaN                       NaN                   (4) Very unfavorable                     (1) Very favorable       NaN                                    NaN                                    NaN       NaN                   NaN                                    NaN               NaN               NaN                   NaN                                    NaN                 NaN                                    NaN      (1) Very important                      NaN  (3) Only some of the time                 NaN                                  NaN                                                NaN              NaN   (1) Getting ahead           (1) Help           (1) Help                  NaN                        NaN                        NaN                                    NaN            (1) Repeal the law entirely  (2) Government should not be responsible      (2) Deported to the country they came from                                    NaN                  NaN                                            NaN                       NaN  (99) DON’T KNOW/SKIPPED/REFUSED (VOL)                        NaN                       NaN                     NaN                                                NaN             NaN                    NaN      (1) Made the U.S. safer          (1) Made the U.S. safer  (99) DON'T KNOW/SKIPPED/REFUSED (VOL)                                 (2) No                                    NaN  (1) Donald Trump, the Republican  (1) They mostly try to do what's best for the ...  (2) They mostly try to do what's best for thei...                             NaN                       NaN              NaN  (99) DON’T KNOW/SKIPPED/REFUSED (VOL)                         (3) No  (1) Veteran, self                                    NaN         NaN                               NaN           NaN                      NaN         NaN      NaN      NaN                     NaN       NaN        NaN        NaN      NaN        NaN                   NaN                  NaN           NaN     NaN        NaN         NaN          NaN                       NaN            NaN             NaN      NaN        NaN            NaN                  NaN                  NaN          NaN       NaN                  NaN                                                NaN  (3) No       NaN                      NaN         NaN       NaN           NaN        NaN        NaN       NaN          NaN           NaN             NaN              NaN           NaN         NaN         NaN            NaN              NaN              NaN           NaN         NaN                 NaN                 NaN                       NaN            NaN               NaN                       NaN            NaN                 NaN                 NaN  (1) Very important                   NaN            NaN         NaN                     NaN                         NaN               NaN                               NaN         NaN                               (4) I'm sure I voted     (1) Donald Trump   (2) Not                               (4) I'm sure I voted                                                NaN     (1) Yes, it is  (2) No, it is not  (2) I decided over the course of the campaign    (1) Men  (5) 50-64                         (1) White                      (1) White               NaN  (2) Some college/assoc. degree  (99) DON’T KNOW/SKIPPED/REFUSED (VOL)     (3) Neither  (2) Republican/Lean Rep                  (5) Very conservative             (8) None                (4) Unaffiliated       NaN       (4) Rural  (3) Form 3\n",
            "12  20000503              128.655369                 124.105679              140.899688                 182.984734    (2) Web      (WI) Wisconsin      (48) Wisconsin                    (2) Very interested    (1) Definitely will vote  (10) 10-Certain will vote  (1) Likely voter  NaN  (1) I will vote at a polling place on election...    (1) Election Day        (1092) Tammy Baldwin    (1) Democrat  (50807) Senate General Election  (S) Senate race 1  (G) General Election                     NaN               NaN                                      NaN                 NaN                   NaN      (48976) Scott Walker  (2) Republican  (50016) Governor General Election   (G) Governor  (G) General Election                        NaN           NaN                                                NaN                           NaN                   NaN  (99992) The Republican Candidate  (2) Republican  (888888) House of Representatives General Elec...  (H) House of Representatives  (G) General Election          NaN           NaN                                         NaN                    NaN                   NaN  (1) Democratic candidate for Senate                    NaN  (2) Republican candidate for Governor          NaN  (1) Right direction               (1) The economy and jobs                         NaN     (2) Approve somewhat  (2) Voted to express opposition for Trump                    NaN               NaN               NaN               NaN              NaN                 NaN     (1) Approve  (2) Disapprove  (2) Disapprove  (2) Disapprove                            (1) Approve  (2) Disapprove                   NaN                   NaN                       NaN                 (2) Somewhat favorable               (3) Somewhat unfavorable       NaN               (3) Somewhat unfavorable                 (2) Somewhat favorable       NaN                   NaN                                    NaN               NaN               NaN                   NaN                                    NaN                 NaN                                    NaN  (2) Somewhat important                      NaN                        NaN                 NaN                                  NaN                                                NaN         (2) Good  (2) Holding steady           (2) Hurt           (2) Hurt  (1) Favors too much     (3) Treats about right  (2) Does not favor enough  (99) DON’T KNOW/SKIPPED/REFUSED (VOL)            (2) Repeal parts of the law                                       NaN  (1) Offered a chance to apply for legal status        (1) Do more to help the country  (3) Somewhat oppose                                            NaN                       NaN                                    NaN                        NaN                       NaN                     NaN                                                NaN             NaN                    NaN                          NaN                              NaN                                    NaN  (99) DON'T KNOW/SKIPPED/REFUSED (VOL)                 (2) Somewhat concerned                               NaN                                                NaN                                                NaN                             NaN                       NaN              NaN                                    NaN                         (3) No                NaN                                    NaN         NaN                           (1) Yes           NaN                      NaN         NaN      NaN      NaN                     NaN       NaN        NaN        NaN      NaN        NaN                   NaN                  NaN           NaN     NaN        NaN         NaN          NaN                       NaN            NaN             NaN      NaN        NaN            NaN   (2) Somewhat favor                  NaN          NaN       NaN                  NaN                                                NaN     NaN       NaN                      NaN         NaN       NaN           NaN        NaN        NaN       NaN          NaN           NaN             NaN              NaN           NaN         NaN         NaN            NaN              NaN              NaN           NaN         NaN                 NaN                 NaN                       NaN            NaN               NaN          (3) Both equally            NaN                 NaN                 NaN                 NaN                   NaN            NaN         NaN                     NaN                         NaN               NaN                               NaN         NaN                               (4) I'm sure I voted                  NaN   (2) Not                               (4) I'm sure I voted                                                NaN  (2) No, it is not  (2) No, it is not  (2) I decided over the course of the campaign    (1) Men  (5) 50-64                         (1) White                      (1) White               NaN            (3) College graduate                    (2) $25,000-$49,999     (3) Neither  (2) Republican/Lean Rep                           (3) Moderate         (2) Catholic                    (2) Catholic       NaN       (1) Urban  (2) Form 2\n",
            "13  20000622             1187.475773                1145.482608              776.856304                 704.449587    (2) Web     (WA) Washington     (47) Washington               (1) Extremely interested         (5) I already voted         (12) Already voted  (1) Likely voter  NaN                                                NaN  (2) Early/Absentee     (67213) Susan Hutchison  (2) Republican  (49106) Senate General Election  (S) Senate race 1  (G) General Election                     NaN               NaN                                      NaN                 NaN                   NaN                       NaN             NaN                                NaN            NaN                   NaN                        NaN           NaN                                                NaN                           NaN                   NaN  (99992) The Republican Candidate  (2) Republican  (888888) House of Representatives General Elec...  (H) House of Representatives  (G) General Election          NaN           NaN                                         NaN                    NaN                   NaN  (2) Republican candidate for Senate                    NaN                                    NaN          NaN  (1) Right direction                         (6) Gun policy                         NaN     (1) Approve strongly     (1) Voted to express support for Trump                    NaN               NaN               NaN               NaN              NaN                 NaN             NaN             NaN             NaN             NaN                                    NaN             NaN    (1) Very favorable    (1) Very favorable      (4) Very unfavorable                   (4) Very unfavorable                     (1) Very favorable       NaN                                    NaN                                    NaN       NaN                   NaN                                    NaN               NaN               NaN                   NaN                                    NaN                 NaN               (4) Not at all important      (1) Very important                      NaN                        NaN                 NaN                                  NaN                                                NaN              NaN   (1) Getting ahead           (1) Help           (1) Help                  NaN                        NaN                        NaN                                    NaN            (1) Repeal the law entirely                                       NaN      (2) Deported to the country they came from                                    NaN                  NaN                                            NaN  (4) Not at all concerned                                    NaN     (1) Legal in all cases  (4) Not at all concerned      (1) Very concerned                                                NaN  (1) Yes, legal                    NaN                          NaN                              NaN                                    NaN                                 (2) No                                    NaN                               NaN                                                NaN                                                NaN                       (1) Never               (2) Married      (1) Married                                    NaN                            NaN                NaN                                 (2) No      (2) No                               NaN           NaN                      NaN         NaN      NaN      NaN                     NaN       NaN        NaN        NaN      NaN        NaN  (4) Very unfavorable                  NaN           NaN     NaN        NaN         NaN          NaN  (4) Not at all concerned            NaN             NaN      NaN        NaN            NaN                  NaN                  NaN          NaN       NaN  (4) Strongly oppose  (1) Focus on expanding production of fossil fu...     NaN       NaN                      NaN         NaN       NaN           NaN        NaN        NaN       NaN          NaN           NaN             NaN              NaN           NaN         NaN         NaN            NaN              NaN              NaN           NaN         NaN                 NaN                 NaN                       NaN            NaN               NaN                       NaN            NaN                 NaN                 NaN                 NaN                   NaN            NaN         NaN                     NaN                         NaN               NaN                               NaN         NaN                               (4) I'm sure I voted                  NaN   (2) Not                               (4) I'm sure I voted                                                NaN     (1) Yes, it is  (2) No, it is not                       (1) I've known all along    (1) Men  (4) 40-49                         (1) White                      (1) White               NaN  (2) Some college/assoc. degree                   (5) $100,000 or more  (2) Republican  (2) Republican/Lean Rep                  (5) Very conservative             (8) None                (4) Unaffiliated    (2) No       (4) Rural  (1) Form 1\n",
            "14  20000662              881.229328                 850.066074              626.144777                 762.410082    (2) Web  (WV) West Virginia  (49) West Virginia                    (2) Very interested    (1) Definitely will vote  (10) 10-Certain will vote  (1) Likely voter  NaN  (1) I will vote at a polling place on election...    (1) Election Day         (47450) Joe Manchin    (1) Democrat  (49607) Senate General Election  (S) Senate race 1  (G) General Election                     NaN               NaN                                      NaN                 NaN                   NaN                       NaN             NaN                                NaN            NaN                   NaN                        NaN           NaN                                                NaN                           NaN                   NaN  (99991) The Democratic Candidate    (1) Democrat  (888888) House of Representatives General Elec...  (H) House of Representatives  (G) General Election          NaN           NaN                                         NaN                    NaN                   NaN  (1) Democratic candidate for Senate                    NaN                                    NaN          NaN  (2) Wrong direction                         (6) Gun policy                         NaN  (4) Disapprove strongly  (2) Voted to express opposition for Trump                    NaN               NaN               NaN               NaN              NaN                 NaN             NaN             NaN             NaN             NaN                                    NaN             NaN                   NaN                   NaN                       NaN                 (2) Somewhat favorable                   (4) Very unfavorable       NaN                                    NaN                                    NaN       NaN                   NaN                                    NaN               NaN               NaN                   NaN                                    NaN                 NaN                                    NaN      (1) Very important                      NaN  (3) Only some of the time                 NaN                                  NaN                                                NaN              NaN  (3) Falling behind           (2) Hurt           (2) Hurt                  NaN                        NaN                        NaN                                    NaN                     (4) Expand the law      (1) Government should be responsible  (1) Offered a chance to apply for legal status                                    NaN                  NaN                                            NaN                       NaN              (1) Should be more strict                        NaN                       NaN                     NaN                                                NaN             NaN                    NaN  (2) Made the U.S. less safe      (2) Made the U.S. less safe            (2) Made the U.S. less safe                                (1) Yes                                    NaN      (2) The Democratic candidate  (2) They mostly try to do what's best for thei...  (2) They mostly try to do what's best for thei...                             NaN                       NaN              NaN                                 (3) No                         (3) No             (3) No                                    NaN         NaN                               NaN           NaN                      NaN         NaN      NaN      NaN                     NaN       NaN        NaN        NaN      NaN        NaN                   NaN                  NaN           NaN     NaN        NaN         NaN          NaN                       NaN            NaN             NaN      NaN        NaN            NaN                  NaN                  NaN          NaN       NaN                  NaN                                                NaN  (3) No       NaN                      NaN         NaN       NaN           NaN        NaN        NaN       NaN          NaN           NaN             NaN              NaN           NaN         NaN         NaN            NaN              NaN              NaN           NaN         NaN                 NaN                 NaN                       NaN            NaN               NaN                       NaN            NaN                 NaN                 NaN  (1) Very important                   NaN            NaN         NaN                     NaN                         NaN               NaN                               NaN         NaN                               (4) I'm sure I voted  (2) Hillary Clinton   (2) Not                               (4) I'm sure I voted                                                NaN  (2) No, it is not     (1) Yes, it is                       (1) I've known all along    (1) Men  (4) 40-49                         (1) White                      (1) White               NaN         (1) High school or less                      (1) Under $25,000    (1) Democrat    (1) Democrat/Lean Dem                           (3) Moderate             (8) None                (4) Unaffiliated       NaN       (1) Urban  (3) Form 3\n",
            "15  20000702             8177.233424                7888.058753             6216.422945                5996.589174  (1) Phone        (FL) Florida         (9) Florida                    (2) Very interested    (1) Definitely will vote  (10) 10-Certain will vote  (1) Likely voter  NaN  (2) I will vote before election day by mailing...  (2) Early/Absentee          (1711) Bill Nelson    (1) Democrat  (10005) Senate General Election  (S) Senate race 1  (G) General Election                     NaN               NaN                                      NaN                 NaN                   NaN     (67609) Andrew Gillum    (1) Democrat  (10045) Governor General Election   (G) Governor  (G) General Election                        NaN           NaN                                                NaN                           NaN                   NaN  (99991) The Democratic Candidate    (1) Democrat  (888888) House of Representatives General Elec...  (H) House of Representatives  (G) General Election      (2) Yes      (10) Yes  (11866) Ballot Initiative General Election  (I) Ballot initiative  (G) General Election  (1) Democratic candidate for Senate                    NaN  (1) Democratic candidate for Governor          NaN  (2) Wrong direction                    (7) The environment                         NaN  (4) Disapprove strongly  (2) Voted to express opposition for Trump                    NaN               NaN               NaN               NaN              NaN                 NaN  (2) Disapprove  (2) Disapprove  (2) Disapprove  (2) Disapprove                         (2) Disapprove  (2) Disapprove                   NaN                   NaN                       NaN                 (2) Somewhat favorable                   (4) Very unfavorable       NaN                     (1) Very favorable                   (4) Very unfavorable       NaN                   NaN                                    NaN               NaN               NaN                   NaN                                    NaN                 NaN                                    NaN      (1) Very important                      NaN                        NaN                 NaN                                  NaN                                                NaN         (2) Good  (2) Holding steady           (2) Hurt           (2) Hurt  (1) Favors too much  (2) Does not favor enough  (2) Does not favor enough                (4) Disapprove strongly                     (4) Expand the law                                       NaN  (1) Offered a chance to apply for legal status        (1) Do more to help the country  (4) Strongly oppose                                            NaN                       NaN                                    NaN                        NaN                       NaN                     NaN                                                NaN             NaN                    NaN                          NaN                              NaN                                    NaN                                (1) Yes                     (1) Very concerned                               NaN                                                NaN                                                NaN                             NaN                       NaN              NaN                                    NaN                         (3) No                NaN                                    NaN         NaN                           (1) Yes           NaN                      NaN         NaN      NaN      NaN                     NaN       NaN        NaN        NaN      NaN        NaN                   NaN   (1) Strongly favor           NaN     NaN        NaN         NaN          NaN                       NaN            NaN             NaN      NaN        NaN            NaN                  NaN                  NaN          NaN       NaN                  NaN                                                NaN     NaN       NaN                      NaN         NaN       NaN           NaN        NaN        NaN       NaN          NaN           NaN             NaN              NaN           NaN         NaN         NaN         (2) No          (1) Yes              NaN           NaN         NaN  (1) Strongly favor                 NaN                       NaN            NaN               NaN                       NaN            NaN                 NaN                 NaN                 NaN                   NaN            NaN         NaN                     NaN                         NaN               NaN                               NaN         NaN                               (4) I'm sure I voted                  NaN   (2) Not                               (4) I'm sure I voted                                                NaN  (2) No, it is not     (1) Yes, it is                       (1) I've known all along  (2) Women  (2) 25-29  (88) REMOVED FOR DISCLOSURE RISK                      (1) White  (3) Non-Hispanic  (2) Some college/assoc. degree                    (2) $25,000-$49,999    (1) Democrat    (1) Democrat/Lean Dem                       (1) Very liberal             (8) None                (4) Unaffiliated       NaN       (1) Urban  (2) Form 2\n",
            "16  20000740              438.076850                 422.584969              257.987335                 201.215592    (2) Web   (PA) Pennsylvania   (38) Pennsylvania               (1) Extremely interested    (1) Definitely will vote  (10) 10-Certain will vote  (1) Likely voter  NaN  (1) I will vote at a polling place on election...    (1) Election Day           (39527) Bob Casey    (1) Democrat  (40100) Senate General Election  (S) Senate race 1  (G) General Election                     NaN               NaN                                      NaN                 NaN                   NaN          (63485) Tom Wolf    (1) Democrat  (39292) Governor General Election   (G) Governor  (G) General Election                        NaN           NaN                                                NaN                           NaN                   NaN  (99991) The Democratic Candidate    (1) Democrat  (888888) House of Representatives General Elec...  (H) House of Representatives  (G) General Election          NaN           NaN                                         NaN                    NaN                   NaN  (1) Democratic candidate for Senate                    NaN  (1) Democratic candidate for Governor          NaN  (2) Wrong direction                    (7) The environment                         NaN  (4) Disapprove strongly  (2) Voted to express opposition for Trump                    NaN               NaN               NaN               NaN              NaN                 NaN             NaN             NaN             NaN             NaN                                    NaN             NaN                   NaN                   NaN                       NaN                 (2) Somewhat favorable                   (4) Very unfavorable       NaN                     (1) Very favorable                   (4) Very unfavorable       NaN                   NaN                                    NaN               NaN               NaN                   NaN                                    NaN                 NaN                                    NaN      (1) Very important                      NaN  (3) Only some of the time                 NaN                                  NaN                                                NaN              NaN   (1) Getting ahead           (2) Hurt           (2) Hurt                  NaN                        NaN                        NaN                                    NaN                     (4) Expand the law      (1) Government should be responsible  (1) Offered a chance to apply for legal status                                    NaN                  NaN                                            NaN                       NaN              (1) Should be more strict                        NaN                       NaN                     NaN                                                NaN             NaN                    NaN  (2) Made the U.S. less safe  (3) Hasn't made much difference            (2) Made the U.S. less safe                                (1) Yes                                    NaN      (2) The Democratic candidate  (2) They mostly try to do what's best for thei...  (1) They mostly try to do what's best for the ...                             NaN                       NaN              NaN                                 (3) No                         (3) No             (3) No                                    NaN         NaN                               NaN           NaN                      NaN         NaN      NaN      NaN                     NaN       NaN        NaN        NaN      NaN        NaN                   NaN                  NaN           NaN     NaN        NaN         NaN          NaN                       NaN            NaN             NaN      NaN        NaN            NaN                  NaN                  NaN          NaN       NaN                  NaN  (2) Focus on expanding use of alternative ener...     NaN       NaN                      NaN         NaN       NaN           NaN        NaN        NaN       NaN          NaN           NaN             NaN              NaN           NaN         NaN         NaN            NaN              NaN              NaN           NaN         NaN                 NaN                 NaN                       NaN            NaN               NaN  (1) The Democratic Party            NaN                 NaN                 NaN                 NaN                   NaN            NaN         NaN                     NaN                         NaN               NaN                               NaN         NaN                               (4) I'm sure I voted  (2) Hillary Clinton   (2) Not                               (4) I'm sure I voted                                                NaN  (2) No, it is not     (1) Yes, it is                       (1) I've known all along    (1) Men    (6) 65+                         (1) White                      (1) White               NaN          (4) Postgraduate study                    (3) $50,000-$74,999    (1) Democrat    (1) Democrat/Lean Dem                   (2) Somewhat liberal           (5) Jewish                       (3) Other       NaN  (3) Small town  (3) Form 3\n",
            "17  20000828              470.798591                 454.149558              466.052996                 488.590551    (2) Web  (MA) Massachusetts  (19) Massachusetts               (1) Extremely interested    (1) Definitely will vote  (10) 10-Certain will vote  (1) Likely voter  NaN  (2) I will vote before election day by mailing...  (2) Early/Absentee    (62244) Elizabeth Warren    (1) Democrat  (24012) Senate General Election  (S) Senate race 1  (G) General Election                     NaN               NaN                                      NaN                 NaN                   NaN     (60668) Charlie Baker  (2) Republican  (22957) Governor General Election   (G) Governor  (G) General Election                        NaN           NaN                                                NaN                           NaN                   NaN  (99991) The Democratic Candidate    (1) Democrat  (888888) House of Representatives General Elec...  (H) House of Representatives  (G) General Election          NaN           NaN                                         NaN                    NaN                   NaN  (1) Democratic candidate for Senate                    NaN  (2) Republican candidate for Governor          NaN  (2) Wrong direction                    (7) The environment                         NaN  (4) Disapprove strongly                 (3) Trump was not a factor                    NaN               NaN               NaN               NaN              NaN                 NaN             NaN             NaN             NaN             NaN                                    NaN             NaN  (4) Very unfavorable  (4) Very unfavorable  (3) Somewhat unfavorable               (3) Somewhat unfavorable                   (4) Very unfavorable       NaN                 (2) Somewhat favorable                 (2) Somewhat favorable       NaN                   NaN                                    NaN               NaN               NaN                   NaN                                    NaN                 NaN                     (1) Very important      (1) Very important                      NaN                        NaN                 NaN                                  NaN                                                NaN              NaN  (2) Holding steady           (2) Hurt           (2) Hurt                  NaN                        NaN                        NaN                                    NaN                (3) Leave the law as is                                       NaN  (1) Offered a chance to apply for legal status                                    NaN                  NaN                                            NaN        (1) Very concerned                                    NaN     (1) Legal in all cases        (1) Very concerned  (2) Somewhat concerned                                                NaN  (1) Yes, legal                    NaN                          NaN                              NaN                                    NaN                                (1) Yes                                    NaN                               NaN                                                NaN                                                NaN  (2) A few times a year or less               (2) Married      (1) Married                                    NaN                            NaN                NaN                                 (2) No      (2) No                               NaN           NaN                      NaN         NaN      NaN      NaN                     NaN       NaN        NaN        NaN      NaN        NaN                   NaN                  NaN           NaN     NaN        NaN         NaN          NaN                       NaN            NaN             NaN      NaN        NaN            NaN                  NaN   (2) Somewhat favor          NaN       NaN                  NaN                                                NaN     NaN       NaN                      NaN         NaN       NaN           NaN        NaN        NaN       NaN       (2) No        (2) No             NaN              NaN           NaN         NaN         NaN            NaN              NaN              NaN           NaN         NaN                 NaN                 NaN                       NaN            NaN               NaN                       NaN            NaN                 NaN                 NaN                 NaN                   NaN            NaN         NaN                     NaN                         NaN               NaN                               NaN         NaN                               (4) I'm sure I voted                  NaN   (2) Not                               (4) I'm sure I voted                                                NaN  (2) No, it is not     (1) Yes, it is  (2) I decided over the course of the campaign  (2) Women  (5) 50-64  (88) REMOVED FOR DISCLOSURE RISK                      (1) White               NaN          (4) Postgraduate study                   (5) $100,000 or more     (3) Neither    (1) Democrat/Lean Dem                       (1) Very liberal   (7) Something else                       (3) Other    (2) No    (2) Suburban  (1) Form 1\n",
            "18  20000877             8944.441342                8628.135601              341.477389               10612.929285  (1) Phone     (CA) California      (5) California               (1) Extremely interested         (5) I already voted         (12) Already voted  (1) Likely voter  NaN                                                NaN  (2) Early/Absentee  (100008) Another candidate       (6) Other   (8619) Senate General Election  (S) Senate race 1  (G) General Election                     NaN               NaN                                      NaN                 NaN                   NaN          (66651) John Cox  (2) Republican   (6123) Governor General Election   (G) Governor  (G) General Election                        NaN           NaN                                                NaN                           NaN                   NaN  (99992) The Republican Candidate  (2) Republican  (888888) House of Representatives General Elec...  (H) House of Representatives  (G) General Election          NaN           NaN                                         NaN                    NaN                   NaN                (4) Another candidate                    NaN  (2) Republican candidate for Governor          NaN  (1) Right direction                        (3) Immigration                         NaN     (1) Approve strongly     (1) Voted to express support for Trump                    NaN               NaN               NaN               NaN              NaN                 NaN             NaN             NaN             NaN             NaN                                    NaN             NaN                   NaN                   NaN                       NaN                                    NaN                                    NaN       NaN                   (4) Very unfavorable                     (1) Very favorable       NaN  (4) Very unfavorable  (99) DON’T KNOW/SKIPPED/REFUSED (VOL)               NaN               NaN                   NaN                                    NaN                 NaN                                    NaN      (1) Very important                      NaN                  (4) Never                 NaN                                  NaN                                                NaN              NaN   (1) Getting ahead           (1) Help           (1) Help                  NaN                        NaN                        NaN                                    NaN            (1) Repeal the law entirely  (2) Government should not be responsible  (1) Offered a chance to apply for legal status                                    NaN                  NaN                                            NaN                       NaN         (3) Should be kept as they are                        NaN                       NaN                     NaN                                                NaN             NaN                    NaN      (1) Made the U.S. safer          (1) Made the U.S. safer        (3) Hasn't made much difference                                 (2) No                                    NaN  (1) Donald Trump, the Republican  (1) They mostly try to do what's best for the ...  (2) They mostly try to do what's best for thei...                             NaN                       NaN              NaN                                 (3) No                            NaN             (3) No                                    NaN         NaN                               NaN           NaN                      NaN         NaN      NaN      NaN                     NaN       NaN        NaN        NaN      NaN        NaN                   NaN                  NaN           NaN     NaN        NaN         NaN          NaN        (1) Very concerned            NaN             NaN      NaN        NaN            NaN                  NaN                  NaN          NaN       NaN                  NaN                                                NaN     NaN       NaN                      NaN         NaN       NaN  (1) Too high     (2) No        NaN       NaN          NaN           NaN             NaN              NaN           NaN         NaN         NaN            NaN              NaN              NaN           NaN         NaN                 NaN                 NaN                       NaN            NaN               NaN                       NaN            NaN                 NaN                 NaN                 NaN                   NaN            NaN         NaN                     NaN                         NaN               NaN                               NaN         NaN                               (4) I'm sure I voted     (1) Donald Trump   (2) Not                               (4) I'm sure I voted                                                NaN     (1) Yes, it is  (2) No, it is not                       (1) I've known all along  (2) Women  (5) 50-64            (3) Latino or Hispanic         (3) Latino or Hispanic               NaN  (2) Some college/assoc. degree                    (3) $50,000-$74,999  (2) Republican  (2) Republican/Lean Rep                  (5) Very conservative         (2) Catholic                    (2) Catholic       NaN  (3) Small town  (3) Form 3\n",
            "19  20000895              330.899510                 319.197782              756.068723                 708.853768  (1) Phone       (MD) Maryland       (20) Maryland              (5) Not at all interested  (3) Probably will not vote                      (3) 3      (2) Nonvoter  NaN  (1) I will vote at a polling place on election...    (1) Election Day                         NaN             NaN  (22452) Senate General Election                NaN                   NaN                     NaN               NaN                                      NaN                 NaN                   NaN       (66960) Ben Jealous    (1) Democrat  (22091) Governor General Election   (G) Governor  (G) General Election                        NaN           NaN                                                NaN                           NaN                   NaN  (99991) The Democratic Candidate    (1) Democrat  (888888) House of Representatives General Elec...  (H) House of Representatives  (G) General Election          NaN           NaN                                         NaN                    NaN                   NaN                                  NaN                    NaN  (1) Democratic candidate for Governor          NaN  (2) Wrong direction  (99) DON’T KNOW/SKIPPED/REFUSED (VOL)                         NaN  (4) Disapprove strongly                                        NaN                    NaN               NaN               NaN               NaN              NaN                 NaN             NaN             NaN             NaN             NaN                                    NaN             NaN  (4) Very unfavorable  (4) Very unfavorable    (2) Somewhat favorable  (99) DON’T KNOW/SKIPPED/REFUSED (VOL)  (99) DON’T KNOW/SKIPPED/REFUSED (VOL)       NaN  (99) DON’T KNOW/SKIPPED/REFUSED (VOL)  (99) DON’T KNOW/SKIPPED/REFUSED (VOL)       NaN                   NaN                                    NaN               NaN               NaN                   NaN                                    NaN                 NaN  (99) DON’T KNOW/SKIPPED/REFUSED (VOL)                     NaN                      NaN                        NaN                 NaN                                  NaN                                                NaN              NaN  (3) Falling behind           (2) Hurt  (3) No difference                  NaN                        NaN                        NaN                                    NaN                     (4) Expand the law                                       NaN  (1) Offered a chance to apply for legal status                                    NaN                  NaN                                            NaN        (1) Very concerned                                    NaN     (1) Legal in all cases        (1) Very concerned   (3) Not too concerned                                                NaN  (1) Yes, legal                    NaN                          NaN                              NaN                                    NaN  (99) DON'T KNOW/SKIPPED/REFUSED (VOL)                                    NaN                               NaN                                                NaN                                                NaN                       (1) Never              (4) Divorced  (2) Not married                                    NaN                            NaN                NaN  (99) DON’T KNOW/SKIPPED/REFUSED (VOL)      (2) No                               NaN           NaN                      NaN         NaN      NaN      NaN                     NaN       NaN        NaN        NaN      NaN        NaN                   NaN                  NaN           NaN     NaN  (2) Worse         NaN          NaN                       NaN            NaN             NaN      NaN        NaN            NaN   (1) Strongly favor  (3) Somewhat oppose          NaN       NaN                  NaN                                                NaN     NaN       NaN                      NaN         NaN       NaN           NaN        NaN        NaN       NaN          NaN           NaN             NaN              NaN           NaN         NaN         NaN            NaN              NaN              NaN           NaN         NaN                 NaN                 NaN                       NaN            NaN               NaN                       NaN            NaN                 NaN                 NaN                 NaN                   NaN            NaN         NaN                     NaN                         NaN               NaN                               NaN         NaN  (2) I thought about voting in the 2016 preside...                  NaN   (2) Not  (1) I did not vote in the 2014 election for Co...  (4) I don't know enough about the candidates' ...  (2) No, it is not     (1) Yes, it is                                            NaN  (2) Women  (5) 50-64                         (1) White                      (1) White               NaN            (3) College graduate                      (1) Under $25,000    (1) Democrat    (1) Democrat/Lean Dem                   (2) Somewhat liberal           (5) Jewish                       (3) Other    (2) No  (3) Small town  (1) Form 1\n",
            "20  20001002              140.112938                 135.158070              120.803972                 115.701495    (2) Web       (MO) Missouri       (24) Missouri               (1) Extremely interested    (1) Definitely will vote  (10) 10-Certain will vote  (1) Likely voter  NaN  (1) I will vote at a polling place on election...    (1) Election Day    (29135) Claire McCaskill    (1) Democrat  (27022) Senate General Election  (S) Senate race 1  (G) General Election                     NaN               NaN                                      NaN                 NaN                   NaN                       NaN             NaN                                NaN            NaN                   NaN                        NaN           NaN                                                NaN                           NaN                   NaN  (99991) The Democratic Candidate    (1) Democrat  (888888) House of Representatives General Elec...  (H) House of Representatives  (G) General Election          NaN           NaN                                         NaN                    NaN                   NaN  (1) Democratic candidate for Senate                    NaN                                    NaN          NaN  (2) Wrong direction                        (2) Health care                         NaN  (4) Disapprove strongly  (2) Voted to express opposition for Trump                    NaN               NaN               NaN               NaN              NaN                 NaN  (2) Disapprove  (2) Disapprove  (2) Disapprove  (2) Disapprove                         (2) Disapprove     (1) Approve                   NaN                   NaN                       NaN                 (2) Somewhat favorable                   (4) Very unfavorable       NaN                                    NaN                                    NaN       NaN                   NaN                                    NaN               NaN               NaN                   NaN                                    NaN                 NaN                                    NaN      (1) Very important                      NaN                        NaN                 NaN                                  NaN                                                NaN         (2) Good  (2) Holding steady           (2) Hurt           (2) Hurt  (1) Favors too much  (2) Does not favor enough  (2) Does not favor enough                (4) Disapprove strongly                     (4) Expand the law                                       NaN  (1) Offered a chance to apply for legal status        (1) Do more to help the country  (4) Strongly oppose                                            NaN                       NaN                                    NaN                        NaN                       NaN                     NaN                                                NaN             NaN                    NaN                          NaN                              NaN                                    NaN                                (1) Yes                 (2) Somewhat concerned                               NaN                                                NaN                                                NaN                             NaN                       NaN              NaN                                    NaN                         (3) No                NaN                                    NaN         NaN                           (1) Yes           NaN                      NaN         NaN      NaN      NaN                     NaN       NaN        NaN        NaN      NaN        NaN                   NaN                  NaN           NaN     NaN        NaN         NaN          NaN                       NaN            NaN             NaN      NaN        NaN            NaN                  NaN                  NaN          NaN       NaN                  NaN                                                NaN     NaN       NaN                      NaN         NaN       NaN           NaN        NaN        NaN       NaN          NaN           NaN             NaN              NaN           NaN         NaN         NaN            NaN              NaN              NaN           NaN         NaN                 NaN                 NaN                       NaN            NaN               NaN  (1) The Democratic Party            NaN                 NaN                 NaN  (1) Very important                   NaN            NaN         NaN                     NaN                         NaN               NaN                               NaN         NaN                               (4) I'm sure I voted                  NaN   (2) Not                               (4) I'm sure I voted                                                NaN  (2) No, it is not     (1) Yes, it is                       (1) I've known all along    (1) Men  (5) 50-64  (88) REMOVED FOR DISCLOSURE RISK                      (1) White               NaN  (2) Some college/assoc. degree                    (3) $50,000-$74,999    (1) Democrat    (1) Democrat/Lean Dem                       (1) Very liberal             (8) None                (4) Unaffiliated       NaN    (2) Suburban  (2) Form 2\n",
            "21  20001029             1840.136231                1775.062781             1116.585619                1146.632061  (1) Phone       (VA) Virginia       (45) Virginia               (1) Extremely interested    (1) Definitely will vote  (10) 10-Certain will vote  (1) Likely voter  NaN  (1) I will vote at a polling place on election...    (1) Election Day           (51423) Tim Kaine    (1) Democrat  (47806) Senate General Election  (S) Senate race 1  (G) General Election                     NaN               NaN                                      NaN                 NaN                   NaN                       NaN             NaN                                NaN            NaN                   NaN                        NaN           NaN                                                NaN                           NaN                   NaN  (99991) The Democratic Candidate    (1) Democrat  (888888) House of Representatives General Elec...  (H) House of Representatives  (G) General Election          NaN           NaN                                         NaN                    NaN                   NaN  (1) Democratic candidate for Senate                    NaN                                    NaN          NaN  (2) Wrong direction                          (9) Terrorism                         NaN  (4) Disapprove strongly                 (3) Trump was not a factor                    NaN               NaN               NaN               NaN              NaN                 NaN             NaN             NaN             NaN             NaN                                    NaN             NaN                   NaN                   NaN                       NaN                     (1) Very favorable  (99) DON’T KNOW/SKIPPED/REFUSED (VOL)       NaN                                    NaN                                    NaN       NaN                   NaN                                    NaN               NaN               NaN                   NaN                                    NaN                 NaN                                    NaN      (1) Very important                      NaN  (3) Only some of the time                 NaN                                  NaN                                                NaN              NaN  (3) Falling behind           (2) Hurt           (2) Hurt                  NaN                        NaN                        NaN                                    NaN  (99) DON’T KNOW/SKIPPED/REFUSED (VOL)      (1) Government should be responsible  (1) Offered a chance to apply for legal status                                    NaN                  NaN                                            NaN                       NaN              (1) Should be more strict                        NaN                       NaN                     NaN                                                NaN             NaN                    NaN  (2) Made the U.S. less safe  (3) Hasn't made much difference            (2) Made the U.S. less safe                                (1) Yes                                    NaN      (2) The Democratic candidate              (99) DON'T KNOW/SKIPPED/REFUSED (VOL)  (1) They mostly try to do what's best for the ...                             NaN                       NaN              NaN                                 (3) No                            NaN             (3) No                                    NaN         NaN                               NaN           NaN                      NaN         NaN      NaN      NaN                     NaN       NaN        NaN        NaN      NaN        NaN                   NaN                  NaN           NaN     NaN        NaN         NaN          NaN                       NaN            NaN             NaN      NaN        NaN            NaN                  NaN                  NaN          NaN    (3) No                  NaN              (99) DON'T KNOW/SKIPPED/REFUSED (VOL)     NaN       NaN                      NaN         NaN       NaN           NaN        NaN        NaN       NaN          NaN           NaN             NaN              NaN           NaN         NaN         NaN            NaN              NaN              NaN           NaN         NaN                 NaN                 NaN                       NaN            NaN               NaN                       NaN            NaN                 NaN                 NaN                 NaN                   NaN            NaN         NaN                     NaN                         NaN               NaN                               NaN         NaN                               (4) I'm sure I voted  (2) Hillary Clinton   (2) Not              (99) DON'T KNOW/SKIPPED/REFUSED (VOL)                                                NaN  (2) No, it is not     (1) Yes, it is                       (1) I've known all along  (2) Women  (5) 50-64     (2) African American or Black  (2) African American or Black               NaN  (2) Some college/assoc. degree                      (1) Under $25,000    (1) Democrat    (1) Democrat/Lean Dem                   (2) Somewhat liberal   (7) Something else                       (3) Other       NaN  (3) Small town  (3) Form 3\n",
            "22  20001043              335.260957                 323.404994              325.459607                 299.940769    (2) Web       (MI) Michigan       (22) Michigan               (1) Extremely interested    (1) Definitely will vote  (10) 10-Certain will vote  (1) Likely voter  NaN  (1) I will vote at a polling place on election...    (1) Election Day      (1729) Debbie Stabenow    (1) Democrat  (24453) Senate General Election  (S) Senate race 1  (G) General Election                     NaN               NaN                                      NaN                 NaN                   NaN  (55071) Gretchen Whitmer    (1) Democrat  (24074) Governor General Election   (G) Governor  (G) General Election                        NaN           NaN                                                NaN                           NaN                   NaN  (99991) The Democratic Candidate    (1) Democrat  (888888) House of Representatives General Elec...  (H) House of Representatives  (G) General Election      (2) Yes      (10) Yes  (24603) Ballot Initiative General Election  (I) Ballot initiative  (G) General Election  (1) Democratic candidate for Senate                    NaN  (1) Democratic candidate for Governor          NaN  (2) Wrong direction                        (2) Health care   (2) Worse than life today  (4) Disapprove strongly  (2) Voted to express opposition for Trump                 (2) No            (2) No            (2) No            (2) No           (2) No              (2) No             NaN             NaN             NaN             NaN                                    NaN             NaN                   NaN                   NaN                       NaN                     (1) Very favorable                   (4) Very unfavorable       NaN                     (1) Very favorable                   (4) Very unfavorable       NaN                   NaN                                    NaN               NaN               NaN                   NaN                                    NaN                 NaN                                    NaN      (1) Very important  (4) Disapprove strongly                        NaN    (2) Less ethical                            (4) Angry  (2) Government doing too many things better le...              NaN  (3) Falling behind           (2) Hurt           (2) Hurt                  NaN                        NaN                        NaN                                    NaN                     (4) Expand the law                                       NaN  (1) Offered a chance to apply for legal status                                    NaN                  NaN    (1) Whites have more advantages than blacks                       NaN                                    NaN                        NaN                       NaN                     NaN  (1) Pressure to be politically correct has gon...             NaN     (1) Very concerned                          NaN                              NaN                                    NaN                                (1) Yes                                    NaN                               NaN                                                NaN                                                NaN                             NaN                       NaN              NaN                                    NaN                         (3) No                NaN                                    NaN         NaN                               NaN           NaN  (4) Disapprove strongly         NaN      NaN      NaN                     NaN       NaN        NaN        NaN      NaN        NaN                   NaN                  NaN           NaN     NaN        NaN         NaN          NaN                       NaN            NaN             NaN      NaN        NaN            NaN                  NaN                  NaN          NaN       NaN                  NaN                                                NaN     NaN       NaN                      NaN         NaN       NaN           NaN        NaN        NaN       NaN          NaN           NaN             NaN              NaN           NaN         NaN         NaN            NaN              NaN              NaN           NaN         NaN                 NaN                 NaN                       NaN            NaN               NaN  (1) The Democratic Party            NaN                 NaN                 NaN                 NaN                   NaN            NaN         NaN                     NaN                         NaN               NaN                               NaN         NaN                               (4) I'm sure I voted                  NaN   (2) Not  (1) I did not vote in the 2014 election for Co...                                                NaN  (2) No, it is not     (1) Yes, it is                       (1) I've known all along  (2) Women  (1) 18-24                         (1) White                      (1) White               NaN  (2) Some college/assoc. degree                    (2) $25,000-$49,999    (1) Democrat    (1) Democrat/Lean Dem                   (2) Somewhat liberal  (4) Other Christian  (1) Protestant/Other Christian       NaN       (1) Urban  (4) Form 4\n",
            "23  20001100              654.194259                 631.059734              469.813162                 530.107371    (2) Web     (WA) Washington     (47) Washington               (1) Extremely interested         (5) I already voted         (12) Already voted  (1) Likely voter  NaN                                                NaN  (2) Early/Absentee       (1805) Maria Cantwell    (1) Democrat  (49106) Senate General Election  (S) Senate race 1  (G) General Election                     NaN               NaN                                      NaN                 NaN                   NaN                       NaN             NaN                                NaN            NaN                   NaN                        NaN           NaN                                                NaN                           NaN                   NaN  (99991) The Democratic Candidate    (1) Democrat  (888888) House of Representatives General Elec...  (H) House of Representatives  (G) General Election          NaN           NaN                                         NaN                    NaN                   NaN  (1) Democratic candidate for Senate                    NaN                                    NaN          NaN  (2) Wrong direction               (1) The economy and jobs                         NaN  (4) Disapprove strongly                 (3) Trump was not a factor                    NaN               NaN               NaN               NaN              NaN                 NaN             NaN             NaN             NaN             NaN                                    NaN             NaN  (4) Very unfavorable  (4) Very unfavorable    (2) Somewhat favorable                     (1) Very favorable                   (4) Very unfavorable       NaN                                    NaN                                    NaN       NaN                   NaN                                    NaN               NaN               NaN                   NaN                                    NaN                 NaN                     (1) Very important      (1) Very important                      NaN                        NaN                 NaN                                  NaN                                                NaN              NaN  (2) Holding steady           (2) Hurt  (3) No difference                  NaN                        NaN                        NaN                                    NaN                     (4) Expand the law                                       NaN  (1) Offered a chance to apply for legal status                                    NaN                  NaN                                            NaN        (1) Very concerned                                    NaN    (2) Legal in most cases        (1) Very concerned   (3) Not too concerned                                                NaN  (1) Yes, legal                    NaN                          NaN                              NaN                                    NaN                                (1) Yes                                    NaN                               NaN                                                NaN                                                NaN                       (1) Never  (1) Single/Never married  (2) Not married                                    NaN                            NaN                NaN                                 (2) No      (2) No                               NaN           NaN                      NaN         NaN      NaN      NaN                     NaN       NaN        NaN        NaN      NaN        NaN    (1) Very favorable                  NaN           NaN     NaN        NaN         NaN          NaN        (1) Very concerned            NaN             NaN      NaN        NaN            NaN                  NaN                  NaN          NaN       NaN  (4) Strongly oppose  (2) Focus on expanding use of alternative ener...     NaN       NaN                      NaN         NaN       NaN           NaN        NaN        NaN       NaN          NaN           NaN             NaN              NaN           NaN         NaN         NaN            NaN              NaN              NaN           NaN         NaN                 NaN                 NaN                       NaN            NaN               NaN                       NaN            NaN                 NaN                 NaN                 NaN                   NaN            NaN         NaN                     NaN                         NaN               NaN                               NaN         NaN                               (4) I'm sure I voted                  NaN   (2) Not                               (4) I'm sure I voted                                                NaN  (2) No, it is not     (1) Yes, it is                       (1) I've known all along  (2) Women  (2) 25-29                         (1) White                      (1) White               NaN            (3) College graduate                    (2) $25,000-$49,999    (1) Democrat    (1) Democrat/Lean Dem                       (1) Very liberal             (8) None                (4) Unaffiliated    (2) No    (2) Suburban  (1) Form 1\n",
            "24  20001138             1746.756082                1684.984871             3747.052875                1201.780948    (2) Web    (MS) Mississippi    (25) Mississippi  (99) DON’T KNOW/SKIPPED/REFUSED (VOL)    (1) Definitely will vote  (10) 10-Certain will vote  (1) Likely voter  NaN  (1) I will vote at a polling place on election...    (1) Election Day                         NaN             NaN  (25602) Senate General Election                NaN                   NaN  (63538) Chris McDaniel  (5) Unaffiliated  (27182) Senate Special General Election  (S2) Senate race 2  (G) General Election                       NaN             NaN                                NaN            NaN                   NaN                        NaN           NaN                                                NaN                           NaN                   NaN  (99992) The Republican Candidate  (2) Republican  (888888) House of Representatives General Elec...  (H) House of Representatives  (G) General Election          NaN           NaN                                         NaN                    NaN                   NaN                                  NaN  (4) Another candidate                                    NaN          NaN  (1) Right direction                          (9) Terrorism  (1) Better than life today     (1) Approve strongly     (1) Voted to express support for Trump                (1) Yes           (1) Yes           (1) Yes           (1) Yes          (1) Yes             (1) Yes             NaN             NaN             NaN             NaN                                    NaN             NaN                   NaN                   NaN                       NaN  (99) DON’T KNOW/SKIPPED/REFUSED (VOL)                 (2) Somewhat favorable       NaN                                    NaN                                    NaN       NaN                   NaN                                    NaN               NaN               NaN  (4) Very unfavorable  (99) DON’T KNOW/SKIPPED/REFUSED (VOL)  (1) Very favorable                                    NaN      (1) Very important     (2) Approve somewhat                        NaN    (1) More ethical  (2) Satisfied, but not enthusiastic  (2) Government doing too many things better le...              NaN   (1) Getting ahead           (1) Help           (1) Help                  NaN                        NaN                        NaN                                    NaN            (2) Repeal parts of the law                                       NaN      (2) Deported to the country they came from                                    NaN                  NaN  (3) Neither has much advantage over the other                       NaN                                    NaN                        NaN                       NaN                     NaN  (1) Pressure to be politically correct has gon...             NaN  (3) Not too concerned                          NaN                              NaN                                    NaN                                 (2) No                                    NaN                               NaN                                                NaN                                                NaN                             NaN                       NaN              NaN                                    NaN                            NaN                NaN                                    NaN         NaN                               NaN           NaN                      NaN         NaN      NaN      NaN                     NaN       NaN        NaN        NaN      NaN        NaN                   NaN                  NaN           NaN     NaN        NaN         NaN          NaN                       NaN            NaN             NaN      NaN        NaN            NaN                  NaN                  NaN          NaN       NaN                  NaN                                                NaN     NaN       NaN                      NaN         NaN       NaN           NaN        NaN        NaN       NaN          NaN           NaN             NaN              NaN           NaN         NaN         NaN            NaN              NaN              NaN           NaN         NaN                 NaN                 NaN                       NaN            NaN               NaN                       NaN            NaN  (4) Would not vote  (1) Chris McDaniel                 NaN                   NaN            NaN         NaN                     NaN                         NaN               NaN                               NaN         NaN                               (4) I'm sure I voted                  NaN   (2) Not                               (4) I'm sure I voted                                                NaN     (1) Yes, it is  (2) No, it is not                       (1) I've known all along    (1) Men  (5) 50-64                         (1) White                      (1) White               NaN         (1) High school or less                    (2) $25,000-$49,999  (2) Republican  (2) Republican/Lean Rep                  (5) Very conservative       (1) Protestant  (1) Protestant/Other Christian       NaN  (3) Small town  (4) Form 4\n",
            "25  20001147              464.214471                 447.798275              351.316001                 290.342289    (2) Web      (TN) Tennessee      (42) Tennessee               (1) Extremely interested    (1) Definitely will vote  (10) 10-Certain will vote  (1) Likely voter  NaN  (1) I will vote at a polling place on election...    (1) Election Day         (646) Phil Bredesen    (1) Democrat  (43439) Senate General Election  (S) Senate race 1  (G) General Election                     NaN               NaN                                      NaN                 NaN                   NaN         (67392) Karl Dean    (1) Democrat  (43440) Governor General Election   (G) Governor  (G) General Election                        NaN           NaN                                                NaN                           NaN                   NaN  (99991) The Democratic Candidate    (1) Democrat  (888888) House of Representatives General Elec...  (H) House of Representatives  (G) General Election          NaN           NaN                                         NaN                    NaN                   NaN  (1) Democratic candidate for Senate                    NaN  (1) Democratic candidate for Governor          NaN  (2) Wrong direction                     (8) Foreign policy                         NaN  (4) Disapprove strongly  (2) Voted to express opposition for Trump                    NaN               NaN               NaN               NaN              NaN                 NaN  (2) Disapprove  (2) Disapprove  (2) Disapprove  (2) Disapprove                         (2) Disapprove  (2) Disapprove                   NaN                   NaN                       NaN                     (1) Very favorable                   (4) Very unfavorable       NaN                 (2) Somewhat favorable  (99) DON’T KNOW/SKIPPED/REFUSED (VOL)       NaN                   NaN                                    NaN               NaN               NaN                   NaN                                    NaN                 NaN                                    NaN      (1) Very important                      NaN                        NaN                 NaN                                  NaN                                                NaN  (3) Not so good  (3) Falling behind           (2) Hurt  (3) No difference  (1) Favors too much  (2) Does not favor enough  (2) Does not favor enough                (4) Disapprove strongly                     (4) Expand the law                                       NaN  (1) Offered a chance to apply for legal status        (1) Do more to help the country  (4) Strongly oppose                                            NaN                       NaN                                    NaN                        NaN                       NaN                     NaN                                                NaN             NaN                    NaN                          NaN                              NaN                                    NaN                                (1) Yes                     (1) Very concerned                               NaN                                                NaN                                                NaN                             NaN                       NaN              NaN                                    NaN                         (3) No                NaN                                    NaN         NaN                           (1) Yes           NaN                      NaN         NaN      NaN      NaN                     NaN       NaN        NaN        NaN      NaN        NaN                   NaN   (2) Somewhat favor           NaN     NaN        NaN         NaN          NaN                       NaN            NaN             NaN      NaN        NaN            NaN                  NaN                  NaN          NaN       NaN                  NaN                                                NaN     NaN       NaN                      NaN         NaN       NaN           NaN        NaN        NaN       NaN          NaN           NaN             NaN              NaN           NaN         NaN         NaN            NaN              NaN              NaN           NaN         NaN                 NaN                 NaN                       NaN            NaN               NaN                       NaN            NaN                 NaN                 NaN                 NaN                   NaN            NaN         NaN      (1) Very favorable  (3) No reaction either way               NaN                               NaN         NaN                               (4) I'm sure I voted                  NaN   (2) Not  (1) I did not vote in the 2014 election for Co...                                                NaN  (2) No, it is not     (1) Yes, it is                       (1) I've known all along  (2) Women  (4) 40-49  (88) REMOVED FOR DISCLOSURE RISK                      (1) White               NaN          (4) Postgraduate study                    (2) $25,000-$49,999    (1) Democrat    (1) Democrat/Lean Dem                   (2) Somewhat liberal  (4) Other Christian  (1) Protestant/Other Christian       NaN  (3) Small town  (2) Form 2\n",
            "26  20001149              536.167941                 517.207226              319.004918                 302.252456    (2) Web          (TX) Texas          (43) Texas                    (2) Very interested         (5) I already voted         (12) Already voted  (1) Likely voter  NaN                                                NaN  (2) Early/Absentee       (61921) Beto O'Rourke    (1) Democrat  (45870) Senate General Election  (S) Senate race 1  (G) General Election                     NaN               NaN                                      NaN                 NaN                   NaN       (66011) Lupe Valdez    (1) Democrat  (45901) Governor General Election   (G) Governor  (G) General Election                        NaN           NaN                                                NaN                           NaN                   NaN  (99991) The Democratic Candidate    (1) Democrat  (888888) House of Representatives General Elec...  (H) House of Representatives  (G) General Election          NaN           NaN                                         NaN                    NaN                   NaN  (1) Democratic candidate for Senate                    NaN  (1) Democratic candidate for Governor          NaN  (2) Wrong direction                        (2) Health care                         NaN  (4) Disapprove strongly  (2) Voted to express opposition for Trump                    NaN               NaN               NaN               NaN              NaN                 NaN  (2) Disapprove  (2) Disapprove  (2) Disapprove  (2) Disapprove                         (2) Disapprove  (2) Disapprove                   NaN                   NaN                       NaN                     (1) Very favorable                   (4) Very unfavorable       NaN                 (2) Somewhat favorable               (3) Somewhat unfavorable       NaN                   NaN                                    NaN               NaN               NaN                   NaN                                    NaN                 NaN                                    NaN  (2) Somewhat important                      NaN                        NaN                 NaN                                  NaN                                                NaN         (2) Good  (2) Holding steady           (2) Hurt           (2) Hurt  (1) Favors too much  (2) Does not favor enough  (2) Does not favor enough                (4) Disapprove strongly                     (4) Expand the law                                       NaN  (1) Offered a chance to apply for legal status        (1) Do more to help the country  (3) Somewhat oppose                                            NaN                       NaN                                    NaN                        NaN                       NaN                     NaN                                                NaN             NaN                    NaN                          NaN                              NaN                                    NaN                                (1) Yes                 (2) Somewhat concerned                               NaN                                                NaN                                                NaN                             NaN                       NaN              NaN                                    NaN                         (3) No                NaN                                    NaN         NaN                           (1) Yes           NaN                      NaN         NaN      NaN      NaN                     NaN       NaN        NaN        NaN      NaN        NaN                   NaN                  NaN           NaN     NaN        NaN         NaN          NaN                       NaN            NaN             NaN      NaN        NaN            NaN   (2) Somewhat favor                  NaN          NaN       NaN                  NaN                                                NaN     NaN       NaN                      NaN         NaN       NaN           NaN        NaN        NaN       NaN          NaN           NaN             NaN              NaN           NaN         NaN         NaN            NaN              NaN              NaN           NaN         NaN                 NaN                 NaN                       NaN            NaN               NaN                       NaN            NaN                 NaN                 NaN                 NaN                   NaN            NaN         NaN                     NaN                         NaN   (3) About right  (1) National political ambitions         NaN                               (4) I'm sure I voted                  NaN   (2) Not                               (4) I'm sure I voted                                                NaN  (2) No, it is not     (1) Yes, it is  (2) I decided over the course of the campaign    (1) Men  (5) 50-64  (88) REMOVED FOR DISCLOSURE RISK         (3) Latino or Hispanic               NaN            (3) College graduate                    (4) $75,000-$99,999     (3) Neither    (1) Democrat/Lean Dem                           (3) Moderate         (2) Catholic                    (2) Catholic       NaN       (1) Urban  (2) Form 2\n",
            "27  20001154              317.221084                 306.003072              223.403708                 243.849927    (2) Web     (NJ) New Jersey     (31) New Jersey               (1) Extremely interested    (1) Definitely will vote  (10) 10-Certain will vote  (1) Likely voter  NaN  (1) I will vote at a polling place on election...    (1) Election Day           (66858) Bob Hugin  (2) Republican  (31545) Senate General Election  (S) Senate race 1  (G) General Election                     NaN               NaN                                      NaN                 NaN                   NaN                       NaN             NaN                                NaN            NaN                   NaN                        NaN           NaN                                                NaN                           NaN                   NaN  (99991) The Democratic Candidate    (1) Democrat  (888888) House of Representatives General Elec...  (H) House of Representatives  (G) General Election          NaN           NaN                                         NaN                    NaN                   NaN  (2) Republican candidate for Senate                    NaN                                    NaN          NaN  (1) Right direction                     (8) Foreign policy                         NaN     (2) Approve somewhat                 (3) Trump was not a factor                    NaN               NaN               NaN               NaN              NaN                 NaN             NaN             NaN             NaN             NaN                                    NaN             NaN                   NaN                   NaN                       NaN                   (4) Very unfavorable                 (2) Somewhat favorable       NaN                                    NaN                                    NaN       NaN                   NaN                                    NaN               NaN               NaN                   NaN                                    NaN                 NaN                                    NaN  (2) Somewhat important                      NaN  (3) Only some of the time                 NaN                                  NaN                                                NaN              NaN  (2) Holding steady           (1) Help  (3) No difference                  NaN                        NaN                        NaN                                    NaN            (2) Repeal parts of the law      (1) Government should be responsible  (1) Offered a chance to apply for legal status                                    NaN                  NaN                                            NaN                       NaN              (1) Should be more strict                        NaN                       NaN                     NaN                                                NaN             NaN                    NaN      (1) Made the U.S. safer          (1) Made the U.S. safer        (3) Hasn't made much difference                                 (2) No                                    NaN                    (3) It depends  (2) They mostly try to do what's best for thei...  (2) They mostly try to do what's best for thei...                             NaN                       NaN              NaN                                 (3) No                         (3) No             (3) No                                    NaN         NaN                               NaN           NaN                      NaN         NaN      NaN      NaN                     NaN       NaN        NaN        NaN      NaN        NaN                   NaN                  NaN           NaN     NaN        NaN         NaN          NaN                       NaN            NaN             NaN      NaN        NaN            NaN                  NaN                  NaN          NaN       NaN                  NaN                                                NaN     NaN       NaN                      NaN         NaN       NaN           NaN        NaN        NaN       NaN          NaN           NaN             NaN              NaN           NaN         NaN         NaN            NaN              NaN          (1) Yes        (2) No         NaN                 NaN                 NaN                       NaN            NaN               NaN                       NaN            NaN                 NaN                 NaN                 NaN                   NaN         (2) No     (1) Yes                     NaN                         NaN               NaN                               NaN         NaN                               (4) I'm sure I voted     (1) Donald Trump   (2) Not                               (4) I'm sure I voted                                                NaN     (1) Yes, it is  (2) No, it is not                    (4) I still haven't decided    (1) Men  (5) 50-64                         (1) White                      (1) White               NaN            (3) College graduate                   (5) $100,000 or more     (3) Neither          (3) Independent                           (3) Moderate         (2) Catholic                    (2) Catholic       NaN    (2) Suburban  (3) Form 3\n",
            "28  20001167               37.005943                  35.697288               33.409031                  31.867338    (2) Web  (NH) New Hampshire  (30) New Hampshire               (1) Extremely interested    (1) Definitely will vote  (10) 10-Certain will vote  (1) Likely voter  NaN  (1) I will vote at a polling place on election...    (1) Election Day                         NaN             NaN                              NaN                NaN                   NaN                     NaN               NaN                                      NaN                 NaN                   NaN       (67492) Molly Kelly    (1) Democrat  (30005) Governor General Election   (G) Governor  (G) General Election                        NaN           NaN                                                NaN                           NaN                   NaN  (99991) The Democratic Candidate    (1) Democrat  (888888) House of Representatives General Elec...  (H) House of Representatives  (G) General Election          NaN           NaN                                         NaN                    NaN                   NaN                                  NaN                    NaN  (1) Democratic candidate for Governor          NaN  (2) Wrong direction                    (7) The environment   (2) Worse than life today  (4) Disapprove strongly  (2) Voted to express opposition for Trump                 (2) No            (2) No            (2) No            (2) No           (2) No             (1) Yes             NaN             NaN             NaN             NaN                                    NaN             NaN                   NaN                   NaN                       NaN                                    NaN                                    NaN       NaN                 (2) Somewhat favorable               (3) Somewhat unfavorable       NaN                   NaN                                    NaN               NaN               NaN                   NaN                                    NaN                 NaN                                    NaN                     NaN  (4) Disapprove strongly                        NaN    (2) Less ethical                            (4) Angry    (1) Government should do more to solve problems              NaN   (1) Getting ahead           (2) Hurt           (2) Hurt                  NaN                        NaN                        NaN                                    NaN                     (4) Expand the law                                       NaN  (1) Offered a chance to apply for legal status                                    NaN                  NaN    (1) Whites have more advantages than blacks                       NaN                                    NaN                        NaN                       NaN                     NaN  (2) There's not too much pressure these days t...             NaN     (1) Very concerned                          NaN                              NaN                                    NaN                                (1) Yes                                    NaN                               NaN                                                NaN                                                NaN                             NaN                       NaN              NaN                                    NaN                            NaN                NaN                                    NaN         NaN                               NaN           NaN                      NaN         NaN      NaN      NaN                     NaN       NaN        NaN        NaN      NaN        NaN                   NaN                  NaN           NaN     NaN        NaN         NaN          NaN                       NaN            NaN             NaN      NaN        NaN            NaN                  NaN                  NaN          NaN       NaN                  NaN                                                NaN     NaN       NaN                      NaN         NaN       NaN           NaN        NaN        NaN       NaN          NaN           NaN             NaN              NaN           NaN         NaN         NaN            NaN              NaN              NaN           NaN         NaN                 NaN                 NaN                       NaN            NaN               NaN                       NaN            NaN                 NaN                 NaN                 NaN      (1) Very excited            NaN         NaN                     NaN                         NaN               NaN                               NaN         NaN                               (4) I'm sure I voted                  NaN   (2) Not                               (4) I'm sure I voted                                                NaN  (2) No, it is not     (1) Yes, it is                       (1) I've known all along    (1) Men    (6) 65+                         (1) White                      (1) White               NaN          (4) Postgraduate study                   (5) $100,000 or more    (1) Democrat    (1) Democrat/Lean Dem                   (2) Somewhat liberal   (7) Something else                       (3) Other       NaN  (3) Small town  (4) Form 4\n",
            "29  20001191              679.124878                 655.108722              575.158712                 505.883804  (1) Phone      (TN) Tennessee      (42) Tennessee               (1) Extremely interested    (1) Definitely will vote  (10) 10-Certain will vote  (1) Likely voter  NaN  (1) I will vote at a polling place on election...    (1) Election Day         (646) Phil Bredesen    (1) Democrat  (43439) Senate General Election  (S) Senate race 1  (G) General Election                     NaN               NaN                                      NaN                 NaN                   NaN         (67392) Karl Dean    (1) Democrat  (43440) Governor General Election   (G) Governor  (G) General Election                        NaN           NaN                                                NaN                           NaN                   NaN  (99991) The Democratic Candidate    (1) Democrat  (888888) House of Representatives General Elec...  (H) House of Representatives  (G) General Election          NaN           NaN                                         NaN                    NaN                   NaN  (1) Democratic candidate for Senate                    NaN  (1) Democratic candidate for Governor          NaN  (2) Wrong direction                         (6) Gun policy                         NaN  (4) Disapprove strongly  (2) Voted to express opposition for Trump                    NaN               NaN               NaN               NaN              NaN                 NaN  (2) Disapprove  (2) Disapprove  (2) Disapprove  (2) Disapprove                         (2) Disapprove  (2) Disapprove                   NaN                   NaN                       NaN                     (1) Very favorable                   (4) Very unfavorable       NaN                     (1) Very favorable               (3) Somewhat unfavorable       NaN                   NaN                                    NaN               NaN               NaN                   NaN                                    NaN                 NaN                                    NaN      (1) Very important                      NaN                        NaN                 NaN                                  NaN                                                NaN         (4) Poor  (3) Falling behind           (2) Hurt           (2) Hurt  (1) Favors too much  (2) Does not favor enough  (2) Does not favor enough                (4) Disapprove strongly            (1) Repeal the law entirely                                       NaN  (1) Offered a chance to apply for legal status  (99) DON’T KNOW/SKIPPED/REFUSED (VOL)  (4) Strongly oppose                                            NaN                       NaN                                    NaN                        NaN                       NaN                     NaN                                                NaN             NaN                    NaN                          NaN                              NaN                                    NaN                                (1) Yes                 (2) Somewhat concerned                               NaN                                                NaN                                                NaN                             NaN                       NaN              NaN                                    NaN                         (3) No                NaN                                    NaN         NaN                           (1) Yes           NaN                      NaN         NaN      NaN      NaN                     NaN       NaN        NaN        NaN      NaN        NaN                   NaN   (1) Strongly favor           NaN     NaN        NaN         NaN          NaN                       NaN            NaN             NaN      NaN        NaN            NaN                  NaN                  NaN          NaN       NaN                  NaN                                                NaN     NaN       NaN                      NaN         NaN       NaN           NaN        NaN        NaN       NaN          NaN           NaN             NaN              NaN           NaN         NaN         NaN            NaN              NaN              NaN           NaN         NaN                 NaN                 NaN                       NaN            NaN               NaN                       NaN            NaN                 NaN                 NaN                 NaN                   NaN            NaN         NaN      (1) Very favorable                (2) Negative               NaN                               NaN         NaN  (3) I usually vote, but I didn't in the 2016 p...                  NaN   (2) Not                               (4) I'm sure I voted                                                NaN  (2) No, it is not     (1) Yes, it is                       (1) I've known all along    (1) Men  (5) 50-64  (88) REMOVED FOR DISCLOSURE RISK  (2) African American or Black               NaN  (2) Some college/assoc. degree                    (2) $25,000-$49,999    (1) Democrat    (1) Democrat/Lean Dem                       (1) Very liberal  (4) Other Christian  (1) Protestant/Other Christian       NaN       (1) Urban  (2) Form 2\n"
          ],
          "name": "stdout"
        }
      ]
    },
    {
      "cell_type": "markdown",
      "metadata": {
        "id": "csLUo55Zl3w5",
        "colab_type": "text"
      },
      "source": [
        "# Clean-Up Functions"
      ]
    },
    {
      "cell_type": "code",
      "metadata": {
        "id": "bUKSI5eInAp_",
        "colab_type": "code",
        "colab": {}
      },
      "source": [
        "def to_binary(field, val_1):\n",
        "  val_1 = int(val_1)\n",
        "  field = str(field)\n",
        "  field_0 = int(round(float(field.replace('(','').split(') ')[0]),0))\n",
        "  #field_1 = field.replace('(','').split(') ')[1]\n",
        "  if field_0 == val_1:\n",
        "    choice = 1\n",
        "  else:\n",
        "    choice = 0\n",
        "  return(choice)\n",
        "\n",
        "def call_to_binary(frame, field, rename='', val_1=1):\n",
        "  frame[field] = frame[field].apply(lambda x,val_1=val_1:to_binary(x,val_1) if pd.notnull(x) else x)\n",
        "  if rename != '':\n",
        "    frame = frame.rename(columns={field:rename})\n",
        "  return(frame)"
      ],
      "execution_count": 0,
      "outputs": []
    },
    {
      "cell_type": "code",
      "metadata": {
        "id": "ODLDaVfu51fr",
        "colab_type": "code",
        "colab": {}
      },
      "source": [
        "def to_ranked_reverse(field, n_choice):\n",
        "  n_choice = int(n_choice)\n",
        "  field = str(field)\n",
        "  field_0 = int(round(float(field.replace('(','').split(') ')[0]),0))\n",
        "  #field_1 = field.replace('(','').split(') ')[1]\n",
        "  choice = field_0*-1+n_choice\n",
        "  return(choice)\n",
        "\n",
        "def call_to_ranked_reverse(frame, field, rename='',n_choice=''):\n",
        "  if n_choice == '':\n",
        "    n_choice = str(frame[field].nunique())\n",
        "  frame[field] = frame[field].apply(lambda x,n_choice=n_choice:to_ranked_reverse(x,n_choice) if pd.notnull(x) else x)\n",
        "  if rename != '':\n",
        "    frame = frame.rename(columns={field:rename})\n",
        "  return(frame)"
      ],
      "execution_count": 0,
      "outputs": []
    },
    {
      "cell_type": "code",
      "metadata": {
        "id": "OyJV9FVNqMxc",
        "colab_type": "code",
        "colab": {}
      },
      "source": [
        "def remove_code(field):\n",
        "  field = str(field)\n",
        "  field = field.split(') ')[1]\n",
        "  return(field)\n",
        "\n",
        "def call_remove_code(frame, field, rename=''):\n",
        "  frame[field] = frame[field].apply(lambda x:remove_code(x) if pd.notnull(x) else x)\n",
        "  if rename != '':\n",
        "    frame = frame.rename(columns={field:rename})\n",
        "  return(frame)"
      ],
      "execution_count": 0,
      "outputs": []
    },
    {
      "cell_type": "code",
      "metadata": {
        "id": "VW1KRInJ1DKw",
        "colab_type": "code",
        "colab": {}
      },
      "source": [
        "def insert_dummies(frame, field, pos):\n",
        "  frame = pd.DataFrame(frame)\n",
        "  dummies = pd.get_dummies(frame[field], dummy_na=True)\n",
        "  dummies.columns = dummies.columns.fillna('() NaN')\n",
        "  if dummies.sum(axis=0)[-1] == 0:\n",
        "    dummies = dummies.drop(columns={'() NaN'})\n",
        "  col_names = dummies.columns\n",
        "  for i in range(dummies.shape[1]):\n",
        "    new_col = str(field+'_'+col_names[i].split(') ')[1]).lower().replace('the','').replace(' ','').replace(',','').replace('/','-').replace('$','').replace('.','').replace('\\'','').replace('-','_')\n",
        "    dummies = dummies.rename(columns={col_names[i]:str(new_col)})\n",
        "    pos = pos+1\n",
        "    vals = list(dummies[new_col])\n",
        "    frame.insert(pos, new_col, vals)\n",
        "  frame = frame.drop(columns={field})\n",
        "  return(frame)\n",
        "\n",
        "def call_insert_dummies(frame, field, rename=''):\n",
        "  if rename != '':\n",
        "    frame = frame.rename(columns={field:rename})\n",
        "    field = rename\n",
        "  frame = insert_dummies(frame,field,frame.columns.get_loc(field))\n",
        "  return(frame)"
      ],
      "execution_count": 0,
      "outputs": []
    },
    {
      "cell_type": "code",
      "metadata": {
        "id": "z6d39OS1w81u",
        "colab_type": "code",
        "colab": {}
      },
      "source": [
        "def to_3_choice_flip(field, val_2, val_0):\n",
        "  val_2 = int(val_2)\n",
        "  val_0 = int(val_0)\n",
        "  field = str(field)\n",
        "  field_0 = int(round(float(field.replace('(','').split(') ')[0]),0))\n",
        "  #field_1 = field.replace('(','').split(') ')[1]\n",
        "  if field_0 == val_2:\n",
        "    choice = 2\n",
        "  elif field_0 == val_0:\n",
        "    choice = 0\n",
        "  else:\n",
        "    choice = 1\n",
        "  return(choice)\n",
        "\n",
        "def call_to_3_choice_flip(frame, field, rename='', val_2=1,val_0=2):\n",
        "  frame[field] = frame[field].apply(lambda x,val_2=val_2,val_0=val_0:to_3_choice_flip(x,val_2,val_0) if pd.notnull(x) else x)\n",
        "  if rename != '':\n",
        "    frame = frame.rename(columns={field:rename})\n",
        "  return(frame)"
      ],
      "execution_count": 0,
      "outputs": []
    },
    {
      "cell_type": "code",
      "metadata": {
        "id": "svf_V5vV8df3",
        "colab_type": "code",
        "colab": {}
      },
      "source": [
        "def to_prob(field):\n",
        "  field = str(field)\n",
        "  field_0 = float(field.replace('(','').split(') ')[0])*0.1\n",
        "  if field_0 > 1.0:\n",
        "    field_0 = 1.0\n",
        "  return(field_0)\n",
        "\n",
        "def call_to_prob(frame, field, rename=''):\n",
        "  frame[field] = frame[field].apply(lambda x:to_prob(x) if pd.notnull(x) else x)\n",
        "  if rename != '':\n",
        "    frame = frame.rename(columns={field:rename})\n",
        "  return(frame)"
      ],
      "execution_count": 0,
      "outputs": []
    },
    {
      "cell_type": "code",
      "metadata": {
        "id": "EjcvBBFY-Rp_",
        "colab_type": "code",
        "colab": {}
      },
      "source": [
        "def combo_raceth(re, re5):\n",
        "  try:\n",
        "    re = str(re)\n",
        "    re_0 = int(round(float(re.replace('(','').split(') ')[0]),0))\n",
        "  except:\n",
        "    re_0 = -1\n",
        "  try:\n",
        "    re5 = str(re5)\n",
        "    re5_0 = int(round(float(re5.replace('(','').split(') ')[0]),0))\n",
        "  except:\n",
        "    re5_0 = -1\n",
        "\n",
        "  if re_0 == 1 or re5_0 == 1:\n",
        "    val = '(1) wht'\n",
        "  elif re_0 == 2 or re5_0 == 2:\n",
        "    val = '(2) blk'\n",
        "  elif re_0 == 3 or re5_0 == 3:\n",
        "    val = '(3) hsp'\n",
        "  elif re_0 == 4 or re5_0 == 4:\n",
        "    val = '(4) asn'\n",
        "  elif re_0 == 5:\n",
        "    val = '(5) ntvam'\n",
        "  elif re_0 == 6:\n",
        "    val = '(6) hipac'\n",
        "  elif re_0 == 7 or re5_0 == 5:\n",
        "    val = '(7) othr'\n",
        "  else:\n",
        "    val = None\n",
        "  return(val)\n",
        "\n",
        "def call_combo_raceth(frame):\n",
        "  frame['raceth'] = frame.apply(lambda x:combo_raceth(x['raceth'], x['raceth5']), axis=1)\n",
        "  frame = call_insert_dummies(frame,'raceth')\n",
        "  frame = frame.drop(columns={'raceth5'})\n",
        "  return(frame)"
      ],
      "execution_count": 0,
      "outputs": []
    },
    {
      "cell_type": "code",
      "metadata": {
        "id": "eXjJMwHLcM-3",
        "colab_type": "code",
        "colab": {}
      },
      "source": [
        "def combo_relig(rlg, rlg4):\n",
        "  try:\n",
        "    rlg = str(rlg)\n",
        "    rlg_0 = int(round(float(rlg.replace('(','').split(') ')[0]),0))\n",
        "  except:\n",
        "    rlg_0 = -1\n",
        "  try:\n",
        "    rlg4 = str(re5)\n",
        "    rlg4_0 = int(round(float(rlg4.replace('(','').split(') ')[0]),0))\n",
        "  except:\n",
        "    rlg4_0 = -1\n",
        "\n",
        "  if rlg_0 == 1 or rlg_0 == 4 or rlg4_0 == 1:\n",
        "    val = '(1) prot_chrst'\n",
        "  elif rlg_0 == 2 or rlg4_0 == 2:\n",
        "    val = '(2) catholic'\n",
        "  elif rlg_0 == 3:\n",
        "    val = '(3) mormon'\n",
        "  elif rlg_0 == 5:\n",
        "    val = '(5) jewish'\n",
        "  elif rlg_0 == 6:\n",
        "    val = '(6) muslim'\n",
        "  elif rlg_0 == 7 or rlg4_0 == 3:\n",
        "    val = '(7) othr'\n",
        "  elif rlg_0 == 8 or rlg4_0 == 4:\n",
        "    val = '(8) none'\n",
        "  else:\n",
        "    val = None\n",
        "  return(val)\n",
        "\n",
        "def call_combo_relig(frame):\n",
        "  frame['relig'] = frame.apply(lambda x:combo_relig(x['relig'], x['relig4']), axis=1)\n",
        "  frame = call_insert_dummies(frame,'relig')\n",
        "  frame = frame.drop(columns={'relig4'})\n",
        "  return(frame)"
      ],
      "execution_count": 0,
      "outputs": []
    },
    {
      "cell_type": "code",
      "metadata": {
        "id": "sITyCUWZhAkc",
        "colab_type": "code",
        "colab": {}
      },
      "source": [
        "def combo_wv(a, b):\n",
        "  try:\n",
        "    a = str(a)\n",
        "    a_0 = int(round(float(a.replace('(','').split(') ')[0]),0))\n",
        "  except:\n",
        "    a_0 = -1\n",
        "  try:\n",
        "    b = str(b)\n",
        "    b_0 = int(round(float(b.replace('(','').split(') ')[0]),0))\n",
        "  except:\n",
        "    b_0 = -1\n",
        "\n",
        "  if a_0 == 1 or b_0 == 1:\n",
        "    val = '(1) election day'\n",
        "  elif a_0 == 2 or b_0 == 2:\n",
        "    val = '(2) early'\n",
        "  else:\n",
        "    val = None\n",
        "  return(val)\n",
        "\n",
        "def call_combo_wv(frame):\n",
        "  frame['wva'] = frame.apply(lambda x:combo_wv(x['wva'], x['wvb']), axis=1)\n",
        "  frame = call_to_binary(frame,'wva','whenvote18_dayof')\n",
        "  frame = frame.drop(columns={'wvb'})\n",
        "  return(frame)"
      ],
      "execution_count": 0,
      "outputs": []
    },
    {
      "cell_type": "code",
      "metadata": {
        "id": "bHvGHjMVjvz3",
        "colab_type": "code",
        "colab": {}
      },
      "source": [
        "def combo_party(p, pf):\n",
        "  try:\n",
        "    p = str(p)\n",
        "    p_0 = int(round(float(p.replace('(','').split(') ')[0]),0))\n",
        "  except:\n",
        "    p_0 = -1\n",
        "  try:\n",
        "    pf = str(pf)\n",
        "    pf_0 = int(round(float(pf.replace('(','').split(') ')[0]),0))\n",
        "  except:\n",
        "    pf_0 = -1\n",
        "\n",
        "  if p_0 == 1:\n",
        "    val = 0\n",
        "  elif p_0 == 2:\n",
        "    val = 4\n",
        "  elif pf_0 == 1:\n",
        "    val = 1\n",
        "  elif pf_0 == 2:\n",
        "    val = 3\n",
        "  elif pf_0 == 3:\n",
        "    val = 2\n",
        "  else:\n",
        "    val = None\n",
        "  return(val)\n",
        "\n",
        "def call_combo_party(frame):\n",
        "  frame['party'] = frame.apply(lambda x:combo_party(x['party'], x['partyfull']), axis=1)\n",
        "  frame = frame.drop(columns={'partyfull'})\n",
        "  return(frame)"
      ],
      "execution_count": 0,
      "outputs": []
    },
    {
      "cell_type": "code",
      "metadata": {
        "id": "XIVQ3zx8mJdL",
        "colab_type": "code",
        "colab": {}
      },
      "source": [
        "def ideo(i):\n",
        "  i = str(i)\n",
        "  i_0 = int(round(float(i.replace('(','').split(') ')[0]),0))\n",
        "  val = i_0-1\n",
        "  return(val)\n",
        "\n",
        "def call_ideo(frame):\n",
        "  frame['ideo'] = frame['ideo'].apply(lambda x:ideo(x) if pd.notnull(x) else x)\n",
        "  return(frame)"
      ],
      "execution_count": 0,
      "outputs": []
    },
    {
      "cell_type": "code",
      "metadata": {
        "id": "lJAGp1Iyn5lC",
        "colab_type": "code",
        "colab": {}
      },
      "source": [
        "def churchattend(ca):\n",
        "  ca = str(ca)\n",
        "  ca_0 = int(round(float(ca.replace('(','').split(') ')[0]),0))\n",
        "\n",
        "  if ca_0 == 1:\n",
        "    val = 0\n",
        "  elif ca_0 == 2:\n",
        "    val = 3\n",
        "  elif ca_0 == 3:\n",
        "    val = 12\n",
        "  elif ca_0 == 4:\n",
        "    val = 36\n",
        "  elif ca_0 == 5:\n",
        "    val = 52\n",
        "  else:\n",
        "    val = None\n",
        "  return(val)\n",
        "\n",
        "def call_churchattend(frame):\n",
        "  frame['attendance'] = frame['attendance'].apply(lambda x:churchattend(x) if pd.notnull(x) else x)\n",
        "  frame = frame.rename(columns={'attendance':'churchattend'})\n",
        "  return(frame)"
      ],
      "execution_count": 0,
      "outputs": []
    },
    {
      "cell_type": "code",
      "metadata": {
        "id": "LrTUOb74-uZj",
        "colab_type": "code",
        "colab": {}
      },
      "source": [
        "def suppTrump(n,v16,_v16,v20,_v20,appr,vimp,fav):\n",
        "  agg = 0\n",
        "  nones = 0\n",
        "  if int(_v16) == 0:\n",
        "    agg += int(v16)\n",
        "  else:\n",
        "    nones += 1\n",
        "  if int(_v20) == 0:\n",
        "    agg += int(v20)\n",
        "  else:\n",
        "    nones += 1\n",
        "  try:\n",
        "    appr = int(appr)\n",
        "    if appr >= 2:\n",
        "      agg += 1\n",
        "  except:\n",
        "    nones += 1\n",
        "  try:\n",
        "    vimp = int(vimp)\n",
        "    if vimp == 2:\n",
        "      agg += 1\n",
        "  except:\n",
        "    nones += 1\n",
        "  try:\n",
        "    fav = int(fav)\n",
        "    if fav >= 2:\n",
        "      agg += 1\n",
        "  except:\n",
        "    nones += 1\n",
        "\n",
        "  if nones == n:\n",
        "    val = None\n",
        "  elif agg >= 1:\n",
        "    val = 1\n",
        "  else:\n",
        "    val = 0\n",
        "  return(val)\n",
        "\n",
        "def call_suppTrump(frame):\n",
        "  n = len(inspect.signature(suppTrump).parameters)-3\n",
        "  frame['suppTrump'] = frame.apply(lambda x,n=n:suppTrump(n,x['vote16_donaldtrump'],x['vote16_nan'],x['vote20_donaldtrumprepublican'],x['vote20_nan'],x['apprTrump'],x['trumpvoteimpact'],x['favTrump']), axis=1)\n",
        "  frame = frame.drop(columns={'voted16','vote16_hillaryclinton','vote16_someoneelse','vote20_donaldtrumprepublican','vote20_democraticcandidate','vote20_itdepends','vote20_wouldnotvote','vote20_nan','apprTrump','trumpvoteimpact','favTrump'}) #comment out line to inspect elements in test cases\n",
        "  return(frame)"
      ],
      "execution_count": 0,
      "outputs": []
    },
    {
      "cell_type": "markdown",
      "metadata": {
        "id": "qncQGJOYnCwz",
        "colab_type": "text"
      },
      "source": [
        "# Munging"
      ]
    },
    {
      "cell_type": "markdown",
      "metadata": {
        "id": "ISZ3jV1nnrnN",
        "colab_type": "text"
      },
      "source": [
        "### Test Functions"
      ]
    },
    {
      "cell_type": "code",
      "metadata": {
        "id": "EUln627wyFdq",
        "colab_type": "code",
        "colab": {}
      },
      "source": [
        "# test function\n",
        "#df_test = full_data.copy(deep=True).replace({'(99) DON’T KNOW/SKIPPED/REFUSED (VOL)':np.NaN}).replace({'(99) DON\\'T KNOW/SKIPPED/REFUSED (VOL)':np.NaN})\n",
        "\n",
        "#field = 'lv'\n",
        "#rename = 'P_vote'\n",
        "#val_2 = '1'\n",
        "#val_0 = '2'\n",
        "#print(df_test[field].unique())\n",
        "#print(df_test.columns.get_loc(field))\n",
        "\n",
        "# to binary\n",
        "#df_test[str('_'+field)] = df_test[field].apply(lambda x,val_0='2':to_binary(x,val_0) if pd.notnull(x) else x)\n",
        "#df_test = call_to_binary(df_test,field,'2')\n",
        "\n",
        "# to ranked reverse\n",
        "#df_test[str('_'+field)] = df_test[field].apply(lambda x,n_choice=str(df_test[field].nunique()):to_ranked_reverse(x,n_choice) if pd.notnull(x) else x)\n",
        "#df_test = call_to_ranked_reverse(df_test,field,rename)\n",
        "#df_test = call_to_ranked_reverse(df_test,'healthlaw','supACA')\n",
        "\n",
        "\n",
        "# remove code\n",
        "#df_test[str('_'+field)] = df_test[field].apply(lambda x:remove_code(x) if pd.notnull(x) else x)\n",
        "#df_test = call_remove_code(df_test,field,rename)\n",
        "\n",
        "# insert dummies\n",
        "#df_test = insert_dummies(df_test, field, df_test.columns.get_loc(field))\n",
        "#df_test = call_insert_dummies(df_test,field)\n",
        "\n",
        "# to 3 choice flip\n",
        "#df_test[str('_'+field)] = df_test[field].apply(lambda x,val_2=val_2,val_0=val_0:to_3_choice_flip(x,val_2,val_0) if pd.notnull(x) else x)\n",
        "#df_test = call_to_3_choice_flip(df_test,field,rename,'2','1')\n",
        "\n",
        "# to prob\n",
        "#df_test[str('_'+field)] = df_test[field].apply(lambda x:to_prob(x) if pd.notnull(x) else x)\n",
        "#df_test = call_to_prob(df_test,field,rename)\n",
        "#print(df_test[['lv','_lv']].drop_duplicates())\n",
        "\n",
        "# combo raceth\n",
        "#df_test = call_combo_raceth(df_test)\n",
        "\n",
        "# combo relig\n",
        "#df_test = call_combo_relig(df_test)\n",
        "\n",
        "# combo wv\n",
        "#df_test = call_combo_wv(df_test)\n",
        "\n",
        "# combo party\n",
        "#df_test = call_combo_party(df_test)\n",
        "#print(df_test[['party','partyfull','_party']].drop_duplicates())\n",
        "# custom: ideo\n",
        "#df_test = call_ideo(df_test)\n",
        "\n",
        "# attendance\n",
        "#df_test = call_churchattend(df_test)\n",
        "\n",
        "#print(df_test['ideo'].head())\n",
        "\n",
        "#print(df_test[str('_'+field)].max())\n",
        "#print(df_test[[field,str('_'+field)]].dropna().head(20).to_string())\n",
        "#print(df_test.head(20).to_string())"
      ],
      "execution_count": 0,
      "outputs": []
    },
    {
      "cell_type": "markdown",
      "metadata": {
        "id": "VoXunaeIn0vg",
        "colab_type": "text"
      },
      "source": [
        "### Active Code"
      ]
    },
    {
      "cell_type": "code",
      "metadata": {
        "id": "xPzVWgpIlsjw",
        "colab_type": "code",
        "outputId": "0417f30a-b607-4279-c729-86a183423c52",
        "colab": {
          "base_uri": "https://localhost:8080/",
          "height": 245
        }
      },
      "source": [
        "# rebase dataframe\n",
        "df = full_data.copy(deep=True).replace({'(99) DON’T KNOW/SKIPPED/REFUSED (VOL)':np.NaN}).replace({'(99) DON\\'T KNOW/SKIPPED/REFUSED (VOL)':np.NaN})\n",
        "\n",
        "# su_id\n",
        "df = df.drop(columns={'pollclose_state_weight','pollclose_national_weight','finalvote_state_weight','finalvote_national_weight','statenum','lvb'})\n",
        "df = call_to_binary(df,'mode',val_1=2)\n",
        "df = df.rename(columns={'p_state':'state'})\n",
        "df = call_to_ranked_reverse(df,'lva','electinterest')\n",
        "df = call_to_prob(df,'lv','P_vote')\n",
        "df = call_to_binary(df,'likelyvoter')\n",
        "df = call_combo_wv(df)\n",
        "df = call_to_binary(df,'timevote')\n",
        "df = call_remove_code(df,'race1_vote')\n",
        "df = call_remove_code(df,'race1_party')\n",
        "df = call_remove_code(df,'race2_vote')\n",
        "df = call_remove_code(df,'race2_party')\n",
        "df = call_remove_code(df,'race3_vote')\n",
        "df = call_remove_code(df,'race3_party')\n",
        "df = call_remove_code(df,'race4_vote')\n",
        "df = call_remove_code(df,'race4_party')\n",
        "df = call_remove_code(df,'race5_vote')\n",
        "df = call_remove_code(df,'race5_party')\n",
        "df = df.drop(columns={'race1_raceid','race1_officeid','race1_racetypeid','race2_raceid','race2_officeid','race2_racetypeid','race3_raceid',\\\n",
        "                      'race3_officeid','race3_racetypeid','race4_raceid','race4_officeid','race4_racetypeid','race5_raceid','race5_officeid',\\\n",
        "                      'race5_racetypeid','ballot1_vote','ballot1_party','ballot1_raceid','ballot1_officeid','ballot1_racetypeid','senvote',\\\n",
        "                      'senspvote','govvote','mainechoice2'})\n",
        "df = call_to_binary(df,'track')\n",
        "df = call_insert_dummies(df,'issues')\n",
        "df = call_to_3_choice_flip(df,'life')\n",
        "df = call_to_ranked_reverse(df,'presapp4','apprTrump')\n",
        "df = call_to_3_choice_flip(df,'trumpfactor3','trumpvoteimpact')\n",
        "df = call_to_binary(df,'trumptraitstemperament','trumpprestemp')\n",
        "df = call_to_binary(df,'trumptraitschange','trumpchange')\n",
        "df = call_to_binary(df,'trumptraitsleader','trumpleader')\n",
        "df = call_to_binary(df,'trumptraitshonest','trumphonest')\n",
        "df = call_to_binary(df,'trumptraitscares','trumpcares')\n",
        "df = call_to_binary(df,'trumptraitsstandsup','trumpstandsup')\n",
        "df = call_to_binary(df,'trumpjobecon','trumpecon')\n",
        "df = call_to_binary(df,'trumpjobhealth','trumphealthcare')\n",
        "df = call_to_binary(df,'trumpjobimmig','trumpimmigration')\n",
        "df = call_to_binary(df,'trumpjobtrade','trumptrade')\n",
        "df = call_to_binary(df,'trumpjobscotus','trumpscotus')\n",
        "df = call_to_binary(df,'trumpjobborder','trumpborder')\n",
        "df = call_to_ranked_reverse(df,'favtrump','favTrump')\n",
        "df = call_to_ranked_reverse(df,'favrep','favR')\n",
        "df = call_to_ranked_reverse(df,'favdem','favD')\n",
        "df = call_to_ranked_reverse(df,'favsendem','favsenD')\n",
        "df = call_to_ranked_reverse(df,'favsenrep','favsenR')\n",
        "df = call_to_ranked_reverse(df,'favsenind','favsenI')\n",
        "df = call_to_ranked_reverse(df,'favgovdem','favgovD')\n",
        "df = call_to_ranked_reverse(df,'favgovrep','favgovR')\n",
        "df = call_to_ranked_reverse(df,'favgovind','favgovI')\n",
        "df = call_to_ranked_reverse(df,'favfeinstein','favFeinsteinD_CA')\n",
        "df = call_to_ranked_reverse(df,'favdeleon','favDeLeonD_CA')\n",
        "df = call_to_ranked_reverse(df,'favssenspecialdem','favsenD_MN')\n",
        "df = call_to_ranked_reverse(df,'favssenspecialrep','favsenR_MN')\n",
        "df = call_to_ranked_reverse(df,'favespy','favEspyD_MS')\n",
        "df = call_to_ranked_reverse(df,'favhydesmith','favHydeSmithR_MS')\n",
        "df = call_to_ranked_reverse(df,'favmcdaniel','favMcDanielR_MS')\n",
        "df = call_to_ranked_reverse(df,'supremecourt','importantscotus')\n",
        "df = call_to_ranked_reverse(df,'partycontrol','importantpartycontrol')\n",
        "df = call_to_ranked_reverse(df,'congressjob4','apprCongress')\n",
        "df = call_to_ranked_reverse(df,'trustgovt')\n",
        "df = call_to_3_choice_flip(df,'ethics','trumpethics')\n",
        "df = call_to_ranked_reverse(df,'govtangr','govtfeels')\n",
        "df = call_to_binary(df,'govtdo','biggovt')\n",
        "df = call_to_ranked_reverse(df,'nec','natecon')\n",
        "df = call_to_ranked_reverse(df,'getahead','famfinancial')\n",
        "df = call_to_3_choice_flip(df,'tradenationalecon','trumpnatecon')\n",
        "df = call_to_3_choice_flip(df,'tradelocalecon','trumplocalecon')\n",
        "df = call_to_3_choice_flip(df,'econfairwealthy')\n",
        "df = call_to_3_choice_flip(df,'econfairmiddle')\n",
        "df = call_to_3_choice_flip(df,'econfairpoor')\n",
        "df = call_to_ranked_reverse(df,'taxcuts')\n",
        "df = call_to_ranked_reverse(df,'healthlaw','supACA')\n",
        "df = call_to_binary(df,'healthgov','biggovt_health')\n",
        "df = call_to_binary(df,'immdeport','immpol')\n",
        "df = call_to_binary(df,'immbetter','immhelp')\n",
        "df = call_to_ranked_reverse(df,'immwall','borderwall')\n",
        "df = call_to_3_choice_flip(df,'racerel','raceadvantage')\n",
        "df = call_to_ranked_reverse(df,'climate')\n",
        "df = call_to_3_choice_flip(df,'gunpolicy')\n",
        "df = call_to_ranked_reverse(df,'abortion')\n",
        "df = call_to_ranked_reverse(df,'metoobelieve')\n",
        "df = call_to_ranked_reverse(df,'metoodefend')\n",
        "df = call_to_binary(df,'pcspeech',val_1=2)\n",
        "df = call_to_binary(df,'marijuana')\n",
        "df = call_to_ranked_reverse(df,'opioid')\n",
        "df = call_to_3_choice_flip(df,'safeterror','trumpterror')\n",
        "df = call_to_3_choice_flip(df,'safecrime','trumpcrime')\n",
        "df = call_to_3_choice_flip(df,'safecyber','trumpcyber')\n",
        "df = call_to_binary(df,'russia','russiacollude16')\n",
        "df = call_to_ranked_reverse(df,'interference','interference18')\n",
        "df = call_insert_dummies(df,'q2020vote','vote20')\n",
        "df = call_to_binary(df,'repintentions','goodintentR')\n",
        "df = call_to_binary(df,'demintentions','goodintentD')\n",
        "df = call_churchattend(df)\n",
        "df = df.drop(columns={'married'})\n",
        "df = call_to_binary(df,'married2','married')\n",
        "df = call_insert_dummies(df,'gunowner')\n",
        "df = call_insert_dummies(df,'union')\n",
        "df = call_insert_dummies(df,'vet')\n",
        "df = call_to_binary(df,'lgb')\n",
        "df = call_to_binary(df,'transgender')\n",
        "df = call_to_binary(df,'borncitizen')\n",
        "df = call_to_ranked_reverse(df,'govjobkasich4','apprKasichR_OH')\n",
        "df = call_to_ranked_reverse(df,'govjobsnyder4','apprSnyderR_MI')\n",
        "df = call_to_ranked_reverse(df,'favsessions','favSessionsR_AL')\n",
        "df = call_to_ranked_reverse(df,'favjones','favJonesD_AL')\n",
        "df = call_to_ranked_reverse(df,'favpalin','favPalinR_AK')\n",
        "df = call_to_ranked_reverse(df,'favflake','favFlakeR_AZ')\n",
        "df = call_to_ranked_reverse(df,'favcotton','favCottonR_AR')\n",
        "df = call_to_ranked_reverse(df,'favboozman','favBoozmanR_AR')\n",
        "df = call_to_ranked_reverse(df,'favemanuel','favEmanuelD_IL')\n",
        "df = call_to_ranked_reverse(df,'favpence','favPenceR_IN')\n",
        "df = call_to_ranked_reverse(df,'favfranken','favFrankenD_MN')\n",
        "df = call_to_ranked_reverse(df,'favinslee','favInsleeD_WA')\n",
        "df = call_to_ranked_reverse(df,'medicaid','supmedicaid')\n",
        "df = call_to_ranked_reverse(df,'sportsbetting','supsportbet')\n",
        "df = call_to_ranked_reverse(df,'casinos','supcasinos')\n",
        "df = call_to_3_choice_flip(df,'jobsit')\n",
        "df = call_to_binary(df,'akdividends','oildiv_AK',2)\n",
        "df = call_to_ranked_reverse(df,'deathpenalty','supdeathpen')\n",
        "df = call_to_ranked_reverse(df,'affhousing','affordhousing')\n",
        "df = call_to_ranked_reverse(df,'teacherstrikes','supteachstrike')\n",
        "df = call_to_ranked_reverse(df,'secondchancelaw','sup2ndchancelaw')\n",
        "df = call_to_ranked_reverse(df,'ilbudget','budget_IL')\n",
        "df = call_to_ranked_reverse(df,'corruption','corrupt')\n",
        "df = call_to_ranked_reverse(df,'teachersunions','supteachunion')\n",
        "df = call_to_ranked_reverse(df,'edbudget','supedufunding')\n",
        "df = call_to_ranked_reverse(df,'transportation','supinfrastructure')\n",
        "df = call_to_binary(df,'prostitution','legalprost_NV')\n",
        "df = call_insert_dummies(df,'govworker','govwork')\n",
        "df = call_to_ranked_reverse(df,'incometax','supincometax_WA')\n",
        "df = call_to_binary(df,'energy','altenergy',2)\n",
        "df = call_insert_dummies(df,'coalhh','coalwork')\n",
        "df = call_to_binary(df,'opioidexp')\n",
        "df = call_to_3_choice_flip(df,'endangeredspecies','endangeredprotections','2','1')\n",
        "df = call_to_ranked_reverse(df,'murkowskisc','apprMurkowskiR_AK_scotus')\n",
        "df = call_to_ranked_reverse(df,'collinssc','apprCollinsR_ME_scotus')\n",
        "df = call_to_3_choice_flip(df,'gastax','gastax_CA','2','1')\n",
        "df = call_to_binary(df,'harrispres','presKHarris')\n",
        "df = call_to_binary(df,'murphypres','presCMurphy')\n",
        "df = call_to_binary(df,'bidenpres','presJBiden')\n",
        "df = call_to_binary(df,'mapreswarren','presEWarren')\n",
        "df = call_to_binary(df,'maprespatrick','presDPatrick')\n",
        "df = call_to_binary(df,'nypresbloomberg','presMBloomberg')\n",
        "df = call_to_binary(df,'nypresgillibrand','presKGillibrand')\n",
        "df = call_to_binary(df,'klobucharpres','presAKlobuchar')\n",
        "df = call_to_binary(df,'merkleypres','presJMerkley')\n",
        "df = call_to_binary(df,'sanderspres','presBSanders')\n",
        "df = call_to_binary(df,'unfairflgillum','unfairGillumD_FL')\n",
        "df = call_to_binary(df,'unfairfldesantis','unfairDeSantisR_FL')\n",
        "df = call_to_binary(df,'unfairnjmenendez','unfairMenendezD_NJ')\n",
        "df = call_to_binary(df,'unfairnjhugin','unfairHuginR_NJ')\n",
        "df = call_to_binary(df,'comarijuana','marijuana_CO')\n",
        "df = call_to_ranked_reverse(df,'redtide','redtide_FL')\n",
        "df = call_to_ranked_reverse(df,'firstblackgov','Abrams1stblackgov_GA')\n",
        "df = call_to_ranked_reverse(df,'allowedvote','allowedvote_GA')\n",
        "df = call_to_ranked_reverse(df,'easevoting')\n",
        "df = call_to_ranked_reverse(df,'emergencyresponse','emrgncyresp')\n",
        "df = call_insert_dummies(df,'tradedemvsrep','bettertrade')\n",
        "df = call_to_binary(df,'kstax','tax_KS')\n",
        "df = call_insert_dummies(df,'mshydesmithvsespy','MSmatchup1')\n",
        "df = call_insert_dummies(df,'msmcdanielvsespy','MSmatchup2')\n",
        "df = call_to_ranked_reverse(df,'preexistingcond','preexistcond')\n",
        "df = call_to_ranked_reverse(df,'q2020excitement','excite20')\n",
        "df = call_to_binary(df,'honestmenendez','honestMenendezD_NJ')\n",
        "df = call_to_binary(df,'honesthugin','honestHuginR_NJ')\n",
        "df = call_to_ranked_reverse(df,'taylor','favTSwift')\n",
        "df = call_to_3_choice_flip(df,'confederateflag','opinconfflag')\n",
        "df = call_to_3_choice_flip(df,'orourketooliberal','libORourkeD_TX')\n",
        "df = call_to_binary(df,'cruzfocus','priorityCruzR_TX')\n",
        "df = call_to_binary(df,'romneytrump','standupRomneyR_UT','1')\n",
        "df = call_to_binary(df,'qpvvote','voted16',4)\n",
        "df = call_insert_dummies(df,'q2016vote','vote16')\n",
        "df = call_to_binary(df,'firsttime','firsttimevoter18')\n",
        "df = call_to_binary(df,'qpvvote3','voted14',4)\n",
        "df = call_insert_dummies(df,'wnv','wnv18')\n",
        "df = call_to_binary(df,'breaka','violencespeechD')\n",
        "df = call_to_binary(df,'breakb','violencespeechR')\n",
        "df = call_insert_dummies(df,'breakc','votedecide18')\n",
        "df = call_to_binary(df,'sex','sex_m')\n",
        "df = call_insert_dummies(df,'age65','age')\n",
        "df = call_combo_raceth(df)\n",
        "df = call_insert_dummies(df,'cuban')\n",
        "df = call_insert_dummies(df,'educ','edu')\n",
        "df = call_insert_dummies(df,'income')\n",
        "df = call_combo_party(df)\n",
        "df = call_ideo(df)\n",
        "df = call_combo_relig(df)\n",
        "df = call_to_binary(df,'bornagain')\n",
        "df = call_insert_dummies(df,'sizeplace')\n",
        "df = df.drop(columns={'formflag'})\n",
        "\n",
        "print(df.shape)\n",
        "print(df.head(10).to_string())"
      ],
      "execution_count": 19,
      "outputs": [
        {
          "output_type": "stream",
          "text": [
            "(138929, 273)\n",
            "      su_id  mode               state  electinterest  P_vote  likelyvoter  whenvote18_dayof  timevote         race1_vote race1_party race2_vote race2_party     race3_vote race3_party         race4_vote race4_party                race5_vote race5_party  track  issues_economyandjobs  issues_healthcare  issues_immigration  issues_taxes  issues_abortion  issues_gunpolicy  issues_environment  issues_foreignpolicy  issues_terrorism  issues_nan  life  apprTrump  trumpvoteimpact  trumpprestemp  trumpchange  trumpleader  trumphonest  trumpcares  trumpstandsup  trumpecon  trumphealthcare  trumpimmigration  trumptrade  trumpscotus  trumpborder  favTrump  favR  favD  favsenD  favsenR  favsenI  favgovD  favgovR  favgovI  favFeinsteinD_CA  favDeLeonD_CA  favsenD_MN  favsenR_MN  favEspyD_MS  favHydeSmithR_MS  favMcDanielR_MS  importantscotus  importantpartycontrol  apprCongress  trustgovt  trumpethics  govtfeels  biggovt  natecon  famfinancial  trumpnatecon  trumplocalecon  econfairwealthy  econfairmiddle  econfairpoor  taxcuts  supACA  biggovt_health  immpol  immhelp  borderwall  raceadvantage  climate  gunpolicy  abortion  metoobelieve  metoodefend  pcspeech  marijuana  opioid  trumpterror  trumpcrime  trumpcyber  russiacollude16  interference18  vote20_donaldtrumprepublican  vote20_democraticcandidate  vote20_itdepends  vote20_wouldnotvote  vote20_nan  goodintentR  goodintentD  churchattend  married  gunowner_gunownerself  gunowner_guninhousehold  gunowner_no  gunowner_nan  union_unionmemberself  union_unionmemberinhousehold  union_no  union_nan  vet_veteranself  vet_veteraninhousehold  vet_no  vet_nan  lgb  transgender  borncitizen  apprKasichR_OH  apprSnyderR_MI  favSessionsR_AL  favJonesD_AL  favPalinR_AK  favFlakeR_AZ  favCottonR_AR  favBoozmanR_AR  favEmanuelD_IL  favPenceR_IN  favFrankenD_MN  favInsleeD_WA  supmedicaid  supsportbet  supcasinos  jobsit  oildiv_AK  supdeathpen  affordhousing  supteachstrike  sup2ndchancelaw  budget_IL  corrupt  supteachunion  supedufunding  supinfrastructure  legalprost_NV  govwork_governmentworkerself  govwork_governmentworkerinhousehold  govwork_no  govwork_nan  supincometax_WA  altenergy  coalwork_coalindustryworkerself  coalwork_coalindustryworkerinhousehold  coalwork_no  coalwork_nan  opioidexp  endangeredprotections  apprMurkowskiR_AK_scotus  apprCollinsR_ME_scotus  gastax_CA  presKHarris  presCMurphy  presJBiden  presEWarren  presDPatrick  presMBloomberg  presKGillibrand  presAKlobuchar  presJMerkley  presBSanders  unfairGillumD_FL  unfairDeSantisR_FL  unfairMenendezD_NJ  unfairHuginR_NJ  marijuana_CO  redtide_FL  Abrams1stblackgov_GA  allowedvote_GA  easevoting  emrgncyresp  bettertrade_democraticparty  bettertrade_republicanparty  bettertrade_bothequally  bettertrade_nan  tax_KS  msmatchup1_cindyhyde_smith  msmatchup1_mikeespy  msmatchup1_undecided  msmatchup1_wouldnotvote  msmatchup1_nan  msmatchup2_chrismcdaniel  msmatchup2_mikeespy  msmatchup2_undecided  msmatchup2_wouldnotvote  msmatchup2_nan  preexistcond  excite20  honestMenendezD_NJ  honestHuginR_NJ  favTSwift  opinconfflag  libORourkeD_TX  priorityCruzR_TX  standupRomneyR_UT  voted16  vote16_donaldtrump  vote16_hillaryclinton  vote16_someoneelse  vote16_nan  firsttimevoter18  voted14  wnv18_idontlikecandidates  wnv18_idontlikepoliticsgenerally  wnv18_ittakestoomuchtimetovote  wnv18_idontknowenoughaboutcandidatespositions  wnv18_myvotedoesntmatter  wnv18_idonthaverequiredidentification  wnv18_idontknowwheretovote  wnv18_nan  violencespeechD  violencespeechR  votedecide18_iveknownallalong  votedecide18_idecidedovercourseofcampaign  votedecide18_idecidedinlastfewdays  votedecide18_istillhaventdecided  votedecide18_nan  sex_m  age_18_24  age_25_29  age_30_39  age_40_49  age_50_64  age_65+  age_nan  raceth_wht  raceth_blk  raceth_hsp  raceth_asn  raceth_ntvam  raceth_hipac  raceth_othr  raceth_nan  cuban_cuban  cuban_orhispanic  cuban_non_hispanic  cuban_nan  edu_highschoolorless  edu_somecollege_assocdegree  edu_collegegraduate  edu_postgraduatestudy  edu_nan  income_under25000  income_25000_49999  income_50000_74999  income_75000_99999  income_100000ormore  income_nan  party  ideo  relig_prot_chrst  relig_catholic  relig_mormon  relig_jewish  relig_muslim  relig_othr  relig_none  relig_nan  bornagain  sizeplace_urban  sizeplace_suburban  sizeplace_smalltown  sizeplace_rural  sizeplace_nan\n",
            "0  20000058     1        (MT) Montana            4.0     1.0            1               NaN       0.0         Jon Tester    Democrat        NaN         NaN            NaN         NaN  Kathleen Williams    Democrat  The Democratic Candidate    Democrat    0.0                      0                  0                   0             0                0                 0                   1                     0                 0           0   NaN        0.0              0.0            NaN          NaN          NaN          NaN         NaN            NaN        0.0              0.0               0.0         0.0          0.0          0.0       NaN   NaN   NaN      3.0      NaN      NaN      NaN      NaN      NaN               NaN            NaN         NaN         NaN          NaN               NaN              NaN              NaN                    1.0           NaN        NaN          NaN        NaN      NaN      1.0           1.0           0.0             0.0              2.0             0.0           0.0      0.0     0.0             NaN     1.0      1.0         0.0            NaN      NaN        NaN       NaN           NaN          NaN       NaN        NaN     NaN          NaN         NaN         NaN              1.0             3.0                             0                           0                 0                    0           1          NaN          NaN           NaN      NaN                      0                        0            0             1                      0                             1         0          0                0                       0       1        0  NaN          NaN          1.0             NaN             NaN              NaN           NaN           NaN           NaN            NaN             NaN             NaN           NaN             NaN            NaN          NaN          NaN         NaN     NaN        NaN          NaN            NaN             NaN              NaN        NaN      NaN            NaN            NaN                NaN            NaN                             0                                    0           0            1              NaN        NaN                                0                                       0            0             1        NaN                    2.0                       NaN                     NaN        NaN          NaN          NaN         NaN          NaN           NaN             NaN              NaN             NaN           NaN           NaN               NaN                 NaN                 NaN              NaN           NaN         NaN                   NaN             NaN         NaN          NaN                            1                            0                        0                0     NaN                           0                    0                     0                        0               1                         0                    0                     0                        0               1           NaN       NaN                 NaN              NaN        NaN           NaN             NaN               NaN                NaN      1.0                   0                      0                   0           1                 0      1.0                          0                                 0                               0                                              0                         0                                      0                           0          1              0.0              1.0                              1                                          0                                   0                                 0                 0    0.0          0          0          0          0          0        1        0           1           0           0           0             0             0            0           0            0                 0                   0          1                     0                            1                    0                      0        0                  0                   1                   0                   0                    0           0      2   1.0                 1               0             0             0             0           0           0          0        NaN                0                   0                    0                1              0\n",
            "1  20000102     1         (KS) Kansas            4.0     1.0            1               0.0       0.0                NaN         NaN        NaN         NaN    Kris Kobach  Republican                NaN         NaN  The Republican Candidate  Republican    0.0                      0                  0                   0             0                1                 0                   0                     0                 0           0   NaN        2.0              1.0            NaN          NaN          NaN          NaN         NaN            NaN        NaN              NaN               NaN         NaN          NaN          NaN       NaN   NaN   NaN      NaN      NaN      NaN      1.0      2.0      NaN               NaN            NaN         NaN         NaN          NaN               NaN              NaN              NaN                    NaN           NaN        1.0          NaN        NaN      NaN      NaN           2.0           2.0             0.0              NaN             NaN           NaN      NaN     3.0             0.0     1.0      NaN         NaN            NaN      NaN        1.0       NaN           NaN          NaN       NaN        NaN     NaN          2.0         2.0         1.0              0.0             NaN                             1                           0                 0                    0           0          0.0          0.0           NaN      NaN                      0                        0            1             0                      0                             0         0          1                0                       0       1        0  NaN          NaN          NaN             NaN             NaN              NaN           NaN           NaN           NaN            NaN             NaN             NaN           NaN             NaN            NaN          NaN          NaN         NaN     NaN        NaN          NaN            NaN             NaN              NaN        NaN      NaN            NaN            1.0                NaN            NaN                             0                                    0           0            1              NaN        NaN                                0                                       0            0             1        NaN                    NaN                       NaN                     NaN        NaN          NaN          NaN         NaN          NaN           NaN             NaN              NaN             NaN           NaN           NaN               NaN                 NaN                 NaN              NaN           NaN         NaN                   NaN             NaN         NaN          NaN                            0                            1                        0                0     0.0                           0                    0                     0                        0               1                         0                    0                     0                        0               1           NaN       NaN                 NaN              NaN        NaN           NaN             NaN               NaN                NaN      1.0                   0                      0                   1           0                 0      1.0                          0                                 0                               0                                              0                         0                                      0                           0          1              0.0              0.0                              0                                          1                                   0                                 0                 0    1.0          0          0          0          1          0        0        0           1           0           0           0             0             0            0           0            0                 0                   0          1                     0                            0                    0                      1        0                  0                   0                   0                   1                    0           0      3   3.0                 1               0             0             0             0           0           0          0        NaN                0                   0                    1                0              0\n",
            "2  20000106     0        (FL) Florida            4.0     1.0            1               1.0       1.0  Another candidate       Other        NaN         NaN            NaN         NaN                NaN         NaN         Another candidate       Other    0.0                      0                  0                   1             0                0                 0                   0                     0                 0           0   NaN        0.0              1.0            NaN          NaN          NaN          NaN         NaN            NaN        0.0              0.0               0.0         0.0          NaN          0.0       NaN   NaN   NaN      3.0      0.0      NaN      3.0      NaN      NaN               NaN            NaN         NaN         NaN          NaN               NaN              NaN              NaN                    2.0           NaN        NaN          NaN        NaN      NaN      0.0           0.0           1.0             2.0              2.0             0.0           0.0      NaN     2.0             NaN     1.0      1.0         0.0            NaN      NaN        NaN       NaN           NaN          NaN       NaN        NaN     NaN          NaN         NaN         NaN              NaN             NaN                             0                           0                 0                    0           1          NaN          NaN           NaN      NaN                      0                        0            0             1                      0                             0         1          0                0                       0       0        1  NaN          NaN          1.0             NaN             NaN              NaN           NaN           NaN           NaN            NaN             NaN             NaN           NaN             NaN            NaN          0.0          NaN         NaN     NaN        NaN          NaN            NaN             NaN              NaN        NaN      NaN            NaN            NaN                NaN            NaN                             0                                    0           0            1              NaN        NaN                                0                                       0            0             1        NaN                    NaN                       NaN                     NaN        NaN          NaN          NaN         NaN          NaN           NaN             NaN              NaN             NaN           NaN           NaN               0.0                 1.0                 NaN              NaN           NaN         3.0                   NaN             NaN         NaN          NaN                            0                            0                        0                1     NaN                           0                    0                     0                        0               1                         0                    0                     0                        0               1           NaN       NaN                 NaN              NaN        NaN           NaN             NaN               NaN                NaN      0.0                   0                      0                   0           1                 0      0.0                          0                                 0                               0                                              0                         0                                      0                           0          1              0.0              1.0                              1                                          0                                   0                                 0                 0    1.0          0          0          0          0          1        0        0           0           1           0           0             0             0            0           0            0                 0                   1          0                     1                            0                    0                      0        0                  0                   0                   0                   0                    1           0      0   NaN                 0               0             0             0             0           1           0          0        NaN                0                   0                    1                0              0\n",
            "3  20000165     1        (MT) Montana            4.0     1.0            1               NaN       0.0         Jon Tester    Democrat        NaN         NaN            NaN         NaN  Kathleen Williams    Democrat  The Democratic Candidate    Democrat    0.0                      0                  1                   0             0                0                 0                   0                     0                 0           0   NaN        0.0              0.0            NaN          NaN          NaN          NaN         NaN            NaN        NaN              NaN               NaN         NaN          NaN          NaN       NaN   NaN   NaN      3.0      0.0      NaN      NaN      NaN      NaN               NaN            NaN         NaN         NaN          NaN               NaN              NaN              NaN                    3.0           NaN        0.0          NaN        NaN      NaN      NaN           0.0           0.0             0.0              NaN             NaN           NaN      NaN     0.0             1.0     1.0      NaN         NaN            NaN      NaN        2.0       NaN           NaN          NaN       NaN        NaN     NaN          0.0         0.0         0.0              1.0             NaN                             0                           1                 0                    0           0          0.0          1.0           NaN      NaN                      0                        0            1             0                      0                             0         0          1                0                       0       1        0  NaN          NaN          NaN             NaN             NaN              NaN           NaN           NaN           NaN            NaN             NaN             NaN           NaN             NaN            NaN          NaN          NaN         NaN     NaN        NaN          NaN            NaN             NaN              NaN        NaN      NaN            NaN            NaN                NaN            NaN                             0                                    0           0            1              NaN        NaN                                0                                       0            0             1        NaN                    2.0                       NaN                     NaN        NaN          NaN          NaN         NaN          NaN           NaN             NaN              NaN             NaN           NaN           NaN               NaN                 NaN                 NaN              NaN           NaN         NaN                   NaN             NaN         NaN          NaN                            1                            0                        0                0     NaN                           0                    0                     0                        0               1                         0                    0                     0                        0               1           NaN       NaN                 NaN              NaN        NaN           NaN             NaN               NaN                NaN      1.0                   0                      0                   1           0                 0      1.0                          0                                 0                               0                                              0                         0                                      0                           0          1              0.0              1.0                              1                                          0                                   0                                 0                 0    1.0          0          0          0          0          0        1        0           1           0           0           0             0             0            0           0            0                 0                   0          1                     0                            0                    0                      1        0                  0                   0                   1                   0                    0           0      0   0.0                 0               1             0             0             0           0           0          0        NaN                0                   0                    1                0              0\n",
            "4  20000191     1  (NH) New Hampshire            4.0     1.0            1               1.0       1.0                NaN         NaN        NaN         NaN   Chris Sununu  Republican                NaN         NaN  The Republican Candidate  Republican    1.0                      1                  0                   0             0                0                 0                   0                     0                 0           0   0.0        2.0              2.0            0.0          1.0          1.0          0.0         1.0            1.0        NaN              NaN               NaN         NaN          NaN          NaN       NaN   NaN   NaN      NaN      NaN      NaN      1.0      3.0      NaN               NaN            NaN         NaN         NaN          NaN               NaN              NaN              NaN                    NaN           0.0        NaN          1.0        2.0      0.0      NaN           2.0           2.0             2.0              NaN             NaN           NaN      NaN     2.0             NaN     1.0      NaN         NaN            0.0      NaN        NaN       NaN           NaN          NaN       0.0        NaN     3.0          NaN         NaN         NaN              0.0             NaN                             0                           0                 0                    0           1          NaN          NaN           NaN      NaN                      0                        0            0             1                      0                             0         0          1                0                       0       0        1  NaN          NaN          NaN             NaN             NaN              NaN           NaN           NaN           NaN            NaN             NaN             NaN           NaN             NaN            NaN          NaN          NaN         NaN     NaN        NaN          NaN            NaN             NaN              NaN        NaN      NaN            NaN            NaN                NaN            NaN                             0                                    0           0            1              NaN        NaN                                0                                       0            0             1        NaN                    NaN                       NaN                     NaN        NaN          NaN          NaN         NaN          NaN           NaN             NaN              NaN             NaN           NaN           NaN               NaN                 NaN                 NaN              NaN           NaN         NaN                   NaN             NaN         NaN          NaN                            0                            0                        0                1     NaN                           0                    0                     0                        0               1                         0                    0                     0                        0               1           NaN       2.0                 NaN              NaN        NaN           NaN             NaN               NaN                NaN      1.0                   0                      0                   0           1                 0      1.0                          0                                 0                               0                                              0                         0                                      0                           0          1              1.0              0.0                              0                                          1                                   0                                 0                 0    1.0          0          0          0          0          1        0        0           0           0           1           0             0             0            0           0            0                 0                   0          1                     0                            0                    0                      1        0                  0                   0                   0                   0                    1           0      4   3.0                 1               0             0             0             0           0           0          0        NaN                0                   1                    0                0              0\n",
            "5  20000268     1      (TN) Tennessee            3.0     1.0            1               NaN       0.0      Phil Bredesen    Democrat        NaN         NaN       Bill Lee  Republican                NaN         NaN  The Democratic Candidate    Democrat    0.0                      1                  0                   0             0                0                 0                   0                     0                 0           0   NaN        0.0              0.0            NaN          NaN          NaN          NaN         NaN            NaN        NaN              NaN               NaN         NaN          NaN          NaN       0.0   0.0   0.0      2.0      0.0      NaN      2.0      2.0      NaN               NaN            NaN         NaN         NaN          NaN               NaN              NaN              2.0                    2.0           NaN        NaN          NaN        NaN      NaN      NaN           1.0           0.0             0.0              NaN             NaN           NaN      NaN     2.0             NaN     1.0      NaN         NaN            NaN      2.0        NaN       1.0           3.0          2.0       NaN        1.0     NaN          NaN         NaN         NaN              1.0             NaN                             0                           0                 0                    0           1          NaN          NaN          52.0      1.0                      0                        0            0             1                      0                             0         0          1                0                       0       0        1  0.0          0.0          NaN             NaN             NaN              NaN           NaN           NaN           NaN            NaN             NaN             NaN           NaN             NaN            NaN          2.0          NaN         NaN     NaN        NaN          NaN            NaN             NaN              NaN        NaN      NaN            NaN            NaN                NaN            NaN                             0                                    0           0            1              NaN        NaN                                0                                       0            0             1        NaN                    NaN                       NaN                     NaN        NaN          NaN          NaN         NaN          NaN           NaN             NaN              NaN             NaN           NaN           NaN               NaN                 NaN                 NaN              NaN           NaN         NaN                   NaN             NaN         NaN          NaN                            0                            0                        0                1     NaN                           0                    0                     0                        0               1                         0                    0                     0                        0               1           NaN       NaN                 NaN              NaN        3.0           0.0             NaN               NaN                NaN      1.0                   0                      0                   0           1                 0      0.0                          0                                 0                               0                                              0                         0                                      0                           0          1              1.0              1.0                              0                                          1                                   0                                 0                 0    1.0          0          0          0          0          1        0        0           1           0           0           0             0             0            0           0            0                 0                   0          1                     0                            0                    1                      0        0                  0                   0                   0                   0                    1           0      3   2.0                 1               0             0             0             0           0           0          0        1.0                1                   0                    0                0              0\n",
            "6  20000294     0  (MA) Massachusetts            4.0     1.0            1               1.0       1.0   Elizabeth Warren    Democrat        NaN         NaN   Jay Gonzalez    Democrat                NaN         NaN  The Democratic Candidate    Democrat    0.0                      0                  1                   0             0                0                 0                   0                     0                 0           0   NaN        0.0              0.0            NaN          NaN          NaN          NaN         NaN            NaN        NaN              NaN               NaN         NaN          NaN          NaN       0.0   0.0   2.0      3.0      0.0      NaN      2.0      2.0      NaN               NaN            NaN         NaN         NaN          NaN               NaN              NaN              3.0                    3.0           NaN        NaN          NaN        NaN      NaN      NaN           1.0           0.0             0.0              NaN             NaN           NaN      NaN     0.0             NaN     1.0      NaN         NaN            NaN      3.0        NaN       2.0           3.0          2.0       NaN        1.0     NaN          NaN         NaN         NaN              1.0             NaN                             0                           0                 0                    0           1          NaN          NaN           3.0      1.0                      0                        0            0             1                      0                             0         0          1                0                       0       0        1  0.0          0.0          NaN             NaN             NaN              NaN           NaN           NaN           NaN            NaN             NaN             NaN           NaN             NaN            NaN          NaN          NaN         NaN     NaN        NaN          NaN            NaN             NaN              NaN        NaN      NaN            NaN            NaN                2.0            NaN                             0                                    0           0            1              NaN        NaN                                0                                       0            0             1        0.0                    NaN                       NaN                     NaN        NaN          NaN          NaN         NaN          0.0           0.0             NaN              NaN             NaN           NaN           NaN               NaN                 NaN                 NaN              NaN           NaN         NaN                   NaN             NaN         NaN          NaN                            0                            0                        0                1     NaN                           0                    0                     0                        0               1                         0                    0                     0                        0               1           NaN       NaN                 NaN              NaN        NaN           NaN             NaN               NaN                NaN      1.0                   0                      0                   0           1                 0      1.0                          0                                 0                               0                                              0                         0                                      0                           0          1              0.0              1.0                              0                                          1                                   0                                 0                 0    0.0          0          0          0          0          1        0        0           1           0           0           0             0             0            0           0            0                 0                   0          1                     0                            0                    1                      0        0                  0                   0                   0                   0                    1           0      0   2.0                 0               1             0             0             0           0           0          0        0.0                0                   1                    0                0              0\n",
            "7  20000321     1     (NJ) New Jersey            4.0     1.0            1               1.0       1.0       Bob Menendez    Democrat        NaN         NaN            NaN         NaN                NaN         NaN  The Democratic Candidate    Democrat    0.0                      0                  1                   0             0                0                 0                   0                     0                 0           0   NaN        0.0              0.0            NaN          NaN          NaN          NaN         NaN            NaN        0.0              0.0               0.0         0.0          1.0          0.0       NaN   NaN   NaN      2.0      2.0      NaN      NaN      NaN      NaN               NaN            NaN         NaN         NaN          NaN               NaN              NaN              NaN                    2.0           NaN        NaN          NaN        NaN      NaN      2.0           1.0           0.0             0.0              2.0             0.0           0.0      1.0     0.0             NaN     1.0      1.0         1.0            NaN      NaN        NaN       NaN           NaN          NaN       NaN        NaN     NaN          NaN         NaN         NaN              1.0             2.0                             0                           0                 0                    0           1          NaN          NaN           NaN      NaN                      0                        0            0             1                      0                             0         1          0                0                       0       0        1  NaN          NaN          1.0             NaN             NaN              NaN           NaN           NaN           NaN            NaN             NaN             NaN           NaN             NaN            NaN          NaN          NaN         NaN     NaN        NaN          NaN            NaN             NaN              NaN        NaN      NaN            NaN            NaN                NaN            NaN                             0                                    0           0            1              NaN        NaN                                0                                       0            0             1        NaN                    NaN                       NaN                     NaN        NaN          NaN          NaN         NaN          NaN           NaN             NaN              NaN             NaN           NaN           NaN               NaN                 NaN                 0.0              0.0           NaN         NaN                   NaN             NaN         NaN          NaN                            0                            0                        0                1     NaN                           0                    0                     0                        0               1                         0                    0                     0                        0               1           NaN       NaN                 1.0              1.0        NaN           NaN             NaN               NaN                NaN      1.0                   0                      0                   0           1                 0      1.0                          0                                 0                               0                                              0                         0                                      0                           0          1              0.0              1.0                              0                                          1                                   0                                 0                 0    1.0          0          0          0          0          0        1        0           1           0           0           0             0             0            0           0            0                 0                   0          1                     0                            0                    0                      1        0                  0                   0                   0                   0                    1           0      1   1.0                 0               0             0             0             0           0           1          0        NaN                0                   1                    0                0              0\n",
            "8  20000442     0          (TX) Texas            4.0     1.0            1               1.0       1.0      Beto O'Rourke    Democrat        NaN         NaN    Lupe Valdez    Democrat                NaN         NaN  The Democratic Candidate    Democrat    0.0                      0                  0                   1             0                0                 0                   0                     0                 0           0   NaN        0.0              0.0            NaN          NaN          NaN          NaN         NaN            NaN        NaN              NaN               NaN         NaN          NaN          NaN       0.0   0.0   3.0      3.0      0.0      NaN      3.0      0.0      NaN               NaN            NaN         NaN         NaN          NaN               NaN              NaN              3.0                    3.0           NaN        NaN          NaN        NaN      NaN      NaN           2.0           0.0             0.0              NaN             NaN           NaN      NaN     2.0             NaN     1.0      NaN         NaN            NaN      2.0        NaN       2.0           3.0          3.0       NaN        1.0     NaN          NaN         NaN         NaN              1.0             NaN                             0                           0                 0                    0           1          NaN          NaN          36.0      0.0                      0                        0            0             1                      0                             0         0          1                0                       0       0        1  0.0          0.0          NaN             NaN             NaN              NaN           NaN           NaN           NaN            NaN             NaN             NaN           NaN             NaN            NaN          NaN          NaN         NaN     NaN        NaN          NaN            NaN             NaN              NaN        NaN      NaN            NaN            3.0                NaN            NaN                             0                                    0           0            1              NaN        NaN                                0                                       0            0             1        NaN                    NaN                       NaN                     NaN        NaN          NaN          NaN         NaN          NaN           NaN             NaN              NaN             NaN           NaN           NaN               NaN                 NaN                 NaN              NaN           NaN         NaN                   NaN             NaN         NaN          NaN                            0                            0                        0                1     NaN                           0                    0                     0                        0               1                         0                    0                     0                        0               1           NaN       NaN                 NaN              NaN        NaN           NaN             1.0               1.0                NaN      1.0                   0                      0                   0           1                 0      1.0                          0                                 0                               0                                              0                         0                                      0                           0          1              0.0              1.0                              1                                          0                                   0                                 0                 0    1.0          0          0          0          0          0        1        0           0           0           0           0             0             0            1           0            0                 0                   0          1                     0                            0                    1                      0        0                  0                   0                   1                   0                    0           0      0   1.0                 1               0             0             0             0           0           0          0        0.0                0                   0                    1                0              0\n",
            "9  20000464     1        (GA) Georgia            4.0     1.0            1               0.0       0.0                NaN         NaN        NaN         NaN  Stacey Abrams    Democrat                NaN         NaN  The Democratic Candidate    Democrat    0.0                      0                  1                   0             0                0                 0                   0                     0                 0           0   NaN        0.0              0.0            NaN          NaN          NaN          NaN         NaN            NaN        NaN              NaN               NaN         NaN          NaN          NaN       NaN   NaN   NaN      NaN      NaN      NaN      3.0      0.0      NaN               NaN            NaN         NaN         NaN          NaN               NaN              NaN              NaN                    NaN           NaN        0.0          NaN        NaN      NaN      NaN           0.0           0.0             0.0              NaN             NaN           NaN      NaN     0.0             1.0     1.0      NaN         NaN            NaN      NaN        2.0       NaN           NaN          NaN       NaN        NaN     NaN          0.0         0.0         0.0              1.0             NaN                             0                           1                 0                    0           0          0.0          1.0           NaN      NaN                      0                        0            1             0                      0                             0         0          1                0                       0       1        0  NaN          NaN          NaN             NaN             NaN              NaN           NaN           NaN           NaN            NaN             NaN             NaN           NaN             NaN            NaN          3.0          NaN         NaN     NaN        NaN          NaN            NaN             NaN              NaN        NaN      NaN            NaN            NaN                NaN            NaN                             0                                    0           0            1              NaN        NaN                                0                                       0            0             1        NaN                    NaN                       NaN                     NaN        NaN          NaN          NaN         NaN          NaN           NaN             NaN              NaN             NaN           NaN           NaN               NaN                 NaN                 NaN              NaN           NaN         NaN                   3.0             0.0         3.0          NaN                            0                            0                        0                1     NaN                           0                    0                     0                        0               1                         0                    0                     0                        0               1           NaN       NaN                 NaN              NaN        NaN           NaN             NaN               NaN                NaN      1.0                   0                      1                   0           0                 0      1.0                          0                                 0                               0                                              0                         0                                      0                           0          1              0.0              1.0                              1                                          0                                   0                                 0                 0    0.0          0          0          0          0          1        0        0           1           0           0           0             0             0            0           0            0                 0                   0          1                     0                            1                    0                      0        0                  0                   1                   0                   0                    0           0      0   0.0                 0               0             0             1             0           0           0          0        NaN                0                   1                    0                0              0\n"
          ],
          "name": "stdout"
        }
      ]
    },
    {
      "cell_type": "code",
      "metadata": {
        "id": "SV4ev9Po_YGX",
        "colab_type": "code",
        "outputId": "bd72081f-3575-447c-d257-8b6243f0b881",
        "colab": {
          "base_uri": "https://localhost:8080/",
          "height": 245
        }
      },
      "source": [
        "df_trump = call_suppTrump(df)\n",
        "print(\"proportion with suppTrump not null:\",df_trump['suppTrump'].count()/df_trump.shape[0])\n",
        "df_trump = df_trump.dropna(subset=['suppTrump'])\n",
        "print(\"proportion with suppTrump == 1:\",df_trump['suppTrump'].mean())\n",
        "df_trump = df_trump.drop(columns={'su_id','race1_vote','race1_party','race2_vote','race2_party','race3_vote','race3_party','race4_vote','race4_party','race5_vote','race5_party',\\\n",
        "                          'favFeinsteinD_CA','favDeLeonD_CA','favsenD_MN','favsenR_MN','favEspyD_MS','favHydeSmithR_MS','favMcDanielR_MS','apprKasichR_OH','apprSnyderR_MI',\\\n",
        "                          'favSessionsR_AL','favJonesD_AL','favPalinR_AK','favFlakeR_AZ','favCottonR_AR','favBoozmanR_AR','favEmanuelD_IL','favPenceR_IN','favFrankenD_MN',\\\n",
        "                          'favInsleeD_WA','oildiv_AK','budget_IL','legalprost_NV','supincometax_WA','apprMurkowskiR_AK_scotus','apprCollinsR_ME_scotus','gastax_CA','presKHarris',\\\n",
        "                          'presCMurphy','presJBiden','presEWarren','presDPatrick','presMBloomberg','presKGillibrand','presAKlobuchar','presJMerkley','presBSanders','unfairGillumD_FL',\\\n",
        "                          'unfairDeSantisR_FL','unfairMenendezD_NJ','unfairHuginR_NJ','marijuana_CO','redtide_FL','Abrams1stblackgov_GA','allowedvote_GA','tax_KS',\\\n",
        "                          'msmatchup1_cindyhyde_smith','msmatchup1_mikeespy','msmatchup1_undecided','msmatchup1_wouldnotvote','msmatchup1_nan','msmatchup2_chrismcdaniel',\\\n",
        "                          'msmatchup2_mikeespy','msmatchup2_undecided','msmatchup2_wouldnotvote','msmatchup2_nan','honestMenendezD_NJ','honestHuginR_NJ','favTSwift','libORourkeD_TX',\\\n",
        "                          'priorityCruzR_TX','standupRomneyR_UT','wnv18_idontlikecandidates','wnv18_idontlikepoliticsgenerally','wnv18_ittakestoomuchtimetovote',\\\n",
        "                          'wnv18_idontknowenoughaboutcandidatespositions','wnv18_myvotedoesntmatter','wnv18_idonthaverequiredidentification','wnv18_idontknowwheretovote',\\\n",
        "                          'wnv18_nan','votedecide18_iveknownallalong','votedecide18_idecidedovercourseofcampaign','votedecide18_idecidedinlastfewdays','votedecide18_istillhaventdecided',\\\n",
        "                          'votedecide18_nan'})\n",
        "df_trump = df_trump[df_trump['issues_nan'] == 0]\n",
        "df_trump = df_trump[df_trump['age_nan'] == 0]\n",
        "df_trump = df_trump[df_trump['raceth_nan'] == 0]\n",
        "df_trump = df_trump[df_trump['edu_nan'] == 0]\n",
        "df_trump = df_trump[df_trump['income_nan'] == 0]\n",
        "df_trump = df_trump[df_trump['relig_nan'] == 0]\n",
        "df_trump = df_trump[df_trump['sizeplace_nan'] == 0]\n",
        "df_trump = df_trump.drop(columns={'issues_nan','age_nan','raceth_nan','edu_nan','income_nan','relig_nan','sizeplace_nan',\\\n",
        "                          'gunowner_gunownerself','gunowner_guninhousehold','gunowner_no','gunowner_nan',\\\n",
        "                          'union_unionmemberself','union_unionmemberinhousehold','union_no','union_nan',\\\n",
        "                          'vet_veteranself','vet_veteraninhousehold','vet_no','vet_nan',\\\n",
        "                          'govwork_governmentworkerself','govwork_governmentworkerinhousehold','govwork_no','govwork_nan',\\\n",
        "                          'coalwork_coalindustryworkerself','coalwork_coalindustryworkerinhousehold','coalwork_no','coalwork_nan',\\\n",
        "                          'bettertrade_democraticparty','bettertrade_republicanparty','bettertrade_bothequally','bettertrade_nan',\\\n",
        "                          'cuban_cuban','cuban_orhispanic','cuban_non_hispanic','cuban_nan',\\\n",
        "                          'firsttimevoter18','favgovI','favsenI','supsportbet','sup2ndchancelaw'})\n",
        "df_trump = df_trump.dropna(thresh=len(df_trump)-10000, axis=1)\n",
        "#plt.hist(df_trump.isna().sum())\n",
        "#plt.show()\n",
        "df_trump = df_trump.dropna(axis=0)\n",
        "print(df_trump.shape)\n",
        "print(df_trump.describe().to_string())\n",
        "#print(df_trump.head().to_string())"
      ],
      "execution_count": 20,
      "outputs": [
        {
          "output_type": "stream",
          "text": [
            "proportion with suppTrump not null: 0.9992658120334847\n",
            "proportion with suppTrump == 1: 0.4276401564537158\n",
            "(106855, 64)\n",
            "                mode  electinterest         P_vote    likelyvoter       timevote          track  issues_economyandjobs  issues_healthcare  issues_immigration   issues_taxes  issues_abortion  issues_gunpolicy  issues_environment  issues_foreignpolicy  issues_terrorism   famfinancial   trumpnatecon  trumplocalecon         supACA         immpol  russiacollude16  vote16_donaldtrump     vote16_nan        voted14  violencespeechD  violencespeechR          sex_m      age_18_24      age_25_29      age_30_39      age_40_49      age_50_64        age_65+     raceth_wht     raceth_blk     raceth_hsp     raceth_asn   raceth_ntvam   raceth_hipac    raceth_othr  edu_highschoolorless  edu_somecollege_assocdegree  edu_collegegraduate  edu_postgraduatestudy  income_under25000  income_25000_49999  income_50000_74999  income_75000_99999  income_100000ormore          party           ideo  relig_prot_chrst  relig_catholic   relig_mormon   relig_jewish   relig_muslim     relig_othr     relig_none  sizeplace_urban  sizeplace_suburban  sizeplace_smalltown  sizeplace_rural      suppTrump\n",
            "count  106855.000000  106855.000000  106855.000000  106855.000000  106855.000000  106855.000000          106855.000000      106855.000000       106855.000000  106855.000000    106855.000000     106855.000000       106855.000000         106855.000000     106855.000000  106855.000000  106855.000000   106855.000000  106855.000000  106855.000000    106855.000000       106855.000000  106855.000000  106855.000000    106855.000000    106855.000000  106855.000000  106855.000000  106855.000000  106855.000000  106855.000000  106855.000000  106855.000000  106855.000000  106855.000000  106855.000000  106855.000000  106855.000000  106855.000000  106855.000000         106855.000000                106855.000000        106855.000000          106855.000000      106855.000000       106855.000000       106855.000000       106855.000000        106855.000000  106855.000000  106855.000000     106855.000000   106855.000000  106855.000000  106855.000000  106855.000000  106855.000000  106855.000000    106855.000000       106855.000000        106855.000000    106855.000000  106855.000000\n",
            "mean        0.944298       3.321801       0.923774       0.864059       0.599027       0.377006               0.182406           0.286454            0.200047       0.034243         0.018577          0.081653            0.084844              0.052978          0.058799       0.988957       0.819784        0.817163       1.324505       0.728819         0.542268            0.096177       0.753760       0.736718         0.442338         0.593739       0.389977       0.068364       0.078639       0.176725       0.144532       0.292247       0.239493       0.758617       0.089186       0.078368       0.024622       0.004408       0.001703       0.043096              0.150831                     0.370830             0.282925               0.195414           0.134865            0.236096            0.212353            0.166160             0.250526       1.787263       1.958364          0.430677        0.209789       0.008862       0.030443       0.005231       0.078480       0.236517         0.199083            0.435094             0.191063         0.174760       0.418567\n",
            "std         0.229346       0.962706       0.186626       0.342728       0.490098       0.484639               0.386181           0.452106            0.400037       0.181853         0.135025          0.273836            0.278651              0.223991          0.235250       0.602502       0.927403        0.843029       1.191363       0.444571         0.498213            0.294835       0.430822       0.440416         0.496666         0.491137       0.487747       0.252370       0.269176       0.381438       0.351630       0.454797       0.426776       0.427924       0.285014       0.268751       0.154971       0.066245       0.041235       0.203074              0.357885                     0.483029             0.450423               0.396521           0.341581            0.424684            0.408975            0.372226             0.433318       1.708199       1.155323          0.495173        0.407160       0.093723       0.171804       0.072139       0.268927       0.424945         0.399312            0.495772             0.393140         0.379764       0.493326\n",
            "min         0.000000       0.000000       0.000000       0.000000       0.000000       0.000000               0.000000           0.000000            0.000000       0.000000         0.000000          0.000000            0.000000              0.000000          0.000000       0.000000       0.000000        0.000000       0.000000       0.000000         0.000000            0.000000       0.000000       0.000000         0.000000         0.000000       0.000000       0.000000       0.000000       0.000000       0.000000       0.000000       0.000000       0.000000       0.000000       0.000000       0.000000       0.000000       0.000000       0.000000              0.000000                     0.000000             0.000000               0.000000           0.000000            0.000000            0.000000            0.000000             0.000000       0.000000       0.000000          0.000000        0.000000       0.000000       0.000000       0.000000       0.000000       0.000000         0.000000            0.000000             0.000000         0.000000       0.000000\n",
            "25%         1.000000       3.000000       1.000000       1.000000       0.000000       0.000000               0.000000           0.000000            0.000000       0.000000         0.000000          0.000000            0.000000              0.000000          0.000000       1.000000       0.000000        0.000000       0.000000       0.000000         0.000000            0.000000       1.000000       0.000000         0.000000         0.000000       0.000000       0.000000       0.000000       0.000000       0.000000       0.000000       0.000000       1.000000       0.000000       0.000000       0.000000       0.000000       0.000000       0.000000              0.000000                     0.000000             0.000000               0.000000           0.000000            0.000000            0.000000            0.000000             0.000000       0.000000       1.000000          0.000000        0.000000       0.000000       0.000000       0.000000       0.000000       0.000000         0.000000            0.000000             0.000000         0.000000       0.000000\n",
            "50%         1.000000       4.000000       1.000000       1.000000       1.000000       0.000000               0.000000           0.000000            0.000000       0.000000         0.000000          0.000000            0.000000              0.000000          0.000000       1.000000       0.000000        1.000000       1.000000       1.000000         1.000000            0.000000       1.000000       1.000000         0.000000         1.000000       0.000000       0.000000       0.000000       0.000000       0.000000       0.000000       0.000000       1.000000       0.000000       0.000000       0.000000       0.000000       0.000000       0.000000              0.000000                     0.000000             0.000000               0.000000           0.000000            0.000000            0.000000            0.000000             0.000000       1.000000       2.000000          0.000000        0.000000       0.000000       0.000000       0.000000       0.000000       0.000000         0.000000            0.000000             0.000000         0.000000       0.000000\n",
            "75%         1.000000       4.000000       1.000000       1.000000       1.000000       1.000000               0.000000           1.000000            0.000000       0.000000         0.000000          0.000000            0.000000              0.000000          0.000000       1.000000       2.000000        2.000000       2.000000       1.000000         1.000000            0.000000       1.000000       1.000000         1.000000         1.000000       1.000000       0.000000       0.000000       0.000000       0.000000       1.000000       0.000000       1.000000       0.000000       0.000000       0.000000       0.000000       0.000000       0.000000              0.000000                     1.000000             1.000000               0.000000           0.000000            0.000000            0.000000            0.000000             1.000000       4.000000       3.000000          1.000000        0.000000       0.000000       0.000000       0.000000       0.000000       0.000000         0.000000            1.000000             0.000000         0.000000       1.000000\n",
            "max         1.000000       4.000000       1.000000       1.000000       1.000000       1.000000               1.000000           1.000000            1.000000       1.000000         1.000000          1.000000            1.000000              1.000000          1.000000       2.000000       2.000000        2.000000       3.000000       1.000000         1.000000            1.000000       1.000000       1.000000         1.000000         1.000000       1.000000       1.000000       1.000000       1.000000       1.000000       1.000000       1.000000       1.000000       1.000000       1.000000       1.000000       1.000000       1.000000       1.000000              1.000000                     1.000000             1.000000               1.000000           1.000000            1.000000            1.000000            1.000000             1.000000       4.000000       4.000000          1.000000        1.000000       1.000000       1.000000       1.000000       1.000000       1.000000         1.000000            1.000000             1.000000         1.000000       1.000000\n"
          ],
          "name": "stdout"
        }
      ]
    },
    {
      "cell_type": "markdown",
      "metadata": {
        "id": "FwHihA-zm9pf",
        "colab_type": "text"
      },
      "source": [
        "# Modeling"
      ]
    },
    {
      "cell_type": "markdown",
      "metadata": {
        "id": "ioeRklClrtCR",
        "colab_type": "text"
      },
      "source": [
        "## Estimating likelihood of supporting Trump"
      ]
    },
    {
      "cell_type": "markdown",
      "metadata": {
        "id": "kyZdFEejt8kz",
        "colab_type": "text"
      },
      "source": [
        "### Logistic Regression"
      ]
    },
    {
      "cell_type": "code",
      "metadata": {
        "id": "W611FMwQuBTD",
        "colab_type": "code",
        "outputId": "c3168f9f-a819-4952-ac3c-917a5f4e1e97",
        "colab": {
          "base_uri": "https://localhost:8080/",
          "height": 106
        }
      },
      "source": [
        "df_l = df_trump.copy(deep=True).drop(columns={'state'})\n",
        "\n",
        "X_context = df_l.drop(columns={'issues_terrorism','age_65+','raceth_othr','edu_postgraduatestudy','income_100000ormore','relig_othr','sizeplace_rural'})\n",
        "y = df_l['suppTrump']\n",
        "\n",
        "X_train_context, X_test_context, y_train, y_test = train_test_split(X_context, y, test_size=0.3, random_state=1)\n",
        "X_train = X_train_context.drop(columns={'suppTrump','vote16_donaldtrump','vote16_nan'})\n",
        "X_test = X_test_context.drop(columns={'suppTrump','vote16_donaldtrump','vote16_nan'})\n",
        "X_train_context = X_train_context[['suppTrump','vote16_donaldtrump','vote16_nan']]\n",
        "X_test_context = X_test_context[['suppTrump','vote16_donaldtrump','vote16_nan']]\n",
        "\n",
        "print(X_train.shape)\n",
        "print(X_test.shape)\n",
        "print(y_train.shape)\n",
        "print(y_test.shape)"
      ],
      "execution_count": 21,
      "outputs": [
        {
          "output_type": "stream",
          "text": [
            "(74798, 53)\n",
            "(32057, 53)\n",
            "(74798,)\n",
            "(32057,)\n"
          ],
          "name": "stdout"
        }
      ]
    },
    {
      "cell_type": "code",
      "metadata": {
        "colab_type": "code",
        "outputId": "d0511f94-ee21-4d7f-cfe8-83b17bdaeea7",
        "id": "BSg1P_gZTyWp",
        "colab": {
          "base_uri": "https://localhost:8080/",
          "height": 1000
        }
      },
      "source": [
        "X_train_intercept = X_train.copy(deep = True)\n",
        "X_train_intercept['intercept'] = 1\n",
        "logmodel_vars = sm.Logit(y_train,X_train_intercept)\n",
        "result = logmodel_vars.fit()\n",
        "print(result.summary())"
      ],
      "execution_count": 22,
      "outputs": [
        {
          "output_type": "stream",
          "text": [
            "Optimization terminated successfully.\n",
            "         Current function value: 0.180769\n",
            "         Iterations 8\n",
            "                           Logit Regression Results                           \n",
            "==============================================================================\n",
            "Dep. Variable:              suppTrump   No. Observations:                74798\n",
            "Model:                          Logit   Df Residuals:                    74744\n",
            "Method:                           MLE   Df Model:                           53\n",
            "Date:                Fri, 20 Mar 2020   Pseudo R-squ.:                  0.7340\n",
            "Time:                        13:17:01   Log-Likelihood:                -13521.\n",
            "converged:                       True   LL-Null:                       -50836.\n",
            "Covariance Type:            nonrobust   LLR p-value:                     0.000\n",
            "===============================================================================================\n",
            "                                  coef    std err          z      P>|z|      [0.025      0.975]\n",
            "-----------------------------------------------------------------------------------------------\n",
            "mode                           -0.0456      0.082     -0.554      0.580      -0.207       0.116\n",
            "electinterest                   0.1115      0.019      5.962      0.000       0.075       0.148\n",
            "P_vote                         -0.1974      0.129     -1.527      0.127      -0.451       0.056\n",
            "likelyvoter                    -0.0644      0.071     -0.911      0.362      -0.203       0.074\n",
            "timevote                        0.1150      0.035      3.296      0.001       0.047       0.183\n",
            "track                           1.9698      0.035     56.807      0.000       1.902       2.038\n",
            "issues_economyandjobs          -0.2194      0.066     -3.302      0.001      -0.350      -0.089\n",
            "issues_healthcare              -0.4142      0.065     -6.369      0.000      -0.542      -0.287\n",
            "issues_immigration              0.0859      0.070      1.225      0.221      -0.052       0.223\n",
            "issues_taxes                   -0.2008      0.091     -2.200      0.028      -0.380      -0.022\n",
            "issues_abortion                 0.0553      0.126      0.438      0.662      -0.193       0.303\n",
            "issues_gunpolicy               -0.5950      0.082     -7.233      0.000      -0.756      -0.434\n",
            "issues_environment             -0.6890      0.089     -7.714      0.000      -0.864      -0.514\n",
            "issues_foreignpolicy           -0.5607      0.089     -6.316      0.000      -0.735      -0.387\n",
            "famfinancial                    0.0315      0.029      1.071      0.284      -0.026       0.089\n",
            "trumpnatecon                    0.6822      0.024     29.021      0.000       0.636       0.728\n",
            "trumplocalecon                  0.4633      0.027     17.053      0.000       0.410       0.517\n",
            "supACA                          0.3413      0.017     20.053      0.000       0.308       0.375\n",
            "immpol                         -0.7135      0.037    -19.515      0.000      -0.785      -0.642\n",
            "russiacollude16                -0.9075      0.036    -24.952      0.000      -0.979      -0.836\n",
            "voted14                        -0.1732      0.041     -4.206      0.000      -0.254      -0.092\n",
            "violencespeechD                 0.8623      0.036     23.792      0.000       0.791       0.933\n",
            "violencespeechR                -0.8306      0.037    -22.150      0.000      -0.904      -0.757\n",
            "sex_m                           0.1818      0.035      5.167      0.000       0.113       0.251\n",
            "age_18_24                      -0.4470      0.074     -6.040      0.000      -0.592      -0.302\n",
            "age_25_29                      -0.1145      0.069     -1.655      0.098      -0.250       0.021\n",
            "age_30_39                       0.0710      0.056      1.266      0.206      -0.039       0.181\n",
            "age_40_49                       0.1750      0.059      2.991      0.003       0.060       0.290\n",
            "age_50_64                      -0.0410      0.051     -0.804      0.421      -0.141       0.059\n",
            "raceth_wht                      0.1749      0.082      2.129      0.033       0.014       0.336\n",
            "raceth_blk                     -0.2772      0.097     -2.849      0.004      -0.468      -0.087\n",
            "raceth_hsp                      0.0672      0.095      0.706      0.480      -0.119       0.254\n",
            "raceth_asn                      0.3737      0.121      3.082      0.002       0.136       0.611\n",
            "raceth_ntvam                   -0.1757      0.240     -0.731      0.465      -0.647       0.295\n",
            "raceth_hipac                   -0.0575      0.336     -0.171      0.864      -0.716       0.601\n",
            "edu_highschoolorless            0.5126      0.062      8.225      0.000       0.390       0.635\n",
            "edu_somecollege_assocdegree     0.3860      0.053      7.290      0.000       0.282       0.490\n",
            "edu_collegegraduate             0.0944      0.052      1.806      0.071      -0.008       0.197\n",
            "income_under25000               0.2716      0.063      4.328      0.000       0.149       0.395\n",
            "income_25000_49999              0.2527      0.054      4.653      0.000       0.146       0.359\n",
            "income_50000_74999              0.1991      0.053      3.782      0.000       0.096       0.302\n",
            "income_75000_99999              0.2377      0.055      4.337      0.000       0.130       0.345\n",
            "party                           0.3245      0.012     26.910      0.000       0.301       0.348\n",
            "ideo                            0.0823      0.019      4.311      0.000       0.045       0.120\n",
            "relig_prot_chrst                0.1622      0.063      2.555      0.011       0.038       0.287\n",
            "relig_catholic                  0.1365      0.068      2.002      0.045       0.003       0.270\n",
            "relig_mormon                    0.1837      0.153      1.197      0.231      -0.117       0.484\n",
            "relig_jewish                   -0.0537      0.121     -0.443      0.658      -0.291       0.184\n",
            "relig_muslim                    0.5985      0.186      3.220      0.001       0.234       0.963\n",
            "relig_none                     -0.2013      0.068     -2.952      0.003      -0.335      -0.068\n",
            "sizeplace_urban                -0.2267      0.054     -4.183      0.000      -0.333      -0.120\n",
            "sizeplace_suburban             -0.3369      0.047     -7.173      0.000      -0.429      -0.245\n",
            "sizeplace_smalltown            -0.1670      0.052     -3.182      0.001      -0.270      -0.064\n",
            "intercept                      -2.6422      0.190    -13.941      0.000      -3.014      -2.271\n",
            "===============================================================================================\n"
          ],
          "name": "stdout"
        }
      ]
    },
    {
      "cell_type": "code",
      "metadata": {
        "id": "qP7t83AfvxHB",
        "colab_type": "code",
        "outputId": "f588eb57-b4b5-45fa-9bf3-b67cc098fb0f",
        "colab": {
          "base_uri": "https://localhost:8080/",
          "height": 210
        }
      },
      "source": [
        "time_0 = time.time()\n",
        "logmodel = LogisticRegression(max_iter=300)\n",
        "logmodel.fit(X_train, y_train)\n",
        "time_1 = time.time()\n",
        "pred_train = logmodel.predict(X_train)\n",
        "time_2 = time.time()\n",
        "pred_test = logmodel.predict(X_test)\n",
        "time_3 = time.time()\n",
        "print('Time to train:', time_1-time_0, 'seconds')\n",
        "print('Time to predict train:', time_2-time_1, 'seconds')\n",
        "print('Time to predict test:', time_3-time_2, 'seconds')\n",
        "print('Total time:', time_3-time_0, 'seconds')\n",
        "print('Train accuracy:',accuracy_score(y_train, pred_train))\n",
        "print('\\nConfusion matrix (suppTrump, prediction):\\n',confusion_matrix(y_test, pred_test))\n",
        "print('Test accuracy:',accuracy_score(y_test, pred_test))"
      ],
      "execution_count": 23,
      "outputs": [
        {
          "output_type": "stream",
          "text": [
            "Time to train: 2.2149834632873535 seconds\n",
            "Time to predict train: 0.017848730087280273 seconds\n",
            "Time to predict test: 0.007987737655639648 seconds\n",
            "Total time: 2.2408199310302734 seconds\n",
            "Train accuracy: 0.9308537661434798\n",
            "\n",
            "Confusion matrix (suppTrump, prediction):\n",
            " [[17553  1045]\n",
            " [ 1220 12239]]\n",
            "Test accuracy: 0.9293446049224818\n"
          ],
          "name": "stdout"
        }
      ]
    },
    {
      "cell_type": "markdown",
      "metadata": {
        "id": "8stvRlCtT4F8",
        "colab_type": "text"
      },
      "source": [
        "### Random Forest"
      ]
    },
    {
      "cell_type": "code",
      "metadata": {
        "id": "CatqRwas31Bd",
        "colab_type": "code",
        "outputId": "8b06cd5f-576a-4c37-8b99-80a4cef48d95",
        "colab": {
          "base_uri": "https://localhost:8080/",
          "height": 210
        }
      },
      "source": [
        "time_0 = time.time()\n",
        "rfmodel = RandomForestClassifier(n_estimators=100, max_depth=15)\n",
        "rfmodel.fit(X_train, y_train)\n",
        "time_1 = time.time()\n",
        "pred_train = rfmodel.predict(X_train)\n",
        "time_2 = time.time()\n",
        "pred_test = rfmodel.predict(X_test)\n",
        "time_3 = time.time()\n",
        "print('Time to train:', time_1-time_0, 'seconds')\n",
        "print('Time to predict train:', time_2-time_1, 'seconds')\n",
        "print('Time to predict test:', time_3-time_2, 'seconds')\n",
        "print('Total time:', time_3-time_0, 'seconds')\n",
        "print('Train accuracy:',accuracy_score(y_train, pred_train))\n",
        "print('\\nConfusion matrix (suppTrump, prediction):\\n',confusion_matrix(y_test, pred_test))\n",
        "print('Test accuracy:',accuracy_score(y_test, pred_test))"
      ],
      "execution_count": 24,
      "outputs": [
        {
          "output_type": "stream",
          "text": [
            "Time to train: 6.531135082244873 seconds\n",
            "Time to predict train: 1.6178903579711914 seconds\n",
            "Time to predict test: 0.634434700012207 seconds\n",
            "Total time: 8.783460140228271 seconds\n",
            "Train accuracy: 0.9736356587074521\n",
            "\n",
            "Confusion matrix (suppTrump, prediction):\n",
            " [[17565  1033]\n",
            " [ 1208 12251]]\n",
            "Test accuracy: 0.9300932713603893\n"
          ],
          "name": "stdout"
        }
      ]
    },
    {
      "cell_type": "markdown",
      "metadata": {
        "id": "WyLBV0-8nEU7",
        "colab_type": "text"
      },
      "source": [
        "## Estimating likelihood of lying "
      ]
    },
    {
      "cell_type": "code",
      "metadata": {
        "id": "qU-UfXpIqDZ6",
        "colab_type": "code",
        "outputId": "c20ecf27-1926-416c-da8a-af92466789e4",
        "colab": {
          "base_uri": "https://localhost:8080/",
          "height": 106
        }
      },
      "source": [
        "X_context_vote = X_context[(X_context['suppTrump']==1) & (X_context['vote16_nan']==0)].drop(columns={'suppTrump','vote16_donaldtrump','vote16_nan'})\n",
        "y_vote = (X_context[(X_context['suppTrump']==1) & (X_context['vote16_nan']==0)]['vote16_donaldtrump'])*-1+1\n",
        "\n",
        "X_train_vote, X_test_vote, y_train_vote, y_test_vote = train_test_split(X_context_vote, y_vote, test_size=0.3, random_state=1)\n",
        "\n",
        "print(X_train_vote.shape)\n",
        "print(y_train_vote.shape)\n",
        "print(X_test_vote.shape)\n",
        "print(y_test_vote.shape)"
      ],
      "execution_count": 25,
      "outputs": [
        {
          "output_type": "stream",
          "text": [
            "(8108, 53)\n",
            "(8108,)\n",
            "(3476, 53)\n",
            "(3476,)\n"
          ],
          "name": "stdout"
        }
      ]
    },
    {
      "cell_type": "code",
      "metadata": {
        "id": "Zlp9asB0_dIh",
        "colab_type": "code",
        "outputId": "8e4e877c-2fa6-4858-a51a-39d45e2e74b0",
        "colab": {
          "base_uri": "https://localhost:8080/",
          "height": 1000
        }
      },
      "source": [
        "X_train_vote_intercept = X_train_vote.copy(deep = True)\n",
        "\n",
        "X_train_vote_intercept['intercept'] = 1\n",
        "logmodel_vars_vote = sm.Logit(y_train_vote,X_train_vote_intercept)\n",
        "result = logmodel_vars_vote.fit()\n",
        "print(result.summary())"
      ],
      "execution_count": 26,
      "outputs": [
        {
          "output_type": "stream",
          "text": [
            "Optimization terminated successfully.\n",
            "         Current function value: 0.273546\n",
            "         Iterations 7\n",
            "                           Logit Regression Results                           \n",
            "==============================================================================\n",
            "Dep. Variable:     vote16_donaldtrump   No. Observations:                 8108\n",
            "Model:                          Logit   Df Residuals:                     8054\n",
            "Method:                           MLE   Df Model:                           53\n",
            "Date:                Fri, 20 Mar 2020   Pseudo R-squ.:                  0.2250\n",
            "Time:                        13:17:13   Log-Likelihood:                -2217.9\n",
            "converged:                       True   LL-Null:                       -2861.7\n",
            "Covariance Type:            nonrobust   LLR p-value:                1.452e-234\n",
            "===============================================================================================\n",
            "                                  coef    std err          z      P>|z|      [0.025      0.975]\n",
            "-----------------------------------------------------------------------------------------------\n",
            "mode                           -0.1458      0.170     -0.857      0.391      -0.479       0.188\n",
            "electinterest                  -0.2189      0.046     -4.808      0.000      -0.308      -0.130\n",
            "P_vote                          0.1734      0.466      0.372      0.710      -0.741       1.088\n",
            "likelyvoter                     0.1520      0.255      0.597      0.551      -0.347       0.651\n",
            "timevote                       -0.0824      0.085     -0.964      0.335      -0.250       0.085\n",
            "track                          -0.0320      0.098     -0.326      0.745      -0.224       0.160\n",
            "issues_economyandjobs           0.2204      0.162      1.361      0.174      -0.097       0.538\n",
            "issues_healthcare               0.2080      0.165      1.258      0.209      -0.116       0.532\n",
            "issues_immigration             -0.2613      0.168     -1.558      0.119      -0.590       0.067\n",
            "issues_taxes                    0.3761      0.227      1.655      0.098      -0.069       0.822\n",
            "issues_abortion                 0.6121      0.257      2.380      0.017       0.108       1.116\n",
            "issues_gunpolicy                0.5344      0.229      2.330      0.020       0.085       0.984\n",
            "issues_environment              0.6932      0.259      2.679      0.007       0.186       1.200\n",
            "issues_foreignpolicy            0.0074      0.247      0.030      0.976      -0.477       0.492\n",
            "famfinancial                    0.0644      0.076      0.846      0.398      -0.085       0.214\n",
            "trumpnatecon                   -0.0090      0.070     -0.128      0.898      -0.146       0.128\n",
            "trumplocalecon                 -0.1732      0.074     -2.329      0.020      -0.319      -0.027\n",
            "supACA                         -0.0872      0.046     -1.877      0.060      -0.178       0.004\n",
            "immpol                          0.2105      0.084      2.504      0.012       0.046       0.375\n",
            "russiacollude16                 0.0512      0.116      0.443      0.658      -0.175       0.278\n",
            "voted14                         0.0958      0.110      0.869      0.385      -0.120       0.312\n",
            "violencespeechD                -0.4015      0.093     -4.335      0.000      -0.583      -0.220\n",
            "violencespeechR                 0.1739      0.099      1.752      0.080      -0.021       0.368\n",
            "sex_m                           0.1377      0.085      1.627      0.104      -0.028       0.304\n",
            "age_18_24                       0.4474      0.230      1.948      0.051      -0.003       0.898\n",
            "age_25_29                       0.3477      0.179      1.947      0.052      -0.002       0.698\n",
            "age_30_39                       0.4216      0.136      3.092      0.002       0.154       0.689\n",
            "age_40_49                       0.3302      0.135      2.438      0.015       0.065       0.596\n",
            "age_50_64                       0.3184      0.114      2.802      0.005       0.096       0.541\n",
            "raceth_wht                     -0.3760      0.189     -1.992      0.046      -0.746      -0.006\n",
            "raceth_blk                      0.7036      0.248      2.833      0.005       0.217       1.190\n",
            "raceth_hsp                      0.3865      0.229      1.691      0.091      -0.062       0.835\n",
            "raceth_asn                      0.0731      0.304      0.241      0.810      -0.523       0.669\n",
            "raceth_ntvam                   -1.4488      0.792     -1.830      0.067      -3.001       0.103\n",
            "raceth_hipac                    1.0941      0.756      1.448      0.148      -0.387       2.575\n",
            "edu_highschoolorless           -0.6809      0.159     -4.290      0.000      -0.992      -0.370\n",
            "edu_somecollege_assocdegree    -0.3420      0.126     -2.708      0.007      -0.590      -0.094\n",
            "edu_collegegraduate            -0.0517      0.123     -0.420      0.675      -0.293       0.190\n",
            "income_under25000               0.1693      0.159      1.063      0.288      -0.143       0.481\n",
            "income_25000_49999              0.1149      0.130      0.883      0.377      -0.140       0.370\n",
            "income_50000_74999             -0.1123      0.128     -0.881      0.379      -0.362       0.138\n",
            "income_75000_99999              0.2474      0.123      2.011      0.044       0.006       0.489\n",
            "party                          -0.5148      0.031    -16.351      0.000      -0.577      -0.453\n",
            "ideo                           -0.1534      0.049     -3.155      0.002      -0.249      -0.058\n",
            "relig_prot_chrst               -0.3547      0.157     -2.262      0.024      -0.662      -0.047\n",
            "relig_catholic                 -0.3825      0.169     -2.267      0.023      -0.713      -0.052\n",
            "relig_mormon                    0.1497      0.352      0.425      0.671      -0.540       0.840\n",
            "relig_jewish                   -0.2846      0.320     -0.889      0.374      -0.912       0.343\n",
            "relig_muslim                   -0.6801      0.570     -1.192      0.233      -1.798       0.438\n",
            "relig_none                     -0.0186      0.176     -0.106      0.915      -0.363       0.326\n",
            "sizeplace_urban                 0.3590      0.135      2.653      0.008       0.094       0.624\n",
            "sizeplace_suburban              0.2129      0.114      1.865      0.062      -0.011       0.437\n",
            "sizeplace_smalltown             0.1997      0.130      1.542      0.123      -0.054       0.454\n",
            "intercept                       0.8804      0.477      1.844      0.065      -0.055       1.816\n",
            "===============================================================================================\n"
          ],
          "name": "stdout"
        }
      ]
    },
    {
      "cell_type": "code",
      "metadata": {
        "id": "SraKIaL9_gna",
        "colab_type": "code",
        "outputId": "ba783d24-dfb8-4392-a041-4f0a11bfb228",
        "colab": {
          "base_uri": "https://localhost:8080/",
          "height": 210
        }
      },
      "source": [
        "time_0 = time.time()\n",
        "logmodel_vote = LogisticRegression(max_iter=300)\n",
        "logmodel_vote.fit(X_train_vote, y_train_vote)\n",
        "time_1 = time.time()\n",
        "pred_train_vote = logmodel_vote.predict(X_train_vote)\n",
        "time_2 = time.time()\n",
        "pred_test_vote = logmodel_vote.predict(X_test_vote)\n",
        "time_3 = time.time()\n",
        "print('Time to train:', time_1-time_0, 'seconds')\n",
        "print('Time to predict train:', time_2-time_1, 'seconds')\n",
        "print('Time to predict test:', time_3-time_2, 'seconds')\n",
        "print('Total time:', time_3-time_0, 'seconds')\n",
        "print('Train accuracy:',accuracy_score(y_train_vote, pred_train_vote))\n",
        "print('\\nConfusion matrix (suppTrump, prediction):\\n',confusion_matrix(y_test_vote, pred_test_vote))\n",
        "print('Test accuracy:',accuracy_score(y_test_vote, pred_test_vote))"
      ],
      "execution_count": 27,
      "outputs": [
        {
          "output_type": "stream",
          "text": [
            "Time to train: 0.38544297218322754 seconds\n",
            "Time to predict train: 0.0032334327697753906 seconds\n",
            "Time to predict test: 0.002293109893798828 seconds\n",
            "Total time: 0.39096951484680176 seconds\n",
            "Train accuracy: 0.899605328071041\n",
            "\n",
            "Confusion matrix (suppTrump, prediction):\n",
            " [[3029   57]\n",
            " [ 306   84]]\n",
            "Test accuracy: 0.8955696202531646\n"
          ],
          "name": "stdout"
        }
      ]
    },
    {
      "cell_type": "code",
      "metadata": {
        "id": "YDbPMcTt_jpL",
        "colab_type": "code",
        "outputId": "dfc086ac-2aa3-49ff-cff7-f47b0cc55f7f",
        "colab": {
          "base_uri": "https://localhost:8080/",
          "height": 210
        }
      },
      "source": [
        "time_0 = time.time()\n",
        "rfmodel_vote = RandomForestClassifier(n_estimators=100, max_depth=15)\n",
        "rfmodel_vote.fit(X_train_vote, y_train_vote)\n",
        "time_1 = time.time()\n",
        "pred_train_vote = rfmodel_vote.predict(X_train_vote)\n",
        "time_2 = time.time()\n",
        "pred_test_vote = rfmodel_vote.predict(X_test_vote)\n",
        "time_3 = time.time()\n",
        "print('Time to train:', time_1-time_0, 'seconds')\n",
        "print('Time to predict train:', time_2-time_1, 'seconds')\n",
        "print('Time to predict test:', time_3-time_2, 'seconds')\n",
        "print('Total time:', time_3-time_0, 'seconds')\n",
        "print('Train accuracy:',accuracy_score(y_train_vote, pred_train_vote))\n",
        "print('\\nConfusion matrix (suppTrump, prediction):\\n',confusion_matrix(y_test_vote, pred_test_vote))\n",
        "print('Test accuracy:',accuracy_score(y_test_vote, pred_test_vote))"
      ],
      "execution_count": 28,
      "outputs": [
        {
          "output_type": "stream",
          "text": [
            "Time to train: 0.7584538459777832 seconds\n",
            "Time to predict train: 0.14068126678466797 seconds\n",
            "Time to predict test: 0.07213139533996582 seconds\n",
            "Total time: 0.971266508102417 seconds\n",
            "Train accuracy: 0.972496299950666\n",
            "\n",
            "Confusion matrix (suppTrump, prediction):\n",
            " [[3062   24]\n",
            " [ 342   48]]\n",
            "Test accuracy: 0.8947065592635213\n"
          ],
          "name": "stdout"
        }
      ]
    },
    {
      "cell_type": "markdown",
      "metadata": {
        "id": "6L9qHnactDbY",
        "colab_type": "text"
      },
      "source": [
        "# Plotting"
      ]
    },
    {
      "cell_type": "markdown",
      "metadata": {
        "id": "dMQ4ybf4-1ZZ",
        "colab_type": "text"
      },
      "source": [
        "## Prep"
      ]
    },
    {
      "cell_type": "code",
      "metadata": {
        "id": "d1KiLJT-n1rY",
        "colab_type": "code",
        "outputId": "68a7931c-3472-4c71-d77a-51925d401c3c",
        "colab": {
          "base_uri": "https://localhost:8080/",
          "height": 141
        }
      },
      "source": [
        "full_X = pd.concat([X_train, X_test])\n",
        "\n",
        "df_trump['logit_pred'] = logmodel.predict(full_X)\n",
        "df_trump['rfmodel_pred'] = rfmodel.predict(full_X)\n",
        "\n",
        "print(df_trump.logit_pred.value_counts())\n",
        "print(df_trump.rfmodel_pred.value_counts())"
      ],
      "execution_count": 29,
      "outputs": [
        {
          "output_type": "stream",
          "text": [
            "0.0    62654\n",
            "1.0    44201\n",
            "Name: logit_pred, dtype: int64\n",
            "0.0    62578\n",
            "1.0    44277\n",
            "Name: rfmodel_pred, dtype: int64\n"
          ],
          "name": "stdout"
        }
      ]
    },
    {
      "cell_type": "code",
      "metadata": {
        "id": "E8GMQVmQtYlh",
        "colab_type": "code",
        "colab": {}
      },
      "source": [
        "df_k = df_trump.copy(deep=True)"
      ],
      "execution_count": 0,
      "outputs": []
    },
    {
      "cell_type": "code",
      "metadata": {
        "colab_type": "code",
        "id": "iend3AT0uXU5",
        "colab": {}
      },
      "source": [
        "def LogitSupp(row):\n",
        "  if row['logit_pred'] == 1:\n",
        "    return 'Logit_Support'\n",
        "  else:\n",
        "    return 'Logit_Oppose'\n",
        "df_k['LogitSupp'] = df_k.apply(LogitSupp, axis=1)"
      ],
      "execution_count": 0,
      "outputs": []
    },
    {
      "cell_type": "code",
      "metadata": {
        "colab_type": "code",
        "outputId": "e18233a5-e6c1-48ef-a61b-68f217c10e5f",
        "id": "Lj4yB2zjuXVD",
        "colab": {
          "base_uri": "https://localhost:8080/",
          "height": 141
        }
      },
      "source": [
        "print(df_k.LogitSupp.value_counts(normalize=True).sort_index()*100)\n",
        "print(df_k.LogitSupp.value_counts().sort_index())"
      ],
      "execution_count": 32,
      "outputs": [
        {
          "output_type": "stream",
          "text": [
            "Logit_Oppose     58.634598\n",
            "Logit_Support    41.365402\n",
            "Name: LogitSupp, dtype: float64\n",
            "Logit_Oppose     62654\n",
            "Logit_Support    44201\n",
            "Name: LogitSupp, dtype: int64\n"
          ],
          "name": "stdout"
        }
      ]
    },
    {
      "cell_type": "code",
      "metadata": {
        "colab_type": "code",
        "id": "5Q5DTIfiuXDB",
        "colab": {}
      },
      "source": [
        "def RFSupp(row):\n",
        "  if row['rfmodel_pred'] == 1:\n",
        "    return 'RF_Support'\n",
        "  else:\n",
        "    return 'RF_Oppose'\n",
        "df_k['RFSupp'] = df_k.apply(RFSupp, axis=1)"
      ],
      "execution_count": 0,
      "outputs": []
    },
    {
      "cell_type": "code",
      "metadata": {
        "colab_type": "code",
        "outputId": "11c9e9ee-63af-41de-ae55-2db2df5dcdbb",
        "id": "ws0J12pyuXDE",
        "colab": {
          "base_uri": "https://localhost:8080/",
          "height": 141
        }
      },
      "source": [
        "print(df_k.RFSupp.value_counts(normalize=True).sort_index()*100)\n",
        "print(df_k.RFSupp.value_counts().sort_index())"
      ],
      "execution_count": 34,
      "outputs": [
        {
          "output_type": "stream",
          "text": [
            "RF_Oppose     58.563474\n",
            "RF_Support    41.436526\n",
            "Name: RFSupp, dtype: float64\n",
            "RF_Oppose     62578\n",
            "RF_Support    44277\n",
            "Name: RFSupp, dtype: int64\n"
          ],
          "name": "stdout"
        }
      ]
    },
    {
      "cell_type": "code",
      "metadata": {
        "colab_type": "code",
        "id": "qF471XBd99Ma",
        "colab": {}
      },
      "source": [
        "def TrumpSupp(row):\n",
        "  if row['suppTrump'] == 1:\n",
        "    return 'Support'\n",
        "  else:\n",
        "    return 'Oppose'\n",
        "df_k['TrumpSupp'] = df_k.apply(TrumpSupp, axis=1)"
      ],
      "execution_count": 0,
      "outputs": []
    },
    {
      "cell_type": "code",
      "metadata": {
        "colab_type": "code",
        "outputId": "e8fd5cc6-2f8c-40d7-87f8-bf3553012f1e",
        "id": "czKp9Mim99Mj",
        "colab": {
          "base_uri": "https://localhost:8080/",
          "height": 141
        }
      },
      "source": [
        "print(df_k.TrumpSupp.value_counts(normalize=True).sort_index()*100)\n",
        "print(df_k.TrumpSupp.value_counts().sort_index())"
      ],
      "execution_count": 36,
      "outputs": [
        {
          "output_type": "stream",
          "text": [
            "Oppose     58.143278\n",
            "Support    41.856722\n",
            "Name: TrumpSupp, dtype: float64\n",
            "Oppose     62129\n",
            "Support    44726\n",
            "Name: TrumpSupp, dtype: int64\n"
          ],
          "name": "stdout"
        }
      ]
    },
    {
      "cell_type": "code",
      "metadata": {
        "id": "7knit-1yAN9t",
        "colab_type": "code",
        "outputId": "b79b19ed-6979-410b-c920-1be68c356fdd",
        "colab": {
          "base_uri": "https://localhost:8080/",
          "height": 193
        }
      },
      "source": [
        "trump = pd.crosstab(index=[df_k.TrumpSupp]\n",
        "            , columns=[df_k.TrumpSupp])\n",
        "trump = trump.reset_index()\n",
        "\n",
        "trump_logit = pd.crosstab(index=[df_k.LogitSupp]\n",
        "            , columns=[df_k.LogitSupp])\n",
        "trump_logit = trump_logit.reset_index()\n",
        "\n",
        "trump_rf = pd.crosstab(index=[df_k.RFSupp]\n",
        "            , columns=[df_k.RFSupp])\n",
        "trump_rf = trump_rf.reset_index()\n",
        "\n",
        "print(trump)\n",
        "print(trump_logit)\n",
        "print(trump_rf)"
      ],
      "execution_count": 37,
      "outputs": [
        {
          "output_type": "stream",
          "text": [
            "TrumpSupp TrumpSupp  Oppose  Support\n",
            "0            Oppose   62129        0\n",
            "1           Support       0    44726\n",
            "LogitSupp      LogitSupp  Logit_Oppose  Logit_Support\n",
            "0           Logit_Oppose         62654              0\n",
            "1          Logit_Support             0          44201\n",
            "RFSupp      RFSupp  RF_Oppose  RF_Support\n",
            "0        RF_Oppose      62578           0\n",
            "1       RF_Support          0       44277\n"
          ],
          "name": "stdout"
        }
      ]
    },
    {
      "cell_type": "code",
      "metadata": {
        "id": "ZrLG1WorwU4J",
        "colab_type": "code",
        "outputId": "61fdef1e-7717-48c3-a90a-53606fa9ee00",
        "colab": {
          "base_uri": "https://localhost:8080/",
          "height": 89
        }
      },
      "source": [
        "df_k.age_18_24.value_counts()"
      ],
      "execution_count": 38,
      "outputs": [
        {
          "output_type": "execute_result",
          "data": {
            "text/plain": [
              "0    99550\n",
              "1     7305\n",
              "Name: age_18_24, dtype: int64"
            ]
          },
          "metadata": {
            "tags": []
          },
          "execution_count": 38
        }
      ]
    },
    {
      "cell_type": "code",
      "metadata": {
        "colab_type": "code",
        "id": "7rpM8VYMNxzp",
        "colab": {}
      },
      "source": [
        "def AgeGroup(row):\n",
        "  if row['age_18_24'] == 1:\n",
        "    return 'age_18_29'\n",
        "  elif row['age_25_29'] == 1:\n",
        "    return 'age_18_29'\n",
        "  elif row['age_30_39'] == 1:\n",
        "    return 'age_30_39'\n",
        "  elif row['age_40_49'] == 1:\n",
        "    return 'age_40_49'\n",
        "  elif row['age_50_64'] == 1:\n",
        "    return 'age_50_64'\n",
        "  elif row['age_65+'] == 1:\n",
        "    return 'age_65+'\n",
        "  else:\n",
        "    return 'other'\n",
        "df_k['AgeGroup'] = df_k.apply(AgeGroup, axis=1)"
      ],
      "execution_count": 0,
      "outputs": []
    },
    {
      "cell_type": "code",
      "metadata": {
        "colab_type": "code",
        "id": "EITFugJNOmF4",
        "outputId": "19c58451-c156-4658-b6b4-a609fe772d96",
        "colab": {
          "base_uri": "https://localhost:8080/",
          "height": 245
        }
      },
      "source": [
        "print(df_k.AgeGroup.value_counts(normalize=True).sort_index()*100)\n",
        "print(df_k.AgeGroup.value_counts().sort_index())"
      ],
      "execution_count": 40,
      "outputs": [
        {
          "output_type": "stream",
          "text": [
            "age_18_29    14.700295\n",
            "age_30_39    17.672547\n",
            "age_40_49    14.453231\n",
            "age_50_64    29.224650\n",
            "age_65+      23.949277\n",
            "Name: AgeGroup, dtype: float64\n",
            "age_18_29    15708\n",
            "age_30_39    18884\n",
            "age_40_49    15444\n",
            "age_50_64    31228\n",
            "age_65+      25591\n",
            "Name: AgeGroup, dtype: int64\n"
          ],
          "name": "stdout"
        }
      ]
    },
    {
      "cell_type": "code",
      "metadata": {
        "id": "cNeVCG-QyYIa",
        "colab_type": "code",
        "outputId": "c938c850-f010-4c32-9758-a764706bfe2f",
        "colab": {
          "base_uri": "https://localhost:8080/",
          "height": 349
        }
      },
      "source": [
        "age_trump = pd.crosstab(index=[df_k.AgeGroup]\n",
        "            , columns=[df_k.TrumpSupp])\n",
        "age_trump = age_trump.reset_index()\n",
        "\n",
        "age_trump_logit = pd.crosstab(index=[df_k.AgeGroup]\n",
        "            , columns=[df_k.LogitSupp])\n",
        "age_trump_logit = age_trump_logit.reset_index()\n",
        "\n",
        "age_trump_rf = pd.crosstab(index=[df_k.AgeGroup]\n",
        "            , columns=[df_k.RFSupp])\n",
        "age_trump_rf = age_trump_rf.reset_index()\n",
        "\n",
        "print(age_trump)\n",
        "print(age_trump_logit)\n",
        "print(age_trump_rf)"
      ],
      "execution_count": 41,
      "outputs": [
        {
          "output_type": "stream",
          "text": [
            "TrumpSupp   AgeGroup  Oppose  Support\n",
            "0          age_18_29   10575     5133\n",
            "1          age_30_39   11816     7068\n",
            "2          age_40_49    8800     6644\n",
            "3          age_50_64   17070    14158\n",
            "4            age_65+   13868    11723\n",
            "LogitSupp   AgeGroup  Logit_Oppose  Logit_Support\n",
            "0          age_18_29          9232           6476\n",
            "1          age_30_39         11049           7835\n",
            "2          age_40_49          8979           6465\n",
            "3          age_50_64         18313          12915\n",
            "4            age_65+         15081          10510\n",
            "RFSupp   AgeGroup  RF_Oppose  RF_Support\n",
            "0       age_18_29       9206        6502\n",
            "1       age_30_39      11075        7809\n",
            "2       age_40_49       8964        6480\n",
            "3       age_50_64      18243       12985\n",
            "4         age_65+      15090       10501\n"
          ],
          "name": "stdout"
        }
      ]
    },
    {
      "cell_type": "code",
      "metadata": {
        "colab_type": "code",
        "id": "Q4jC8d7PdHUR",
        "colab": {}
      },
      "source": [
        "def Gender(row):\n",
        "  if row['sex_m'] == 1:\n",
        "    return 'Male'\n",
        "  else:\n",
        "    return 'Female'\n",
        "df_k['Gender'] = df_k.apply(Gender, axis=1)"
      ],
      "execution_count": 0,
      "outputs": []
    },
    {
      "cell_type": "code",
      "metadata": {
        "colab_type": "code",
        "outputId": "75169b3c-3fee-4f95-80f9-39b214132910",
        "id": "VovY5EobdHUW",
        "colab": {
          "base_uri": "https://localhost:8080/",
          "height": 141
        }
      },
      "source": [
        "print(df_k.Gender.value_counts(normalize=True).sort_index()*100)\n",
        "print(df_k.Gender.value_counts().sort_index())"
      ],
      "execution_count": 43,
      "outputs": [
        {
          "output_type": "stream",
          "text": [
            "Female    61.002293\n",
            "Male      38.997707\n",
            "Name: Gender, dtype: float64\n",
            "Female    65184\n",
            "Male      41671\n",
            "Name: Gender, dtype: int64\n"
          ],
          "name": "stdout"
        }
      ]
    },
    {
      "cell_type": "code",
      "metadata": {
        "colab_type": "code",
        "outputId": "6ff78a71-e1de-4d9b-92be-76dc146ee5e9",
        "id": "_ik_acqddHUY",
        "colab": {
          "base_uri": "https://localhost:8080/",
          "height": 193
        }
      },
      "source": [
        "gender_trump = pd.crosstab(index=[df_k.Gender]\n",
        "            , columns=[df_k.TrumpSupp])\n",
        "gender_trump = gender_trump.reset_index()\n",
        "\n",
        "gender_trump_logit = pd.crosstab(index=[df_k.Gender]\n",
        "            , columns=[df_k.LogitSupp])\n",
        "gender_trump_logit = gender_trump_logit.reset_index()\n",
        "\n",
        "gender_trump_rf = pd.crosstab(index=[df_k.Gender]\n",
        "            , columns=[df_k.RFSupp])\n",
        "gender_trump_rf = gender_trump_rf.reset_index()\n",
        "\n",
        "print(gender_trump)\n",
        "print(gender_trump_logit)\n",
        "print(gender_trump_rf)"
      ],
      "execution_count": 44,
      "outputs": [
        {
          "output_type": "stream",
          "text": [
            "TrumpSupp  Gender  Oppose  Support\n",
            "0          Female   40301    24883\n",
            "1            Male   21828    19843\n",
            "LogitSupp  Gender  Logit_Oppose  Logit_Support\n",
            "0          Female         38306          26878\n",
            "1            Male         24348          17323\n",
            "RFSupp  Gender  RF_Oppose  RF_Support\n",
            "0       Female      38265       26919\n",
            "1         Male      24313       17358\n"
          ],
          "name": "stdout"
        }
      ]
    },
    {
      "cell_type": "code",
      "metadata": {
        "colab_type": "code",
        "id": "GPuXYO-VRZnC",
        "colab": {}
      },
      "source": [
        "def PartyGroup(row):\n",
        "  if row['party'] == 0:\n",
        "    return 'Democratic'\n",
        "  elif row['party'] == 1:\n",
        "    return 'Democratic_Lean'\n",
        "  elif row['party'] == 2:\n",
        "    return 'Independent'\n",
        "  elif row['party'] == 3:\n",
        "    return 'Republican_Lean'\n",
        "  elif row['party'] == 4:\n",
        "    return 'Republican'\n",
        "  else:\n",
        "    return 'other'\n",
        "df_k['PartyGroup'] = df_k.apply(PartyGroup, axis=1)\n"
      ],
      "execution_count": 0,
      "outputs": []
    },
    {
      "cell_type": "code",
      "metadata": {
        "colab_type": "code",
        "outputId": "27fb2105-7efb-4589-b3f4-cee9d43ee65f",
        "id": "CDwvjJsnRZnh",
        "colab": {
          "base_uri": "https://localhost:8080/",
          "height": 245
        }
      },
      "source": [
        "print(df_k.PartyGroup.value_counts(normalize=True).sort_index()*100)\n",
        "print(df_k.PartyGroup.value_counts().sort_index())"
      ],
      "execution_count": 46,
      "outputs": [
        {
          "output_type": "stream",
          "text": [
            "Democratic         39.403865\n",
            "Democratic_Lean    10.712648\n",
            "Independent        11.508118\n",
            "Republican         29.871321\n",
            "Republican_Lean     8.504048\n",
            "Name: PartyGroup, dtype: float64\n",
            "Democratic         42105\n",
            "Democratic_Lean    11447\n",
            "Independent        12297\n",
            "Republican         31919\n",
            "Republican_Lean     9087\n",
            "Name: PartyGroup, dtype: int64\n"
          ],
          "name": "stdout"
        }
      ]
    },
    {
      "cell_type": "code",
      "metadata": {
        "colab_type": "code",
        "outputId": "9b1bb93d-ed70-4ebd-a9eb-e84c96bcf19c",
        "id": "fGzdCB6eRZnm",
        "colab": {
          "base_uri": "https://localhost:8080/",
          "height": 349
        }
      },
      "source": [
        "party_trump = pd.crosstab(index=[df_k.PartyGroup]\n",
        "            , columns=[df_k.TrumpSupp])\n",
        "party_trump = party_trump.reset_index()\n",
        "\n",
        "party_trump_logit = pd.crosstab(index=[df_k.PartyGroup]\n",
        "            , columns=[df_k.LogitSupp])\n",
        "party_trump_logit = party_trump_logit.reset_index()\n",
        "\n",
        "party_trump_rf = pd.crosstab(index=[df_k.PartyGroup]\n",
        "            , columns=[df_k.RFSupp])\n",
        "party_trump_rf = party_trump_rf.reset_index()\n",
        "\n",
        "print(party_trump)\n",
        "print(party_trump_logit)\n",
        "print(party_trump_rf)"
      ],
      "execution_count": 47,
      "outputs": [
        {
          "output_type": "stream",
          "text": [
            "TrumpSupp       PartyGroup  Oppose  Support\n",
            "0               Democratic   38385     3720\n",
            "1          Democratic_Lean   10740      707\n",
            "2              Independent    7309     4988\n",
            "3               Republican    4041    27878\n",
            "4          Republican_Lean    1654     7433\n",
            "LogitSupp       PartyGroup  Logit_Oppose  Logit_Support\n",
            "0               Democratic         24707          17398\n",
            "1          Democratic_Lean          6655           4792\n",
            "2              Independent          7204           5093\n",
            "3               Republican         18621          13298\n",
            "4          Republican_Lean          5467           3620\n",
            "RFSupp       PartyGroup  RF_Oppose  RF_Support\n",
            "0            Democratic      24654       17451\n",
            "1       Democratic_Lean       6680        4767\n",
            "2           Independent       7176        5121\n",
            "3            Republican      18615       13304\n",
            "4       Republican_Lean       5453        3634\n"
          ],
          "name": "stdout"
        }
      ]
    },
    {
      "cell_type": "code",
      "metadata": {
        "id": "2l-l6ZPRXfRW",
        "colab_type": "code",
        "colab": {}
      },
      "source": [
        "def EthnicGroup(row):\n",
        "  if row['raceth_hsp'] == 1:\n",
        "    return 'latinx'\n",
        "  elif row['raceth_blk'] == 1:\n",
        "    return 'afam'\n",
        "  elif row['raceth_asn'] == 1:\n",
        "    return 'asian'\n",
        "  elif row['raceth_hipac'] == 1:\n",
        "    return 'asian'\n",
        "  elif row['raceth_wht'] == 1:\n",
        "    return 'white'\n",
        "  elif row['raceth_ntvam'] == 1:\n",
        "    return 'native'\n",
        "  else:\n",
        "    return 'other'\n",
        "df_k['eth'] = df_k.apply(EthnicGroup, axis=1)"
      ],
      "execution_count": 0,
      "outputs": []
    },
    {
      "cell_type": "code",
      "metadata": {
        "id": "iyhGX6DPa7Q-",
        "colab_type": "code",
        "outputId": "4a3d89e4-2b0e-420b-b2f6-32481c6a0573",
        "colab": {
          "base_uri": "https://localhost:8080/",
          "height": 280
        }
      },
      "source": [
        "print(df_k.eth.value_counts(normalize=True).sort_index()*100)\n",
        "print(df_k.eth.value_counts().sort_index())"
      ],
      "execution_count": 49,
      "outputs": [
        {
          "output_type": "stream",
          "text": [
            "afam       8.918628\n",
            "asian      2.632539\n",
            "latinx     7.836788\n",
            "native     0.440784\n",
            "other      4.309578\n",
            "white     75.861682\n",
            "Name: eth, dtype: float64\n",
            "afam       9530\n",
            "asian      2813\n",
            "latinx     8374\n",
            "native      471\n",
            "other      4605\n",
            "white     81062\n",
            "Name: eth, dtype: int64\n"
          ],
          "name": "stdout"
        }
      ]
    },
    {
      "cell_type": "code",
      "metadata": {
        "colab_type": "code",
        "outputId": "6f6f6f31-1047-4465-db55-96c50094f2a8",
        "id": "8wH0mLTXbvPj",
        "colab": {
          "base_uri": "https://localhost:8080/",
          "height": 401
        }
      },
      "source": [
        "eth_trump = pd.crosstab(index=[df_k.eth]\n",
        "            , columns=[df_k.TrumpSupp])\n",
        "eth_trump = eth_trump.reset_index()\n",
        "\n",
        "eth_trump_logit = pd.crosstab(index=[df_k.eth]\n",
        "            , columns=[df_k.LogitSupp])\n",
        "eth_trump_logit = eth_trump_logit.reset_index()\n",
        "\n",
        "eth_trump_rf = pd.crosstab(index=[df_k.eth]\n",
        "            , columns=[df_k.RFSupp])\n",
        "eth_trump_rf = eth_trump_rf.reset_index()\n",
        "\n",
        "print(eth_trump)\n",
        "print(eth_trump_logit)\n",
        "print(eth_trump_rf)"
      ],
      "execution_count": 50,
      "outputs": [
        {
          "output_type": "stream",
          "text": [
            "TrumpSupp     eth  Oppose  Support\n",
            "0            afam    8307     1223\n",
            "1           asian    1927      886\n",
            "2          latinx    5606     2768\n",
            "3          native     271      200\n",
            "4           other    2835     1770\n",
            "5           white   43183    37879\n",
            "LogitSupp     eth  Logit_Oppose  Logit_Support\n",
            "0            afam          5598           3932\n",
            "1           asian          1649           1164\n",
            "2          latinx          4882           3492\n",
            "3          native           288            183\n",
            "4           other          2736           1869\n",
            "5           white         47501          33561\n",
            "RFSupp     eth  RF_Oppose  RF_Support\n",
            "0         afam       5583        3947\n",
            "1        asian       1641        1172\n",
            "2       latinx       4894        3480\n",
            "3       native        287         184\n",
            "4        other       2747        1858\n",
            "5        white      47426       33636\n"
          ],
          "name": "stdout"
        }
      ]
    },
    {
      "cell_type": "markdown",
      "metadata": {
        "id": "t5v-TxjW-0e9",
        "colab_type": "text"
      },
      "source": [
        ""
      ]
    },
    {
      "cell_type": "markdown",
      "metadata": {
        "id": "tX6dpFqItHFn",
        "colab_type": "text"
      },
      "source": [
        "## Plots"
      ]
    },
    {
      "cell_type": "code",
      "metadata": {
        "id": "F3_syhV8A0fT",
        "colab_type": "code",
        "colab": {}
      },
      "source": [
        "chart_studio.tools.set_credentials_file(username='kielbrunner', api_key='skeo2zBonhX5ayjYv0AC')"
      ],
      "execution_count": 0,
      "outputs": []
    },
    {
      "cell_type": "code",
      "metadata": {
        "id": "TBHazlxME69F",
        "colab_type": "code",
        "outputId": "99d7ac1d-096a-4b08-834b-c7d79d004b00",
        "colab": {
          "base_uri": "https://localhost:8080/",
          "height": 562
        }
      },
      "source": [
        "fig = go.Figure(data=[\n",
        "    go.Bar(name='Oppose'\n",
        "    , x=trump.TrumpSupp\n",
        "    , y=trump.Oppose),\n",
        "    go.Bar(name='Logit_Oppose'\n",
        "    , x=trump_logit.LogitSupp\n",
        "    , y=trump_logit.Logit_Oppose),\n",
        "     go.Bar(name='RF_Oppose'\n",
        "    , x=trump_rf.RFSupp\n",
        "    , y=trump_rf.RF_Oppose),   \n",
        "    go.Bar(name='Support'\n",
        "    , x=trump.TrumpSupp\n",
        "    , y=trump.Support),\n",
        "    go.Bar(name='Logit_Support'\n",
        "    , x=trump_logit.LogitSupp\n",
        "    , y=trump_logit.Logit_Support),\n",
        "    go.Bar(name='RF_Support'\n",
        "    , x=trump_rf.RFSupp\n",
        "    , y=trump_rf.RF_Support),\n",
        "])\n",
        "#fig.update_layout(barmode='group')\n",
        "fig.update_layout(title_text=\"Trump Support<br>Both Models Appear to Match the Survey Questions\")\n",
        "\n",
        "fig.show()"
      ],
      "execution_count": 52,
      "outputs": [
        {
          "output_type": "display_data",
          "data": {
            "text/html": [
              "<html>\n",
              "<head><meta charset=\"utf-8\" /></head>\n",
              "<body>\n",
              "    <div>\n",
              "            <script src=\"https://cdnjs.cloudflare.com/ajax/libs/mathjax/2.7.5/MathJax.js?config=TeX-AMS-MML_SVG\"></script><script type=\"text/javascript\">if (window.MathJax) {MathJax.Hub.Config({SVG: {font: \"STIX-Web\"}});}</script>\n",
              "                <script type=\"text/javascript\">window.PlotlyConfig = {MathJaxConfig: 'local'};</script>\n",
              "        <script src=\"https://cdn.plot.ly/plotly-latest.min.js\"></script>    \n",
              "            <div id=\"4b3fe428-0cb1-4162-bd00-0dd4831ac1c2\" class=\"plotly-graph-div\" style=\"height:525px; width:100%;\"></div>\n",
              "            <script type=\"text/javascript\">\n",
              "                \n",
              "                    window.PLOTLYENV=window.PLOTLYENV || {};\n",
              "                    \n",
              "                if (document.getElementById(\"4b3fe428-0cb1-4162-bd00-0dd4831ac1c2\")) {\n",
              "                    Plotly.newPlot(\n",
              "                        '4b3fe428-0cb1-4162-bd00-0dd4831ac1c2',\n",
              "                        [{\"name\": \"Oppose\", \"type\": \"bar\", \"x\": [\"Oppose\", \"Support\"], \"y\": [62129, 0]}, {\"name\": \"Logit_Oppose\", \"type\": \"bar\", \"x\": [\"Logit_Oppose\", \"Logit_Support\"], \"y\": [62654, 0]}, {\"name\": \"RF_Oppose\", \"type\": \"bar\", \"x\": [\"RF_Oppose\", \"RF_Support\"], \"y\": [62578, 0]}, {\"name\": \"Support\", \"type\": \"bar\", \"x\": [\"Oppose\", \"Support\"], \"y\": [0, 44726]}, {\"name\": \"Logit_Support\", \"type\": \"bar\", \"x\": [\"Logit_Oppose\", \"Logit_Support\"], \"y\": [0, 44201]}, {\"name\": \"RF_Support\", \"type\": \"bar\", \"x\": [\"RF_Oppose\", \"RF_Support\"], \"y\": [0, 44277]}],\n",
              "                        {\"template\": {\"data\": {\"bar\": [{\"error_x\": {\"color\": \"#2a3f5f\"}, \"error_y\": {\"color\": \"#2a3f5f\"}, \"marker\": {\"line\": {\"color\": \"#E5ECF6\", \"width\": 0.5}}, \"type\": \"bar\"}], \"barpolar\": [{\"marker\": {\"line\": {\"color\": \"#E5ECF6\", \"width\": 0.5}}, \"type\": \"barpolar\"}], \"carpet\": [{\"aaxis\": {\"endlinecolor\": \"#2a3f5f\", \"gridcolor\": \"white\", \"linecolor\": \"white\", \"minorgridcolor\": \"white\", \"startlinecolor\": \"#2a3f5f\"}, \"baxis\": {\"endlinecolor\": \"#2a3f5f\", \"gridcolor\": \"white\", \"linecolor\": \"white\", \"minorgridcolor\": \"white\", \"startlinecolor\": \"#2a3f5f\"}, \"type\": \"carpet\"}], \"choropleth\": [{\"colorbar\": {\"outlinewidth\": 0, \"ticks\": \"\"}, \"type\": \"choropleth\"}], \"contour\": [{\"colorbar\": {\"outlinewidth\": 0, \"ticks\": \"\"}, \"colorscale\": [[0.0, \"#0d0887\"], [0.1111111111111111, \"#46039f\"], [0.2222222222222222, \"#7201a8\"], [0.3333333333333333, \"#9c179e\"], [0.4444444444444444, \"#bd3786\"], [0.5555555555555556, \"#d8576b\"], [0.6666666666666666, \"#ed7953\"], [0.7777777777777778, \"#fb9f3a\"], [0.8888888888888888, \"#fdca26\"], [1.0, \"#f0f921\"]], \"type\": \"contour\"}], \"contourcarpet\": [{\"colorbar\": {\"outlinewidth\": 0, \"ticks\": \"\"}, \"type\": \"contourcarpet\"}], \"heatmap\": [{\"colorbar\": {\"outlinewidth\": 0, \"ticks\": \"\"}, \"colorscale\": [[0.0, \"#0d0887\"], [0.1111111111111111, \"#46039f\"], [0.2222222222222222, \"#7201a8\"], [0.3333333333333333, \"#9c179e\"], [0.4444444444444444, \"#bd3786\"], [0.5555555555555556, \"#d8576b\"], [0.6666666666666666, \"#ed7953\"], [0.7777777777777778, \"#fb9f3a\"], [0.8888888888888888, \"#fdca26\"], [1.0, \"#f0f921\"]], \"type\": \"heatmap\"}], \"heatmapgl\": [{\"colorbar\": {\"outlinewidth\": 0, \"ticks\": \"\"}, \"colorscale\": [[0.0, \"#0d0887\"], [0.1111111111111111, \"#46039f\"], [0.2222222222222222, \"#7201a8\"], [0.3333333333333333, \"#9c179e\"], [0.4444444444444444, \"#bd3786\"], [0.5555555555555556, \"#d8576b\"], [0.6666666666666666, \"#ed7953\"], [0.7777777777777778, \"#fb9f3a\"], [0.8888888888888888, \"#fdca26\"], [1.0, \"#f0f921\"]], \"type\": \"heatmapgl\"}], \"histogram\": [{\"marker\": {\"colorbar\": {\"outlinewidth\": 0, \"ticks\": \"\"}}, \"type\": \"histogram\"}], \"histogram2d\": [{\"colorbar\": {\"outlinewidth\": 0, \"ticks\": \"\"}, \"colorscale\": [[0.0, \"#0d0887\"], [0.1111111111111111, \"#46039f\"], [0.2222222222222222, \"#7201a8\"], [0.3333333333333333, \"#9c179e\"], [0.4444444444444444, \"#bd3786\"], [0.5555555555555556, \"#d8576b\"], [0.6666666666666666, \"#ed7953\"], [0.7777777777777778, \"#fb9f3a\"], [0.8888888888888888, \"#fdca26\"], [1.0, \"#f0f921\"]], \"type\": \"histogram2d\"}], \"histogram2dcontour\": [{\"colorbar\": {\"outlinewidth\": 0, \"ticks\": \"\"}, \"colorscale\": [[0.0, \"#0d0887\"], [0.1111111111111111, \"#46039f\"], [0.2222222222222222, \"#7201a8\"], [0.3333333333333333, \"#9c179e\"], [0.4444444444444444, \"#bd3786\"], [0.5555555555555556, \"#d8576b\"], [0.6666666666666666, \"#ed7953\"], [0.7777777777777778, \"#fb9f3a\"], [0.8888888888888888, \"#fdca26\"], [1.0, \"#f0f921\"]], \"type\": \"histogram2dcontour\"}], \"mesh3d\": [{\"colorbar\": {\"outlinewidth\": 0, \"ticks\": \"\"}, \"type\": \"mesh3d\"}], \"parcoords\": [{\"line\": {\"colorbar\": {\"outlinewidth\": 0, \"ticks\": \"\"}}, \"type\": \"parcoords\"}], \"pie\": [{\"automargin\": true, \"type\": \"pie\"}], \"scatter\": [{\"marker\": {\"colorbar\": {\"outlinewidth\": 0, \"ticks\": \"\"}}, \"type\": \"scatter\"}], \"scatter3d\": [{\"line\": {\"colorbar\": {\"outlinewidth\": 0, \"ticks\": \"\"}}, \"marker\": {\"colorbar\": {\"outlinewidth\": 0, \"ticks\": \"\"}}, \"type\": \"scatter3d\"}], \"scattercarpet\": [{\"marker\": {\"colorbar\": {\"outlinewidth\": 0, \"ticks\": \"\"}}, \"type\": \"scattercarpet\"}], \"scattergeo\": [{\"marker\": {\"colorbar\": {\"outlinewidth\": 0, \"ticks\": \"\"}}, \"type\": \"scattergeo\"}], \"scattergl\": [{\"marker\": {\"colorbar\": {\"outlinewidth\": 0, \"ticks\": \"\"}}, \"type\": \"scattergl\"}], \"scattermapbox\": [{\"marker\": {\"colorbar\": {\"outlinewidth\": 0, \"ticks\": \"\"}}, \"type\": \"scattermapbox\"}], \"scatterpolar\": [{\"marker\": {\"colorbar\": {\"outlinewidth\": 0, \"ticks\": \"\"}}, \"type\": \"scatterpolar\"}], \"scatterpolargl\": [{\"marker\": {\"colorbar\": {\"outlinewidth\": 0, \"ticks\": \"\"}}, \"type\": \"scatterpolargl\"}], \"scatterternary\": [{\"marker\": {\"colorbar\": {\"outlinewidth\": 0, \"ticks\": \"\"}}, \"type\": \"scatterternary\"}], \"surface\": [{\"colorbar\": {\"outlinewidth\": 0, \"ticks\": \"\"}, \"colorscale\": [[0.0, \"#0d0887\"], [0.1111111111111111, \"#46039f\"], [0.2222222222222222, \"#7201a8\"], [0.3333333333333333, \"#9c179e\"], [0.4444444444444444, \"#bd3786\"], [0.5555555555555556, \"#d8576b\"], [0.6666666666666666, \"#ed7953\"], [0.7777777777777778, \"#fb9f3a\"], [0.8888888888888888, \"#fdca26\"], [1.0, \"#f0f921\"]], \"type\": \"surface\"}], \"table\": [{\"cells\": {\"fill\": {\"color\": \"#EBF0F8\"}, \"line\": {\"color\": \"white\"}}, \"header\": {\"fill\": {\"color\": \"#C8D4E3\"}, \"line\": {\"color\": \"white\"}}, \"type\": \"table\"}]}, \"layout\": {\"annotationdefaults\": {\"arrowcolor\": \"#2a3f5f\", \"arrowhead\": 0, \"arrowwidth\": 1}, \"coloraxis\": {\"colorbar\": {\"outlinewidth\": 0, \"ticks\": \"\"}}, \"colorscale\": {\"diverging\": [[0, \"#8e0152\"], [0.1, \"#c51b7d\"], [0.2, \"#de77ae\"], [0.3, \"#f1b6da\"], [0.4, \"#fde0ef\"], [0.5, \"#f7f7f7\"], [0.6, \"#e6f5d0\"], [0.7, \"#b8e186\"], [0.8, \"#7fbc41\"], [0.9, \"#4d9221\"], [1, \"#276419\"]], \"sequential\": [[0.0, \"#0d0887\"], [0.1111111111111111, \"#46039f\"], [0.2222222222222222, \"#7201a8\"], [0.3333333333333333, \"#9c179e\"], [0.4444444444444444, \"#bd3786\"], [0.5555555555555556, \"#d8576b\"], [0.6666666666666666, \"#ed7953\"], [0.7777777777777778, \"#fb9f3a\"], [0.8888888888888888, \"#fdca26\"], [1.0, \"#f0f921\"]], \"sequentialminus\": [[0.0, \"#0d0887\"], [0.1111111111111111, \"#46039f\"], [0.2222222222222222, \"#7201a8\"], [0.3333333333333333, \"#9c179e\"], [0.4444444444444444, \"#bd3786\"], [0.5555555555555556, \"#d8576b\"], [0.6666666666666666, \"#ed7953\"], [0.7777777777777778, \"#fb9f3a\"], [0.8888888888888888, \"#fdca26\"], [1.0, \"#f0f921\"]]}, \"colorway\": [\"#636efa\", \"#EF553B\", \"#00cc96\", \"#ab63fa\", \"#FFA15A\", \"#19d3f3\", \"#FF6692\", \"#B6E880\", \"#FF97FF\", \"#FECB52\"], \"font\": {\"color\": \"#2a3f5f\"}, \"geo\": {\"bgcolor\": \"white\", \"lakecolor\": \"white\", \"landcolor\": \"#E5ECF6\", \"showlakes\": true, \"showland\": true, \"subunitcolor\": \"white\"}, \"hoverlabel\": {\"align\": \"left\"}, \"hovermode\": \"closest\", \"mapbox\": {\"style\": \"light\"}, \"paper_bgcolor\": \"white\", \"plot_bgcolor\": \"#E5ECF6\", \"polar\": {\"angularaxis\": {\"gridcolor\": \"white\", \"linecolor\": \"white\", \"ticks\": \"\"}, \"bgcolor\": \"#E5ECF6\", \"radialaxis\": {\"gridcolor\": \"white\", \"linecolor\": \"white\", \"ticks\": \"\"}}, \"scene\": {\"xaxis\": {\"backgroundcolor\": \"#E5ECF6\", \"gridcolor\": \"white\", \"gridwidth\": 2, \"linecolor\": \"white\", \"showbackground\": true, \"ticks\": \"\", \"zerolinecolor\": \"white\"}, \"yaxis\": {\"backgroundcolor\": \"#E5ECF6\", \"gridcolor\": \"white\", \"gridwidth\": 2, \"linecolor\": \"white\", \"showbackground\": true, \"ticks\": \"\", \"zerolinecolor\": \"white\"}, \"zaxis\": {\"backgroundcolor\": \"#E5ECF6\", \"gridcolor\": \"white\", \"gridwidth\": 2, \"linecolor\": \"white\", \"showbackground\": true, \"ticks\": \"\", \"zerolinecolor\": \"white\"}}, \"shapedefaults\": {\"line\": {\"color\": \"#2a3f5f\"}}, \"ternary\": {\"aaxis\": {\"gridcolor\": \"white\", \"linecolor\": \"white\", \"ticks\": \"\"}, \"baxis\": {\"gridcolor\": \"white\", \"linecolor\": \"white\", \"ticks\": \"\"}, \"bgcolor\": \"#E5ECF6\", \"caxis\": {\"gridcolor\": \"white\", \"linecolor\": \"white\", \"ticks\": \"\"}}, \"title\": {\"x\": 0.05}, \"xaxis\": {\"automargin\": true, \"gridcolor\": \"white\", \"linecolor\": \"white\", \"ticks\": \"\", \"title\": {\"standoff\": 15}, \"zerolinecolor\": \"white\", \"zerolinewidth\": 2}, \"yaxis\": {\"automargin\": true, \"gridcolor\": \"white\", \"linecolor\": \"white\", \"ticks\": \"\", \"title\": {\"standoff\": 15}, \"zerolinecolor\": \"white\", \"zerolinewidth\": 2}}}, \"title\": {\"text\": \"Trump Support<br>Both Models Appear to Match the Survey Questions\"}},\n",
              "                        {\"responsive\": true}\n",
              "                    ).then(function(){\n",
              "                            \n",
              "var gd = document.getElementById('4b3fe428-0cb1-4162-bd00-0dd4831ac1c2');\n",
              "var x = new MutationObserver(function (mutations, observer) {{\n",
              "        var display = window.getComputedStyle(gd).display;\n",
              "        if (!display || display === 'none') {{\n",
              "            console.log([gd, 'removed!']);\n",
              "            Plotly.purge(gd);\n",
              "            observer.disconnect();\n",
              "        }}\n",
              "}});\n",
              "\n",
              "// Listen for the removal of the full notebook cells\n",
              "var notebookContainer = gd.closest('#notebook-container');\n",
              "if (notebookContainer) {{\n",
              "    x.observe(notebookContainer, {childList: true});\n",
              "}}\n",
              "\n",
              "// Listen for the clearing of the current output cell\n",
              "var outputEl = gd.closest('.output');\n",
              "if (outputEl) {{\n",
              "    x.observe(outputEl, {childList: true});\n",
              "}}\n",
              "\n",
              "                        })\n",
              "                };\n",
              "                \n",
              "            </script>\n",
              "        </div>\n",
              "</body>\n",
              "</html>"
            ]
          },
          "metadata": {
            "tags": []
          }
        }
      ]
    },
    {
      "cell_type": "code",
      "metadata": {
        "id": "-v9_N7WCGPb7",
        "colab_type": "code",
        "outputId": "b8ac0a58-d2cc-46cc-e066-f4dae78808ac",
        "colab": {
          "base_uri": "https://localhost:8080/",
          "height": 562
        }
      },
      "source": [
        "fig_age = go.Figure(data=[\n",
        "    go.Bar(name='Oppose'\n",
        "    , x=age_trump.AgeGroup\n",
        "    , y=age_trump.Oppose),\n",
        "    go.Bar(name='Logit_Oppose'\n",
        "    , x=age_trump_logit.AgeGroup\n",
        "    , y=age_trump_logit.Logit_Oppose),\n",
        "     go.Bar(name='RF_Oppose'\n",
        "    , x=age_trump_rf.AgeGroup\n",
        "    , y=age_trump_rf.RF_Oppose),   \n",
        "    go.Bar(name='Support'\n",
        "    , x=age_trump.AgeGroup\n",
        "    , y=age_trump.Support),\n",
        "    go.Bar(name='Logit_Support'\n",
        "    , x=age_trump_logit.AgeGroup\n",
        "    , y=age_trump_logit.Logit_Support),\n",
        "    go.Bar(name='RF_Support'\n",
        "    , x=age_trump_rf.AgeGroup\n",
        "    , y=age_trump_rf.RF_Support),\n",
        "])\n",
        "fig_age.update_layout(barmode='group')\n",
        "fig_age.update_layout(title_text=\"Trump Support by Age<br>Both Models Tracked Well with the Survey Questions but Understated Support/Opposition\")\n",
        "\n",
        "fig_age.show()"
      ],
      "execution_count": 53,
      "outputs": [
        {
          "output_type": "display_data",
          "data": {
            "text/html": [
              "<html>\n",
              "<head><meta charset=\"utf-8\" /></head>\n",
              "<body>\n",
              "    <div>\n",
              "            <script src=\"https://cdnjs.cloudflare.com/ajax/libs/mathjax/2.7.5/MathJax.js?config=TeX-AMS-MML_SVG\"></script><script type=\"text/javascript\">if (window.MathJax) {MathJax.Hub.Config({SVG: {font: \"STIX-Web\"}});}</script>\n",
              "                <script type=\"text/javascript\">window.PlotlyConfig = {MathJaxConfig: 'local'};</script>\n",
              "        <script src=\"https://cdn.plot.ly/plotly-latest.min.js\"></script>    \n",
              "            <div id=\"f7a126c0-2b77-4691-a316-cdd710ca45d5\" class=\"plotly-graph-div\" style=\"height:525px; width:100%;\"></div>\n",
              "            <script type=\"text/javascript\">\n",
              "                \n",
              "                    window.PLOTLYENV=window.PLOTLYENV || {};\n",
              "                    \n",
              "                if (document.getElementById(\"f7a126c0-2b77-4691-a316-cdd710ca45d5\")) {\n",
              "                    Plotly.newPlot(\n",
              "                        'f7a126c0-2b77-4691-a316-cdd710ca45d5',\n",
              "                        [{\"name\": \"Oppose\", \"type\": \"bar\", \"x\": [\"age_18_29\", \"age_30_39\", \"age_40_49\", \"age_50_64\", \"age_65+\"], \"y\": [10575, 11816, 8800, 17070, 13868]}, {\"name\": \"Logit_Oppose\", \"type\": \"bar\", \"x\": [\"age_18_29\", \"age_30_39\", \"age_40_49\", \"age_50_64\", \"age_65+\"], \"y\": [9232, 11049, 8979, 18313, 15081]}, {\"name\": \"RF_Oppose\", \"type\": \"bar\", \"x\": [\"age_18_29\", \"age_30_39\", \"age_40_49\", \"age_50_64\", \"age_65+\"], \"y\": [9206, 11075, 8964, 18243, 15090]}, {\"name\": \"Support\", \"type\": \"bar\", \"x\": [\"age_18_29\", \"age_30_39\", \"age_40_49\", \"age_50_64\", \"age_65+\"], \"y\": [5133, 7068, 6644, 14158, 11723]}, {\"name\": \"Logit_Support\", \"type\": \"bar\", \"x\": [\"age_18_29\", \"age_30_39\", \"age_40_49\", \"age_50_64\", \"age_65+\"], \"y\": [6476, 7835, 6465, 12915, 10510]}, {\"name\": \"RF_Support\", \"type\": \"bar\", \"x\": [\"age_18_29\", \"age_30_39\", \"age_40_49\", \"age_50_64\", \"age_65+\"], \"y\": [6502, 7809, 6480, 12985, 10501]}],\n",
              "                        {\"barmode\": \"group\", \"template\": {\"data\": {\"bar\": [{\"error_x\": {\"color\": \"#2a3f5f\"}, \"error_y\": {\"color\": \"#2a3f5f\"}, \"marker\": {\"line\": {\"color\": \"#E5ECF6\", \"width\": 0.5}}, \"type\": \"bar\"}], \"barpolar\": [{\"marker\": {\"line\": {\"color\": \"#E5ECF6\", \"width\": 0.5}}, \"type\": \"barpolar\"}], \"carpet\": [{\"aaxis\": {\"endlinecolor\": \"#2a3f5f\", \"gridcolor\": \"white\", \"linecolor\": \"white\", \"minorgridcolor\": \"white\", \"startlinecolor\": \"#2a3f5f\"}, \"baxis\": {\"endlinecolor\": \"#2a3f5f\", \"gridcolor\": \"white\", \"linecolor\": \"white\", \"minorgridcolor\": \"white\", \"startlinecolor\": \"#2a3f5f\"}, \"type\": \"carpet\"}], \"choropleth\": [{\"colorbar\": {\"outlinewidth\": 0, \"ticks\": \"\"}, \"type\": \"choropleth\"}], \"contour\": [{\"colorbar\": {\"outlinewidth\": 0, \"ticks\": \"\"}, \"colorscale\": [[0.0, \"#0d0887\"], [0.1111111111111111, \"#46039f\"], [0.2222222222222222, \"#7201a8\"], [0.3333333333333333, \"#9c179e\"], [0.4444444444444444, \"#bd3786\"], [0.5555555555555556, \"#d8576b\"], [0.6666666666666666, \"#ed7953\"], [0.7777777777777778, \"#fb9f3a\"], [0.8888888888888888, \"#fdca26\"], [1.0, \"#f0f921\"]], \"type\": \"contour\"}], \"contourcarpet\": [{\"colorbar\": {\"outlinewidth\": 0, \"ticks\": \"\"}, \"type\": \"contourcarpet\"}], \"heatmap\": [{\"colorbar\": {\"outlinewidth\": 0, \"ticks\": \"\"}, \"colorscale\": [[0.0, \"#0d0887\"], [0.1111111111111111, \"#46039f\"], [0.2222222222222222, \"#7201a8\"], [0.3333333333333333, \"#9c179e\"], [0.4444444444444444, \"#bd3786\"], [0.5555555555555556, \"#d8576b\"], [0.6666666666666666, \"#ed7953\"], [0.7777777777777778, \"#fb9f3a\"], [0.8888888888888888, \"#fdca26\"], [1.0, \"#f0f921\"]], \"type\": \"heatmap\"}], \"heatmapgl\": [{\"colorbar\": {\"outlinewidth\": 0, \"ticks\": \"\"}, \"colorscale\": [[0.0, \"#0d0887\"], [0.1111111111111111, \"#46039f\"], [0.2222222222222222, \"#7201a8\"], [0.3333333333333333, \"#9c179e\"], [0.4444444444444444, \"#bd3786\"], [0.5555555555555556, \"#d8576b\"], [0.6666666666666666, \"#ed7953\"], [0.7777777777777778, \"#fb9f3a\"], [0.8888888888888888, \"#fdca26\"], [1.0, \"#f0f921\"]], \"type\": \"heatmapgl\"}], \"histogram\": [{\"marker\": {\"colorbar\": {\"outlinewidth\": 0, \"ticks\": \"\"}}, \"type\": \"histogram\"}], \"histogram2d\": [{\"colorbar\": {\"outlinewidth\": 0, \"ticks\": \"\"}, \"colorscale\": [[0.0, \"#0d0887\"], [0.1111111111111111, \"#46039f\"], [0.2222222222222222, \"#7201a8\"], [0.3333333333333333, \"#9c179e\"], [0.4444444444444444, \"#bd3786\"], [0.5555555555555556, \"#d8576b\"], [0.6666666666666666, \"#ed7953\"], [0.7777777777777778, \"#fb9f3a\"], [0.8888888888888888, \"#fdca26\"], [1.0, \"#f0f921\"]], \"type\": \"histogram2d\"}], \"histogram2dcontour\": [{\"colorbar\": {\"outlinewidth\": 0, \"ticks\": \"\"}, \"colorscale\": [[0.0, \"#0d0887\"], [0.1111111111111111, \"#46039f\"], [0.2222222222222222, \"#7201a8\"], [0.3333333333333333, \"#9c179e\"], [0.4444444444444444, \"#bd3786\"], [0.5555555555555556, \"#d8576b\"], [0.6666666666666666, \"#ed7953\"], [0.7777777777777778, \"#fb9f3a\"], [0.8888888888888888, \"#fdca26\"], [1.0, \"#f0f921\"]], \"type\": \"histogram2dcontour\"}], \"mesh3d\": [{\"colorbar\": {\"outlinewidth\": 0, \"ticks\": \"\"}, \"type\": \"mesh3d\"}], \"parcoords\": [{\"line\": {\"colorbar\": {\"outlinewidth\": 0, \"ticks\": \"\"}}, \"type\": \"parcoords\"}], \"pie\": [{\"automargin\": true, \"type\": \"pie\"}], \"scatter\": [{\"marker\": {\"colorbar\": {\"outlinewidth\": 0, \"ticks\": \"\"}}, \"type\": \"scatter\"}], \"scatter3d\": [{\"line\": {\"colorbar\": {\"outlinewidth\": 0, \"ticks\": \"\"}}, \"marker\": {\"colorbar\": {\"outlinewidth\": 0, \"ticks\": \"\"}}, \"type\": \"scatter3d\"}], \"scattercarpet\": [{\"marker\": {\"colorbar\": {\"outlinewidth\": 0, \"ticks\": \"\"}}, \"type\": \"scattercarpet\"}], \"scattergeo\": [{\"marker\": {\"colorbar\": {\"outlinewidth\": 0, \"ticks\": \"\"}}, \"type\": \"scattergeo\"}], \"scattergl\": [{\"marker\": {\"colorbar\": {\"outlinewidth\": 0, \"ticks\": \"\"}}, \"type\": \"scattergl\"}], \"scattermapbox\": [{\"marker\": {\"colorbar\": {\"outlinewidth\": 0, \"ticks\": \"\"}}, \"type\": \"scattermapbox\"}], \"scatterpolar\": [{\"marker\": {\"colorbar\": {\"outlinewidth\": 0, \"ticks\": \"\"}}, \"type\": \"scatterpolar\"}], \"scatterpolargl\": [{\"marker\": {\"colorbar\": {\"outlinewidth\": 0, \"ticks\": \"\"}}, \"type\": \"scatterpolargl\"}], \"scatterternary\": [{\"marker\": {\"colorbar\": {\"outlinewidth\": 0, \"ticks\": \"\"}}, \"type\": \"scatterternary\"}], \"surface\": [{\"colorbar\": {\"outlinewidth\": 0, \"ticks\": \"\"}, \"colorscale\": [[0.0, \"#0d0887\"], [0.1111111111111111, \"#46039f\"], [0.2222222222222222, \"#7201a8\"], [0.3333333333333333, \"#9c179e\"], [0.4444444444444444, \"#bd3786\"], [0.5555555555555556, \"#d8576b\"], [0.6666666666666666, \"#ed7953\"], [0.7777777777777778, \"#fb9f3a\"], [0.8888888888888888, \"#fdca26\"], [1.0, \"#f0f921\"]], \"type\": \"surface\"}], \"table\": [{\"cells\": {\"fill\": {\"color\": \"#EBF0F8\"}, \"line\": {\"color\": \"white\"}}, \"header\": {\"fill\": {\"color\": \"#C8D4E3\"}, \"line\": {\"color\": \"white\"}}, \"type\": \"table\"}]}, \"layout\": {\"annotationdefaults\": {\"arrowcolor\": \"#2a3f5f\", \"arrowhead\": 0, \"arrowwidth\": 1}, \"coloraxis\": {\"colorbar\": {\"outlinewidth\": 0, \"ticks\": \"\"}}, \"colorscale\": {\"diverging\": [[0, \"#8e0152\"], [0.1, \"#c51b7d\"], [0.2, \"#de77ae\"], [0.3, \"#f1b6da\"], [0.4, \"#fde0ef\"], [0.5, \"#f7f7f7\"], [0.6, \"#e6f5d0\"], [0.7, \"#b8e186\"], [0.8, \"#7fbc41\"], [0.9, \"#4d9221\"], [1, \"#276419\"]], \"sequential\": [[0.0, \"#0d0887\"], [0.1111111111111111, \"#46039f\"], [0.2222222222222222, \"#7201a8\"], [0.3333333333333333, \"#9c179e\"], [0.4444444444444444, \"#bd3786\"], [0.5555555555555556, \"#d8576b\"], [0.6666666666666666, \"#ed7953\"], [0.7777777777777778, \"#fb9f3a\"], [0.8888888888888888, \"#fdca26\"], [1.0, \"#f0f921\"]], \"sequentialminus\": [[0.0, \"#0d0887\"], [0.1111111111111111, \"#46039f\"], [0.2222222222222222, \"#7201a8\"], [0.3333333333333333, \"#9c179e\"], [0.4444444444444444, \"#bd3786\"], [0.5555555555555556, \"#d8576b\"], [0.6666666666666666, \"#ed7953\"], [0.7777777777777778, \"#fb9f3a\"], [0.8888888888888888, \"#fdca26\"], [1.0, \"#f0f921\"]]}, \"colorway\": [\"#636efa\", \"#EF553B\", \"#00cc96\", \"#ab63fa\", \"#FFA15A\", \"#19d3f3\", \"#FF6692\", \"#B6E880\", \"#FF97FF\", \"#FECB52\"], \"font\": {\"color\": \"#2a3f5f\"}, \"geo\": {\"bgcolor\": \"white\", \"lakecolor\": \"white\", \"landcolor\": \"#E5ECF6\", \"showlakes\": true, \"showland\": true, \"subunitcolor\": \"white\"}, \"hoverlabel\": {\"align\": \"left\"}, \"hovermode\": \"closest\", \"mapbox\": {\"style\": \"light\"}, \"paper_bgcolor\": \"white\", \"plot_bgcolor\": \"#E5ECF6\", \"polar\": {\"angularaxis\": {\"gridcolor\": \"white\", \"linecolor\": \"white\", \"ticks\": \"\"}, \"bgcolor\": \"#E5ECF6\", \"radialaxis\": {\"gridcolor\": \"white\", \"linecolor\": \"white\", \"ticks\": \"\"}}, \"scene\": {\"xaxis\": {\"backgroundcolor\": \"#E5ECF6\", \"gridcolor\": \"white\", \"gridwidth\": 2, \"linecolor\": \"white\", \"showbackground\": true, \"ticks\": \"\", \"zerolinecolor\": \"white\"}, \"yaxis\": {\"backgroundcolor\": \"#E5ECF6\", \"gridcolor\": \"white\", \"gridwidth\": 2, \"linecolor\": \"white\", \"showbackground\": true, \"ticks\": \"\", \"zerolinecolor\": \"white\"}, \"zaxis\": {\"backgroundcolor\": \"#E5ECF6\", \"gridcolor\": \"white\", \"gridwidth\": 2, \"linecolor\": \"white\", \"showbackground\": true, \"ticks\": \"\", \"zerolinecolor\": \"white\"}}, \"shapedefaults\": {\"line\": {\"color\": \"#2a3f5f\"}}, \"ternary\": {\"aaxis\": {\"gridcolor\": \"white\", \"linecolor\": \"white\", \"ticks\": \"\"}, \"baxis\": {\"gridcolor\": \"white\", \"linecolor\": \"white\", \"ticks\": \"\"}, \"bgcolor\": \"#E5ECF6\", \"caxis\": {\"gridcolor\": \"white\", \"linecolor\": \"white\", \"ticks\": \"\"}}, \"title\": {\"x\": 0.05}, \"xaxis\": {\"automargin\": true, \"gridcolor\": \"white\", \"linecolor\": \"white\", \"ticks\": \"\", \"title\": {\"standoff\": 15}, \"zerolinecolor\": \"white\", \"zerolinewidth\": 2}, \"yaxis\": {\"automargin\": true, \"gridcolor\": \"white\", \"linecolor\": \"white\", \"ticks\": \"\", \"title\": {\"standoff\": 15}, \"zerolinecolor\": \"white\", \"zerolinewidth\": 2}}}, \"title\": {\"text\": \"Trump Support by Age<br>Both Models Tracked Well with the Survey Questions but Understated Support/Opposition\"}},\n",
              "                        {\"responsive\": true}\n",
              "                    ).then(function(){\n",
              "                            \n",
              "var gd = document.getElementById('f7a126c0-2b77-4691-a316-cdd710ca45d5');\n",
              "var x = new MutationObserver(function (mutations, observer) {{\n",
              "        var display = window.getComputedStyle(gd).display;\n",
              "        if (!display || display === 'none') {{\n",
              "            console.log([gd, 'removed!']);\n",
              "            Plotly.purge(gd);\n",
              "            observer.disconnect();\n",
              "        }}\n",
              "}});\n",
              "\n",
              "// Listen for the removal of the full notebook cells\n",
              "var notebookContainer = gd.closest('#notebook-container');\n",
              "if (notebookContainer) {{\n",
              "    x.observe(notebookContainer, {childList: true});\n",
              "}}\n",
              "\n",
              "// Listen for the clearing of the current output cell\n",
              "var outputEl = gd.closest('.output');\n",
              "if (outputEl) {{\n",
              "    x.observe(outputEl, {childList: true});\n",
              "}}\n",
              "\n",
              "                        })\n",
              "                };\n",
              "                \n",
              "            </script>\n",
              "        </div>\n",
              "</body>\n",
              "</html>"
            ]
          },
          "metadata": {
            "tags": []
          }
        }
      ]
    },
    {
      "cell_type": "code",
      "metadata": {
        "colab_type": "code",
        "id": "0Zpk1eSsRZnq",
        "outputId": "6799c0bc-c82c-42b2-f6df-e5ae88007ce3",
        "colab": {
          "base_uri": "https://localhost:8080/",
          "height": 562
        }
      },
      "source": [
        "fig_party = go.Figure(data=[\n",
        "    go.Bar(name='Oppose'\n",
        "    , x=party_trump.PartyGroup\n",
        "    , y=party_trump.Oppose),\n",
        "    go.Bar(name='Logit_Oppose'\n",
        "    , x=party_trump_logit.PartyGroup\n",
        "    , y=party_trump_logit.Logit_Oppose),\n",
        "     go.Bar(name='RF_Oppose'\n",
        "    , x=party_trump_rf.PartyGroup\n",
        "    , y=party_trump_rf.RF_Oppose),   \n",
        "    go.Bar(name='Support'\n",
        "    , x=party_trump.PartyGroup\n",
        "    , y=party_trump.Support),\n",
        "    go.Bar(name='Logit_Support'\n",
        "    , x=party_trump_logit.PartyGroup\n",
        "    , y=party_trump_logit.Logit_Support),\n",
        "    go.Bar(name='RF_Support'\n",
        "    , x=party_trump_rf.PartyGroup\n",
        "    , y=party_trump_rf.RF_Support),\n",
        "])\n",
        "\n",
        "fig_party.update_layout(barmode='group')\n",
        "fig_party.update_layout(title_text=\"Trump Support and Models by Party: <br>Clear divide along party lines and Independents Slightly Opposed. Both Models Trend Well but Fall Short of Survey Responses\")\n",
        "\n",
        "fig_party.show()"
      ],
      "execution_count": 54,
      "outputs": [
        {
          "output_type": "display_data",
          "data": {
            "text/html": [
              "<html>\n",
              "<head><meta charset=\"utf-8\" /></head>\n",
              "<body>\n",
              "    <div>\n",
              "            <script src=\"https://cdnjs.cloudflare.com/ajax/libs/mathjax/2.7.5/MathJax.js?config=TeX-AMS-MML_SVG\"></script><script type=\"text/javascript\">if (window.MathJax) {MathJax.Hub.Config({SVG: {font: \"STIX-Web\"}});}</script>\n",
              "                <script type=\"text/javascript\">window.PlotlyConfig = {MathJaxConfig: 'local'};</script>\n",
              "        <script src=\"https://cdn.plot.ly/plotly-latest.min.js\"></script>    \n",
              "            <div id=\"52e6d05f-15cc-4ce4-9dc8-c233aa44a2a7\" class=\"plotly-graph-div\" style=\"height:525px; width:100%;\"></div>\n",
              "            <script type=\"text/javascript\">\n",
              "                \n",
              "                    window.PLOTLYENV=window.PLOTLYENV || {};\n",
              "                    \n",
              "                if (document.getElementById(\"52e6d05f-15cc-4ce4-9dc8-c233aa44a2a7\")) {\n",
              "                    Plotly.newPlot(\n",
              "                        '52e6d05f-15cc-4ce4-9dc8-c233aa44a2a7',\n",
              "                        [{\"name\": \"Oppose\", \"type\": \"bar\", \"x\": [\"Democratic\", \"Democratic_Lean\", \"Independent\", \"Republican\", \"Republican_Lean\"], \"y\": [38385, 10740, 7309, 4041, 1654]}, {\"name\": \"Logit_Oppose\", \"type\": \"bar\", \"x\": [\"Democratic\", \"Democratic_Lean\", \"Independent\", \"Republican\", \"Republican_Lean\"], \"y\": [24707, 6655, 7204, 18621, 5467]}, {\"name\": \"RF_Oppose\", \"type\": \"bar\", \"x\": [\"Democratic\", \"Democratic_Lean\", \"Independent\", \"Republican\", \"Republican_Lean\"], \"y\": [24654, 6680, 7176, 18615, 5453]}, {\"name\": \"Support\", \"type\": \"bar\", \"x\": [\"Democratic\", \"Democratic_Lean\", \"Independent\", \"Republican\", \"Republican_Lean\"], \"y\": [3720, 707, 4988, 27878, 7433]}, {\"name\": \"Logit_Support\", \"type\": \"bar\", \"x\": [\"Democratic\", \"Democratic_Lean\", \"Independent\", \"Republican\", \"Republican_Lean\"], \"y\": [17398, 4792, 5093, 13298, 3620]}, {\"name\": \"RF_Support\", \"type\": \"bar\", \"x\": [\"Democratic\", \"Democratic_Lean\", \"Independent\", \"Republican\", \"Republican_Lean\"], \"y\": [17451, 4767, 5121, 13304, 3634]}],\n",
              "                        {\"barmode\": \"group\", \"template\": {\"data\": {\"bar\": [{\"error_x\": {\"color\": \"#2a3f5f\"}, \"error_y\": {\"color\": \"#2a3f5f\"}, \"marker\": {\"line\": {\"color\": \"#E5ECF6\", \"width\": 0.5}}, \"type\": \"bar\"}], \"barpolar\": [{\"marker\": {\"line\": {\"color\": \"#E5ECF6\", \"width\": 0.5}}, \"type\": \"barpolar\"}], \"carpet\": [{\"aaxis\": {\"endlinecolor\": \"#2a3f5f\", \"gridcolor\": \"white\", \"linecolor\": \"white\", \"minorgridcolor\": \"white\", \"startlinecolor\": \"#2a3f5f\"}, \"baxis\": {\"endlinecolor\": \"#2a3f5f\", \"gridcolor\": \"white\", \"linecolor\": \"white\", \"minorgridcolor\": \"white\", \"startlinecolor\": \"#2a3f5f\"}, \"type\": \"carpet\"}], \"choropleth\": [{\"colorbar\": {\"outlinewidth\": 0, \"ticks\": \"\"}, \"type\": \"choropleth\"}], \"contour\": [{\"colorbar\": {\"outlinewidth\": 0, \"ticks\": \"\"}, \"colorscale\": [[0.0, \"#0d0887\"], [0.1111111111111111, \"#46039f\"], [0.2222222222222222, \"#7201a8\"], [0.3333333333333333, \"#9c179e\"], [0.4444444444444444, \"#bd3786\"], [0.5555555555555556, \"#d8576b\"], [0.6666666666666666, \"#ed7953\"], [0.7777777777777778, \"#fb9f3a\"], [0.8888888888888888, \"#fdca26\"], [1.0, \"#f0f921\"]], \"type\": \"contour\"}], \"contourcarpet\": [{\"colorbar\": {\"outlinewidth\": 0, \"ticks\": \"\"}, \"type\": \"contourcarpet\"}], \"heatmap\": [{\"colorbar\": {\"outlinewidth\": 0, \"ticks\": \"\"}, \"colorscale\": [[0.0, \"#0d0887\"], [0.1111111111111111, \"#46039f\"], [0.2222222222222222, \"#7201a8\"], [0.3333333333333333, \"#9c179e\"], [0.4444444444444444, \"#bd3786\"], [0.5555555555555556, \"#d8576b\"], [0.6666666666666666, \"#ed7953\"], [0.7777777777777778, \"#fb9f3a\"], [0.8888888888888888, \"#fdca26\"], [1.0, \"#f0f921\"]], \"type\": \"heatmap\"}], \"heatmapgl\": [{\"colorbar\": {\"outlinewidth\": 0, \"ticks\": \"\"}, \"colorscale\": [[0.0, \"#0d0887\"], [0.1111111111111111, \"#46039f\"], [0.2222222222222222, \"#7201a8\"], [0.3333333333333333, \"#9c179e\"], [0.4444444444444444, \"#bd3786\"], [0.5555555555555556, \"#d8576b\"], [0.6666666666666666, \"#ed7953\"], [0.7777777777777778, \"#fb9f3a\"], [0.8888888888888888, \"#fdca26\"], [1.0, \"#f0f921\"]], \"type\": \"heatmapgl\"}], \"histogram\": [{\"marker\": {\"colorbar\": {\"outlinewidth\": 0, \"ticks\": \"\"}}, \"type\": \"histogram\"}], \"histogram2d\": [{\"colorbar\": {\"outlinewidth\": 0, \"ticks\": \"\"}, \"colorscale\": [[0.0, \"#0d0887\"], [0.1111111111111111, \"#46039f\"], [0.2222222222222222, \"#7201a8\"], [0.3333333333333333, \"#9c179e\"], [0.4444444444444444, \"#bd3786\"], [0.5555555555555556, \"#d8576b\"], [0.6666666666666666, \"#ed7953\"], [0.7777777777777778, \"#fb9f3a\"], [0.8888888888888888, \"#fdca26\"], [1.0, \"#f0f921\"]], \"type\": \"histogram2d\"}], \"histogram2dcontour\": [{\"colorbar\": {\"outlinewidth\": 0, \"ticks\": \"\"}, \"colorscale\": [[0.0, \"#0d0887\"], [0.1111111111111111, \"#46039f\"], [0.2222222222222222, \"#7201a8\"], [0.3333333333333333, \"#9c179e\"], [0.4444444444444444, \"#bd3786\"], [0.5555555555555556, \"#d8576b\"], [0.6666666666666666, \"#ed7953\"], [0.7777777777777778, \"#fb9f3a\"], [0.8888888888888888, \"#fdca26\"], [1.0, \"#f0f921\"]], \"type\": \"histogram2dcontour\"}], \"mesh3d\": [{\"colorbar\": {\"outlinewidth\": 0, \"ticks\": \"\"}, \"type\": \"mesh3d\"}], \"parcoords\": [{\"line\": {\"colorbar\": {\"outlinewidth\": 0, \"ticks\": \"\"}}, \"type\": \"parcoords\"}], \"pie\": [{\"automargin\": true, \"type\": \"pie\"}], \"scatter\": [{\"marker\": {\"colorbar\": {\"outlinewidth\": 0, \"ticks\": \"\"}}, \"type\": \"scatter\"}], \"scatter3d\": [{\"line\": {\"colorbar\": {\"outlinewidth\": 0, \"ticks\": \"\"}}, \"marker\": {\"colorbar\": {\"outlinewidth\": 0, \"ticks\": \"\"}}, \"type\": \"scatter3d\"}], \"scattercarpet\": [{\"marker\": {\"colorbar\": {\"outlinewidth\": 0, \"ticks\": \"\"}}, \"type\": \"scattercarpet\"}], \"scattergeo\": [{\"marker\": {\"colorbar\": {\"outlinewidth\": 0, \"ticks\": \"\"}}, \"type\": \"scattergeo\"}], \"scattergl\": [{\"marker\": {\"colorbar\": {\"outlinewidth\": 0, \"ticks\": \"\"}}, \"type\": \"scattergl\"}], \"scattermapbox\": [{\"marker\": {\"colorbar\": {\"outlinewidth\": 0, \"ticks\": \"\"}}, \"type\": \"scattermapbox\"}], \"scatterpolar\": [{\"marker\": {\"colorbar\": {\"outlinewidth\": 0, \"ticks\": \"\"}}, \"type\": \"scatterpolar\"}], \"scatterpolargl\": [{\"marker\": {\"colorbar\": {\"outlinewidth\": 0, \"ticks\": \"\"}}, \"type\": \"scatterpolargl\"}], \"scatterternary\": [{\"marker\": {\"colorbar\": {\"outlinewidth\": 0, \"ticks\": \"\"}}, \"type\": \"scatterternary\"}], \"surface\": [{\"colorbar\": {\"outlinewidth\": 0, \"ticks\": \"\"}, \"colorscale\": [[0.0, \"#0d0887\"], [0.1111111111111111, \"#46039f\"], [0.2222222222222222, \"#7201a8\"], [0.3333333333333333, \"#9c179e\"], [0.4444444444444444, \"#bd3786\"], [0.5555555555555556, \"#d8576b\"], [0.6666666666666666, \"#ed7953\"], [0.7777777777777778, \"#fb9f3a\"], [0.8888888888888888, \"#fdca26\"], [1.0, \"#f0f921\"]], \"type\": \"surface\"}], \"table\": [{\"cells\": {\"fill\": {\"color\": \"#EBF0F8\"}, \"line\": {\"color\": \"white\"}}, \"header\": {\"fill\": {\"color\": \"#C8D4E3\"}, \"line\": {\"color\": \"white\"}}, \"type\": \"table\"}]}, \"layout\": {\"annotationdefaults\": {\"arrowcolor\": \"#2a3f5f\", \"arrowhead\": 0, \"arrowwidth\": 1}, \"coloraxis\": {\"colorbar\": {\"outlinewidth\": 0, \"ticks\": \"\"}}, \"colorscale\": {\"diverging\": [[0, \"#8e0152\"], [0.1, \"#c51b7d\"], [0.2, \"#de77ae\"], [0.3, \"#f1b6da\"], [0.4, \"#fde0ef\"], [0.5, \"#f7f7f7\"], [0.6, \"#e6f5d0\"], [0.7, \"#b8e186\"], [0.8, \"#7fbc41\"], [0.9, \"#4d9221\"], [1, \"#276419\"]], \"sequential\": [[0.0, \"#0d0887\"], [0.1111111111111111, \"#46039f\"], [0.2222222222222222, \"#7201a8\"], [0.3333333333333333, \"#9c179e\"], [0.4444444444444444, \"#bd3786\"], [0.5555555555555556, \"#d8576b\"], [0.6666666666666666, \"#ed7953\"], [0.7777777777777778, \"#fb9f3a\"], [0.8888888888888888, \"#fdca26\"], [1.0, \"#f0f921\"]], \"sequentialminus\": [[0.0, \"#0d0887\"], [0.1111111111111111, \"#46039f\"], [0.2222222222222222, \"#7201a8\"], [0.3333333333333333, \"#9c179e\"], [0.4444444444444444, \"#bd3786\"], [0.5555555555555556, \"#d8576b\"], [0.6666666666666666, \"#ed7953\"], [0.7777777777777778, \"#fb9f3a\"], [0.8888888888888888, \"#fdca26\"], [1.0, \"#f0f921\"]]}, \"colorway\": [\"#636efa\", \"#EF553B\", \"#00cc96\", \"#ab63fa\", \"#FFA15A\", \"#19d3f3\", \"#FF6692\", \"#B6E880\", \"#FF97FF\", \"#FECB52\"], \"font\": {\"color\": \"#2a3f5f\"}, \"geo\": {\"bgcolor\": \"white\", \"lakecolor\": \"white\", \"landcolor\": \"#E5ECF6\", \"showlakes\": true, \"showland\": true, \"subunitcolor\": \"white\"}, \"hoverlabel\": {\"align\": \"left\"}, \"hovermode\": \"closest\", \"mapbox\": {\"style\": \"light\"}, \"paper_bgcolor\": \"white\", \"plot_bgcolor\": \"#E5ECF6\", \"polar\": {\"angularaxis\": {\"gridcolor\": \"white\", \"linecolor\": \"white\", \"ticks\": \"\"}, \"bgcolor\": \"#E5ECF6\", \"radialaxis\": {\"gridcolor\": \"white\", \"linecolor\": \"white\", \"ticks\": \"\"}}, \"scene\": {\"xaxis\": {\"backgroundcolor\": \"#E5ECF6\", \"gridcolor\": \"white\", \"gridwidth\": 2, \"linecolor\": \"white\", \"showbackground\": true, \"ticks\": \"\", \"zerolinecolor\": \"white\"}, \"yaxis\": {\"backgroundcolor\": \"#E5ECF6\", \"gridcolor\": \"white\", \"gridwidth\": 2, \"linecolor\": \"white\", \"showbackground\": true, \"ticks\": \"\", \"zerolinecolor\": \"white\"}, \"zaxis\": {\"backgroundcolor\": \"#E5ECF6\", \"gridcolor\": \"white\", \"gridwidth\": 2, \"linecolor\": \"white\", \"showbackground\": true, \"ticks\": \"\", \"zerolinecolor\": \"white\"}}, \"shapedefaults\": {\"line\": {\"color\": \"#2a3f5f\"}}, \"ternary\": {\"aaxis\": {\"gridcolor\": \"white\", \"linecolor\": \"white\", \"ticks\": \"\"}, \"baxis\": {\"gridcolor\": \"white\", \"linecolor\": \"white\", \"ticks\": \"\"}, \"bgcolor\": \"#E5ECF6\", \"caxis\": {\"gridcolor\": \"white\", \"linecolor\": \"white\", \"ticks\": \"\"}}, \"title\": {\"x\": 0.05}, \"xaxis\": {\"automargin\": true, \"gridcolor\": \"white\", \"linecolor\": \"white\", \"ticks\": \"\", \"title\": {\"standoff\": 15}, \"zerolinecolor\": \"white\", \"zerolinewidth\": 2}, \"yaxis\": {\"automargin\": true, \"gridcolor\": \"white\", \"linecolor\": \"white\", \"ticks\": \"\", \"title\": {\"standoff\": 15}, \"zerolinecolor\": \"white\", \"zerolinewidth\": 2}}}, \"title\": {\"text\": \"Trump Support and Models by Party: <br>Clear divide along party lines and Independents Slightly Opposed. Both Models Trend Well but Fall Short of Survey Responses\"}},\n",
              "                        {\"responsive\": true}\n",
              "                    ).then(function(){\n",
              "                            \n",
              "var gd = document.getElementById('52e6d05f-15cc-4ce4-9dc8-c233aa44a2a7');\n",
              "var x = new MutationObserver(function (mutations, observer) {{\n",
              "        var display = window.getComputedStyle(gd).display;\n",
              "        if (!display || display === 'none') {{\n",
              "            console.log([gd, 'removed!']);\n",
              "            Plotly.purge(gd);\n",
              "            observer.disconnect();\n",
              "        }}\n",
              "}});\n",
              "\n",
              "// Listen for the removal of the full notebook cells\n",
              "var notebookContainer = gd.closest('#notebook-container');\n",
              "if (notebookContainer) {{\n",
              "    x.observe(notebookContainer, {childList: true});\n",
              "}}\n",
              "\n",
              "// Listen for the clearing of the current output cell\n",
              "var outputEl = gd.closest('.output');\n",
              "if (outputEl) {{\n",
              "    x.observe(outputEl, {childList: true});\n",
              "}}\n",
              "\n",
              "                        })\n",
              "                };\n",
              "                \n",
              "            </script>\n",
              "        </div>\n",
              "</body>\n",
              "</html>"
            ]
          },
          "metadata": {
            "tags": []
          }
        }
      ]
    },
    {
      "cell_type": "code",
      "metadata": {
        "colab_type": "code",
        "id": "zl4pDBTYdHUe",
        "outputId": "aa2128ce-435e-4979-fb49-51b160068839",
        "colab": {
          "base_uri": "https://localhost:8080/",
          "height": 562
        }
      },
      "source": [
        "fig_sex = go.Figure(data=[\n",
        "\n",
        "    go.Bar(name='Oppose'\n",
        "    , x=gender_trump.Gender\n",
        "    , y=gender_trump.Oppose),\n",
        "    go.Bar(name='Logit_Oppose'\n",
        "    , x=gender_trump_logit.Gender\n",
        "    , y=gender_trump_logit.Logit_Oppose),\n",
        "     go.Bar(name='RF_Oppose'\n",
        "    , x=gender_trump_rf.Gender\n",
        "    , y=gender_trump_rf.RF_Oppose),   \n",
        "    go.Bar(name='Support'\n",
        "    , x=gender_trump.Gender\n",
        "    , y=gender_trump.Support),\n",
        "    go.Bar(name='Logit_Support'\n",
        "    , x=gender_trump_logit.Gender\n",
        "    , y=gender_trump_logit.Logit_Support),\n",
        "    go.Bar(name='RF_Support'\n",
        "    , x=gender_trump_rf.Gender\n",
        "    , y=gender_trump_rf.RF_Support),\n",
        "])\n",
        "fig_sex.update_layout(barmode='group')\n",
        "fig_sex.update_layout(title_text=\"Trump Support by Sex<br>Both Models Made Accurate Predictions Across the Gender Divide, Although Support/Opposition was Mildly Overstated\")\n",
        "\n",
        "fig_sex.show()"
      ],
      "execution_count": 55,
      "outputs": [
        {
          "output_type": "display_data",
          "data": {
            "text/html": [
              "<html>\n",
              "<head><meta charset=\"utf-8\" /></head>\n",
              "<body>\n",
              "    <div>\n",
              "            <script src=\"https://cdnjs.cloudflare.com/ajax/libs/mathjax/2.7.5/MathJax.js?config=TeX-AMS-MML_SVG\"></script><script type=\"text/javascript\">if (window.MathJax) {MathJax.Hub.Config({SVG: {font: \"STIX-Web\"}});}</script>\n",
              "                <script type=\"text/javascript\">window.PlotlyConfig = {MathJaxConfig: 'local'};</script>\n",
              "        <script src=\"https://cdn.plot.ly/plotly-latest.min.js\"></script>    \n",
              "            <div id=\"96b39755-48a6-41ee-9285-4e00893cd1c8\" class=\"plotly-graph-div\" style=\"height:525px; width:100%;\"></div>\n",
              "            <script type=\"text/javascript\">\n",
              "                \n",
              "                    window.PLOTLYENV=window.PLOTLYENV || {};\n",
              "                    \n",
              "                if (document.getElementById(\"96b39755-48a6-41ee-9285-4e00893cd1c8\")) {\n",
              "                    Plotly.newPlot(\n",
              "                        '96b39755-48a6-41ee-9285-4e00893cd1c8',\n",
              "                        [{\"name\": \"Oppose\", \"type\": \"bar\", \"x\": [\"Female\", \"Male\"], \"y\": [40301, 21828]}, {\"name\": \"Logit_Oppose\", \"type\": \"bar\", \"x\": [\"Female\", \"Male\"], \"y\": [38306, 24348]}, {\"name\": \"RF_Oppose\", \"type\": \"bar\", \"x\": [\"Female\", \"Male\"], \"y\": [38265, 24313]}, {\"name\": \"Support\", \"type\": \"bar\", \"x\": [\"Female\", \"Male\"], \"y\": [24883, 19843]}, {\"name\": \"Logit_Support\", \"type\": \"bar\", \"x\": [\"Female\", \"Male\"], \"y\": [26878, 17323]}, {\"name\": \"RF_Support\", \"type\": \"bar\", \"x\": [\"Female\", \"Male\"], \"y\": [26919, 17358]}],\n",
              "                        {\"barmode\": \"group\", \"template\": {\"data\": {\"bar\": [{\"error_x\": {\"color\": \"#2a3f5f\"}, \"error_y\": {\"color\": \"#2a3f5f\"}, \"marker\": {\"line\": {\"color\": \"#E5ECF6\", \"width\": 0.5}}, \"type\": \"bar\"}], \"barpolar\": [{\"marker\": {\"line\": {\"color\": \"#E5ECF6\", \"width\": 0.5}}, \"type\": \"barpolar\"}], \"carpet\": [{\"aaxis\": {\"endlinecolor\": \"#2a3f5f\", \"gridcolor\": \"white\", \"linecolor\": \"white\", \"minorgridcolor\": \"white\", \"startlinecolor\": \"#2a3f5f\"}, \"baxis\": {\"endlinecolor\": \"#2a3f5f\", \"gridcolor\": \"white\", \"linecolor\": \"white\", \"minorgridcolor\": \"white\", \"startlinecolor\": \"#2a3f5f\"}, \"type\": \"carpet\"}], \"choropleth\": [{\"colorbar\": {\"outlinewidth\": 0, \"ticks\": \"\"}, \"type\": \"choropleth\"}], \"contour\": [{\"colorbar\": {\"outlinewidth\": 0, \"ticks\": \"\"}, \"colorscale\": [[0.0, \"#0d0887\"], [0.1111111111111111, \"#46039f\"], [0.2222222222222222, \"#7201a8\"], [0.3333333333333333, \"#9c179e\"], [0.4444444444444444, \"#bd3786\"], [0.5555555555555556, \"#d8576b\"], [0.6666666666666666, \"#ed7953\"], [0.7777777777777778, \"#fb9f3a\"], [0.8888888888888888, \"#fdca26\"], [1.0, \"#f0f921\"]], \"type\": \"contour\"}], \"contourcarpet\": [{\"colorbar\": {\"outlinewidth\": 0, \"ticks\": \"\"}, \"type\": \"contourcarpet\"}], \"heatmap\": [{\"colorbar\": {\"outlinewidth\": 0, \"ticks\": \"\"}, \"colorscale\": [[0.0, \"#0d0887\"], [0.1111111111111111, \"#46039f\"], [0.2222222222222222, \"#7201a8\"], [0.3333333333333333, \"#9c179e\"], [0.4444444444444444, \"#bd3786\"], [0.5555555555555556, \"#d8576b\"], [0.6666666666666666, \"#ed7953\"], [0.7777777777777778, \"#fb9f3a\"], [0.8888888888888888, \"#fdca26\"], [1.0, \"#f0f921\"]], \"type\": \"heatmap\"}], \"heatmapgl\": [{\"colorbar\": {\"outlinewidth\": 0, \"ticks\": \"\"}, \"colorscale\": [[0.0, \"#0d0887\"], [0.1111111111111111, \"#46039f\"], [0.2222222222222222, \"#7201a8\"], [0.3333333333333333, \"#9c179e\"], [0.4444444444444444, \"#bd3786\"], [0.5555555555555556, \"#d8576b\"], [0.6666666666666666, \"#ed7953\"], [0.7777777777777778, \"#fb9f3a\"], [0.8888888888888888, \"#fdca26\"], [1.0, \"#f0f921\"]], \"type\": \"heatmapgl\"}], \"histogram\": [{\"marker\": {\"colorbar\": {\"outlinewidth\": 0, \"ticks\": \"\"}}, \"type\": \"histogram\"}], \"histogram2d\": [{\"colorbar\": {\"outlinewidth\": 0, \"ticks\": \"\"}, \"colorscale\": [[0.0, \"#0d0887\"], [0.1111111111111111, \"#46039f\"], [0.2222222222222222, \"#7201a8\"], [0.3333333333333333, \"#9c179e\"], [0.4444444444444444, \"#bd3786\"], [0.5555555555555556, \"#d8576b\"], [0.6666666666666666, \"#ed7953\"], [0.7777777777777778, \"#fb9f3a\"], [0.8888888888888888, \"#fdca26\"], [1.0, \"#f0f921\"]], \"type\": \"histogram2d\"}], \"histogram2dcontour\": [{\"colorbar\": {\"outlinewidth\": 0, \"ticks\": \"\"}, \"colorscale\": [[0.0, \"#0d0887\"], [0.1111111111111111, \"#46039f\"], [0.2222222222222222, \"#7201a8\"], [0.3333333333333333, \"#9c179e\"], [0.4444444444444444, \"#bd3786\"], [0.5555555555555556, \"#d8576b\"], [0.6666666666666666, \"#ed7953\"], [0.7777777777777778, \"#fb9f3a\"], [0.8888888888888888, \"#fdca26\"], [1.0, \"#f0f921\"]], \"type\": \"histogram2dcontour\"}], \"mesh3d\": [{\"colorbar\": {\"outlinewidth\": 0, \"ticks\": \"\"}, \"type\": \"mesh3d\"}], \"parcoords\": [{\"line\": {\"colorbar\": {\"outlinewidth\": 0, \"ticks\": \"\"}}, \"type\": \"parcoords\"}], \"pie\": [{\"automargin\": true, \"type\": \"pie\"}], \"scatter\": [{\"marker\": {\"colorbar\": {\"outlinewidth\": 0, \"ticks\": \"\"}}, \"type\": \"scatter\"}], \"scatter3d\": [{\"line\": {\"colorbar\": {\"outlinewidth\": 0, \"ticks\": \"\"}}, \"marker\": {\"colorbar\": {\"outlinewidth\": 0, \"ticks\": \"\"}}, \"type\": \"scatter3d\"}], \"scattercarpet\": [{\"marker\": {\"colorbar\": {\"outlinewidth\": 0, \"ticks\": \"\"}}, \"type\": \"scattercarpet\"}], \"scattergeo\": [{\"marker\": {\"colorbar\": {\"outlinewidth\": 0, \"ticks\": \"\"}}, \"type\": \"scattergeo\"}], \"scattergl\": [{\"marker\": {\"colorbar\": {\"outlinewidth\": 0, \"ticks\": \"\"}}, \"type\": \"scattergl\"}], \"scattermapbox\": [{\"marker\": {\"colorbar\": {\"outlinewidth\": 0, \"ticks\": \"\"}}, \"type\": \"scattermapbox\"}], \"scatterpolar\": [{\"marker\": {\"colorbar\": {\"outlinewidth\": 0, \"ticks\": \"\"}}, \"type\": \"scatterpolar\"}], \"scatterpolargl\": [{\"marker\": {\"colorbar\": {\"outlinewidth\": 0, \"ticks\": \"\"}}, \"type\": \"scatterpolargl\"}], \"scatterternary\": [{\"marker\": {\"colorbar\": {\"outlinewidth\": 0, \"ticks\": \"\"}}, \"type\": \"scatterternary\"}], \"surface\": [{\"colorbar\": {\"outlinewidth\": 0, \"ticks\": \"\"}, \"colorscale\": [[0.0, \"#0d0887\"], [0.1111111111111111, \"#46039f\"], [0.2222222222222222, \"#7201a8\"], [0.3333333333333333, \"#9c179e\"], [0.4444444444444444, \"#bd3786\"], [0.5555555555555556, \"#d8576b\"], [0.6666666666666666, \"#ed7953\"], [0.7777777777777778, \"#fb9f3a\"], [0.8888888888888888, \"#fdca26\"], [1.0, \"#f0f921\"]], \"type\": \"surface\"}], \"table\": [{\"cells\": {\"fill\": {\"color\": \"#EBF0F8\"}, \"line\": {\"color\": \"white\"}}, \"header\": {\"fill\": {\"color\": \"#C8D4E3\"}, \"line\": {\"color\": \"white\"}}, \"type\": \"table\"}]}, \"layout\": {\"annotationdefaults\": {\"arrowcolor\": \"#2a3f5f\", \"arrowhead\": 0, \"arrowwidth\": 1}, \"coloraxis\": {\"colorbar\": {\"outlinewidth\": 0, \"ticks\": \"\"}}, \"colorscale\": {\"diverging\": [[0, \"#8e0152\"], [0.1, \"#c51b7d\"], [0.2, \"#de77ae\"], [0.3, \"#f1b6da\"], [0.4, \"#fde0ef\"], [0.5, \"#f7f7f7\"], [0.6, \"#e6f5d0\"], [0.7, \"#b8e186\"], [0.8, \"#7fbc41\"], [0.9, \"#4d9221\"], [1, \"#276419\"]], \"sequential\": [[0.0, \"#0d0887\"], [0.1111111111111111, \"#46039f\"], [0.2222222222222222, \"#7201a8\"], [0.3333333333333333, \"#9c179e\"], [0.4444444444444444, \"#bd3786\"], [0.5555555555555556, \"#d8576b\"], [0.6666666666666666, \"#ed7953\"], [0.7777777777777778, \"#fb9f3a\"], [0.8888888888888888, \"#fdca26\"], [1.0, \"#f0f921\"]], \"sequentialminus\": [[0.0, \"#0d0887\"], [0.1111111111111111, \"#46039f\"], [0.2222222222222222, \"#7201a8\"], [0.3333333333333333, \"#9c179e\"], [0.4444444444444444, \"#bd3786\"], [0.5555555555555556, \"#d8576b\"], [0.6666666666666666, \"#ed7953\"], [0.7777777777777778, \"#fb9f3a\"], [0.8888888888888888, \"#fdca26\"], [1.0, \"#f0f921\"]]}, \"colorway\": [\"#636efa\", \"#EF553B\", \"#00cc96\", \"#ab63fa\", \"#FFA15A\", \"#19d3f3\", \"#FF6692\", \"#B6E880\", \"#FF97FF\", \"#FECB52\"], \"font\": {\"color\": \"#2a3f5f\"}, \"geo\": {\"bgcolor\": \"white\", \"lakecolor\": \"white\", \"landcolor\": \"#E5ECF6\", \"showlakes\": true, \"showland\": true, \"subunitcolor\": \"white\"}, \"hoverlabel\": {\"align\": \"left\"}, \"hovermode\": \"closest\", \"mapbox\": {\"style\": \"light\"}, \"paper_bgcolor\": \"white\", \"plot_bgcolor\": \"#E5ECF6\", \"polar\": {\"angularaxis\": {\"gridcolor\": \"white\", \"linecolor\": \"white\", \"ticks\": \"\"}, \"bgcolor\": \"#E5ECF6\", \"radialaxis\": {\"gridcolor\": \"white\", \"linecolor\": \"white\", \"ticks\": \"\"}}, \"scene\": {\"xaxis\": {\"backgroundcolor\": \"#E5ECF6\", \"gridcolor\": \"white\", \"gridwidth\": 2, \"linecolor\": \"white\", \"showbackground\": true, \"ticks\": \"\", \"zerolinecolor\": \"white\"}, \"yaxis\": {\"backgroundcolor\": \"#E5ECF6\", \"gridcolor\": \"white\", \"gridwidth\": 2, \"linecolor\": \"white\", \"showbackground\": true, \"ticks\": \"\", \"zerolinecolor\": \"white\"}, \"zaxis\": {\"backgroundcolor\": \"#E5ECF6\", \"gridcolor\": \"white\", \"gridwidth\": 2, \"linecolor\": \"white\", \"showbackground\": true, \"ticks\": \"\", \"zerolinecolor\": \"white\"}}, \"shapedefaults\": {\"line\": {\"color\": \"#2a3f5f\"}}, \"ternary\": {\"aaxis\": {\"gridcolor\": \"white\", \"linecolor\": \"white\", \"ticks\": \"\"}, \"baxis\": {\"gridcolor\": \"white\", \"linecolor\": \"white\", \"ticks\": \"\"}, \"bgcolor\": \"#E5ECF6\", \"caxis\": {\"gridcolor\": \"white\", \"linecolor\": \"white\", \"ticks\": \"\"}}, \"title\": {\"x\": 0.05}, \"xaxis\": {\"automargin\": true, \"gridcolor\": \"white\", \"linecolor\": \"white\", \"ticks\": \"\", \"title\": {\"standoff\": 15}, \"zerolinecolor\": \"white\", \"zerolinewidth\": 2}, \"yaxis\": {\"automargin\": true, \"gridcolor\": \"white\", \"linecolor\": \"white\", \"ticks\": \"\", \"title\": {\"standoff\": 15}, \"zerolinecolor\": \"white\", \"zerolinewidth\": 2}}}, \"title\": {\"text\": \"Trump Support by Sex<br>Both Models Made Accurate Predictions Across the Gender Divide, Although Support/Opposition was Mildly Overstated\"}},\n",
              "                        {\"responsive\": true}\n",
              "                    ).then(function(){\n",
              "                            \n",
              "var gd = document.getElementById('96b39755-48a6-41ee-9285-4e00893cd1c8');\n",
              "var x = new MutationObserver(function (mutations, observer) {{\n",
              "        var display = window.getComputedStyle(gd).display;\n",
              "        if (!display || display === 'none') {{\n",
              "            console.log([gd, 'removed!']);\n",
              "            Plotly.purge(gd);\n",
              "            observer.disconnect();\n",
              "        }}\n",
              "}});\n",
              "\n",
              "// Listen for the removal of the full notebook cells\n",
              "var notebookContainer = gd.closest('#notebook-container');\n",
              "if (notebookContainer) {{\n",
              "    x.observe(notebookContainer, {childList: true});\n",
              "}}\n",
              "\n",
              "// Listen for the clearing of the current output cell\n",
              "var outputEl = gd.closest('.output');\n",
              "if (outputEl) {{\n",
              "    x.observe(outputEl, {childList: true});\n",
              "}}\n",
              "\n",
              "                        })\n",
              "                };\n",
              "                \n",
              "            </script>\n",
              "        </div>\n",
              "</body>\n",
              "</html>"
            ]
          },
          "metadata": {
            "tags": []
          }
        }
      ]
    },
    {
      "cell_type": "code",
      "metadata": {
        "colab_type": "code",
        "id": "fJ8yu_8pbvPp",
        "outputId": "681da2fd-f187-42d4-bf51-f884bd3c0d92",
        "colab": {
          "base_uri": "https://localhost:8080/",
          "height": 562
        }
      },
      "source": [
        "fig_eth = go.Figure(data=[\n",
        "\n",
        "    go.Bar(name='Oppose'\n",
        "    , x=eth_trump.eth\n",
        "    , y=eth_trump.Oppose),\n",
        "    go.Bar(name='Logit_Oppose'\n",
        "    , x=eth_trump_logit.eth\n",
        "    , y=eth_trump_logit.Logit_Oppose),\n",
        "     go.Bar(name='RF_Oppose'\n",
        "    , x=eth_trump_rf.eth\n",
        "    , y=eth_trump_rf.RF_Oppose),   \n",
        "    go.Bar(name='Support'\n",
        "    , x=eth_trump.eth\n",
        "    , y=eth_trump.Support),\n",
        "    go.Bar(name='Logit_Support'\n",
        "    , x=eth_trump_logit.eth\n",
        "    , y=eth_trump_logit.Logit_Support),\n",
        "    go.Bar(name='RF_Support'\n",
        "    , x=eth_trump_rf.eth\n",
        "    , y=eth_trump_rf.RF_Support),\n",
        "])\n",
        "\n",
        "fig_eth.update_layout(barmode='group')\n",
        "fig_eth.update_layout(title_text=\"Trump Support by Ethnicity<br>The Model Trends in the Direction Among White Voters, While Other Ethnicities are Tough to Discern\")\n",
        "\n",
        "fig_eth.show()"
      ],
      "execution_count": 56,
      "outputs": [
        {
          "output_type": "display_data",
          "data": {
            "text/html": [
              "<html>\n",
              "<head><meta charset=\"utf-8\" /></head>\n",
              "<body>\n",
              "    <div>\n",
              "            <script src=\"https://cdnjs.cloudflare.com/ajax/libs/mathjax/2.7.5/MathJax.js?config=TeX-AMS-MML_SVG\"></script><script type=\"text/javascript\">if (window.MathJax) {MathJax.Hub.Config({SVG: {font: \"STIX-Web\"}});}</script>\n",
              "                <script type=\"text/javascript\">window.PlotlyConfig = {MathJaxConfig: 'local'};</script>\n",
              "        <script src=\"https://cdn.plot.ly/plotly-latest.min.js\"></script>    \n",
              "            <div id=\"0cc837cd-1508-4cfe-9671-877aa823c595\" class=\"plotly-graph-div\" style=\"height:525px; width:100%;\"></div>\n",
              "            <script type=\"text/javascript\">\n",
              "                \n",
              "                    window.PLOTLYENV=window.PLOTLYENV || {};\n",
              "                    \n",
              "                if (document.getElementById(\"0cc837cd-1508-4cfe-9671-877aa823c595\")) {\n",
              "                    Plotly.newPlot(\n",
              "                        '0cc837cd-1508-4cfe-9671-877aa823c595',\n",
              "                        [{\"name\": \"Oppose\", \"type\": \"bar\", \"x\": [\"afam\", \"asian\", \"latinx\", \"native\", \"other\", \"white\"], \"y\": [8307, 1927, 5606, 271, 2835, 43183]}, {\"name\": \"Logit_Oppose\", \"type\": \"bar\", \"x\": [\"afam\", \"asian\", \"latinx\", \"native\", \"other\", \"white\"], \"y\": [5598, 1649, 4882, 288, 2736, 47501]}, {\"name\": \"RF_Oppose\", \"type\": \"bar\", \"x\": [\"afam\", \"asian\", \"latinx\", \"native\", \"other\", \"white\"], \"y\": [5583, 1641, 4894, 287, 2747, 47426]}, {\"name\": \"Support\", \"type\": \"bar\", \"x\": [\"afam\", \"asian\", \"latinx\", \"native\", \"other\", \"white\"], \"y\": [1223, 886, 2768, 200, 1770, 37879]}, {\"name\": \"Logit_Support\", \"type\": \"bar\", \"x\": [\"afam\", \"asian\", \"latinx\", \"native\", \"other\", \"white\"], \"y\": [3932, 1164, 3492, 183, 1869, 33561]}, {\"name\": \"RF_Support\", \"type\": \"bar\", \"x\": [\"afam\", \"asian\", \"latinx\", \"native\", \"other\", \"white\"], \"y\": [3947, 1172, 3480, 184, 1858, 33636]}],\n",
              "                        {\"barmode\": \"group\", \"template\": {\"data\": {\"bar\": [{\"error_x\": {\"color\": \"#2a3f5f\"}, \"error_y\": {\"color\": \"#2a3f5f\"}, \"marker\": {\"line\": {\"color\": \"#E5ECF6\", \"width\": 0.5}}, \"type\": \"bar\"}], \"barpolar\": [{\"marker\": {\"line\": {\"color\": \"#E5ECF6\", \"width\": 0.5}}, \"type\": \"barpolar\"}], \"carpet\": [{\"aaxis\": {\"endlinecolor\": \"#2a3f5f\", \"gridcolor\": \"white\", \"linecolor\": \"white\", \"minorgridcolor\": \"white\", \"startlinecolor\": \"#2a3f5f\"}, \"baxis\": {\"endlinecolor\": \"#2a3f5f\", \"gridcolor\": \"white\", \"linecolor\": \"white\", \"minorgridcolor\": \"white\", \"startlinecolor\": \"#2a3f5f\"}, \"type\": \"carpet\"}], \"choropleth\": [{\"colorbar\": {\"outlinewidth\": 0, \"ticks\": \"\"}, \"type\": \"choropleth\"}], \"contour\": [{\"colorbar\": {\"outlinewidth\": 0, \"ticks\": \"\"}, \"colorscale\": [[0.0, \"#0d0887\"], [0.1111111111111111, \"#46039f\"], [0.2222222222222222, \"#7201a8\"], [0.3333333333333333, \"#9c179e\"], [0.4444444444444444, \"#bd3786\"], [0.5555555555555556, \"#d8576b\"], [0.6666666666666666, \"#ed7953\"], [0.7777777777777778, \"#fb9f3a\"], [0.8888888888888888, \"#fdca26\"], [1.0, \"#f0f921\"]], \"type\": \"contour\"}], \"contourcarpet\": [{\"colorbar\": {\"outlinewidth\": 0, \"ticks\": \"\"}, \"type\": \"contourcarpet\"}], \"heatmap\": [{\"colorbar\": {\"outlinewidth\": 0, \"ticks\": \"\"}, \"colorscale\": [[0.0, \"#0d0887\"], [0.1111111111111111, \"#46039f\"], [0.2222222222222222, \"#7201a8\"], [0.3333333333333333, \"#9c179e\"], [0.4444444444444444, \"#bd3786\"], [0.5555555555555556, \"#d8576b\"], [0.6666666666666666, \"#ed7953\"], [0.7777777777777778, \"#fb9f3a\"], [0.8888888888888888, \"#fdca26\"], [1.0, \"#f0f921\"]], \"type\": \"heatmap\"}], \"heatmapgl\": [{\"colorbar\": {\"outlinewidth\": 0, \"ticks\": \"\"}, \"colorscale\": [[0.0, \"#0d0887\"], [0.1111111111111111, \"#46039f\"], [0.2222222222222222, \"#7201a8\"], [0.3333333333333333, \"#9c179e\"], [0.4444444444444444, \"#bd3786\"], [0.5555555555555556, \"#d8576b\"], [0.6666666666666666, \"#ed7953\"], [0.7777777777777778, \"#fb9f3a\"], [0.8888888888888888, \"#fdca26\"], [1.0, \"#f0f921\"]], \"type\": \"heatmapgl\"}], \"histogram\": [{\"marker\": {\"colorbar\": {\"outlinewidth\": 0, \"ticks\": \"\"}}, \"type\": \"histogram\"}], \"histogram2d\": [{\"colorbar\": {\"outlinewidth\": 0, \"ticks\": \"\"}, \"colorscale\": [[0.0, \"#0d0887\"], [0.1111111111111111, \"#46039f\"], [0.2222222222222222, \"#7201a8\"], [0.3333333333333333, \"#9c179e\"], [0.4444444444444444, \"#bd3786\"], [0.5555555555555556, \"#d8576b\"], [0.6666666666666666, \"#ed7953\"], [0.7777777777777778, \"#fb9f3a\"], [0.8888888888888888, \"#fdca26\"], [1.0, \"#f0f921\"]], \"type\": \"histogram2d\"}], \"histogram2dcontour\": [{\"colorbar\": {\"outlinewidth\": 0, \"ticks\": \"\"}, \"colorscale\": [[0.0, \"#0d0887\"], [0.1111111111111111, \"#46039f\"], [0.2222222222222222, \"#7201a8\"], [0.3333333333333333, \"#9c179e\"], [0.4444444444444444, \"#bd3786\"], [0.5555555555555556, \"#d8576b\"], [0.6666666666666666, \"#ed7953\"], [0.7777777777777778, \"#fb9f3a\"], [0.8888888888888888, \"#fdca26\"], [1.0, \"#f0f921\"]], \"type\": \"histogram2dcontour\"}], \"mesh3d\": [{\"colorbar\": {\"outlinewidth\": 0, \"ticks\": \"\"}, \"type\": \"mesh3d\"}], \"parcoords\": [{\"line\": {\"colorbar\": {\"outlinewidth\": 0, \"ticks\": \"\"}}, \"type\": \"parcoords\"}], \"pie\": [{\"automargin\": true, \"type\": \"pie\"}], \"scatter\": [{\"marker\": {\"colorbar\": {\"outlinewidth\": 0, \"ticks\": \"\"}}, \"type\": \"scatter\"}], \"scatter3d\": [{\"line\": {\"colorbar\": {\"outlinewidth\": 0, \"ticks\": \"\"}}, \"marker\": {\"colorbar\": {\"outlinewidth\": 0, \"ticks\": \"\"}}, \"type\": \"scatter3d\"}], \"scattercarpet\": [{\"marker\": {\"colorbar\": {\"outlinewidth\": 0, \"ticks\": \"\"}}, \"type\": \"scattercarpet\"}], \"scattergeo\": [{\"marker\": {\"colorbar\": {\"outlinewidth\": 0, \"ticks\": \"\"}}, \"type\": \"scattergeo\"}], \"scattergl\": [{\"marker\": {\"colorbar\": {\"outlinewidth\": 0, \"ticks\": \"\"}}, \"type\": \"scattergl\"}], \"scattermapbox\": [{\"marker\": {\"colorbar\": {\"outlinewidth\": 0, \"ticks\": \"\"}}, \"type\": \"scattermapbox\"}], \"scatterpolar\": [{\"marker\": {\"colorbar\": {\"outlinewidth\": 0, \"ticks\": \"\"}}, \"type\": \"scatterpolar\"}], \"scatterpolargl\": [{\"marker\": {\"colorbar\": {\"outlinewidth\": 0, \"ticks\": \"\"}}, \"type\": \"scatterpolargl\"}], \"scatterternary\": [{\"marker\": {\"colorbar\": {\"outlinewidth\": 0, \"ticks\": \"\"}}, \"type\": \"scatterternary\"}], \"surface\": [{\"colorbar\": {\"outlinewidth\": 0, \"ticks\": \"\"}, \"colorscale\": [[0.0, \"#0d0887\"], [0.1111111111111111, \"#46039f\"], [0.2222222222222222, \"#7201a8\"], [0.3333333333333333, \"#9c179e\"], [0.4444444444444444, \"#bd3786\"], [0.5555555555555556, \"#d8576b\"], [0.6666666666666666, \"#ed7953\"], [0.7777777777777778, \"#fb9f3a\"], [0.8888888888888888, \"#fdca26\"], [1.0, \"#f0f921\"]], \"type\": \"surface\"}], \"table\": [{\"cells\": {\"fill\": {\"color\": \"#EBF0F8\"}, \"line\": {\"color\": \"white\"}}, \"header\": {\"fill\": {\"color\": \"#C8D4E3\"}, \"line\": {\"color\": \"white\"}}, \"type\": \"table\"}]}, \"layout\": {\"annotationdefaults\": {\"arrowcolor\": \"#2a3f5f\", \"arrowhead\": 0, \"arrowwidth\": 1}, \"coloraxis\": {\"colorbar\": {\"outlinewidth\": 0, \"ticks\": \"\"}}, \"colorscale\": {\"diverging\": [[0, \"#8e0152\"], [0.1, \"#c51b7d\"], [0.2, \"#de77ae\"], [0.3, \"#f1b6da\"], [0.4, \"#fde0ef\"], [0.5, \"#f7f7f7\"], [0.6, \"#e6f5d0\"], [0.7, \"#b8e186\"], [0.8, \"#7fbc41\"], [0.9, \"#4d9221\"], [1, \"#276419\"]], \"sequential\": [[0.0, \"#0d0887\"], [0.1111111111111111, \"#46039f\"], [0.2222222222222222, \"#7201a8\"], [0.3333333333333333, \"#9c179e\"], [0.4444444444444444, \"#bd3786\"], [0.5555555555555556, \"#d8576b\"], [0.6666666666666666, \"#ed7953\"], [0.7777777777777778, \"#fb9f3a\"], [0.8888888888888888, \"#fdca26\"], [1.0, \"#f0f921\"]], \"sequentialminus\": [[0.0, \"#0d0887\"], [0.1111111111111111, \"#46039f\"], [0.2222222222222222, \"#7201a8\"], [0.3333333333333333, \"#9c179e\"], [0.4444444444444444, \"#bd3786\"], [0.5555555555555556, \"#d8576b\"], [0.6666666666666666, \"#ed7953\"], [0.7777777777777778, \"#fb9f3a\"], [0.8888888888888888, \"#fdca26\"], [1.0, \"#f0f921\"]]}, \"colorway\": [\"#636efa\", \"#EF553B\", \"#00cc96\", \"#ab63fa\", \"#FFA15A\", \"#19d3f3\", \"#FF6692\", \"#B6E880\", \"#FF97FF\", \"#FECB52\"], \"font\": {\"color\": \"#2a3f5f\"}, \"geo\": {\"bgcolor\": \"white\", \"lakecolor\": \"white\", \"landcolor\": \"#E5ECF6\", \"showlakes\": true, \"showland\": true, \"subunitcolor\": \"white\"}, \"hoverlabel\": {\"align\": \"left\"}, \"hovermode\": \"closest\", \"mapbox\": {\"style\": \"light\"}, \"paper_bgcolor\": \"white\", \"plot_bgcolor\": \"#E5ECF6\", \"polar\": {\"angularaxis\": {\"gridcolor\": \"white\", \"linecolor\": \"white\", \"ticks\": \"\"}, \"bgcolor\": \"#E5ECF6\", \"radialaxis\": {\"gridcolor\": \"white\", \"linecolor\": \"white\", \"ticks\": \"\"}}, \"scene\": {\"xaxis\": {\"backgroundcolor\": \"#E5ECF6\", \"gridcolor\": \"white\", \"gridwidth\": 2, \"linecolor\": \"white\", \"showbackground\": true, \"ticks\": \"\", \"zerolinecolor\": \"white\"}, \"yaxis\": {\"backgroundcolor\": \"#E5ECF6\", \"gridcolor\": \"white\", \"gridwidth\": 2, \"linecolor\": \"white\", \"showbackground\": true, \"ticks\": \"\", \"zerolinecolor\": \"white\"}, \"zaxis\": {\"backgroundcolor\": \"#E5ECF6\", \"gridcolor\": \"white\", \"gridwidth\": 2, \"linecolor\": \"white\", \"showbackground\": true, \"ticks\": \"\", \"zerolinecolor\": \"white\"}}, \"shapedefaults\": {\"line\": {\"color\": \"#2a3f5f\"}}, \"ternary\": {\"aaxis\": {\"gridcolor\": \"white\", \"linecolor\": \"white\", \"ticks\": \"\"}, \"baxis\": {\"gridcolor\": \"white\", \"linecolor\": \"white\", \"ticks\": \"\"}, \"bgcolor\": \"#E5ECF6\", \"caxis\": {\"gridcolor\": \"white\", \"linecolor\": \"white\", \"ticks\": \"\"}}, \"title\": {\"x\": 0.05}, \"xaxis\": {\"automargin\": true, \"gridcolor\": \"white\", \"linecolor\": \"white\", \"ticks\": \"\", \"title\": {\"standoff\": 15}, \"zerolinecolor\": \"white\", \"zerolinewidth\": 2}, \"yaxis\": {\"automargin\": true, \"gridcolor\": \"white\", \"linecolor\": \"white\", \"ticks\": \"\", \"title\": {\"standoff\": 15}, \"zerolinecolor\": \"white\", \"zerolinewidth\": 2}}}, \"title\": {\"text\": \"Trump Support by Ethnicity<br>The Model Trends in the Direction Among White Voters, While Other Ethnicities are Tough to Discern\"}},\n",
              "                        {\"responsive\": true}\n",
              "                    ).then(function(){\n",
              "                            \n",
              "var gd = document.getElementById('0cc837cd-1508-4cfe-9671-877aa823c595');\n",
              "var x = new MutationObserver(function (mutations, observer) {{\n",
              "        var display = window.getComputedStyle(gd).display;\n",
              "        if (!display || display === 'none') {{\n",
              "            console.log([gd, 'removed!']);\n",
              "            Plotly.purge(gd);\n",
              "            observer.disconnect();\n",
              "        }}\n",
              "}});\n",
              "\n",
              "// Listen for the removal of the full notebook cells\n",
              "var notebookContainer = gd.closest('#notebook-container');\n",
              "if (notebookContainer) {{\n",
              "    x.observe(notebookContainer, {childList: true});\n",
              "}}\n",
              "\n",
              "// Listen for the clearing of the current output cell\n",
              "var outputEl = gd.closest('.output');\n",
              "if (outputEl) {{\n",
              "    x.observe(outputEl, {childList: true});\n",
              "}}\n",
              "\n",
              "                        })\n",
              "                };\n",
              "                \n",
              "            </script>\n",
              "        </div>\n",
              "</body>\n",
              "</html>"
            ]
          },
          "metadata": {
            "tags": []
          }
        }
      ]
    },
    {
      "cell_type": "code",
      "metadata": {
        "colab_type": "code",
        "id": "hTiu498v9n_f",
        "outputId": "09a18439-e130-4c7e-e95d-741d39a73723",
        "colab": {
          "base_uri": "https://localhost:8080/",
          "height": 562
        }
      },
      "source": [
        "fig_eth_nw = go.Figure(data=[\n",
        "\n",
        "    go.Bar(name='Oppose'\n",
        "    , x=eth_trump.eth[eth_trump.eth != 'white']\n",
        "    , y=eth_trump.Oppose),\n",
        "    go.Bar(name='Logit_Oppose'\n",
        "    , x=eth_trump_logit.eth[eth_trump.eth != 'white']\n",
        "    , y=eth_trump_logit.Logit_Oppose),\n",
        "     go.Bar(name='RF_Oppose'\n",
        "    , x=eth_trump_rf.eth[eth_trump.eth != 'white']\n",
        "    , y=eth_trump_rf.RF_Oppose),   \n",
        "    go.Bar(name='Support'\n",
        "    , x=eth_trump.eth[eth_trump.eth != 'white']\n",
        "    , y=eth_trump.Support),\n",
        "    go.Bar(name='Logit_Support'\n",
        "    , x=eth_trump_logit.eth[eth_trump.eth != 'white']\n",
        "    , y=eth_trump_logit.Logit_Support),\n",
        "    go.Bar(name='RF_Support'\n",
        "    , x=eth_trump_rf.eth[eth_trump.eth != 'white']\n",
        "    , y=eth_trump_rf.RF_Support),\n",
        "])\n",
        "\n",
        "fig_eth_nw.update_layout(barmode='group')\n",
        "fig_eth_nw.update_layout(title_text=\"Trump Support by Non-white Ethnicity<br>Among Non-white Ethnicities, the Models Follow the Survey Questions but Understate Support/Opposition\")\n",
        "\n",
        "fig_eth_nw.show()"
      ],
      "execution_count": 57,
      "outputs": [
        {
          "output_type": "display_data",
          "data": {
            "text/html": [
              "<html>\n",
              "<head><meta charset=\"utf-8\" /></head>\n",
              "<body>\n",
              "    <div>\n",
              "            <script src=\"https://cdnjs.cloudflare.com/ajax/libs/mathjax/2.7.5/MathJax.js?config=TeX-AMS-MML_SVG\"></script><script type=\"text/javascript\">if (window.MathJax) {MathJax.Hub.Config({SVG: {font: \"STIX-Web\"}});}</script>\n",
              "                <script type=\"text/javascript\">window.PlotlyConfig = {MathJaxConfig: 'local'};</script>\n",
              "        <script src=\"https://cdn.plot.ly/plotly-latest.min.js\"></script>    \n",
              "            <div id=\"e39f4111-5ac1-4134-9cee-7e7dcf6054c5\" class=\"plotly-graph-div\" style=\"height:525px; width:100%;\"></div>\n",
              "            <script type=\"text/javascript\">\n",
              "                \n",
              "                    window.PLOTLYENV=window.PLOTLYENV || {};\n",
              "                    \n",
              "                if (document.getElementById(\"e39f4111-5ac1-4134-9cee-7e7dcf6054c5\")) {\n",
              "                    Plotly.newPlot(\n",
              "                        'e39f4111-5ac1-4134-9cee-7e7dcf6054c5',\n",
              "                        [{\"name\": \"Oppose\", \"type\": \"bar\", \"x\": [\"afam\", \"asian\", \"latinx\", \"native\", \"other\"], \"y\": [8307, 1927, 5606, 271, 2835, 43183]}, {\"name\": \"Logit_Oppose\", \"type\": \"bar\", \"x\": [\"afam\", \"asian\", \"latinx\", \"native\", \"other\"], \"y\": [5598, 1649, 4882, 288, 2736, 47501]}, {\"name\": \"RF_Oppose\", \"type\": \"bar\", \"x\": [\"afam\", \"asian\", \"latinx\", \"native\", \"other\"], \"y\": [5583, 1641, 4894, 287, 2747, 47426]}, {\"name\": \"Support\", \"type\": \"bar\", \"x\": [\"afam\", \"asian\", \"latinx\", \"native\", \"other\"], \"y\": [1223, 886, 2768, 200, 1770, 37879]}, {\"name\": \"Logit_Support\", \"type\": \"bar\", \"x\": [\"afam\", \"asian\", \"latinx\", \"native\", \"other\"], \"y\": [3932, 1164, 3492, 183, 1869, 33561]}, {\"name\": \"RF_Support\", \"type\": \"bar\", \"x\": [\"afam\", \"asian\", \"latinx\", \"native\", \"other\"], \"y\": [3947, 1172, 3480, 184, 1858, 33636]}],\n",
              "                        {\"barmode\": \"group\", \"template\": {\"data\": {\"bar\": [{\"error_x\": {\"color\": \"#2a3f5f\"}, \"error_y\": {\"color\": \"#2a3f5f\"}, \"marker\": {\"line\": {\"color\": \"#E5ECF6\", \"width\": 0.5}}, \"type\": \"bar\"}], \"barpolar\": [{\"marker\": {\"line\": {\"color\": \"#E5ECF6\", \"width\": 0.5}}, \"type\": \"barpolar\"}], \"carpet\": [{\"aaxis\": {\"endlinecolor\": \"#2a3f5f\", \"gridcolor\": \"white\", \"linecolor\": \"white\", \"minorgridcolor\": \"white\", \"startlinecolor\": \"#2a3f5f\"}, \"baxis\": {\"endlinecolor\": \"#2a3f5f\", \"gridcolor\": \"white\", \"linecolor\": \"white\", \"minorgridcolor\": \"white\", \"startlinecolor\": \"#2a3f5f\"}, \"type\": \"carpet\"}], \"choropleth\": [{\"colorbar\": {\"outlinewidth\": 0, \"ticks\": \"\"}, \"type\": \"choropleth\"}], \"contour\": [{\"colorbar\": {\"outlinewidth\": 0, \"ticks\": \"\"}, \"colorscale\": [[0.0, \"#0d0887\"], [0.1111111111111111, \"#46039f\"], [0.2222222222222222, \"#7201a8\"], [0.3333333333333333, \"#9c179e\"], [0.4444444444444444, \"#bd3786\"], [0.5555555555555556, \"#d8576b\"], [0.6666666666666666, \"#ed7953\"], [0.7777777777777778, \"#fb9f3a\"], [0.8888888888888888, \"#fdca26\"], [1.0, \"#f0f921\"]], \"type\": \"contour\"}], \"contourcarpet\": [{\"colorbar\": {\"outlinewidth\": 0, \"ticks\": \"\"}, \"type\": \"contourcarpet\"}], \"heatmap\": [{\"colorbar\": {\"outlinewidth\": 0, \"ticks\": \"\"}, \"colorscale\": [[0.0, \"#0d0887\"], [0.1111111111111111, \"#46039f\"], [0.2222222222222222, \"#7201a8\"], [0.3333333333333333, \"#9c179e\"], [0.4444444444444444, \"#bd3786\"], [0.5555555555555556, \"#d8576b\"], [0.6666666666666666, \"#ed7953\"], [0.7777777777777778, \"#fb9f3a\"], [0.8888888888888888, \"#fdca26\"], [1.0, \"#f0f921\"]], \"type\": \"heatmap\"}], \"heatmapgl\": [{\"colorbar\": {\"outlinewidth\": 0, \"ticks\": \"\"}, \"colorscale\": [[0.0, \"#0d0887\"], [0.1111111111111111, \"#46039f\"], [0.2222222222222222, \"#7201a8\"], [0.3333333333333333, \"#9c179e\"], [0.4444444444444444, \"#bd3786\"], [0.5555555555555556, \"#d8576b\"], [0.6666666666666666, \"#ed7953\"], [0.7777777777777778, \"#fb9f3a\"], [0.8888888888888888, \"#fdca26\"], [1.0, \"#f0f921\"]], \"type\": \"heatmapgl\"}], \"histogram\": [{\"marker\": {\"colorbar\": {\"outlinewidth\": 0, \"ticks\": \"\"}}, \"type\": \"histogram\"}], \"histogram2d\": [{\"colorbar\": {\"outlinewidth\": 0, \"ticks\": \"\"}, \"colorscale\": [[0.0, \"#0d0887\"], [0.1111111111111111, \"#46039f\"], [0.2222222222222222, \"#7201a8\"], [0.3333333333333333, \"#9c179e\"], [0.4444444444444444, \"#bd3786\"], [0.5555555555555556, \"#d8576b\"], [0.6666666666666666, \"#ed7953\"], [0.7777777777777778, \"#fb9f3a\"], [0.8888888888888888, \"#fdca26\"], [1.0, \"#f0f921\"]], \"type\": \"histogram2d\"}], \"histogram2dcontour\": [{\"colorbar\": {\"outlinewidth\": 0, \"ticks\": \"\"}, \"colorscale\": [[0.0, \"#0d0887\"], [0.1111111111111111, \"#46039f\"], [0.2222222222222222, \"#7201a8\"], [0.3333333333333333, \"#9c179e\"], [0.4444444444444444, \"#bd3786\"], [0.5555555555555556, \"#d8576b\"], [0.6666666666666666, \"#ed7953\"], [0.7777777777777778, \"#fb9f3a\"], [0.8888888888888888, \"#fdca26\"], [1.0, \"#f0f921\"]], \"type\": \"histogram2dcontour\"}], \"mesh3d\": [{\"colorbar\": {\"outlinewidth\": 0, \"ticks\": \"\"}, \"type\": \"mesh3d\"}], \"parcoords\": [{\"line\": {\"colorbar\": {\"outlinewidth\": 0, \"ticks\": \"\"}}, \"type\": \"parcoords\"}], \"pie\": [{\"automargin\": true, \"type\": \"pie\"}], \"scatter\": [{\"marker\": {\"colorbar\": {\"outlinewidth\": 0, \"ticks\": \"\"}}, \"type\": \"scatter\"}], \"scatter3d\": [{\"line\": {\"colorbar\": {\"outlinewidth\": 0, \"ticks\": \"\"}}, \"marker\": {\"colorbar\": {\"outlinewidth\": 0, \"ticks\": \"\"}}, \"type\": \"scatter3d\"}], \"scattercarpet\": [{\"marker\": {\"colorbar\": {\"outlinewidth\": 0, \"ticks\": \"\"}}, \"type\": \"scattercarpet\"}], \"scattergeo\": [{\"marker\": {\"colorbar\": {\"outlinewidth\": 0, \"ticks\": \"\"}}, \"type\": \"scattergeo\"}], \"scattergl\": [{\"marker\": {\"colorbar\": {\"outlinewidth\": 0, \"ticks\": \"\"}}, \"type\": \"scattergl\"}], \"scattermapbox\": [{\"marker\": {\"colorbar\": {\"outlinewidth\": 0, \"ticks\": \"\"}}, \"type\": \"scattermapbox\"}], \"scatterpolar\": [{\"marker\": {\"colorbar\": {\"outlinewidth\": 0, \"ticks\": \"\"}}, \"type\": \"scatterpolar\"}], \"scatterpolargl\": [{\"marker\": {\"colorbar\": {\"outlinewidth\": 0, \"ticks\": \"\"}}, \"type\": \"scatterpolargl\"}], \"scatterternary\": [{\"marker\": {\"colorbar\": {\"outlinewidth\": 0, \"ticks\": \"\"}}, \"type\": \"scatterternary\"}], \"surface\": [{\"colorbar\": {\"outlinewidth\": 0, \"ticks\": \"\"}, \"colorscale\": [[0.0, \"#0d0887\"], [0.1111111111111111, \"#46039f\"], [0.2222222222222222, \"#7201a8\"], [0.3333333333333333, \"#9c179e\"], [0.4444444444444444, \"#bd3786\"], [0.5555555555555556, \"#d8576b\"], [0.6666666666666666, \"#ed7953\"], [0.7777777777777778, \"#fb9f3a\"], [0.8888888888888888, \"#fdca26\"], [1.0, \"#f0f921\"]], \"type\": \"surface\"}], \"table\": [{\"cells\": {\"fill\": {\"color\": \"#EBF0F8\"}, \"line\": {\"color\": \"white\"}}, \"header\": {\"fill\": {\"color\": \"#C8D4E3\"}, \"line\": {\"color\": \"white\"}}, \"type\": \"table\"}]}, \"layout\": {\"annotationdefaults\": {\"arrowcolor\": \"#2a3f5f\", \"arrowhead\": 0, \"arrowwidth\": 1}, \"coloraxis\": {\"colorbar\": {\"outlinewidth\": 0, \"ticks\": \"\"}}, \"colorscale\": {\"diverging\": [[0, \"#8e0152\"], [0.1, \"#c51b7d\"], [0.2, \"#de77ae\"], [0.3, \"#f1b6da\"], [0.4, \"#fde0ef\"], [0.5, \"#f7f7f7\"], [0.6, \"#e6f5d0\"], [0.7, \"#b8e186\"], [0.8, \"#7fbc41\"], [0.9, \"#4d9221\"], [1, \"#276419\"]], \"sequential\": [[0.0, \"#0d0887\"], [0.1111111111111111, \"#46039f\"], [0.2222222222222222, \"#7201a8\"], [0.3333333333333333, \"#9c179e\"], [0.4444444444444444, \"#bd3786\"], [0.5555555555555556, \"#d8576b\"], [0.6666666666666666, \"#ed7953\"], [0.7777777777777778, \"#fb9f3a\"], [0.8888888888888888, \"#fdca26\"], [1.0, \"#f0f921\"]], \"sequentialminus\": [[0.0, \"#0d0887\"], [0.1111111111111111, \"#46039f\"], [0.2222222222222222, \"#7201a8\"], [0.3333333333333333, \"#9c179e\"], [0.4444444444444444, \"#bd3786\"], [0.5555555555555556, \"#d8576b\"], [0.6666666666666666, \"#ed7953\"], [0.7777777777777778, \"#fb9f3a\"], [0.8888888888888888, \"#fdca26\"], [1.0, \"#f0f921\"]]}, \"colorway\": [\"#636efa\", \"#EF553B\", \"#00cc96\", \"#ab63fa\", \"#FFA15A\", \"#19d3f3\", \"#FF6692\", \"#B6E880\", \"#FF97FF\", \"#FECB52\"], \"font\": {\"color\": \"#2a3f5f\"}, \"geo\": {\"bgcolor\": \"white\", \"lakecolor\": \"white\", \"landcolor\": \"#E5ECF6\", \"showlakes\": true, \"showland\": true, \"subunitcolor\": \"white\"}, \"hoverlabel\": {\"align\": \"left\"}, \"hovermode\": \"closest\", \"mapbox\": {\"style\": \"light\"}, \"paper_bgcolor\": \"white\", \"plot_bgcolor\": \"#E5ECF6\", \"polar\": {\"angularaxis\": {\"gridcolor\": \"white\", \"linecolor\": \"white\", \"ticks\": \"\"}, \"bgcolor\": \"#E5ECF6\", \"radialaxis\": {\"gridcolor\": \"white\", \"linecolor\": \"white\", \"ticks\": \"\"}}, \"scene\": {\"xaxis\": {\"backgroundcolor\": \"#E5ECF6\", \"gridcolor\": \"white\", \"gridwidth\": 2, \"linecolor\": \"white\", \"showbackground\": true, \"ticks\": \"\", \"zerolinecolor\": \"white\"}, \"yaxis\": {\"backgroundcolor\": \"#E5ECF6\", \"gridcolor\": \"white\", \"gridwidth\": 2, \"linecolor\": \"white\", \"showbackground\": true, \"ticks\": \"\", \"zerolinecolor\": \"white\"}, \"zaxis\": {\"backgroundcolor\": \"#E5ECF6\", \"gridcolor\": \"white\", \"gridwidth\": 2, \"linecolor\": \"white\", \"showbackground\": true, \"ticks\": \"\", \"zerolinecolor\": \"white\"}}, \"shapedefaults\": {\"line\": {\"color\": \"#2a3f5f\"}}, \"ternary\": {\"aaxis\": {\"gridcolor\": \"white\", \"linecolor\": \"white\", \"ticks\": \"\"}, \"baxis\": {\"gridcolor\": \"white\", \"linecolor\": \"white\", \"ticks\": \"\"}, \"bgcolor\": \"#E5ECF6\", \"caxis\": {\"gridcolor\": \"white\", \"linecolor\": \"white\", \"ticks\": \"\"}}, \"title\": {\"x\": 0.05}, \"xaxis\": {\"automargin\": true, \"gridcolor\": \"white\", \"linecolor\": \"white\", \"ticks\": \"\", \"title\": {\"standoff\": 15}, \"zerolinecolor\": \"white\", \"zerolinewidth\": 2}, \"yaxis\": {\"automargin\": true, \"gridcolor\": \"white\", \"linecolor\": \"white\", \"ticks\": \"\", \"title\": {\"standoff\": 15}, \"zerolinecolor\": \"white\", \"zerolinewidth\": 2}}}, \"title\": {\"text\": \"Trump Support by Non-white Ethnicity<br>Among Non-white Ethnicities, the Models Follow the Survey Questions but Understate Support/Opposition\"}},\n",
              "                        {\"responsive\": true}\n",
              "                    ).then(function(){\n",
              "                            \n",
              "var gd = document.getElementById('e39f4111-5ac1-4134-9cee-7e7dcf6054c5');\n",
              "var x = new MutationObserver(function (mutations, observer) {{\n",
              "        var display = window.getComputedStyle(gd).display;\n",
              "        if (!display || display === 'none') {{\n",
              "            console.log([gd, 'removed!']);\n",
              "            Plotly.purge(gd);\n",
              "            observer.disconnect();\n",
              "        }}\n",
              "}});\n",
              "\n",
              "// Listen for the removal of the full notebook cells\n",
              "var notebookContainer = gd.closest('#notebook-container');\n",
              "if (notebookContainer) {{\n",
              "    x.observe(notebookContainer, {childList: true});\n",
              "}}\n",
              "\n",
              "// Listen for the clearing of the current output cell\n",
              "var outputEl = gd.closest('.output');\n",
              "if (outputEl) {{\n",
              "    x.observe(outputEl, {childList: true});\n",
              "}}\n",
              "\n",
              "                        })\n",
              "                };\n",
              "                \n",
              "            </script>\n",
              "        </div>\n",
              "</body>\n",
              "</html>"
            ]
          },
          "metadata": {
            "tags": []
          }
        }
      ]
    },
    {
      "cell_type": "code",
      "metadata": {
        "id": "WOc-yaDiBZ9B",
        "colab_type": "code",
        "outputId": "82eafc1f-99f0-46b3-b7dc-7a35902a1b60",
        "colab": {
          "base_uri": "https://localhost:8080/",
          "height": 141
        }
      },
      "source": [
        "print(py.plot(fig, filename = 'Trump Model', auto_open=True))\n",
        "print(py.plot(fig_sex, filename = 'Trump Gender', auto_open=True))\n",
        "print(py.plot(fig_party, filename = 'Trump Party', auto_open=True))\n",
        "print(py.plot(fig_eth, filename = 'Trump Ethnicity', auto_open=True))\n",
        "print(py.plot(fig_eth_nw, filename = 'Trump Ethnicity Non-White', auto_open=True))\n",
        "print(py.plot(fig_age, filename = 'Trump Age', auto_open=True))"
      ],
      "execution_count": 58,
      "outputs": [
        {
          "output_type": "stream",
          "text": [
            "https://plot.ly/~kielbrunner/55/\n",
            "https://plot.ly/~kielbrunner/61/\n",
            "https://plot.ly/~kielbrunner/59/\n",
            "https://plot.ly/~kielbrunner/133/\n",
            "https://plot.ly/~kielbrunner/137/\n",
            "https://plot.ly/~kielbrunner/69/\n"
          ],
          "name": "stdout"
        }
      ]
    },
    {
      "cell_type": "markdown",
      "metadata": {
        "id": "FL7Jg8RTqeGl",
        "colab_type": "text"
      },
      "source": [
        "# User Interface"
      ]
    },
    {
      "cell_type": "markdown",
      "metadata": {
        "id": "la_1QDGJQOMy",
        "colab_type": "text"
      },
      "source": [
        "## Prep"
      ]
    },
    {
      "cell_type": "code",
      "metadata": {
        "id": "UY-o8Q-GqkGg",
        "colab_type": "code",
        "outputId": "d5b38335-3bbb-4014-e515-8a56dcf28e6d",
        "colab": {
          "base_uri": "https://localhost:8080/",
          "height": 245
        }
      },
      "source": [
        "# rebase dataframe\n",
        "df_form = full_data.copy(deep=True).replace({'(99) DON’T KNOW/SKIPPED/REFUSED (VOL)':np.NaN}).replace({'(99) DON\\'T KNOW/SKIPPED/REFUSED (VOL)':np.NaN})\n",
        "\n",
        "df_form = df_form.drop(columns={'su_id','p_state','race1_vote','race1_party','race2_vote','race2_party','race3_vote','race3_party','race4_vote','race4_party','race5_vote','race5_party'})\n",
        "df_form = df_form.drop(columns={'pollclose_state_weight','pollclose_national_weight','finalvote_state_weight','finalvote_national_weight','statenum','lvb'})\n",
        "df_form = df_form.drop(columns={'race1_raceid','race1_officeid','race1_racetypeid','race2_raceid','race2_officeid','race2_racetypeid','race3_raceid',\\\n",
        "                      'race3_officeid','race3_racetypeid','race4_raceid','race4_officeid','race4_racetypeid','race5_raceid','race5_officeid',\\\n",
        "                      'race5_racetypeid','ballot1_vote','ballot1_party','ballot1_raceid','ballot1_officeid','ballot1_racetypeid','senvote',\\\n",
        "                      'senspvote','govvote','mainechoice2','favsenind','favgovind'})\n",
        "df_form = df_form.drop(columns={'favfeinstein','favdeleon','favssenspecialdem','favssenspecialrep','favespy','favhydesmith','favmcdaniel'})\n",
        "df_form = df_form.drop(columns={'married','gunowner','union','vet'})\n",
        "df_form = df_form.drop(columns={'govjobkasich4','govjobsnyder4','favsessions','favjones','favpalin','favflake','favcotton','favboozman','favemanuel','favpence','favfranken','favinslee','sportsbetting'})\n",
        "df_form = df_form.drop(columns={'akdividends','ilbudget','prostitution','incometax','murkowskisc','collinssc','gastax','harrispres',\\\n",
        "                          'murphypres','bidenpres','mapreswarren','maprespatrick','nypresbloomberg','nypresgillibrand','klobucharpres','merkleypres','sanderspres','unfairflgillum',\\\n",
        "                          'unfairfldesantis','unfairnjmenendez','unfairnjhugin','comarijuana','redtide','firstblackgov','allowedvote','kstax',\\\n",
        "                          'mshydesmithvsespy','msmcdanielvsespy','secondchancelaw','govworker','coalhh','tradedemvsrep'})\n",
        "df_form = df_form.drop(columns={'honestmenendez','honesthugin','taylor','orourketooliberal','cruzfocus','romneytrump','wnv','breakc','cuban','firsttime','formflag'})\n",
        "df_form = df_form.drop(columns={'qpvvote','q2016vote','q2020vote','presapp4','trumpfactor3','favtrump'})\n",
        "df_form = df_form.dropna(thresh=len(df_form)-11000, axis=1)\n",
        "df_form = df_form.replace({'(88) REMOVED FOR DISCLOSURE RISK':np.NaN})\n",
        "print(df_form.shape)\n",
        "print(df_form.head(10).to_string())"
      ],
      "execution_count": 59,
      "outputs": [
        {
          "output_type": "stream",
          "text": [
            "(138929, 28)\n",
            "        mode                       lva                         lv       likelyvoter            timevote                track                    issues            getahead  tradenationalecon tradelocalecon                    healthlaw                                       immdeport   russia                                           qpvvote3             breaka             breakb        sex      age65                  raceth                        raceth5                            educ                income           party                partyfull                       ideo                relig                          relig4       sizeplace\n",
            "0    (2) Web  (1) Extremely interested         (12) Already voted  (1) Likely voter  (2) Early/Absentee  (2) Wrong direction       (7) The environment  (2) Holding steady           (2) Hurt       (2) Hurt           (4) Expand the law  (1) Offered a chance to apply for legal status  (1) Yes                               (4) I'm sure I voted  (2) No, it is not     (1) Yes, it is  (2) Women    (6) 65+               (1) White                      (1) White  (2) Some college/assoc. degree   (2) $25,000-$49,999     (3) Neither          (3) Independent       (2) Somewhat liberal  (4) Other Christian  (1) Protestant/Other Christian       (4) Rural\n",
            "1    (2) Web  (1) Extremely interested  (10) 10-Certain will vote  (1) Likely voter  (2) Early/Absentee  (2) Wrong direction              (5) Abortion   (1) Getting ahead           (1) Help       (2) Hurt  (1) Repeal the law entirely  (1) Offered a chance to apply for legal status   (2) No                               (4) I'm sure I voted  (2) No, it is not  (2) No, it is not    (1) Men  (4) 40-49               (1) White                      (1) White          (4) Postgraduate study   (4) $75,000-$99,999     (3) Neither  (2) Republican/Lean Rep  (4) Somewhat conservative       (1) Protestant  (1) Protestant/Other Christian  (3) Small town\n",
            "2  (1) Phone  (1) Extremely interested  (10) 10-Certain will vote  (1) Likely voter    (1) Election Day  (2) Wrong direction           (3) Immigration  (3) Falling behind  (3) No difference       (1) Help  (2) Repeal parts of the law  (1) Offered a chance to apply for legal status      NaN  (2) I thought about voting in the 2014 electio...  (2) No, it is not     (1) Yes, it is    (1) Men  (5) 50-64                     NaN  (2) African American or Black         (1) High school or less  (5) $100,000 or more    (1) Democrat    (1) Democrat/Lean Dem                        NaN   (7) Something else                       (3) Other  (3) Small town\n",
            "3    (2) Web  (1) Extremely interested         (12) Already voted  (1) Likely voter  (2) Early/Absentee  (2) Wrong direction           (2) Health care  (3) Falling behind           (2) Hurt       (2) Hurt           (4) Expand the law  (1) Offered a chance to apply for legal status  (1) Yes                               (4) I'm sure I voted  (2) No, it is not     (1) Yes, it is    (1) Men    (6) 65+               (1) White                      (1) White          (4) Postgraduate study   (3) $50,000-$74,999    (1) Democrat    (1) Democrat/Lean Dem           (1) Very liberal         (2) Catholic                    (2) Catholic  (3) Small town\n",
            "4    (2) Web  (1) Extremely interested  (10) 10-Certain will vote  (1) Likely voter    (1) Election Day  (1) Right direction  (1) The economy and jobs   (1) Getting ahead           (1) Help       (1) Help  (2) Repeal parts of the law  (1) Offered a chance to apply for legal status   (2) No                               (4) I'm sure I voted     (1) Yes, it is  (2) No, it is not    (1) Men  (5) 50-64  (3) Latino or Hispanic         (3) Latino or Hispanic          (4) Postgraduate study  (5) $100,000 or more  (2) Republican  (2) Republican/Lean Rep  (4) Somewhat conservative       (1) Protestant  (1) Protestant/Other Christian    (2) Suburban\n",
            "5    (2) Web       (2) Very interested         (12) Already voted  (1) Likely voter  (2) Early/Absentee  (2) Wrong direction  (1) The economy and jobs  (2) Holding steady           (2) Hurt       (2) Hurt  (2) Repeal parts of the law  (1) Offered a chance to apply for legal status  (1) Yes  (3) I usually vote, but I didn't in the 2014 e...     (1) Yes, it is     (1) Yes, it is    (1) Men  (5) 50-64                     NaN                      (1) White            (3) College graduate  (5) $100,000 or more     (3) Neither  (2) Republican/Lean Rep               (3) Moderate       (1) Protestant  (1) Protestant/Other Christian       (1) Urban\n",
            "6  (1) Phone  (1) Extremely interested  (10) 10-Certain will vote  (1) Likely voter    (1) Election Day  (2) Wrong direction           (2) Health care  (2) Holding steady           (2) Hurt       (2) Hurt           (4) Expand the law  (1) Offered a chance to apply for legal status  (1) Yes                               (4) I'm sure I voted  (2) No, it is not     (1) Yes, it is  (2) Women  (5) 50-64                     NaN                      (1) White            (3) College graduate  (5) $100,000 or more    (1) Democrat    (1) Democrat/Lean Dem               (3) Moderate         (2) Catholic                    (2) Catholic    (2) Suburban\n",
            "7    (2) Web  (1) Extremely interested  (10) 10-Certain will vote  (1) Likely voter    (1) Election Day  (2) Wrong direction           (2) Health care  (2) Holding steady           (2) Hurt       (2) Hurt           (4) Expand the law  (1) Offered a chance to apply for legal status  (1) Yes                               (4) I'm sure I voted  (2) No, it is not     (1) Yes, it is    (1) Men    (6) 65+               (1) White                      (1) White          (4) Postgraduate study  (5) $100,000 or more     (3) Neither    (1) Democrat/Lean Dem       (2) Somewhat liberal             (8) None                (4) Unaffiliated    (2) Suburban\n",
            "8  (1) Phone  (1) Extremely interested  (10) 10-Certain will vote  (1) Likely voter    (1) Election Day  (2) Wrong direction           (3) Immigration   (1) Getting ahead           (2) Hurt       (2) Hurt  (2) Repeal parts of the law  (1) Offered a chance to apply for legal status  (1) Yes                               (4) I'm sure I voted  (2) No, it is not     (1) Yes, it is    (1) Men    (6) 65+                     NaN                      (5) Other            (3) College graduate   (3) $50,000-$74,999    (1) Democrat    (1) Democrat/Lean Dem       (2) Somewhat liberal       (1) Protestant  (1) Protestant/Other Christian  (3) Small town\n",
            "9    (2) Web  (1) Extremely interested  (10) 10-Certain will vote  (1) Likely voter  (2) Early/Absentee  (2) Wrong direction           (2) Health care  (3) Falling behind           (2) Hurt       (2) Hurt           (4) Expand the law  (1) Offered a chance to apply for legal status  (1) Yes                               (4) I'm sure I voted  (2) No, it is not     (1) Yes, it is  (2) Women  (5) 50-64                     NaN                      (1) White  (2) Some college/assoc. degree   (2) $25,000-$49,999    (1) Democrat    (1) Democrat/Lean Dem           (1) Very liberal           (5) Jewish                       (3) Other    (2) Suburban\n"
          ],
          "name": "stdout"
        }
      ]
    },
    {
      "cell_type": "code",
      "metadata": {
        "id": "h45NYkVgMtby",
        "colab_type": "code",
        "colab": {}
      },
      "source": [
        "question = ['How are you completing this survey?',\\\n",
        "            #'In which state are you registered to vote?',\\\n",
        "            'How interested are you in the election taking place on November 6th, 2018?',\\\n",
        "            'On a scale from zero to 10, where 10 means you\\'re certain you will vote and zero means there is no chance you will vote, please indicate how likely it is that you will vote in the 2018 midterm election.',\\\n",
        "            '',\\\n",
        "            'In 2018, did you vote at a polling place on Election Day, or did you vote by mail or vote in person at some point before Election Day?',\\\n",
        "            'Generally speaking, would you say things in this country are heading in the…',\\\n",
        "            'Which one of the following would you say is the most important issue facing the country?',\\\n",
        "            'Which best describes your family\\'s financial situation? Are you…',\\\n",
        "            'Do you think the Trump administration\\'s trade policies will help or hurt the national economy, or won\\'t they make much difference?',\\\n",
        "            'Do you think the Trump administration\\'s trade policies will help or hurt the economy in your area, or won\\'t they make much difference?',\\\n",
        "            'Which of the following comes closest to what you would like to see lawmakers do with the Affordable Care Act, also known as Obamacare?',\\\n",
        "            'Which of the following comes closer to your opinion? Should most immigrants who are living in the United States illegally be…',\\\n",
        "            'Do you think the Trump campaign coordinated with Russia during the 2016 presidential election, or not?',\\\n",
        "            'Regarding the 2014 election for Congress, which one of the following statements best describes you?',\\\n",
        "            'Do you think the way Democrats talk about politics these days is leading to an increase in acts of violence, or don\\'t you think so?',\\\n",
        "            'Do you think the way Republicans talk about politics these days is leading to an increase in acts of violence, or don\\'t you think so?',\\\n",
        "            'Are you male or female?',\\\n",
        "            'What is your age?',\\\n",
        "            'What is your racial or ethnic heritage?',\\\n",
        "            '',\\\n",
        "            'Which best describes your level of education?',\\\n",
        "            'In which of these categories is your total yearly household income, that is, of everyone living in your family household? Was your total household income in 2017…',\\\n",
        "            'Generally speaking, do you consider yourself a Democrat, a Republican, or don\\'t you consider yourself either?',\\\n",
        "            'Would you say you\\'re closer to the Democrats, to the Republicans, or don\\'t you lean toward either?',\\\n",
        "            'On most political matters, do you consider yourself…',\\\n",
        "            'What is your religion, if any?',\\\n",
        "            '',\\\n",
        "            'Which of the following best describes the area where you live?']"
      ],
      "execution_count": 0,
      "outputs": []
    },
    {
      "cell_type": "code",
      "metadata": {
        "id": "8rtoNIMcBT1Y",
        "colab_type": "code",
        "outputId": "54f0c4dc-8c46-4d6f-f507-6a08d4ccb447",
        "colab": {
          "base_uri": "https://localhost:8080/",
          "height": 540
        }
      },
      "source": [
        "variable = []\n",
        "attributes = []\n",
        "for i in range(df_form.shape[1]):\n",
        "  var = df_form.columns[i]\n",
        "  attr = df_form[var].dropna().sort_values().unique()\n",
        "  if var == 'ideo':\n",
        "    variable.append('ideol')\n",
        "  else:\n",
        "    variable.append(var)\n",
        "  attributes.append(attr)\n",
        "df_form_ref = pd.DataFrame(list(zip(variable,question,attributes)),columns=['variable','question','attributes'])\n",
        "print(df_form_ref.to_string())"
      ],
      "execution_count": 61,
      "outputs": [
        {
          "output_type": "stream",
          "text": [
            "             variable                                           question                                         attributes\n",
            "0                mode                How are you completing this survey?                               [(1) Phone, (2) Web]\n",
            "1                 lva  How interested are you in the election taking ...  [(1) Extremely interested, (2) Very interested...\n",
            "2                  lv  On a scale from zero to 10, where 10 means you...  [(0) 0-Certain will not vote, (1) 1, (10) 10-C...\n",
            "3         likelyvoter                                                                      [(1) Likely voter, (2) Nonvoter]\n",
            "4            timevote  In 2018, did you vote at a polling place on El...             [(1) Election Day, (2) Early/Absentee]\n",
            "5               track  Generally speaking, would you say things in th...         [(1) Right direction, (2) Wrong direction]\n",
            "6              issues  Which one of the following would you say is th...  [(1) The economy and jobs, (2) Health care, (3...\n",
            "7            getahead  Which best describes your family's financial s...  [(1) Getting ahead, (2) Holding steady, (3) Fa...\n",
            "8   tradenationalecon  Do you think the Trump administration's trade ...            [(1) Help, (2) Hurt, (3) No difference]\n",
            "9      tradelocalecon  Do you think the Trump administration's trade ...            [(1) Help, (2) Hurt, (3) No difference]\n",
            "10          healthlaw  Which of the following comes closest to what y...  [(1) Repeal the law entirely, (2) Repeal parts...\n",
            "11          immdeport  Which of the following comes closer to your op...  [(1) Offered a chance to apply for legal statu...\n",
            "12             russia  Do you think the Trump campaign coordinated wi...                                  [(1) Yes, (2) No]\n",
            "13           qpvvote3  Regarding the 2014 election for Congress, whic...  [(1) I did not vote in the 2014 election for C...\n",
            "14             breaka  Do you think the way Democrats talk about poli...                [(1) Yes, it is, (2) No, it is not]\n",
            "15             breakb  Do you think the way Republicans talk about po...                [(1) Yes, it is, (2) No, it is not]\n",
            "16                sex                            Are you male or female?                               [(1) Men, (2) Women]\n",
            "17              age65                                  What is your age?  [(1) 18-24, (2) 25-29, (3) 30-39, (4) 40-49, (...\n",
            "18             raceth            What is your racial or ethnic heritage?  [(1) White, (2) African American or Black, (3)...\n",
            "19            raceth5                                                     [(1) White, (2) African American or Black, (3)...\n",
            "20               educ      Which best describes your level of education?  [(1) High school or less, (2) Some college/ass...\n",
            "21             income  In which of these categories is your total yea...  [(1) Under $25,000, (2) $25,000-$49,999, (3) $...\n",
            "22              party  Generally speaking, do you consider yourself a...        [(1) Democrat, (2) Republican, (3) Neither]\n",
            "23          partyfull  Would you say you're closer to the Democrats, ...  [(1) Democrat/Lean Dem, (2) Republican/Lean Re...\n",
            "24              ideol  On most political matters, do you consider you...  [(1) Very liberal, (2) Somewhat liberal, (3) M...\n",
            "25              relig                     What is your religion, if any?  [(1) Protestant, (2) Catholic, (3) Mormon, (4)...\n",
            "26             relig4                                                     [(1) Protestant/Other Christian, (2) Catholic,...\n",
            "27          sizeplace  Which of the following best describes the area...  [(1) Urban, (2) Suburban, (3) Small town, (4) ...\n"
          ],
          "name": "stdout"
        }
      ]
    },
    {
      "cell_type": "code",
      "metadata": {
        "id": "SOWj0kHxlXrF",
        "colab_type": "code",
        "cellView": "code",
        "outputId": "fd446db7-a0fc-472a-bef3-ad4b93735c3e",
        "colab": {
          "base_uri": "https://localhost:8080/",
          "height": 1000
        }
      },
      "source": [
        "print('#@title Propensity Estimate of Trump Support')\n",
        "inputs = 'ui_input = ['\n",
        "q_n = 1\n",
        "for i in range(df_form_ref.shape[0]):\n",
        "  q = df_form_ref['question'][i]\n",
        "  v = df_form_ref['variable'][i]\n",
        "  a = df_form_ref['attributes'][i]\n",
        "  a_str = '['\n",
        "  for j in range(len(a)):\n",
        "    a_str = str(a_str + '\"' + a[j] + '\"')\n",
        "    if j < len(a)-1:\n",
        "      a_str = str(a_str + \", \")\n",
        "    else:\n",
        "      a_str = str(a_str + \"]\")\n",
        "  if v == 'lv':\n",
        "    print(str('#@markdown ' + str(q_n) + '. ' + q))\n",
        "    q_n += 1\n",
        "    print('lv = \"(0) 0-Certain will not vote\" #@param [\"(0) 0-Certain will not vote\", \"(1) 1\", \"(2) 2\", \"(3) 3\", \"(4) 4\", \"(5) 5\", \"(6) 6\", \"(7) 7\", \"(8) 8\", \"(9) 9\", \"(10) 10-Certain will vote\", \"(12) Already voted\"]')\n",
        "    print()\n",
        "  elif v == 'likelyvoter':\n",
        "    print('if lv in (\"(10) 10-Certain will vote\", \"(12) Already voted\", \"(8) 8\", \"(9) 9\"):')\n",
        "    print('  likelyvoter = \"(1) Likely voter\"')\n",
        "    print('else:')\n",
        "    print('  likelyvoter = \"(2) Nonvoter\"')\n",
        "    print()\n",
        "  elif v == 'issues':\n",
        "    print(str('#@markdown ' + str(q_n) + '. ' + q))\n",
        "    q_n += 1\n",
        "    print(str(v + ' = \"' + a[0] + '\" #@param ' + a_str))\n",
        "    print('issues_economyandjobs = 0')\n",
        "    print('issues_healthcare = 0')\n",
        "    print('issues_immigration = 0')\n",
        "    print('issues_taxes = 0')\n",
        "    print('issues_abortion = 0')\n",
        "    print('issues_gunpolicy = 0')\n",
        "    print('issues_environment = 0')\n",
        "    print('issues_foreignpolicy = 0')\n",
        "    print('if issues == \"(1) The economy and jobs\":')\n",
        "    print('  issues_economyandjobs = 1')\n",
        "    print('elif issues == \"(2) Health care\":')\n",
        "    print('  issues_healthcare = 1')\n",
        "    print('elif issues == \"(3) Immigration\":')\n",
        "    print('  issues_immigration = 1')\n",
        "    print('elif issues == \"(4) Taxes\":')\n",
        "    print('  issues_taxes = 1')\n",
        "    print('elif issues == \"(5) Abortion\":')\n",
        "    print('  issues_abortion = 1')\n",
        "    print('elif issues == \"(6) Gun policy\":')\n",
        "    print('  issues_gunpolicy = 1')\n",
        "    print('elif issues == \"(7) The environment\":')\n",
        "    print('  issues_environment = 1')\n",
        "    print('elif issues == \"(8) Foreign policy\":')\n",
        "    print('  issues_foreignpolicy = 1')\n",
        "    print()\n",
        "  elif v == 'age65':\n",
        "    print(str('#@markdown ' + str(q_n) + '. ' + q))\n",
        "    q_n += 1\n",
        "    print(str(v + ' = \"' + a[0] + '\" #@param ' + a_str))\n",
        "    print('age_18_24 = 0')\n",
        "    print('age_25_29 = 0')\n",
        "    print('age_30_39 = 0')\n",
        "    print('age_40_49 = 0')\n",
        "    print('age_50_64 = 0')\n",
        "    print('if age65 == \"(1) 18-24\":')\n",
        "    print('  age_18_24 = 1')\n",
        "    print('elif age65 == \"(2) 25-29\":')\n",
        "    print('  age_25_29 = 1')\n",
        "    print('elif age65 == \"(3) 30-39\":')\n",
        "    print('  age_30_39 = 1')\n",
        "    print('elif age65 == \"(4) 40-49\":')\n",
        "    print('  age_40_49 = 1')\n",
        "    print('elif age65 == \"(5) 50-64\":')\n",
        "    print('  age_50_64 = 1')\n",
        "    print()\n",
        "  elif v == 'raceth':\n",
        "    print(str('#@markdown ' + str(q_n) + '. ' + q))\n",
        "    q_n += 1\n",
        "    print(str(v + ' = \"' + a[0] + '\" #@param ' + a_str))\n",
        "    print('raceth_wht = 0')\n",
        "    print('raceth_blk = 0')\n",
        "    print('raceth_hsp = 0')\n",
        "    print('raceth_asn = 0')\n",
        "    print('raceth_ntvam = 0')\n",
        "    print('raceth_hipac = 0')\n",
        "    print('if raceth == \"(1) White\":')\n",
        "    print('  raceth_wht = 1')\n",
        "    print('elif raceth == \"(2) African American or Black\":')\n",
        "    print('  raceth_blk = 1')\n",
        "    print('elif raceth == \"(3) Latino or Hispanic\":')\n",
        "    print('  raceth_hsp = 1')\n",
        "    print('elif raceth == \"(4) Asian\":')\n",
        "    print('  raceth_asn = 1')\n",
        "    print('elif raceth == \"(5) American Indian, Native American or Alaska Native\":')\n",
        "    print('  raceth_ntvam = 1')\n",
        "    print('elif raceth == \"(6) Native Hawaiian or Other Pacific Islander\":')\n",
        "    print('  raceth_hipac = 1')\n",
        "    print()\n",
        "  elif v == 'educ':\n",
        "    print(str('#@markdown ' + str(q_n) + '. ' + q))\n",
        "    q_n += 1\n",
        "    print(str(v + ' = \"' + a[0] + '\" #@param ' + a_str))\n",
        "    print('edu_highschoolorless = 0')\n",
        "    print('edu_somecollege_assocdegree = 0')\n",
        "    print('edu_collegegraduate = 0')\n",
        "    print('if educ == \"(1) High school or less\":')\n",
        "    print('  edu_highschoolorless = 1')\n",
        "    print('elif educ == \"(2) Some college/assoc. degree\":')\n",
        "    print('  edu_somecollege_assocdegree = 1')\n",
        "    print('elif educ == \"(3) College graduate\":')\n",
        "    print('  edu_collegegraduate = 1')\n",
        "    print()\n",
        "  elif v == 'income':\n",
        "    print(str('#@markdown ' + str(q_n) + '. ' + q))\n",
        "    q_n += 1\n",
        "    print(str(v + ' = \"' + a[0] + '\" #@param ' + a_str))\n",
        "    print('income_under25000 = 0')\n",
        "    print('income_25000_49999 = 0')\n",
        "    print('income_50000_74999 = 0')\n",
        "    print('income_75000_99999 = 0')\n",
        "    print('if income == \"(1) Under $25,000\":')\n",
        "    print('  income_under25000 = 1')\n",
        "    print('elif income == \"(2) $25,000-$49,999\":')\n",
        "    print('  income_25000_49999 = 1')\n",
        "    print('elif income == \"(3) $50,000-$74,999\":')\n",
        "    print('  income_50000_74999 = 1')\n",
        "    print('elif income == \"(4) $75,000-$99,999\":')\n",
        "    print('  income_75000_99999 = 1')\n",
        "    print()\n",
        "  elif v == 'relig':\n",
        "    print(str('#@markdown ' + str(q_n) + '. ' + q))\n",
        "    q_n += 1\n",
        "    print(str(v + ' = \"' + a[0] + '\" #@param ' + a_str))\n",
        "    print('relig_prot_chrst = 0')\n",
        "    print('relig_catholic = 0')\n",
        "    print('relig_mormon = 0')\n",
        "    print('relig_jewish = 0')\n",
        "    print('relig_muslim = 0')\n",
        "    print('relig_none = 0')\n",
        "    print('if relig == \"(1) Protestant\" or relig == \"(4) Other Christian\":')\n",
        "    print('  relig_prot_chrst = 1')\n",
        "    print('elif relig == \"(2) Catholic\":')\n",
        "    print('  relig_catholic = 1')\n",
        "    print('elif relig == \"(3) Mormon\":')\n",
        "    print('  relig_mormon = 1')\n",
        "    print('elif relig == \"(5) Jewish\":')\n",
        "    print('  relig_jewish = 1')\n",
        "    print('elif relig == \"(6) Muslim\":')\n",
        "    print('  relig_muslim = 1')\n",
        "    print('elif relig == \"(8) None\":')\n",
        "    print('  relig_none = 1')\n",
        "    print()\n",
        "  elif v == 'sizeplace':\n",
        "    print(str('#@markdown ' + str(q_n) + '. ' + q))\n",
        "    q_n += 1\n",
        "    print(str(v + ' = \"' + a[0] + '\" #@param ' + a_str))\n",
        "    print('sizeplace_urban = 0')\n",
        "    print('sizeplace_suburban = 0')\n",
        "    print('sizeplace_smalltown = 0')\n",
        "    print('if sizeplace == \"(1) Urban\":')\n",
        "    print('  sizeplace_urban = 1')\n",
        "    print('elif sizeplace == \"(2) Suburban\":')\n",
        "    print('  sizeplace_suburban = 1')\n",
        "    print('elif sizeplace == \"(3) Small town\":')\n",
        "    print('  sizeplace_smalltown = 1')\n",
        "    print()\n",
        "  elif q != '':\n",
        "    print(str('#@markdown ' + str(q_n) + '. ' + q))\n",
        "    q_n += 1\n",
        "    print(str(v + ' = \"' + a[0] + '\" #@param ' + a_str))\n",
        "    print()\n",
        "  else:\n",
        "    print(str(v + ' = None'))\n",
        "    print()\n",
        "  inputs = str(inputs + v)\n",
        "  if i < df_form_ref.shape[0]-1:\n",
        "    inputs = str(inputs + ',')\n",
        "  else:\n",
        "    inputs = str(inputs + ']')\n",
        "\n",
        "print(str('print(\\'Inputs saved!\\\\n\\')'))\n",
        "print('ui_input = pd.DataFrame([[mode,lva,lv,likelyvoter,timevote,track,issues_economyandjobs,issues_healthcare,issues_immigration,issues_taxes,issues_abortion,issues_gunpolicy,issues_environment,issues_foreignpolicy,getahead,tradenationalecon,tradelocalecon,healthlaw,immdeport,russia,qpvvote3,breaka,breakb,sex,age_18_24,age_25_29,age_30_39,age_40_49,age_50_64,raceth_wht,raceth_blk,raceth_hsp,raceth_asn,raceth_ntvam,raceth_hipac,edu_highschoolorless,edu_somecollege_assocdegree,edu_collegegraduate,income_under25000,income_25000_49999,income_50000_74999,income_75000_99999,party,partyfull,ideol,relig_prot_chrst,relig_catholic,relig_mormon,relig_jewish,relig_muslim,relig_none,sizeplace_urban,sizeplace_suburban,sizeplace_smalltown]],columns=(\\'mode\\',\\'lva\\',\\'lv\\',\\'likelyvoter\\',\\'timevote\\',\\'track\\',\\'issues_economyandjobs\\',\\'issues_healthcare\\',\\'issues_immigration\\',\\'issues_taxes\\',\\'issues_abortion\\',\\'issues_gunpolicy\\',\\'issues_environment\\',\\'issues_foreignpolicy\\',\\'getahead\\',\\'tradenationalecon\\',\\'tradelocalecon\\',\\'healthlaw\\',\\'immdeport\\',\\'russia\\',\\'qpvvote3\\',\\'breaka\\',\\'breakb\\',\\'sex\\',\\'age_18_24\\',\\'age_25_29\\',\\'age_30_39\\',\\'age_40_49\\',\\'age_50_64\\',\\'raceth_wht\\',\\'raceth_blk\\',\\'raceth_hsp\\',\\'raceth_asn\\',\\'raceth_ntvam\\',\\'raceth_hipac\\',\\'edu_highschoolorless\\',\\'edu_somecollege_assocdegree\\',\\'edu_collegegraduate\\',\\'income_under25000\\',\\'income_25000_49999\\',\\'income_50000_74999\\',\\'income_75000_99999\\',\\'party\\',\\'partyfull\\',\\'ideo\\',\\'relig_prot_chrst\\',\\'relig_catholic\\',\\'relig_mormon\\',\\'relig_jewish\\',\\'relig_muslim\\',\\'relig_none\\',\\'sizeplace_urban\\',\\'sizeplace_suburban\\',\\'sizeplace_smalltown\\'))')\n",
        "print('ui_input = call_to_binary(ui_input,\\'mode\\',val_1=2)')\n",
        "print('ui_input = call_to_ranked_reverse(ui_input,\\'lva\\',\\'electinterest\\',5)')\n",
        "print('ui_input = call_to_prob(ui_input,\\'lv\\',\\'P_vote\\')')\n",
        "print('ui_input = call_to_binary(ui_input,\\'likelyvoter\\')')\n",
        "print('ui_input = call_to_binary(ui_input,\\'timevote\\')')\n",
        "print('ui_input = call_to_binary(ui_input,\\'track\\')')\n",
        "print('ui_input = call_to_ranked_reverse(ui_input,\\'getahead\\',\\'famfinancial\\',3)')\n",
        "print('ui_input = call_to_3_choice_flip(ui_input,\\'tradenationalecon\\',\\'trumpnatecon\\')')\n",
        "print('ui_input = call_to_3_choice_flip(ui_input,\\'tradelocalecon\\',\\'trumplocalecon\\')')\n",
        "print('ui_input = call_to_ranked_reverse(ui_input,\\'healthlaw\\',\\'supACA\\',4)')\n",
        "print('ui_input = call_to_binary(ui_input,\\'immdeport\\',\\'immpol\\')')\n",
        "print('ui_input = call_to_binary(ui_input,\\'russia\\',\\'russiacollude16\\')')\n",
        "print('ui_input = call_to_binary(ui_input,\\'qpvvote3\\',\\'voted14\\',4)')\n",
        "print('ui_input = call_to_binary(ui_input,\\'breaka\\',\\'violencespeechD\\')')\n",
        "print('ui_input = call_to_binary(ui_input,\\'breakb\\',\\'violencespeechR\\')')\n",
        "print('ui_input = call_to_binary(ui_input,\\'sex\\',\\'sex_m\\')')\n",
        "print('ui_input = call_combo_party(ui_input)')\n",
        "print('ui_input = call_ideo(ui_input)')\n",
        "print('pred = logmodel.predict_proba(ui_input)')\n",
        "print('print(\"P(suppTrump=0) P(supTrump=1)\")')\n",
        "print('print(pred)')\n"
      ],
      "execution_count": 62,
      "outputs": [
        {
          "output_type": "stream",
          "text": [
            "#@title Propensity Estimate of Trump Support\n",
            "#@markdown 1. How are you completing this survey?\n",
            "mode = \"(1) Phone\" #@param [\"(1) Phone\", \"(2) Web\"]\n",
            "\n",
            "#@markdown 2. How interested are you in the election taking place on November 6th, 2018?\n",
            "lva = \"(1) Extremely interested\" #@param [\"(1) Extremely interested\", \"(2) Very interested\", \"(3) Somewhat interested\", \"(4) Only a little interested\", \"(5) Not at all interested\"]\n",
            "\n",
            "#@markdown 3. On a scale from zero to 10, where 10 means you're certain you will vote and zero means there is no chance you will vote, please indicate how likely it is that you will vote in the 2018 midterm election.\n",
            "lv = \"(0) 0-Certain will not vote\" #@param [\"(0) 0-Certain will not vote\", \"(1) 1\", \"(2) 2\", \"(3) 3\", \"(4) 4\", \"(5) 5\", \"(6) 6\", \"(7) 7\", \"(8) 8\", \"(9) 9\", \"(10) 10-Certain will vote\", \"(12) Already voted\"]\n",
            "\n",
            "if lv in (\"(10) 10-Certain will vote\", \"(12) Already voted\", \"(8) 8\", \"(9) 9\"):\n",
            "  likelyvoter = \"(1) Likely voter\"\n",
            "else:\n",
            "  likelyvoter = \"(2) Nonvoter\"\n",
            "\n",
            "#@markdown 4. In 2018, did you vote at a polling place on Election Day, or did you vote by mail or vote in person at some point before Election Day?\n",
            "timevote = \"(1) Election Day\" #@param [\"(1) Election Day\", \"(2) Early/Absentee\"]\n",
            "\n",
            "#@markdown 5. Generally speaking, would you say things in this country are heading in the…\n",
            "track = \"(1) Right direction\" #@param [\"(1) Right direction\", \"(2) Wrong direction\"]\n",
            "\n",
            "#@markdown 6. Which one of the following would you say is the most important issue facing the country?\n",
            "issues = \"(1) The economy and jobs\" #@param [\"(1) The economy and jobs\", \"(2) Health care\", \"(3) Immigration\", \"(4) Taxes\", \"(5) Abortion\", \"(6) Gun policy\", \"(7) The environment\", \"(8) Foreign policy\", \"(9) Terrorism\"]\n",
            "issues_economyandjobs = 0\n",
            "issues_healthcare = 0\n",
            "issues_immigration = 0\n",
            "issues_taxes = 0\n",
            "issues_abortion = 0\n",
            "issues_gunpolicy = 0\n",
            "issues_environment = 0\n",
            "issues_foreignpolicy = 0\n",
            "if issues == \"(1) The economy and jobs\":\n",
            "  issues_economyandjobs = 1\n",
            "elif issues == \"(2) Health care\":\n",
            "  issues_healthcare = 1\n",
            "elif issues == \"(3) Immigration\":\n",
            "  issues_immigration = 1\n",
            "elif issues == \"(4) Taxes\":\n",
            "  issues_taxes = 1\n",
            "elif issues == \"(5) Abortion\":\n",
            "  issues_abortion = 1\n",
            "elif issues == \"(6) Gun policy\":\n",
            "  issues_gunpolicy = 1\n",
            "elif issues == \"(7) The environment\":\n",
            "  issues_environment = 1\n",
            "elif issues == \"(8) Foreign policy\":\n",
            "  issues_foreignpolicy = 1\n",
            "\n",
            "#@markdown 7. Which best describes your family's financial situation? Are you…\n",
            "getahead = \"(1) Getting ahead\" #@param [\"(1) Getting ahead\", \"(2) Holding steady\", \"(3) Falling behind\"]\n",
            "\n",
            "#@markdown 8. Do you think the Trump administration's trade policies will help or hurt the national economy, or won't they make much difference?\n",
            "tradenationalecon = \"(1) Help\" #@param [\"(1) Help\", \"(2) Hurt\", \"(3) No difference\"]\n",
            "\n",
            "#@markdown 9. Do you think the Trump administration's trade policies will help or hurt the economy in your area, or won't they make much difference?\n",
            "tradelocalecon = \"(1) Help\" #@param [\"(1) Help\", \"(2) Hurt\", \"(3) No difference\"]\n",
            "\n",
            "#@markdown 10. Which of the following comes closest to what you would like to see lawmakers do with the Affordable Care Act, also known as Obamacare?\n",
            "healthlaw = \"(1) Repeal the law entirely\" #@param [\"(1) Repeal the law entirely\", \"(2) Repeal parts of the law\", \"(3) Leave the law as is\", \"(4) Expand the law\"]\n",
            "\n",
            "#@markdown 11. Which of the following comes closer to your opinion? Should most immigrants who are living in the United States illegally be…\n",
            "immdeport = \"(1) Offered a chance to apply for legal status\" #@param [\"(1) Offered a chance to apply for legal status\", \"(2) Deported to the country they came from\"]\n",
            "\n",
            "#@markdown 12. Do you think the Trump campaign coordinated with Russia during the 2016 presidential election, or not?\n",
            "russia = \"(1) Yes\" #@param [\"(1) Yes\", \"(2) No\"]\n",
            "\n",
            "#@markdown 13. Regarding the 2014 election for Congress, which one of the following statements best describes you?\n",
            "qpvvote3 = \"(1) I did not vote in the 2014 election for Congress\" #@param [\"(1) I did not vote in the 2014 election for Congress\", \"(2) I thought about voting in the 2014 election for Congress, but didn't\", \"(3) I usually vote, but I didn't in the 2014 election for Congress\", \"(4) I'm sure I voted\"]\n",
            "\n",
            "#@markdown 14. Do you think the way Democrats talk about politics these days is leading to an increase in acts of violence, or don't you think so?\n",
            "breaka = \"(1) Yes, it is\" #@param [\"(1) Yes, it is\", \"(2) No, it is not\"]\n",
            "\n",
            "#@markdown 15. Do you think the way Republicans talk about politics these days is leading to an increase in acts of violence, or don't you think so?\n",
            "breakb = \"(1) Yes, it is\" #@param [\"(1) Yes, it is\", \"(2) No, it is not\"]\n",
            "\n",
            "#@markdown 16. Are you male or female?\n",
            "sex = \"(1) Men\" #@param [\"(1) Men\", \"(2) Women\"]\n",
            "\n",
            "#@markdown 17. What is your age?\n",
            "age65 = \"(1) 18-24\" #@param [\"(1) 18-24\", \"(2) 25-29\", \"(3) 30-39\", \"(4) 40-49\", \"(5) 50-64\", \"(6) 65+\"]\n",
            "age_18_24 = 0\n",
            "age_25_29 = 0\n",
            "age_30_39 = 0\n",
            "age_40_49 = 0\n",
            "age_50_64 = 0\n",
            "if age65 == \"(1) 18-24\":\n",
            "  age_18_24 = 1\n",
            "elif age65 == \"(2) 25-29\":\n",
            "  age_25_29 = 1\n",
            "elif age65 == \"(3) 30-39\":\n",
            "  age_30_39 = 1\n",
            "elif age65 == \"(4) 40-49\":\n",
            "  age_40_49 = 1\n",
            "elif age65 == \"(5) 50-64\":\n",
            "  age_50_64 = 1\n",
            "\n",
            "#@markdown 18. What is your racial or ethnic heritage?\n",
            "raceth = \"(1) White\" #@param [\"(1) White\", \"(2) African American or Black\", \"(3) Latino or Hispanic\", \"(4) Asian\", \"(5) American Indian, Native American or Alaska Native\", \"(6) Native Hawaiian or Other Pacific Islander\", \"(7) Other\"]\n",
            "raceth_wht = 0\n",
            "raceth_blk = 0\n",
            "raceth_hsp = 0\n",
            "raceth_asn = 0\n",
            "raceth_ntvam = 0\n",
            "raceth_hipac = 0\n",
            "if raceth == \"(1) White\":\n",
            "  raceth_wht = 1\n",
            "elif raceth == \"(2) African American or Black\":\n",
            "  raceth_blk = 1\n",
            "elif raceth == \"(3) Latino or Hispanic\":\n",
            "  raceth_hsp = 1\n",
            "elif raceth == \"(4) Asian\":\n",
            "  raceth_asn = 1\n",
            "elif raceth == \"(5) American Indian, Native American or Alaska Native\":\n",
            "  raceth_ntvam = 1\n",
            "elif raceth == \"(6) Native Hawaiian or Other Pacific Islander\":\n",
            "  raceth_hipac = 1\n",
            "\n",
            "raceth5 = None\n",
            "\n",
            "#@markdown 19. Which best describes your level of education?\n",
            "educ = \"(1) High school or less\" #@param [\"(1) High school or less\", \"(2) Some college/assoc. degree\", \"(3) College graduate\", \"(4) Postgraduate study\"]\n",
            "edu_highschoolorless = 0\n",
            "edu_somecollege_assocdegree = 0\n",
            "edu_collegegraduate = 0\n",
            "if educ == \"(1) High school or less\":\n",
            "  edu_highschoolorless = 1\n",
            "elif educ == \"(2) Some college/assoc. degree\":\n",
            "  edu_somecollege_assocdegree = 1\n",
            "elif educ == \"(3) College graduate\":\n",
            "  edu_collegegraduate = 1\n",
            "\n",
            "#@markdown 20. In which of these categories is your total yearly household income, that is, of everyone living in your family household? Was your total household income in 2017…\n",
            "income = \"(1) Under $25,000\" #@param [\"(1) Under $25,000\", \"(2) $25,000-$49,999\", \"(3) $50,000-$74,999\", \"(4) $75,000-$99,999\", \"(5) $100,000 or more\"]\n",
            "income_under25000 = 0\n",
            "income_25000_49999 = 0\n",
            "income_50000_74999 = 0\n",
            "income_75000_99999 = 0\n",
            "if income == \"(1) Under $25,000\":\n",
            "  income_under25000 = 1\n",
            "elif income == \"(2) $25,000-$49,999\":\n",
            "  income_25000_49999 = 1\n",
            "elif income == \"(3) $50,000-$74,999\":\n",
            "  income_50000_74999 = 1\n",
            "elif income == \"(4) $75,000-$99,999\":\n",
            "  income_75000_99999 = 1\n",
            "\n",
            "#@markdown 21. Generally speaking, do you consider yourself a Democrat, a Republican, or don't you consider yourself either?\n",
            "party = \"(1) Democrat\" #@param [\"(1) Democrat\", \"(2) Republican\", \"(3) Neither\"]\n",
            "\n",
            "#@markdown 22. Would you say you're closer to the Democrats, to the Republicans, or don't you lean toward either?\n",
            "partyfull = \"(1) Democrat/Lean Dem\" #@param [\"(1) Democrat/Lean Dem\", \"(2) Republican/Lean Rep\", \"(3) Independent\"]\n",
            "\n",
            "#@markdown 23. On most political matters, do you consider yourself…\n",
            "ideol = \"(1) Very liberal\" #@param [\"(1) Very liberal\", \"(2) Somewhat liberal\", \"(3) Moderate\", \"(4) Somewhat conservative\", \"(5) Very conservative\"]\n",
            "\n",
            "#@markdown 24. What is your religion, if any?\n",
            "relig = \"(1) Protestant\" #@param [\"(1) Protestant\", \"(2) Catholic\", \"(3) Mormon\", \"(4) Other Christian\", \"(5) Jewish\", \"(6) Muslim\", \"(7) Something else\", \"(8) None\"]\n",
            "relig_prot_chrst = 0\n",
            "relig_catholic = 0\n",
            "relig_mormon = 0\n",
            "relig_jewish = 0\n",
            "relig_muslim = 0\n",
            "relig_none = 0\n",
            "if relig == \"(1) Protestant\" or relig == \"(4) Other Christian\":\n",
            "  relig_prot_chrst = 1\n",
            "elif relig == \"(2) Catholic\":\n",
            "  relig_catholic = 1\n",
            "elif relig == \"(3) Mormon\":\n",
            "  relig_mormon = 1\n",
            "elif relig == \"(5) Jewish\":\n",
            "  relig_jewish = 1\n",
            "elif relig == \"(6) Muslim\":\n",
            "  relig_muslim = 1\n",
            "elif relig == \"(8) None\":\n",
            "  relig_none = 1\n",
            "\n",
            "relig4 = None\n",
            "\n",
            "#@markdown 25. Which of the following best describes the area where you live?\n",
            "sizeplace = \"(1) Urban\" #@param [\"(1) Urban\", \"(2) Suburban\", \"(3) Small town\", \"(4) Rural\"]\n",
            "sizeplace_urban = 0\n",
            "sizeplace_suburban = 0\n",
            "sizeplace_smalltown = 0\n",
            "if sizeplace == \"(1) Urban\":\n",
            "  sizeplace_urban = 1\n",
            "elif sizeplace == \"(2) Suburban\":\n",
            "  sizeplace_suburban = 1\n",
            "elif sizeplace == \"(3) Small town\":\n",
            "  sizeplace_smalltown = 1\n",
            "\n",
            "print('Inputs saved!\\n')\n",
            "ui_input = pd.DataFrame([[mode,lva,lv,likelyvoter,timevote,track,issues_economyandjobs,issues_healthcare,issues_immigration,issues_taxes,issues_abortion,issues_gunpolicy,issues_environment,issues_foreignpolicy,getahead,tradenationalecon,tradelocalecon,healthlaw,immdeport,russia,qpvvote3,breaka,breakb,sex,age_18_24,age_25_29,age_30_39,age_40_49,age_50_64,raceth_wht,raceth_blk,raceth_hsp,raceth_asn,raceth_ntvam,raceth_hipac,edu_highschoolorless,edu_somecollege_assocdegree,edu_collegegraduate,income_under25000,income_25000_49999,income_50000_74999,income_75000_99999,party,partyfull,ideol,relig_prot_chrst,relig_catholic,relig_mormon,relig_jewish,relig_muslim,relig_none,sizeplace_urban,sizeplace_suburban,sizeplace_smalltown]],columns=('mode','lva','lv','likelyvoter','timevote','track','issues_economyandjobs','issues_healthcare','issues_immigration','issues_taxes','issues_abortion','issues_gunpolicy','issues_environment','issues_foreignpolicy','getahead','tradenationalecon','tradelocalecon','healthlaw','immdeport','russia','qpvvote3','breaka','breakb','sex','age_18_24','age_25_29','age_30_39','age_40_49','age_50_64','raceth_wht','raceth_blk','raceth_hsp','raceth_asn','raceth_ntvam','raceth_hipac','edu_highschoolorless','edu_somecollege_assocdegree','edu_collegegraduate','income_under25000','income_25000_49999','income_50000_74999','income_75000_99999','party','partyfull','ideo','relig_prot_chrst','relig_catholic','relig_mormon','relig_jewish','relig_muslim','relig_none','sizeplace_urban','sizeplace_suburban','sizeplace_smalltown'))\n",
            "ui_input = call_to_binary(ui_input,'mode',val_1=2)\n",
            "ui_input = call_to_ranked_reverse(ui_input,'lva','electinterest',5)\n",
            "ui_input = call_to_prob(ui_input,'lv','P_vote')\n",
            "ui_input = call_to_binary(ui_input,'likelyvoter')\n",
            "ui_input = call_to_binary(ui_input,'timevote')\n",
            "ui_input = call_to_binary(ui_input,'track')\n",
            "ui_input = call_to_ranked_reverse(ui_input,'getahead','famfinancial',3)\n",
            "ui_input = call_to_3_choice_flip(ui_input,'tradenationalecon','trumpnatecon')\n",
            "ui_input = call_to_3_choice_flip(ui_input,'tradelocalecon','trumplocalecon')\n",
            "ui_input = call_to_ranked_reverse(ui_input,'healthlaw','supACA',4)\n",
            "ui_input = call_to_binary(ui_input,'immdeport','immpol')\n",
            "ui_input = call_to_binary(ui_input,'russia','russiacollude16')\n",
            "ui_input = call_to_binary(ui_input,'qpvvote3','voted14',4)\n",
            "ui_input = call_to_binary(ui_input,'breaka','violencespeechD')\n",
            "ui_input = call_to_binary(ui_input,'breakb','violencespeechR')\n",
            "ui_input = call_to_binary(ui_input,'sex','sex_m')\n",
            "ui_input = call_combo_party(ui_input)\n",
            "ui_input = call_ideo(ui_input)\n",
            "pred = logmodel.predict_proba(ui_input)\n",
            "print(\"P(suppTrump=0) P(supTrump=1)\")\n",
            "print(pred)\n"
          ],
          "name": "stdout"
        }
      ]
    },
    {
      "cell_type": "markdown",
      "metadata": {
        "id": "eBMmuK_YQS4o",
        "colab_type": "text"
      },
      "source": [
        "## Form"
      ]
    },
    {
      "cell_type": "code",
      "metadata": {
        "id": "YR_EZKzpOGOv",
        "colab_type": "code",
        "cellView": "both",
        "colab": {}
      },
      "source": [
        "#@title Propensity Estimate of Trump Support\n",
        "#@markdown 1. How are you completing this survey?\n",
        "mode = \"(1) Phone\" #@param [\"(1) Phone\", \"(2) Web\"]\n",
        "\n",
        "#@markdown 2. How interested are you in the election taking place on November 6th, 2018?\n",
        "lva = \"(1) Extremely interested\" #@param [\"(1) Extremely interested\", \"(2) Very interested\", \"(3) Somewhat interested\", \"(4) Only a little interested\", \"(5) Not at all interested\"]\n",
        "\n",
        "#@markdown 3. On a scale from zero to 10, where 10 means you're certain you will vote and zero means there is no chance you will vote, please indicate how likely it is that you will vote in the 2018 midterm election.\n",
        "lv = \"(0) 0-Certain will not vote\" #@param [\"(0) 0-Certain will not vote\", \"(1) 1\", \"(2) 2\", \"(3) 3\", \"(4) 4\", \"(5) 5\", \"(6) 6\", \"(7) 7\", \"(8) 8\", \"(9) 9\", \"(10) 10-Certain will vote\", \"(12) Already voted\"]\n",
        "\n",
        "if lv in (\"(10) 10-Certain will vote\", \"(12) Already voted\", \"(8) 8\", \"(9) 9\"):\n",
        "  likelyvoter = \"(1) Likely voter\"\n",
        "else:\n",
        "  likelyvoter = \"(2) Nonvoter\"\n",
        "\n",
        "#@markdown 4. In 2018, did you vote at a polling place on Election Day, or did you vote by mail or vote in person at some point before Election Day?\n",
        "timevote = \"(1) Election Day\" #@param [\"(1) Election Day\", \"(2) Early/Absentee\"]\n",
        "\n",
        "#@markdown 5. Generally speaking, would you say things in this country are heading in the…\n",
        "track = \"(1) Right direction\" #@param [\"(1) Right direction\", \"(2) Wrong direction\"]\n",
        "\n",
        "#@markdown 6. Which one of the following would you say is the most important issue facing the country?\n",
        "issues = \"(1) The economy and jobs\" #@param [\"(1) The economy and jobs\", \"(2) Health care\", \"(3) Immigration\", \"(4) Taxes\", \"(5) Abortion\", \"(6) Gun policy\", \"(7) The environment\", \"(8) Foreign policy\", \"(9) Terrorism\"]\n",
        "issues_economyandjobs = 0\n",
        "issues_healthcare = 0\n",
        "issues_immigration = 0\n",
        "issues_taxes = 0\n",
        "issues_abortion = 0\n",
        "issues_gunpolicy = 0\n",
        "issues_environment = 0\n",
        "issues_foreignpolicy = 0\n",
        "if issues == \"(1) The economy and jobs\":\n",
        "  issues_economyandjobs = 1\n",
        "elif issues == \"(2) Health care\":\n",
        "  issues_healthcare = 1\n",
        "elif issues == \"(3) Immigration\":\n",
        "  issues_immigration = 1\n",
        "elif issues == \"(4) Taxes\":\n",
        "  issues_taxes = 1\n",
        "elif issues == \"(5) Abortion\":\n",
        "  issues_abortion = 1\n",
        "elif issues == \"(6) Gun policy\":\n",
        "  issues_gunpolicy = 1\n",
        "elif issues == \"(7) The environment\":\n",
        "  issues_environment = 1\n",
        "elif issues == \"(8) Foreign policy\":\n",
        "  issues_foreignpolicy = 1\n",
        "\n",
        "#@markdown 7. Which best describes your family's financial situation? Are you…\n",
        "getahead = \"(1) Getting ahead\" #@param [\"(1) Getting ahead\", \"(2) Holding steady\", \"(3) Falling behind\"]\n",
        "\n",
        "#@markdown 8. Do you think the Trump administration's trade policies will help or hurt the national economy, or won't they make much difference?\n",
        "tradenationalecon = \"(1) Help\" #@param [\"(1) Help\", \"(2) Hurt\", \"(3) No difference\"]\n",
        "\n",
        "#@markdown 9. Do you think the Trump administration's trade policies will help or hurt the economy in your area, or won't they make much difference?\n",
        "tradelocalecon = \"(1) Help\" #@param [\"(1) Help\", \"(2) Hurt\", \"(3) No difference\"]\n",
        "\n",
        "#@markdown 10. Which of the following comes closest to what you would like to see lawmakers do with the Affordable Care Act, also known as Obamacare?\n",
        "healthlaw = \"(1) Repeal the law entirely\" #@param [\"(1) Repeal the law entirely\", \"(2) Repeal parts of the law\", \"(3) Leave the law as is\", \"(4) Expand the law\"]\n",
        "\n",
        "#@markdown 11. Which of the following comes closer to your opinion? Should most immigrants who are living in the United States illegally be…\n",
        "immdeport = \"(1) Offered a chance to apply for legal status\" #@param [\"(1) Offered a chance to apply for legal status\", \"(2) Deported to the country they came from\"]\n",
        "\n",
        "#@markdown 12. Do you think the Trump campaign coordinated with Russia during the 2016 presidential election, or not?\n",
        "russia = \"(1) Yes\" #@param [\"(1) Yes\", \"(2) No\"]\n",
        "\n",
        "#@markdown 13. Regarding the 2014 election for Congress, which one of the following statements best describes you?\n",
        "qpvvote3 = \"(1) I did not vote in the 2014 election for Congress\" #@param [\"(1) I did not vote in the 2014 election for Congress\", \"(2) I thought about voting in the 2014 election for Congress, but didn't\", \"(3) I usually vote, but I didn't in the 2014 election for Congress\", \"(4) I'm sure I voted\"]\n",
        "\n",
        "#@markdown 14. Do you think the way Democrats talk about politics these days is leading to an increase in acts of violence, or don't you think so?\n",
        "breaka = \"(1) Yes, it is\" #@param [\"(1) Yes, it is\", \"(2) No, it is not\"]\n",
        "\n",
        "#@markdown 15. Do you think the way Republicans talk about politics these days is leading to an increase in acts of violence, or don't you think so?\n",
        "breakb = \"(1) Yes, it is\" #@param [\"(1) Yes, it is\", \"(2) No, it is not\"]\n",
        "\n",
        "#@markdown 16. Are you male or female?\n",
        "sex = \"(1) Men\" #@param [\"(1) Men\", \"(2) Women\"]\n",
        "\n",
        "#@markdown 17. What is your age?\n",
        "age65 = \"(1) 18-24\" #@param [\"(1) 18-24\", \"(2) 25-29\", \"(3) 30-39\", \"(4) 40-49\", \"(5) 50-64\", \"(6) 65+\"]\n",
        "age_18_24 = 0\n",
        "age_25_29 = 0\n",
        "age_30_39 = 0\n",
        "age_40_49 = 0\n",
        "age_50_64 = 0\n",
        "if age65 == \"(1) 18-24\":\n",
        "  age_18_24 = 1\n",
        "elif age65 == \"(2) 25-29\":\n",
        "  age_25_29 = 1\n",
        "elif age65 == \"(3) 30-39\":\n",
        "  age_30_39 = 1\n",
        "elif age65 == \"(4) 40-49\":\n",
        "  age_40_49 = 1\n",
        "elif age65 == \"(5) 50-64\":\n",
        "  age_50_64 = 1\n",
        "\n",
        "#@markdown 18. What is your racial or ethnic heritage?\n",
        "raceth = \"(1) White\" #@param [\"(1) White\", \"(2) African American or Black\", \"(3) Latino or Hispanic\", \"(4) Asian\", \"(5) American Indian, Native American or Alaska Native\", \"(6) Native Hawaiian or Other Pacific Islander\", \"(7) Other\"]\n",
        "raceth_wht = 0\n",
        "raceth_blk = 0\n",
        "raceth_hsp = 0\n",
        "raceth_asn = 0\n",
        "raceth_ntvam = 0\n",
        "raceth_hipac = 0\n",
        "if raceth == \"(1) White\":\n",
        "  raceth_wht = 1\n",
        "elif raceth == \"(2) African American or Black\":\n",
        "  raceth_blk = 1\n",
        "elif raceth == \"(3) Latino or Hispanic\":\n",
        "  raceth_hsp = 1\n",
        "elif raceth == \"(4) Asian\":\n",
        "  raceth_asn = 1\n",
        "elif raceth == \"(5) American Indian, Native American or Alaska Native\":\n",
        "  raceth_ntvam = 1\n",
        "elif raceth == \"(6) Native Hawaiian or Other Pacific Islander\":\n",
        "  raceth_hipac = 1\n",
        "\n",
        "raceth5 = None\n",
        "\n",
        "#@markdown 19. Which best describes your level of education?\n",
        "educ = \"(1) High school or less\" #@param [\"(1) High school or less\", \"(2) Some college/assoc. degree\", \"(3) College graduate\", \"(4) Postgraduate study\"]\n",
        "edu_highschoolorless = 0\n",
        "edu_somecollege_assocdegree = 0\n",
        "edu_collegegraduate = 0\n",
        "if educ == \"(1) High school or less\":\n",
        "  edu_highschoolorless = 1\n",
        "elif educ == \"(2) Some college/assoc. degree\":\n",
        "  edu_somecollege_assocdegree = 1\n",
        "elif educ == \"(3) College graduate\":\n",
        "  edu_collegegraduate = 1\n",
        "\n",
        "#@markdown 20. In which of these categories is your total yearly household income, that is, of everyone living in your family household? Was your total household income in 2017…\n",
        "income = \"(1) Under $25,000\" #@param [\"(1) Under $25,000\", \"(2) $25,000-$49,999\", \"(3) $50,000-$74,999\", \"(4) $75,000-$99,999\", \"(5) $100,000 or more\"]\n",
        "income_under25000 = 0\n",
        "income_25000_49999 = 0\n",
        "income_50000_74999 = 0\n",
        "income_75000_99999 = 0\n",
        "if income == \"(1) Under $25,000\":\n",
        "  income_under25000 = 1\n",
        "elif income == \"(2) $25,000-$49,999\":\n",
        "  income_25000_49999 = 1\n",
        "elif income == \"(3) $50,000-$74,999\":\n",
        "  income_50000_74999 = 1\n",
        "elif income == \"(4) $75,000-$99,999\":\n",
        "  income_75000_99999 = 1\n",
        "\n",
        "#@markdown 21. Generally speaking, do you consider yourself a Democrat, a Republican, or don't you consider yourself either?\n",
        "party = \"(1) Democrat\" #@param [\"(1) Democrat\", \"(2) Republican\", \"(3) Neither\"]\n",
        "\n",
        "#@markdown 22. Would you say you're closer to the Democrats, to the Republicans, or don't you lean toward either?\n",
        "partyfull = \"(1) Democrat/Lean Dem\" #@param [\"(1) Democrat/Lean Dem\", \"(2) Republican/Lean Rep\", \"(3) Independent\"]\n",
        "\n",
        "#@markdown 23. On most political matters, do you consider yourself…\n",
        "ideol = \"(1) Very liberal\" #@param [\"(1) Very liberal\", \"(2) Somewhat liberal\", \"(3) Moderate\", \"(4) Somewhat conservative\", \"(5) Very conservative\"]\n",
        "\n",
        "#@markdown 24. What is your religion, if any?\n",
        "relig = \"(1) Protestant\" #@param [\"(1) Protestant\", \"(2) Catholic\", \"(3) Mormon\", \"(4) Other Christian\", \"(5) Jewish\", \"(6) Muslim\", \"(7) Something else\", \"(8) None\"]\n",
        "relig_prot_chrst = 0\n",
        "relig_catholic = 0\n",
        "relig_mormon = 0\n",
        "relig_jewish = 0\n",
        "relig_muslim = 0\n",
        "relig_none = 0\n",
        "if relig == \"(1) Protestant\" or relig == \"(4) Other Christian\":\n",
        "  relig_prot_chrst = 1\n",
        "elif relig == \"(2) Catholic\":\n",
        "  relig_catholic = 1\n",
        "elif relig == \"(3) Mormon\":\n",
        "  relig_mormon = 1\n",
        "elif relig == \"(5) Jewish\":\n",
        "  relig_jewish = 1\n",
        "elif relig == \"(6) Muslim\":\n",
        "  relig_muslim = 1\n",
        "elif relig == \"(8) None\":\n",
        "  relig_none = 1\n",
        "\n",
        "relig4 = None\n",
        "\n",
        "#@markdown 25. Which of the following best describes the area where you live?\n",
        "sizeplace = \"(1) Urban\" #@param [\"(1) Urban\", \"(2) Suburban\", \"(3) Small town\", \"(4) Rural\"]\n",
        "sizeplace_urban = 0\n",
        "sizeplace_suburban = 0\n",
        "sizeplace_smalltown = 0\n",
        "if sizeplace == \"(1) Urban\":\n",
        "  sizeplace_urban = 1\n",
        "elif sizeplace == \"(2) Suburban\":\n",
        "  sizeplace_suburban = 1\n",
        "elif sizeplace == \"(3) Small town\":\n",
        "  sizeplace_smalltown = 1\n",
        "\n",
        "print('Inputs saved!')\n",
        "ui_input = pd.DataFrame([[mode,lva,lv,likelyvoter,timevote,track,issues_economyandjobs,issues_healthcare,issues_immigration,issues_taxes,issues_abortion,issues_gunpolicy,issues_environment,issues_foreignpolicy,getahead,tradenationalecon,tradelocalecon,healthlaw,immdeport,russia,qpvvote3,breaka,breakb,sex,age_18_24,age_25_29,age_30_39,age_40_49,age_50_64,raceth_wht,raceth_blk,raceth_hsp,raceth_asn,raceth_ntvam,raceth_hipac,edu_highschoolorless,edu_somecollege_assocdegree,edu_collegegraduate,income_under25000,income_25000_49999,income_50000_74999,income_75000_99999,party,partyfull,ideol,relig_prot_chrst,relig_catholic,relig_mormon,relig_jewish,relig_muslim,relig_none,sizeplace_urban,sizeplace_suburban,sizeplace_smalltown]],columns=('mode','lva','lv','likelyvoter','timevote','track','issues_economyandjobs','issues_healthcare','issues_immigration','issues_taxes','issues_abortion','issues_gunpolicy','issues_environment','issues_foreignpolicy','getahead','tradenationalecon','tradelocalecon','healthlaw','immdeport','russia','qpvvote3','breaka','breakb','sex','age_18_24','age_25_29','age_30_39','age_40_49','age_50_64','raceth_wht','raceth_blk','raceth_hsp','raceth_asn','raceth_ntvam','raceth_hipac','edu_highschoolorless','edu_somecollege_assocdegree','edu_collegegraduate','income_under25000','income_25000_49999','income_50000_74999','income_75000_99999','party','partyfull','ideo','relig_prot_chrst','relig_catholic','relig_mormon','relig_jewish','relig_muslim','relig_none','sizeplace_urban','sizeplace_suburban','sizeplace_smalltown'))\n",
        "ui_input = call_to_binary(ui_input,'mode',val_1=2)\n",
        "ui_input = call_to_ranked_reverse(ui_input,'lva','electinterest',5)\n",
        "ui_input = call_to_prob(ui_input,'lv','P_vote')\n",
        "ui_input = call_to_binary(ui_input,'likelyvoter')\n",
        "ui_input = call_to_binary(ui_input,'timevote')\n",
        "ui_input = call_to_binary(ui_input,'track')\n",
        "ui_input = call_to_ranked_reverse(ui_input,'getahead','famfinancial',3)\n",
        "ui_input = call_to_3_choice_flip(ui_input,'tradenationalecon','trumpnatecon')\n",
        "ui_input = call_to_3_choice_flip(ui_input,'tradelocalecon','trumplocalecon')\n",
        "ui_input = call_to_ranked_reverse(ui_input,'healthlaw','supACA',4)\n",
        "ui_input = call_to_binary(ui_input,'immdeport','immpol')\n",
        "ui_input = call_to_binary(ui_input,'russia','russiacollude16')\n",
        "ui_input = call_to_binary(ui_input,'qpvvote3','voted14',4)\n",
        "ui_input = call_to_binary(ui_input,'breaka','violencespeechD')\n",
        "ui_input = call_to_binary(ui_input,'breakb','violencespeechR')\n",
        "ui_input = call_to_binary(ui_input,'sex','sex_m')\n",
        "ui_input = call_combo_party(ui_input)\n",
        "ui_input = call_ideo(ui_input)\n",
        "pred = logmodel.predict_proba(ui_input)\n",
        "print(\"P(suppTrump=0) P(supTrump=1)\")\n",
        "print(pred)"
      ],
      "execution_count": 0,
      "outputs": []
    }
  ]
}